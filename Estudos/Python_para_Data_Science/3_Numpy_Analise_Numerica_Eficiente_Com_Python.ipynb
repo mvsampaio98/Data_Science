{
 "cells": [
  {
   "cell_type": "markdown",
   "id": "30387e87",
   "metadata": {},
   "source": [
    "## 1.Conhecendo a biblioteca e nossos dados"
   ]
  },
  {
   "cell_type": "markdown",
   "id": "51bf311a",
   "metadata": {},
   "source": [
    "### Carregando o Arquivo"
   ]
  },
  {
   "cell_type": "code",
   "execution_count": 1,
   "id": "de246b36",
   "metadata": {},
   "outputs": [],
   "source": [
    "import numpy as np"
   ]
  },
  {
   "cell_type": "code",
   "execution_count": 2,
   "id": "9a3425d9",
   "metadata": {},
   "outputs": [],
   "source": [
    "dado = np.loadtxt('dados/numpy-dados/apples_ts.csv', delimiter = ',', usecols=np.arange(1,88,1))"
   ]
  },
  {
   "cell_type": "code",
   "execution_count": 3,
   "id": "5cdf800a",
   "metadata": {},
   "outputs": [
    {
     "data": {
      "text/plain": [
       "array([[  1.2013,   2.2013,   3.2013,   4.2013,   5.2013,   6.2013,\n",
       "          7.2013,   8.2013,   9.2013,  10.2013,  11.2013,  12.2013,\n",
       "          1.2014,   2.2014,   3.2014,   4.2014,   5.2014,   6.2014,\n",
       "          7.2014,   8.2014,   9.2014,  10.2014,  11.2014,  12.2014,\n",
       "          1.2015,   2.2015,   3.2015,   4.2015,   5.2015,   6.2015,\n",
       "          7.2015,   8.2015,   9.2015,  10.2015,  11.2015,  12.2015,\n",
       "          1.2016,   2.2016,   3.2016,   4.2016,   5.2016,   6.2016,\n",
       "          7.2016,   8.2016,   9.2016,  10.2016,  11.2016,  12.2016,\n",
       "          1.2017,   2.2017,   3.2017,   4.2017,   5.2017,   6.2017,\n",
       "          7.2017,   8.2017,   9.2017,  10.2017,  11.2017,  12.2017,\n",
       "          1.2018,   2.2018,   3.2018,   4.2018,   5.2018,   6.2018,\n",
       "          7.2018,   8.2018,   9.2018,  10.2018,  11.2018,  12.2018,\n",
       "          1.2019,   2.2019,   3.2019,   4.2019,   5.2019,   6.2019,\n",
       "          7.2019,   8.2019,   9.2019,  10.2019,  11.2019,  12.2019,\n",
       "          1.202 ,   2.202 ,   3.202 ],\n",
       "       [ 79.72  ,  81.08  ,  79.68  ,  79.8   ,  80.63  ,  80.8   ,\n",
       "         80.28  ,  78.99  ,  76.77  ,  76.09  ,  76.36  ,  77.16  ,\n",
       "         77.5   ,  79.03  ,  80.28  ,  80.05  ,  78.11  ,  76.9   ,\n",
       "         77.68  ,  76.05  ,  75.53  ,  73.39  ,  78.36  ,  89.16  ,\n",
       "        105.43  , 104.82  , 101.15  ,  98.63  ,  99.96  ,  97.29  ,\n",
       "         98.64  , 104.26  , 102.63  ,  98.64  ,  97.17  ,  98.09  ,\n",
       "        103.07  , 110.26  , 110.84  , 112.28  , 111.1   , 110.06  ,\n",
       "        113.7   , 112.88  , 102.08  ,  95.54  ,  91.33  ,  89.99  ,\n",
       "         91.44  ,  93.51  ,  93.6   ,  93.78  ,  98.91  , 121.76  ,\n",
       "        129.6   , 127.9   , 114.55  , 101.88  ,  99.09  , 103.35  ,\n",
       "        106.58  , 108.    , 114.95  , 121.17  , 122.48  , 127.58  ,\n",
       "        131.89  , 129.36  , 104.26  ,  93.45  ,  92.93  ,  96.15  ,\n",
       "         99.1   , 103.    , 103.31  , 103.01  , 107.37  , 116.91  ,\n",
       "        125.29  , 123.94  , 113.03  , 102.19  ,  97.83  , 101.07  ,\n",
       "        103.44  , 108.23  , 110.28  ],\n",
       "       [ 42.67  ,  44.37  ,  44.73  ,  46.75  ,      nan,  51.59  ,\n",
       "         57.8   ,  62.14  ,  56.76  ,  50.85  ,  46.43  ,  46.73  ,\n",
       "         45.85  ,  49.25  ,  48.14  ,  49.18  ,  49.49  ,  49.83  ,\n",
       "         49.14  ,  63.21  ,  61.2   ,  60.34  ,  62.2   ,  74.2   ,\n",
       "         75.32  ,  75.92  ,  72.89  ,  74.85  ,  92.19  ,  99.7   ,\n",
       "        102.78  ,  92.67  ,  90.63  ,  83.31  ,  75.5   ,  74.6   ,\n",
       "         76.94  ,  83.04  ,  80.74  ,  80.29  ,  82.82  ,  86.29  ,\n",
       "         87.41  ,  85.1   ,  78.08  ,  76.06  ,  69.23  ,  69.04  ,\n",
       "         64.48  ,  65.73  ,  67.2   ,  70.25  ,  82.59  ,  92.12  ,\n",
       "        100.82  ,  95.23  ,  89.51  ,  82.84  ,  82.3   ,  83.76  ,\n",
       "         84.72  ,  83.91  ,  99.14  , 101.6   , 113.03  , 119.54  ,\n",
       "        118.09  , 107.32  ,  82.6   ,  77.4   ,  71.77  ,  71.25  ,\n",
       "         71.35  ,  73.62  ,  76.2   ,  74.15  ,  75.67  ,  79.2   ,\n",
       "         80.85  ,  85.33  ,  75.02  ,  77.95  ,  78.98  ,  76.55  ,\n",
       "         74.89  ,  70.    ,  81.53  ],\n",
       "       [ 62.55  ,  62.73  ,  63.43  ,  63.83  ,  66.06  ,  69.22  ,\n",
       "         72.07  ,  69.31  ,  65.18  ,  62.13  ,  64.17  ,  65.5   ,\n",
       "         66.85  ,  68.38  ,  68.77  ,  69.32  ,  69.77  ,  70.17  ,\n",
       "         70.76  ,  75.16  ,  74.86  ,  71.47  ,  76.08  ,  82.11  ,\n",
       "         94.63  ,  98.54  ,  97.84  ,  94.54  ,  97.88  ,  97.73  ,\n",
       "        100.89  , 104.88  , 104.39  , 101.9   ,  98.99  ,  99.42  ,\n",
       "        106.37  , 113.89  , 114.78  , 115.6   , 115.89  , 117.66  ,\n",
       "        118.27  , 114.19  , 101.81  ,  91.62  ,  90.15  ,  90.55  ,\n",
       "         92.3   ,  91.75  ,  92.    ,  92.57  , 100.28  , 114.33  ,\n",
       "        122.17  , 117.83  , 112.49  ,  93.7   ,  97.17  ,  95.64  ,\n",
       "        102.21  , 107.58  , 110.48  , 117.73  , 122.07  , 128.58  ,\n",
       "        131.12  , 127.08  , 110.99  ,  97.43  ,  92.05  ,  93.21  ,\n",
       "         98.58  , 100.23  , 102.09  , 101.73  , 107.28  , 115.35  ,\n",
       "        123.03  , 123.08  , 109.71  ,  97.22  ,  95.75  ,  97.09  ,\n",
       "         98.18  , 103.1   , 110.6   ],\n",
       "       [ 48.26  ,  51.01  ,  50.91  ,  53.94  ,  61.27  ,  65.44  ,\n",
       "         56.51  ,  53.    ,  43.87  ,  42.12  ,  43.98  ,  44.66  ,\n",
       "         47.73  ,  52.31  ,  56.8   ,  51.15  ,  54.63  ,  55.8   ,\n",
       "         57.31  ,  53.81  ,  55.5   ,  52.95  ,  53.29  ,  54.86  ,\n",
       "         71.72  ,  74.36  ,  78.25  ,  70.63  ,  77.06  ,  81.52  ,\n",
       "         84.12  ,  83.33  ,  66.98  ,  62.04  ,  59.79  ,  66.06  ,\n",
       "         71.99  ,  76.79  ,  80.98  ,  89.18  ,  92.71  ,  94.85  ,\n",
       "         99.18  ,  86.33  ,  71.94  ,  67.18  ,  62.98  ,  69.45  ,\n",
       "         67.56  ,  67.92  ,  68.4   ,  67.97  ,  76.33  ,  95.79  ,\n",
       "        112.36  ,  82.03  ,  73.83  ,  66.12  ,  63.24  ,  63.98  ,\n",
       "         69.1   ,  70.04  ,  80.03  ,  87.92  ,  97.07  , 106.52  ,\n",
       "        108.93  ,  95.17  ,  74.31  ,  62.63  ,  69.92  ,  70.58  ,\n",
       "         74.63  ,  78.69  ,  81.82  ,  82.36  ,  89.44  , 102.01  ,\n",
       "        116.12  ,  92.06  ,  82.7   ,  66.62  ,  68.11  ,  73.48  ,\n",
       "         82.04  ,  81.19  ,  95.05  ],\n",
       "       [ 71.25  ,  71.35  ,  70.9   ,  71.92  ,  72.91  ,  74.39  ,\n",
       "         73.1   ,  70.24  ,  69.12  ,  68.98  ,  68.58  ,  69.5   ,\n",
       "         70.14  ,  70.58  ,  70.78  ,  72.78  ,  72.84  ,  74.74  ,\n",
       "         76.43  ,  81.2   ,  82.04  ,  79.67  ,  81.25  ,  85.88  ,\n",
       "         91.35  , 101.32  , 102.45  ,  98.18  , 105.1   , 104.85  ,\n",
       "        111.48  , 118.51  , 118.92  , 109.87  , 105.22  , 105.45  ,\n",
       "        115.61  , 116.61  , 120.39  , 119.2   , 119.92  , 120.57  ,\n",
       "        123.37  , 121.39  , 118.16  , 108.84  , 100.78  ,  99.92  ,\n",
       "        100.65  ,  98.92  , 100.31  ,  96.41  , 101.24  , 118.7   ,\n",
       "        133.29  , 130.31  , 122.4   , 104.98  , 107.54  , 110.74  ,\n",
       "        110.51  , 111.46  , 113.42  , 118.15  , 114.    , 124.91  ,\n",
       "        126.06  , 123.3   , 111.61  ,  98.82  ,  97.47  , 103.01  ,\n",
       "        109.36  , 104.79  , 105.09  , 103.16  , 106.52  , 121.68  ,\n",
       "        125.32  , 123.41  , 108.48  ,  98.73  ,  96.25  , 100.12  ,\n",
       "        101.29  , 102.81  , 108.53  ]])"
      ]
     },
     "execution_count": 3,
     "metadata": {},
     "output_type": "execute_result"
    }
   ],
   "source": [
    "dado"
   ]
  },
  {
   "cell_type": "markdown",
   "id": "8dcac539",
   "metadata": {},
   "source": [
    "### Dimensões dos Arrays"
   ]
  },
  {
   "cell_type": "code",
   "execution_count": 4,
   "id": "e4fa76a3",
   "metadata": {},
   "outputs": [
    {
     "data": {
      "text/plain": [
       "2"
      ]
     },
     "execution_count": 4,
     "metadata": {},
     "output_type": "execute_result"
    }
   ],
   "source": [
    "dado.ndim"
   ]
  },
  {
   "cell_type": "code",
   "execution_count": 5,
   "id": "204ba8f9",
   "metadata": {},
   "outputs": [
    {
     "data": {
      "text/plain": [
       "522"
      ]
     },
     "execution_count": 5,
     "metadata": {},
     "output_type": "execute_result"
    }
   ],
   "source": [
    "dado.size"
   ]
  },
  {
   "cell_type": "code",
   "execution_count": 6,
   "id": "23151d17",
   "metadata": {},
   "outputs": [
    {
     "data": {
      "text/plain": [
       "(6, 87)"
      ]
     },
     "execution_count": 6,
     "metadata": {},
     "output_type": "execute_result"
    }
   ],
   "source": [
    "dado.shape"
   ]
  },
  {
   "cell_type": "code",
   "execution_count": 7,
   "id": "2fb1bbbd",
   "metadata": {},
   "outputs": [],
   "source": [
    "dado_transposto = dado.T"
   ]
  },
  {
   "cell_type": "code",
   "execution_count": 8,
   "id": "f64906f1",
   "metadata": {},
   "outputs": [
    {
     "data": {
      "text/plain": [
       "array([[  1.2013,  79.72  ,  42.67  ,  62.55  ,  48.26  ,  71.25  ],\n",
       "       [  2.2013,  81.08  ,  44.37  ,  62.73  ,  51.01  ,  71.35  ],\n",
       "       [  3.2013,  79.68  ,  44.73  ,  63.43  ,  50.91  ,  70.9   ],\n",
       "       [  4.2013,  79.8   ,  46.75  ,  63.83  ,  53.94  ,  71.92  ],\n",
       "       [  5.2013,  80.63  ,      nan,  66.06  ,  61.27  ,  72.91  ],\n",
       "       [  6.2013,  80.8   ,  51.59  ,  69.22  ,  65.44  ,  74.39  ],\n",
       "       [  7.2013,  80.28  ,  57.8   ,  72.07  ,  56.51  ,  73.1   ],\n",
       "       [  8.2013,  78.99  ,  62.14  ,  69.31  ,  53.    ,  70.24  ],\n",
       "       [  9.2013,  76.77  ,  56.76  ,  65.18  ,  43.87  ,  69.12  ],\n",
       "       [ 10.2013,  76.09  ,  50.85  ,  62.13  ,  42.12  ,  68.98  ],\n",
       "       [ 11.2013,  76.36  ,  46.43  ,  64.17  ,  43.98  ,  68.58  ],\n",
       "       [ 12.2013,  77.16  ,  46.73  ,  65.5   ,  44.66  ,  69.5   ],\n",
       "       [  1.2014,  77.5   ,  45.85  ,  66.85  ,  47.73  ,  70.14  ],\n",
       "       [  2.2014,  79.03  ,  49.25  ,  68.38  ,  52.31  ,  70.58  ],\n",
       "       [  3.2014,  80.28  ,  48.14  ,  68.77  ,  56.8   ,  70.78  ],\n",
       "       [  4.2014,  80.05  ,  49.18  ,  69.32  ,  51.15  ,  72.78  ],\n",
       "       [  5.2014,  78.11  ,  49.49  ,  69.77  ,  54.63  ,  72.84  ],\n",
       "       [  6.2014,  76.9   ,  49.83  ,  70.17  ,  55.8   ,  74.74  ],\n",
       "       [  7.2014,  77.68  ,  49.14  ,  70.76  ,  57.31  ,  76.43  ],\n",
       "       [  8.2014,  76.05  ,  63.21  ,  75.16  ,  53.81  ,  81.2   ],\n",
       "       [  9.2014,  75.53  ,  61.2   ,  74.86  ,  55.5   ,  82.04  ],\n",
       "       [ 10.2014,  73.39  ,  60.34  ,  71.47  ,  52.95  ,  79.67  ],\n",
       "       [ 11.2014,  78.36  ,  62.2   ,  76.08  ,  53.29  ,  81.25  ],\n",
       "       [ 12.2014,  89.16  ,  74.2   ,  82.11  ,  54.86  ,  85.88  ],\n",
       "       [  1.2015, 105.43  ,  75.32  ,  94.63  ,  71.72  ,  91.35  ],\n",
       "       [  2.2015, 104.82  ,  75.92  ,  98.54  ,  74.36  , 101.32  ],\n",
       "       [  3.2015, 101.15  ,  72.89  ,  97.84  ,  78.25  , 102.45  ],\n",
       "       [  4.2015,  98.63  ,  74.85  ,  94.54  ,  70.63  ,  98.18  ],\n",
       "       [  5.2015,  99.96  ,  92.19  ,  97.88  ,  77.06  , 105.1   ],\n",
       "       [  6.2015,  97.29  ,  99.7   ,  97.73  ,  81.52  , 104.85  ],\n",
       "       [  7.2015,  98.64  , 102.78  , 100.89  ,  84.12  , 111.48  ],\n",
       "       [  8.2015, 104.26  ,  92.67  , 104.88  ,  83.33  , 118.51  ],\n",
       "       [  9.2015, 102.63  ,  90.63  , 104.39  ,  66.98  , 118.92  ],\n",
       "       [ 10.2015,  98.64  ,  83.31  , 101.9   ,  62.04  , 109.87  ],\n",
       "       [ 11.2015,  97.17  ,  75.5   ,  98.99  ,  59.79  , 105.22  ],\n",
       "       [ 12.2015,  98.09  ,  74.6   ,  99.42  ,  66.06  , 105.45  ],\n",
       "       [  1.2016, 103.07  ,  76.94  , 106.37  ,  71.99  , 115.61  ],\n",
       "       [  2.2016, 110.26  ,  83.04  , 113.89  ,  76.79  , 116.61  ],\n",
       "       [  3.2016, 110.84  ,  80.74  , 114.78  ,  80.98  , 120.39  ],\n",
       "       [  4.2016, 112.28  ,  80.29  , 115.6   ,  89.18  , 119.2   ],\n",
       "       [  5.2016, 111.1   ,  82.82  , 115.89  ,  92.71  , 119.92  ],\n",
       "       [  6.2016, 110.06  ,  86.29  , 117.66  ,  94.85  , 120.57  ],\n",
       "       [  7.2016, 113.7   ,  87.41  , 118.27  ,  99.18  , 123.37  ],\n",
       "       [  8.2016, 112.88  ,  85.1   , 114.19  ,  86.33  , 121.39  ],\n",
       "       [  9.2016, 102.08  ,  78.08  , 101.81  ,  71.94  , 118.16  ],\n",
       "       [ 10.2016,  95.54  ,  76.06  ,  91.62  ,  67.18  , 108.84  ],\n",
       "       [ 11.2016,  91.33  ,  69.23  ,  90.15  ,  62.98  , 100.78  ],\n",
       "       [ 12.2016,  89.99  ,  69.04  ,  90.55  ,  69.45  ,  99.92  ],\n",
       "       [  1.2017,  91.44  ,  64.48  ,  92.3   ,  67.56  , 100.65  ],\n",
       "       [  2.2017,  93.51  ,  65.73  ,  91.75  ,  67.92  ,  98.92  ],\n",
       "       [  3.2017,  93.6   ,  67.2   ,  92.    ,  68.4   , 100.31  ],\n",
       "       [  4.2017,  93.78  ,  70.25  ,  92.57  ,  67.97  ,  96.41  ],\n",
       "       [  5.2017,  98.91  ,  82.59  , 100.28  ,  76.33  , 101.24  ],\n",
       "       [  6.2017, 121.76  ,  92.12  , 114.33  ,  95.79  , 118.7   ],\n",
       "       [  7.2017, 129.6   , 100.82  , 122.17  , 112.36  , 133.29  ],\n",
       "       [  8.2017, 127.9   ,  95.23  , 117.83  ,  82.03  , 130.31  ],\n",
       "       [  9.2017, 114.55  ,  89.51  , 112.49  ,  73.83  , 122.4   ],\n",
       "       [ 10.2017, 101.88  ,  82.84  ,  93.7   ,  66.12  , 104.98  ],\n",
       "       [ 11.2017,  99.09  ,  82.3   ,  97.17  ,  63.24  , 107.54  ],\n",
       "       [ 12.2017, 103.35  ,  83.76  ,  95.64  ,  63.98  , 110.74  ],\n",
       "       [  1.2018, 106.58  ,  84.72  , 102.21  ,  69.1   , 110.51  ],\n",
       "       [  2.2018, 108.    ,  83.91  , 107.58  ,  70.04  , 111.46  ],\n",
       "       [  3.2018, 114.95  ,  99.14  , 110.48  ,  80.03  , 113.42  ],\n",
       "       [  4.2018, 121.17  , 101.6   , 117.73  ,  87.92  , 118.15  ],\n",
       "       [  5.2018, 122.48  , 113.03  , 122.07  ,  97.07  , 114.    ],\n",
       "       [  6.2018, 127.58  , 119.54  , 128.58  , 106.52  , 124.91  ],\n",
       "       [  7.2018, 131.89  , 118.09  , 131.12  , 108.93  , 126.06  ],\n",
       "       [  8.2018, 129.36  , 107.32  , 127.08  ,  95.17  , 123.3   ],\n",
       "       [  9.2018, 104.26  ,  82.6   , 110.99  ,  74.31  , 111.61  ],\n",
       "       [ 10.2018,  93.45  ,  77.4   ,  97.43  ,  62.63  ,  98.82  ],\n",
       "       [ 11.2018,  92.93  ,  71.77  ,  92.05  ,  69.92  ,  97.47  ],\n",
       "       [ 12.2018,  96.15  ,  71.25  ,  93.21  ,  70.58  , 103.01  ],\n",
       "       [  1.2019,  99.1   ,  71.35  ,  98.58  ,  74.63  , 109.36  ],\n",
       "       [  2.2019, 103.    ,  73.62  , 100.23  ,  78.69  , 104.79  ],\n",
       "       [  3.2019, 103.31  ,  76.2   , 102.09  ,  81.82  , 105.09  ],\n",
       "       [  4.2019, 103.01  ,  74.15  , 101.73  ,  82.36  , 103.16  ],\n",
       "       [  5.2019, 107.37  ,  75.67  , 107.28  ,  89.44  , 106.52  ],\n",
       "       [  6.2019, 116.91  ,  79.2   , 115.35  , 102.01  , 121.68  ],\n",
       "       [  7.2019, 125.29  ,  80.85  , 123.03  , 116.12  , 125.32  ],\n",
       "       [  8.2019, 123.94  ,  85.33  , 123.08  ,  92.06  , 123.41  ],\n",
       "       [  9.2019, 113.03  ,  75.02  , 109.71  ,  82.7   , 108.48  ],\n",
       "       [ 10.2019, 102.19  ,  77.95  ,  97.22  ,  66.62  ,  98.73  ],\n",
       "       [ 11.2019,  97.83  ,  78.98  ,  95.75  ,  68.11  ,  96.25  ],\n",
       "       [ 12.2019, 101.07  ,  76.55  ,  97.09  ,  73.48  , 100.12  ],\n",
       "       [  1.202 , 103.44  ,  74.89  ,  98.18  ,  82.04  , 101.29  ],\n",
       "       [  2.202 , 108.23  ,  70.    , 103.1   ,  81.19  , 102.81  ],\n",
       "       [  3.202 , 110.28  ,  81.53  , 110.6   ,  95.05  , 108.53  ]])"
      ]
     },
     "execution_count": 8,
     "metadata": {},
     "output_type": "execute_result"
    }
   ],
   "source": [
    "dado_transposto"
   ]
  },
  {
   "cell_type": "markdown",
   "id": "1a813025",
   "metadata": {},
   "source": [
    "### Hora da Prática"
   ]
  },
  {
   "cell_type": "code",
   "execution_count": 9,
   "id": "ee4640f3",
   "metadata": {},
   "outputs": [],
   "source": [
    "url = 'https://raw.githubusercontent.com/allanspadini/numpy/dados/citrus.csv'\n",
    "dados_pratica = np.loadtxt(url, delimiter=',',skiprows=1, usecols=np.arange(1,6,1))"
   ]
  },
  {
   "cell_type": "code",
   "execution_count": 10,
   "id": "921af7ac",
   "metadata": {},
   "outputs": [
    {
     "data": {
      "text/plain": [
       "array([[  2.96,  86.76, 172.  ,  85.  ,   2.  ],\n",
       "       [  3.91,  88.05, 166.  ,  78.  ,   3.  ],\n",
       "       [  4.42,  95.17, 156.  ,  81.  ,   2.  ],\n",
       "       ...,\n",
       "       [ 15.59, 256.5 , 168.  ,  82.  ,  20.  ],\n",
       "       [ 15.92, 260.14, 142.  ,  72.  ,  11.  ],\n",
       "       [ 16.45, 261.51, 152.  ,  74.  ,   2.  ]])"
      ]
     },
     "execution_count": 10,
     "metadata": {},
     "output_type": "execute_result"
    }
   ],
   "source": [
    "dados_pratica"
   ]
  },
  {
   "cell_type": "markdown",
   "id": "aabbc8fe",
   "metadata": {},
   "source": [
    "## 2. Exploração de Dados"
   ]
  },
  {
   "cell_type": "markdown",
   "id": "dc5ef555",
   "metadata": {},
   "source": [
    "### Visualização de dados"
   ]
  },
  {
   "cell_type": "code",
   "execution_count": 11,
   "id": "e889d2d1",
   "metadata": {},
   "outputs": [],
   "source": [
    "datas = dado_transposto[:,0]"
   ]
  },
  {
   "cell_type": "code",
   "execution_count": 12,
   "id": "8c2c7f1a",
   "metadata": {},
   "outputs": [],
   "source": [
    "precos = dado_transposto[:,1:6]"
   ]
  },
  {
   "cell_type": "code",
   "execution_count": 13,
   "id": "fb98d092",
   "metadata": {},
   "outputs": [],
   "source": [
    "import matplotlib.pyplot as plt"
   ]
  },
  {
   "cell_type": "code",
   "execution_count": 14,
   "id": "fd1bc25e",
   "metadata": {},
   "outputs": [
    {
     "data": {
      "text/plain": [
       "[<matplotlib.lines.Line2D at 0x2660ebe3430>]"
      ]
     },
     "execution_count": 14,
     "metadata": {},
     "output_type": "execute_result"
    },
    {
     "data": {
      "image/png": "[encoded data removed]",
      "text/plain": [
       "<Figure size 432x288 with 1 Axes>"
      ]
     },
     "metadata": {
      "needs_background": "light"
     },
     "output_type": "display_data"
    }
   ],
   "source": [
    "plt.plot(datas,precos[:,0])"
   ]
  },
  {
   "cell_type": "code",
   "execution_count": 15,
   "id": "311f603e",
   "metadata": {},
   "outputs": [
    {
     "data": {
      "text/plain": [
       "array([ 1.2013,  2.2013,  3.2013,  4.2013,  5.2013,  6.2013,  7.2013,\n",
       "        8.2013,  9.2013, 10.2013, 11.2013, 12.2013,  1.2014,  2.2014,\n",
       "        3.2014,  4.2014,  5.2014,  6.2014,  7.2014,  8.2014,  9.2014,\n",
       "       10.2014, 11.2014, 12.2014,  1.2015,  2.2015,  3.2015,  4.2015,\n",
       "        5.2015,  6.2015,  7.2015,  8.2015,  9.2015, 10.2015, 11.2015,\n",
       "       12.2015,  1.2016,  2.2016,  3.2016,  4.2016,  5.2016,  6.2016,\n",
       "        7.2016,  8.2016,  9.2016, 10.2016, 11.2016, 12.2016,  1.2017,\n",
       "        2.2017,  3.2017,  4.2017,  5.2017,  6.2017,  7.2017,  8.2017,\n",
       "        9.2017, 10.2017, 11.2017, 12.2017,  1.2018,  2.2018,  3.2018,\n",
       "        4.2018,  5.2018,  6.2018,  7.2018,  8.2018,  9.2018, 10.2018,\n",
       "       11.2018, 12.2018,  1.2019,  2.2019,  3.2019,  4.2019,  5.2019,\n",
       "        6.2019,  7.2019,  8.2019,  9.2019, 10.2019, 11.2019, 12.2019,\n",
       "        1.202 ,  2.202 ,  3.202 ])"
      ]
     },
     "execution_count": 15,
     "metadata": {},
     "output_type": "execute_result"
    }
   ],
   "source": [
    "datas"
   ]
  },
  {
   "cell_type": "code",
   "execution_count": 16,
   "id": "896aae37",
   "metadata": {},
   "outputs": [],
   "source": [
    "datas = np.arange(1,88,1)"
   ]
  },
  {
   "cell_type": "code",
   "execution_count": 17,
   "id": "392a826c",
   "metadata": {},
   "outputs": [
    {
     "data": {
      "text/plain": [
       "[<matplotlib.lines.Line2D at 0x2660f37f3a0>]"
      ]
     },
     "execution_count": 17,
     "metadata": {},
     "output_type": "execute_result"
    },
    {
     "data": {
      "image/png": "[encoded data removed]",
      "text/plain": [
       "<Figure size 432x288 with 1 Axes>"
      ]
     },
     "metadata": {
      "needs_background": "light"
     },
     "output_type": "display_data"
    }
   ],
   "source": [
    "plt.plot(datas,precos[:,0])"
   ]
  },
  {
   "cell_type": "code",
   "execution_count": 18,
   "id": "a29ebcbd",
   "metadata": {},
   "outputs": [],
   "source": [
    "Moscow = precos[:,0]\n",
    "Kaliningrad = precos[:,1]\n",
    "Petersburg = precos[:,2]\n",
    "Krasnodar = precos[:,3]\n",
    "Ekaterinburg = precos[:,4]"
   ]
  },
  {
   "cell_type": "code",
   "execution_count": 19,
   "id": "69d284c5",
   "metadata": {
    "scrolled": true
   },
   "outputs": [
    {
     "data": {
      "text/plain": [
       "(87,)"
      ]
     },
     "execution_count": 19,
     "metadata": {},
     "output_type": "execute_result"
    }
   ],
   "source": [
    "Moscow.shape"
   ]
  },
  {
   "cell_type": "code",
   "execution_count": 20,
   "id": "2aa73cb0",
   "metadata": {},
   "outputs": [],
   "source": [
    "Moscow_ano1 = Moscow[0:12] \n",
    "Moscow_ano2 = Moscow[12:24]\n",
    "Moscow_ano3 = Moscow[24:36]\n",
    "Moscow_ano4 = Moscow[36:48]"
   ]
  },
  {
   "cell_type": "code",
   "execution_count": 21,
   "id": "43fe65fd",
   "metadata": {},
   "outputs": [
    {
     "data": {
      "text/plain": [
       "<matplotlib.legend.Legend at 0x2660f3ecf10>"
      ]
     },
     "execution_count": 21,
     "metadata": {},
     "output_type": "execute_result"
    },
    {
     "data": {
      "image/png": "[encoded data removed]",
      "text/plain": [
       "<Figure size 432x288 with 1 Axes>"
      ]
     },
     "metadata": {
      "needs_background": "light"
     },
     "output_type": "display_data"
    }
   ],
   "source": [
    "plt.plot(np.arange(1,13,1), Moscow_ano1)\n",
    "plt.plot(np.arange(1,13,1), Moscow_ano2)\n",
    "plt.plot(np.arange(1,13,1), Moscow_ano3)\n",
    "plt.plot(np.arange(1,13,1), Moscow_ano4)\n",
    "plt.legend(['ano1', 'ano2', 'ano3', 'ano4'])"
   ]
  },
  {
   "cell_type": "markdown",
   "id": "e62c8821",
   "metadata": {},
   "source": [
    "### Comparação entre Arrays"
   ]
  },
  {
   "cell_type": "code",
   "execution_count": 22,
   "id": "df89c6ff",
   "metadata": {},
   "outputs": [
    {
     "data": {
      "text/plain": [
       "False"
      ]
     },
     "execution_count": 22,
     "metadata": {},
     "output_type": "execute_result"
    }
   ],
   "source": [
    "# Os arrays são completamente iguais ?\n",
    "np.array_equal(Moscow_ano3,Moscow_ano4)"
   ]
  },
  {
   "cell_type": "code",
   "execution_count": 23,
   "id": "ae81c58d",
   "metadata": {},
   "outputs": [
    {
     "data": {
      "text/plain": [
       "False"
      ]
     },
     "execution_count": 23,
     "metadata": {},
     "output_type": "execute_result"
    }
   ],
   "source": [
    "# A allclose() irá retornar True se a diferença entre os elementos do \n",
    "# array for menor que o valor de 0.01\n",
    "np.allclose(Moscow_ano3,Moscow_ano4,0.01)"
   ]
  },
  {
   "cell_type": "code",
   "execution_count": 24,
   "id": "3d327ec6",
   "metadata": {},
   "outputs": [
    {
     "data": {
      "text/plain": [
       "True"
      ]
     },
     "execution_count": 24,
     "metadata": {},
     "output_type": "execute_result"
    }
   ],
   "source": [
    "# A allclose() irá retornar True se a diferença entre os elementos do \n",
    "# array for menor que o valor de 10\n",
    "np.allclose(Moscow_ano3,Moscow_ano4,10)"
   ]
  },
  {
   "cell_type": "markdown",
   "id": "d304d3cd",
   "metadata": {},
   "source": [
    "### Lidando com NaNs"
   ]
  },
  {
   "cell_type": "code",
   "execution_count": 25,
   "id": "9b0486af",
   "metadata": {},
   "outputs": [
    {
     "data": {
      "text/plain": [
       "[<matplotlib.lines.Line2D at 0x2660f49fa30>]"
      ]
     },
     "execution_count": 25,
     "metadata": {},
     "output_type": "execute_result"
    },
    {
     "data": {
      "image/png": "[encoded data removed]",
      "text/plain": [
       "<Figure size 432x288 with 1 Axes>"
      ]
     },
     "metadata": {
      "needs_background": "light"
     },
     "output_type": "display_data"
    }
   ],
   "source": [
    "plt.plot(datas, Kaliningrad)"
   ]
  },
  {
   "cell_type": "code",
   "execution_count": 26,
   "id": "c9256858",
   "metadata": {},
   "outputs": [
    {
     "data": {
      "text/plain": [
       "array([ 42.67,  44.37,  44.73,  46.75,    nan,  51.59,  57.8 ,  62.14,\n",
       "        56.76,  50.85,  46.43,  46.73,  45.85,  49.25,  48.14,  49.18,\n",
       "        49.49,  49.83,  49.14,  63.21,  61.2 ,  60.34,  62.2 ,  74.2 ,\n",
       "        75.32,  75.92,  72.89,  74.85,  92.19,  99.7 , 102.78,  92.67,\n",
       "        90.63,  83.31,  75.5 ,  74.6 ,  76.94,  83.04,  80.74,  80.29,\n",
       "        82.82,  86.29,  87.41,  85.1 ,  78.08,  76.06,  69.23,  69.04,\n",
       "        64.48,  65.73,  67.2 ,  70.25,  82.59,  92.12, 100.82,  95.23,\n",
       "        89.51,  82.84,  82.3 ,  83.76,  84.72,  83.91,  99.14, 101.6 ,\n",
       "       113.03, 119.54, 118.09, 107.32,  82.6 ,  77.4 ,  71.77,  71.25,\n",
       "        71.35,  73.62,  76.2 ,  74.15,  75.67,  79.2 ,  80.85,  85.33,\n",
       "        75.02,  77.95,  78.98,  76.55,  74.89,  70.  ,  81.53])"
      ]
     },
     "execution_count": 26,
     "metadata": {},
     "output_type": "execute_result"
    }
   ],
   "source": [
    "Kaliningrad"
   ]
  },
  {
   "cell_type": "code",
   "execution_count": 27,
   "id": "5dfeac0e",
   "metadata": {},
   "outputs": [
    {
     "data": {
      "text/plain": [
       "array([False, False, False, False,  True, False, False, False, False,\n",
       "       False, False, False, False, False, False, False, False, False,\n",
       "       False, False, False, False, False, False, False, False, False,\n",
       "       False, False, False, False, False, False, False, False, False,\n",
       "       False, False, False, False, False, False, False, False, False,\n",
       "       False, False, False, False, False, False, False, False, False,\n",
       "       False, False, False, False, False, False, False, False, False,\n",
       "       False, False, False, False, False, False, False, False, False,\n",
       "       False, False, False, False, False, False, False, False, False,\n",
       "       False, False, False, False, False, False])"
      ]
     },
     "execution_count": 27,
     "metadata": {},
     "output_type": "execute_result"
    }
   ],
   "source": [
    "# Verificar a quantidade de NaN\n",
    "np.isnan(Kaliningrad)"
   ]
  },
  {
   "cell_type": "code",
   "execution_count": 28,
   "id": "4aa0249f",
   "metadata": {},
   "outputs": [
    {
     "data": {
      "text/plain": [
       "1"
      ]
     },
     "execution_count": 28,
     "metadata": {},
     "output_type": "execute_result"
    }
   ],
   "source": [
    "# Verificar a quantidade de NaN\n",
    "sum(np.isnan(Kaliningrad))"
   ]
  },
  {
   "cell_type": "code",
   "execution_count": 29,
   "id": "ab578164",
   "metadata": {},
   "outputs": [
    {
     "data": {
      "text/plain": [
       "49.17"
      ]
     },
     "execution_count": 29,
     "metadata": {},
     "output_type": "execute_result"
    }
   ],
   "source": [
    "# Interpolar o valor NaN, calcular média entre o valor anterior e o posterior\n",
    "(Kaliningrad[3]+Kaliningrad[5])/2"
   ]
  },
  {
   "cell_type": "code",
   "execution_count": 30,
   "id": "c29ad43d",
   "metadata": {},
   "outputs": [
    {
     "data": {
      "text/plain": [
       "49.17"
      ]
     },
     "execution_count": 30,
     "metadata": {},
     "output_type": "execute_result"
    }
   ],
   "source": [
    "# Interpolar o valor NaN, calcular média entre o valor anterior e o posterior\n",
    "np.mean([Kaliningrad[3],Kaliningrad[5]])"
   ]
  },
  {
   "cell_type": "code",
   "execution_count": 31,
   "id": "7d122d31",
   "metadata": {},
   "outputs": [],
   "source": [
    "Kaliningrad[4] = np.mean([Kaliningrad[3],Kaliningrad[5]])"
   ]
  },
  {
   "cell_type": "code",
   "execution_count": 32,
   "id": "b50b7023",
   "metadata": {},
   "outputs": [
    {
     "data": {
      "text/plain": [
       "[<matplotlib.lines.Line2D at 0x2660f526ac0>]"
      ]
     },
     "execution_count": 32,
     "metadata": {},
     "output_type": "execute_result"
    },
    {
     "data": {
      "image/png": "[encoded data removed]",
      "text/plain": [
       "<Figure size 432x288 with 1 Axes>"
      ]
     },
     "metadata": {
      "needs_background": "light"
     },
     "output_type": "display_data"
    }
   ],
   "source": [
    "plt.plot(datas, Kaliningrad)"
   ]
  },
  {
   "cell_type": "code",
   "execution_count": 33,
   "id": "1e6bb6a3",
   "metadata": {},
   "outputs": [
    {
     "data": {
      "text/plain": [
       "98.79781609195402"
      ]
     },
     "execution_count": 33,
     "metadata": {},
     "output_type": "execute_result"
    }
   ],
   "source": [
    "# Comparar as médias de preço entre duas cidades\n",
    "np.mean(Moscow)"
   ]
  },
  {
   "cell_type": "code",
   "execution_count": 34,
   "id": "a8f739e6",
   "metadata": {},
   "outputs": [
    {
     "data": {
      "text/plain": [
       "74.5506896551724"
      ]
     },
     "execution_count": 34,
     "metadata": {},
     "output_type": "execute_result"
    }
   ],
   "source": [
    "# Comparar as médias de preço entre duas cidades\n",
    "np.mean(Kaliningrad)"
   ]
  },
  {
   "cell_type": "markdown",
   "id": "3ad5a2e5",
   "metadata": {},
   "source": [
    "### Hora da Prática"
   ]
  },
  {
   "cell_type": "code",
   "execution_count": 35,
   "id": "18a60cac",
   "metadata": {},
   "outputs": [
    {
     "data": {
      "text/plain": [
       "Text(0.5, 1.0, 'Peso x Diametro')"
      ]
     },
     "execution_count": 35,
     "metadata": {},
     "output_type": "execute_result"
    },
    {
     "data": {
      "image/png": "[encoded data removed]",
      "text/plain": [
       "<Figure size 432x288 with 1 Axes>"
      ]
     },
     "metadata": {
      "needs_background": "light"
     },
     "output_type": "display_data"
    }
   ],
   "source": [
    "import matplotlib.pyplot as plt\n",
    "\n",
    "diametro_laranja = dados_pratica[:5000,0]\n",
    "peso_laranja = dados_pratica[:5000,1]\n",
    "diametro_toranja = dados_pratica[5000:,0]\n",
    "peso_toranja = dados_pratica[5000:,1]\n",
    "\n",
    "plt.plot(diametro_laranja,peso_laranja)\n",
    "plt.plot(diametro_toranja,peso_toranja)\n",
    "plt.legend(['laranja', 'toranja'])\n",
    "plt.title('Peso x Diametro')"
   ]
  },
  {
   "cell_type": "markdown",
   "id": "788c1022",
   "metadata": {},
   "source": [
    "## 3. Operações entre Arrays"
   ]
  },
  {
   "cell_type": "markdown",
   "id": "fa7c26ab",
   "metadata": {},
   "source": [
    "### Diferença entre arrays"
   ]
  },
  {
   "cell_type": "code",
   "execution_count": 36,
   "id": "557cd3c6",
   "metadata": {},
   "outputs": [
    {
     "data": {
      "text/plain": [
       "[<matplotlib.lines.Line2D at 0x266106112b0>]"
      ]
     },
     "execution_count": 36,
     "metadata": {},
     "output_type": "execute_result"
    },
    {
     "data": {
      "image/png": "[encoded data removed]",
      "text/plain": [
       "<Figure size 432x288 with 1 Axes>"
      ]
     },
     "metadata": {
      "needs_background": "light"
     },
     "output_type": "display_data"
    }
   ],
   "source": [
    "plt.plot(datas, Moscow)"
   ]
  },
  {
   "cell_type": "markdown",
   "id": "efecf1f5",
   "metadata": {},
   "source": [
    "y = ax + b"
   ]
  },
  {
   "cell_type": "code",
   "execution_count": 37,
   "id": "656d1a52",
   "metadata": {},
   "outputs": [],
   "source": [
    "x = datas"
   ]
  },
  {
   "cell_type": "code",
   "execution_count": 38,
   "id": "0f33666c",
   "metadata": {},
   "outputs": [],
   "source": [
    "# Fazendo uma reta qualquer\n",
    "y = 2*x +80"
   ]
  },
  {
   "cell_type": "code",
   "execution_count": 39,
   "id": "70c919aa",
   "metadata": {},
   "outputs": [
    {
     "data": {
      "text/plain": [
       "[<matplotlib.lines.Line2D at 0x2661067aee0>]"
      ]
     },
     "execution_count": 39,
     "metadata": {},
     "output_type": "execute_result"
    },
    {
     "data": {
      "image/png": "[encoded data removed]",
      "text/plain": [
       "<Figure size 432x288 with 1 Axes>"
      ]
     },
     "metadata": {
      "needs_background": "light"
     },
     "output_type": "display_data"
    }
   ],
   "source": [
    "plt.plot(datas, Moscow)\n",
    "plt.plot(x,y)"
   ]
  },
  {
   "cell_type": "code",
   "execution_count": 40,
   "id": "7b269ae3",
   "metadata": {},
   "outputs": [
    {
     "data": {
      "text/plain": [
       "array([  -2.28,   -2.92,   -6.32,   -8.2 ,   -9.37,  -11.2 ,  -13.72,\n",
       "        -17.01,  -21.23,  -23.91,  -25.64,  -26.84,  -28.5 ,  -28.97,\n",
       "        -29.72,  -31.95,  -35.89,  -39.1 ,  -40.32,  -43.95,  -46.47,\n",
       "        -50.61,  -47.64,  -38.84,  -24.57,  -27.18,  -32.85,  -37.37,\n",
       "        -38.04,  -42.71,  -43.36,  -39.74,  -43.37,  -49.36,  -52.83,\n",
       "        -53.91,  -50.93,  -45.74,  -47.16,  -47.72,  -50.9 ,  -53.94,\n",
       "        -52.3 ,  -55.12,  -67.92,  -76.46,  -82.67,  -86.01,  -86.56,\n",
       "        -86.49,  -88.4 ,  -90.22,  -87.09,  -66.24,  -60.4 ,  -64.1 ,\n",
       "        -79.45,  -94.12,  -98.91,  -96.65,  -95.42,  -96.  ,  -91.05,\n",
       "        -86.83,  -87.52,  -84.42,  -82.11,  -86.64, -113.74, -126.55,\n",
       "       -129.07, -127.85, -126.9 , -125.  , -126.69, -128.99, -126.63,\n",
       "       -119.09, -112.71, -116.06, -128.97, -141.81, -148.17, -146.93,\n",
       "       -146.56, -143.77, -143.72])"
      ]
     },
     "execution_count": 40,
     "metadata": {},
     "output_type": "execute_result"
    }
   ],
   "source": [
    "# Diferença entre os preços e a reta que criamos\n",
    "Moscow-y"
   ]
  },
  {
   "cell_type": "code",
   "execution_count": 41,
   "id": "b9844cb8",
   "metadata": {},
   "outputs": [
    {
     "data": {
      "text/plain": [
       "array([5.19840000e+00, 8.52640000e+00, 3.99424000e+01, 6.72400000e+01,\n",
       "       8.77969000e+01, 1.25440000e+02, 1.88238400e+02, 2.89340100e+02,\n",
       "       4.50712900e+02, 5.71688100e+02, 6.57409600e+02, 7.20385600e+02,\n",
       "       8.12250000e+02, 8.39260900e+02, 8.83278400e+02, 1.02080250e+03,\n",
       "       1.28809210e+03, 1.52881000e+03, 1.62570240e+03, 1.93160250e+03,\n",
       "       2.15946090e+03, 2.56137210e+03, 2.26956960e+03, 1.50854560e+03,\n",
       "       6.03684900e+02, 7.38752400e+02, 1.07912250e+03, 1.39651690e+03,\n",
       "       1.44704160e+03, 1.82414410e+03, 1.88008960e+03, 1.57926760e+03,\n",
       "       1.88095690e+03, 2.43640960e+03, 2.79100890e+03, 2.90628810e+03,\n",
       "       2.59386490e+03, 2.09214760e+03, 2.22406560e+03, 2.27719840e+03,\n",
       "       2.59081000e+03, 2.90952360e+03, 2.73529000e+03, 3.03821440e+03,\n",
       "       4.61312640e+03, 5.84613160e+03, 6.83432890e+03, 7.39772010e+03,\n",
       "       7.49263360e+03, 7.48052010e+03, 7.81456000e+03, 8.13964840e+03,\n",
       "       7.58466810e+03, 4.38773760e+03, 3.64816000e+03, 4.10881000e+03,\n",
       "       6.31230250e+03, 8.85857440e+03, 9.78318810e+03, 9.34122250e+03,\n",
       "       9.10497640e+03, 9.21600000e+03, 8.29010250e+03, 7.53944890e+03,\n",
       "       7.65975040e+03, 7.12673640e+03, 6.74205210e+03, 7.50648960e+03,\n",
       "       1.29367876e+04, 1.60149025e+04, 1.66590649e+04, 1.63456225e+04,\n",
       "       1.61036100e+04, 1.56250000e+04, 1.60503561e+04, 1.66384201e+04,\n",
       "       1.60351569e+04, 1.41824281e+04, 1.27035441e+04, 1.34699236e+04,\n",
       "       1.66332609e+04, 2.01100761e+04, 2.19543489e+04, 2.15884249e+04,\n",
       "       2.14798336e+04, 2.06698129e+04, 2.06554384e+04])"
      ]
     },
     "execution_count": 41,
     "metadata": {},
     "output_type": "execute_result"
    }
   ],
   "source": [
    "# Diferença dos quadrados\n",
    "np.power(Moscow-y,2)"
   ]
  },
  {
   "cell_type": "code",
   "execution_count": 42,
   "id": "3f4eec3d",
   "metadata": {},
   "outputs": [
    {
     "data": {
      "text/plain": [
       "561349.9641"
      ]
     },
     "execution_count": 42,
     "metadata": {},
     "output_type": "execute_result"
    }
   ],
   "source": [
    "# Fazendo soma das diferenças dos quadrados\n",
    "np.sum(np.power(Moscow-y,2))"
   ]
  },
  {
   "cell_type": "code",
   "execution_count": 43,
   "id": "b2911b31",
   "metadata": {},
   "outputs": [
    {
     "data": {
      "text/plain": [
       "749.2329171225728"
      ]
     },
     "execution_count": 43,
     "metadata": {},
     "output_type": "execute_result"
    }
   ],
   "source": [
    "# Tirando a raiz quadrada da soma das diferenças dos quadrados\n",
    "np.sqrt(np.sum(np.power(Moscow-y,2)))"
   ]
  },
  {
   "cell_type": "code",
   "execution_count": 44,
   "id": "586403a5",
   "metadata": {},
   "outputs": [],
   "source": [
    "# Chutando outro valor pra reta\n",
    "y = 0.52*x + 80"
   ]
  },
  {
   "cell_type": "code",
   "execution_count": 45,
   "id": "ec1a6196",
   "metadata": {},
   "outputs": [
    {
     "data": {
      "text/plain": [
       "[<matplotlib.lines.Line2D at 0x2661070f2b0>]"
      ]
     },
     "execution_count": 45,
     "metadata": {},
     "output_type": "execute_result"
    },
    {
     "data": {
      "image/png": "[encoded data removed]",
      "text/plain": [
       "<Figure size 432x288 with 1 Axes>"
      ]
     },
     "metadata": {
      "needs_background": "light"
     },
     "output_type": "display_data"
    }
   ],
   "source": [
    "plt.plot(datas, Moscow)\n",
    "plt.plot(x,y)"
   ]
  },
  {
   "cell_type": "code",
   "execution_count": 46,
   "id": "8cff931b",
   "metadata": {},
   "outputs": [
    {
     "data": {
      "text/plain": [
       "110.48504740461489"
      ]
     },
     "execution_count": 46,
     "metadata": {},
     "output_type": "execute_result"
    }
   ],
   "source": [
    "# Tirando a raiz quadrada da soma das diferenças dos quadrados\n",
    "# Valor bem menor de ajuste, ajustou-se melhor aos dados\n",
    "np.sqrt(np.sum(np.power(Moscow-y,2)))"
   ]
  },
  {
   "cell_type": "code",
   "execution_count": 47,
   "id": "df278857",
   "metadata": {},
   "outputs": [
    {
     "data": {
      "text/plain": [
       "110.48504740461489"
      ]
     },
     "execution_count": 47,
     "metadata": {},
     "output_type": "execute_result"
    }
   ],
   "source": [
    "# Calculo da norma entre dois arrays numpy\n",
    "np.linalg.norm(Moscow-y)"
   ]
  },
  {
   "cell_type": "markdown",
   "id": "fe77dfdd",
   "metadata": {},
   "source": [
    "### Multiplicação"
   ]
  },
  {
   "cell_type": "markdown",
   "id": "73d5776a",
   "metadata": {},
   "source": [
    "* a = coeficiente angular\n",
    "* n = numero de elementos\n",
    "* Y = Moscow\n",
    "* X = datas\n",
    "\n",
    "Formula para calcular o coeficiente angular:"
   ]
  },
  {
   "cell_type": "markdown",
   "id": "430317e7",
   "metadata": {},
   "source": [
    "<img src='https://cdn1.gnarususercontent.com.br/1/1310269/932b20ce-f5a3-4986-b435-5812b9f02b14.png'>"
   ]
  },
  {
   "cell_type": "code",
   "execution_count": 67,
   "id": "6899165b",
   "metadata": {},
   "outputs": [],
   "source": [
    "Y = Moscow\n",
    "X = datas\n",
    "n = np.size(Moscow)"
   ]
  },
  {
   "cell_type": "code",
   "execution_count": 70,
   "id": "a1fc0957",
   "metadata": {},
   "outputs": [],
   "source": [
    "a = (n*np.sum(X*Y) - np.sum(X)*np.sum(Y))/(n*np.sum(X**2) - np.sum(X)**2)"
   ]
  },
  {
   "cell_type": "code",
   "execution_count": 69,
   "id": "7998be4c",
   "metadata": {},
   "outputs": [
    {
     "data": {
      "text/plain": [
       "14.7997452319846"
      ]
     },
     "execution_count": 69,
     "metadata": {},
     "output_type": "execute_result"
    }
   ],
   "source": [
    "a"
   ]
  },
  {
   "cell_type": "markdown",
   "id": "83f55542",
   "metadata": {},
   "source": [
    "Formula para calcular o coeficiente linear:"
   ]
  },
  {
   "cell_type": "markdown",
   "id": "1f195806",
   "metadata": {},
   "source": [
    "<img src='https://cdn1.gnarususercontent.com.br/1/1310269/25682220-5a75-4fbd-9a0d-6fdbd316e52e.png'>"
   ]
  },
  {
   "cell_type": "code",
   "execution_count": 68,
   "id": "c6d58845",
   "metadata": {},
   "outputs": [],
   "source": [
    "b = np.mean(Y) - a*np.mean(X)"
   ]
  },
  {
   "cell_type": "code",
   "execution_count": 52,
   "id": "5b770520",
   "metadata": {},
   "outputs": [
    {
     "data": {
      "text/plain": [
       "79.64892274792834"
      ]
     },
     "execution_count": 52,
     "metadata": {},
     "output_type": "execute_result"
    }
   ],
   "source": [
    "b"
   ]
  },
  {
   "cell_type": "code",
   "execution_count": 53,
   "id": "4a6cd1f8",
   "metadata": {},
   "outputs": [],
   "source": [
    "y = a*X+b"
   ]
  },
  {
   "cell_type": "code",
   "execution_count": 54,
   "id": "2a9223e1",
   "metadata": {},
   "outputs": [
    {
     "data": {
      "text/plain": [
       "101.79695399927512"
      ]
     },
     "execution_count": 54,
     "metadata": {},
     "output_type": "execute_result"
    }
   ],
   "source": [
    "# A diferença do ajuste ficou ainda melhor\n",
    "np.linalg.norm(Moscow-y)"
   ]
  },
  {
   "cell_type": "markdown",
   "id": "45729d34",
   "metadata": {},
   "source": [
    "### Motivo da Regressão"
   ]
  },
  {
   "cell_type": "code",
   "execution_count": 55,
   "id": "cabed391",
   "metadata": {},
   "outputs": [
    {
     "data": {
      "text/plain": [
       "[<matplotlib.lines.Line2D at 0x26610780f40>]"
      ]
     },
     "execution_count": 55,
     "metadata": {},
     "output_type": "execute_result"
    },
    {
     "data": {
      "image/png": "[encoded data removed]",
      "text/plain": [
       "<Figure size 432x288 with 1 Axes>"
      ]
     },
     "metadata": {
      "needs_background": "light"
     },
     "output_type": "display_data"
    }
   ],
   "source": [
    "plt.plot(datas, Moscow)\n",
    "plt.plot(x,y)\n",
    "plt.plot(41.5,41.5*a+b, '*r')"
   ]
  },
  {
   "cell_type": "code",
   "execution_count": 56,
   "id": "15417cd0",
   "metadata": {},
   "outputs": [
    {
     "data": {
      "text/plain": [
       "[<matplotlib.lines.Line2D at 0x2661080b3d0>]"
      ]
     },
     "execution_count": 56,
     "metadata": {},
     "output_type": "execute_result"
    },
    {
     "data": {
      "image/png": "[encoded data removed]",
      "text/plain": [
       "<Figure size 432x288 with 1 Axes>"
      ]
     },
     "metadata": {
      "needs_background": "light"
     },
     "output_type": "display_data"
    }
   ],
   "source": [
    "# Como temos uma reta e conhecemos seu comportamento, podemos \n",
    "# estimar valores futuros:\n",
    "plt.plot(datas, Moscow)\n",
    "plt.plot(x,y)\n",
    "plt.plot(100,100*a+b,'*r')"
   ]
  },
  {
   "cell_type": "markdown",
   "id": "075f00b1",
   "metadata": {},
   "source": [
    "### Hora da Prática"
   ]
  },
  {
   "cell_type": "code",
   "execution_count": 57,
   "id": "cd281f7b",
   "metadata": {},
   "outputs": [],
   "source": [
    "Y = peso_laranja\n",
    "X = diametro_laranja\n",
    "n = np.size(X)\n",
    "a = (n*np.sum(X*Y) - np.sum(X)*np.sum(Y))/(n*np.sum(X**2) - np.sum(X)**2)\n",
    "b = np.mean(Y) - a*np.mean(X)\n",
    "y = a*X+b\n",
    "\n",
    "Y2 = peso_toranja\n",
    "X2 = diametro_toranja\n",
    "n = np.size(X2)\n",
    "a2 = (n*np.sum(X2*Y2) - np.sum(X2)*np.sum(Y2))/(n*np.sum(X2**2) - np.sum(X2)**2)\n",
    "b2 = np.mean(Y2) - a*np.mean(X2)\n",
    "y2 = a2*X2+b2"
   ]
  },
  {
   "cell_type": "code",
   "execution_count": 58,
   "id": "449e11e3",
   "metadata": {},
   "outputs": [
    {
     "data": {
      "text/plain": [
       "46.32284523962465"
      ]
     },
     "execution_count": 58,
     "metadata": {},
     "output_type": "execute_result"
    }
   ],
   "source": [
    "np.linalg.norm(peso_laranja-y)"
   ]
  },
  {
   "cell_type": "code",
   "execution_count": 59,
   "id": "0b98ece4",
   "metadata": {},
   "outputs": [
    {
     "data": {
      "text/plain": [
       "739.1200674612978"
      ]
     },
     "execution_count": 59,
     "metadata": {},
     "output_type": "execute_result"
    }
   ],
   "source": [
    "np.linalg.norm(peso_toranja-y2)"
   ]
  },
  {
   "cell_type": "code",
   "execution_count": 60,
   "id": "6ab50751",
   "metadata": {},
   "outputs": [
    {
     "data": {
      "text/plain": [
       "Text(0.5, 1.0, 'Peso x Diametro')"
      ]
     },
     "execution_count": 60,
     "metadata": {},
     "output_type": "execute_result"
    },
    {
     "data": {
      "image/png": "[encoded data removed]",
      "text/plain": [
       "<Figure size 432x288 with 1 Axes>"
      ]
     },
     "metadata": {
      "needs_background": "light"
     },
     "output_type": "display_data"
    }
   ],
   "source": [
    "plt.plot(diametro_laranja, peso_laranja)\n",
    "plt.plot(diametro_laranja,y)\n",
    "plt.legend(['Relação Original', 'Regressão'])\n",
    "plt.title('Peso x Diametro')"
   ]
  },
  {
   "cell_type": "code",
   "execution_count": 61,
   "id": "5bccb747",
   "metadata": {},
   "outputs": [
    {
     "data": {
      "text/plain": [
       "Text(0.5, 1.0, 'Peso x Diametro')"
      ]
     },
     "execution_count": 61,
     "metadata": {},
     "output_type": "execute_result"
    },
    {
     "data": {
      "image/png": "[encoded data removed]",
      "text/plain": [
       "<Figure size 432x288 with 1 Axes>"
      ]
     },
     "metadata": {
      "needs_background": "light"
     },
     "output_type": "display_data"
    }
   ],
   "source": [
    "plt.plot(diametro_toranja, peso_toranja)\n",
    "plt.plot(diametro_toranja,y2)\n",
    "plt.legend(['Relação Original', 'Regressão'])\n",
    "plt.title('Peso x Diametro')"
   ]
  },
  {
   "cell_type": "markdown",
   "id": "d75d737b",
   "metadata": {},
   "source": [
    "## 4. Números aleatórios"
   ]
  },
  {
   "cell_type": "code",
   "execution_count": 63,
   "id": "86262177",
   "metadata": {},
   "outputs": [
    {
     "data": {
      "text/plain": [
       "array([94, 56, 89, 58, 73, 58, 68, 46, 78, 86, 97, 87, 75, 95, 80, 86, 63,\n",
       "       85, 91, 47, 63, 65, 55, 94, 61, 94, 47, 89, 68, 62, 62, 48, 41, 81,\n",
       "       83, 85, 56, 45, 58, 42, 70, 41, 84, 79, 79, 49, 44, 67, 72, 46, 94,\n",
       "       53, 48, 60, 75, 43, 85, 49, 47, 53, 99, 89, 65, 79, 96, 56, 94, 71,\n",
       "       77, 50, 67, 83, 44, 76, 88, 72, 79, 54, 98, 83, 54, 99, 82, 83, 76,\n",
       "       99, 58, 87, 91, 73, 91, 84, 41, 46, 45, 51, 79, 77, 84, 67])"
      ]
     },
     "execution_count": 63,
     "metadata": {},
     "output_type": "execute_result"
    }
   ],
   "source": [
    "# Gera 100 números (size) entre o valor mais baixo (low) e o mais alto (high)\n",
    "np.random.randint(low=40,high=100,size=100)"
   ]
  },
  {
   "cell_type": "code",
   "execution_count": 64,
   "id": "f3754da2",
   "metadata": {},
   "outputs": [
    {
     "data": {
      "text/plain": [
       "array([49.54092373, 72.81455179, 51.90878171, 41.43350343, 86.5927372 ,\n",
       "       56.38762318, 44.5609907 , 84.57282773, 56.74242349, 90.33006315,\n",
       "       47.77621363, 48.76397226, 68.94641932, 40.61498545, 94.72798121,\n",
       "       91.7141737 , 82.18261048, 42.81944354, 93.74201134, 69.88638087,\n",
       "       53.62116769, 74.86947787, 46.58551828, 83.86850456, 66.39780985,\n",
       "       77.26448734, 41.58210453, 51.65972975, 84.56126015, 81.99829788,\n",
       "       46.75464522, 40.40080392, 66.61818716, 95.49023619, 91.46753774,\n",
       "       63.53524155, 97.98418582, 93.56906439, 98.61762462, 42.2223509 ,\n",
       "       93.39431314, 62.09943676, 41.88481415, 54.6292317 , 57.47755773,\n",
       "       50.27835646, 46.99289771, 84.44351   , 47.47057713, 56.16377249,\n",
       "       66.69693486, 45.70212222, 48.03441708, 80.15447812, 62.83464839,\n",
       "       84.46001481, 40.18537384, 64.98468671, 81.93301104, 90.96965138,\n",
       "       64.72771184, 54.53499198, 57.86487777, 49.6976707 , 70.29205557,\n",
       "       72.09385874, 43.44795663, 72.62104501, 61.60570976, 95.87165768,\n",
       "       62.30655498, 75.38915392, 81.57220935, 58.23845096, 61.19408303,\n",
       "       74.87775319, 46.64557021, 56.28739034, 61.8157531 , 85.32451152,\n",
       "       82.62955758, 76.40439178, 50.84914917, 77.09142627, 53.57129253,\n",
       "       76.31716693, 89.46436261, 88.26194827, 55.83956859, 81.09041736,\n",
       "       61.88130265, 82.84654739, 81.36494707, 86.77153081, 85.97240544,\n",
       "       65.50868209, 53.351085  , 46.74390841, 80.32782599, 52.13725225])"
      ]
     },
     "execution_count": 64,
     "metadata": {},
     "output_type": "execute_result"
    }
   ],
   "source": [
    "# A mesma coisa da de cima, porém gera float\n",
    "np.random.uniform(low=40,high=100,size=100)"
   ]
  },
  {
   "cell_type": "code",
   "execution_count": 91,
   "id": "acca8178",
   "metadata": {},
   "outputs": [
    {
     "data": {
      "text/plain": [
       "array([0.27863286, 0.51853067, 0.54056117, 0.13648156, 0.38858307,\n",
       "       0.27846475, 0.65098093, 0.23098514, 0.15625989, 0.85280869,\n",
       "       0.5509451 , 0.16239387, 0.67811241, 0.22676174, 0.30022505,\n",
       "       0.3347898 , 0.65728857, 0.47141127, 0.27204971, 0.45746101,\n",
       "       0.196703  , 0.83414961, 0.55315706, 0.47761545, 0.35165314,\n",
       "       0.13457258, 0.70195593, 0.53461524, 0.71375234, 0.73235901,\n",
       "       0.1577771 , 0.62777267, 0.14263947, 0.64801956, 0.45468077,\n",
       "       0.47439692, 0.62884747, 0.65197331, 0.31066359, 0.10918315,\n",
       "       0.71703556, 0.75291386, 0.21171328, 0.5624054 , 0.37253942,\n",
       "       0.28577239, 0.258915  , 0.31719262, 0.88148221, 0.27234318,\n",
       "       0.38512593, 0.11471996, 0.59343222, 0.28432431, 0.69388139,\n",
       "       0.56740017, 0.43608284, 0.66740227, 0.87763642, 0.74803129,\n",
       "       0.44452414, 0.86618288, 0.13820648, 0.68622544, 0.64053316,\n",
       "       0.52160413, 0.55358996, 0.6783562 , 0.64608268, 0.73625014,\n",
       "       0.19027642, 0.25933011, 0.67705538, 0.41509386, 0.37134832,\n",
       "       0.22275655, 0.18045921, 0.42579769, 0.56633237, 0.69257642,\n",
       "       0.79628867, 0.87322093, 0.46445188, 0.4203384 , 0.3391517 ,\n",
       "       0.76268805, 0.82787294, 0.71290934, 0.15465183, 0.58482122,\n",
       "       0.85137291, 0.18171413, 0.88203161, 0.38535098, 0.62334973,\n",
       "       0.19822857, 0.86908175, 0.62094514, 0.84934225, 0.82706184])"
      ]
     },
     "execution_count": 91,
     "metadata": {},
     "output_type": "execute_result"
    }
   ],
   "source": [
    "# np.random.seed() mantém os mesmos números aleatórios\n",
    "np.random.seed(16)\n",
    "np.random.uniform(low=0.10,high=0.9,size=100)"
   ]
  },
  {
   "cell_type": "code",
   "execution_count": 93,
   "id": "df350f17",
   "metadata": {},
   "outputs": [],
   "source": [
    "# Salvando os resultados\n",
    "dado = np.random.uniform(low=0.10,high=0.9,size=100)"
   ]
  },
  {
   "cell_type": "code",
   "execution_count": 94,
   "id": "b8661988",
   "metadata": {},
   "outputs": [],
   "source": [
    "dados = np.column_stack([dado])"
   ]
  },
  {
   "cell_type": "code",
   "execution_count": 95,
   "id": "6acdf8d3",
   "metadata": {},
   "outputs": [
    {
     "data": {
      "text/plain": [
       "(100, 1)"
      ]
     },
     "execution_count": 95,
     "metadata": {},
     "output_type": "execute_result"
    }
   ],
   "source": [
    "dados.shape"
   ]
  },
  {
   "cell_type": "code",
   "execution_count": 96,
   "id": "3c5f09bf",
   "metadata": {},
   "outputs": [],
   "source": [
    "np.savetxt('dados.csv',dados,delimiter=',')"
   ]
  },
  {
   "cell_type": "markdown",
   "id": "0bff254b",
   "metadata": {},
   "source": [
    "### Hora da Prática"
   ]
  },
  {
   "cell_type": "code",
   "execution_count": 97,
   "id": "0a222be8",
   "metadata": {},
   "outputs": [],
   "source": [
    "Y = peso_laranja\n",
    "X = diametro_laranja\n",
    "n = np.size(X)\n",
    "a = (n*np.sum(X*Y) - np.sum(X)*np.sum(Y))/(n*np.sum(X**2) - np.sum(X)**2)\n",
    "b = np.mean(Y) - a*np.mean(X)\n",
    "y = a*X+b\n",
    "\n",
    "Y2 = peso_toranja\n",
    "X2 = diametro_toranja\n",
    "n = np.size(X2)\n",
    "a2 = (n*np.sum(X2*Y2) - np.sum(X2)*np.sum(Y2))/(n*np.sum(X2**2) - np.sum(X2)**2)\n",
    "b2 = np.mean(Y2) - a*np.mean(X2)\n",
    "y2 = a2*X2+b2"
   ]
  },
  {
   "cell_type": "code",
   "execution_count": 98,
   "id": "0c7faa0b",
   "metadata": {},
   "outputs": [],
   "source": [
    "norma = np.array([])\n",
    "np.random.seed(84)\n",
    "coef_angulares = np.random.uniform(0,30,100)\n",
    "\n",
    "for i in range(100):\n",
    "    norma = np.append(norma, np.linalg.norm(Y -(coef_angulares[i]*X+b)))"
   ]
  },
  {
   "cell_type": "code",
   "execution_count": 99,
   "id": "35ca8f02",
   "metadata": {},
   "outputs": [
    {
     "data": {
      "text/plain": [
       "array([8129.40599425, 2237.47421229, 4562.21797178, 2456.84863103,\n",
       "       9029.06810699, 6592.81479528, 5811.30199969, 4271.51442237,\n",
       "       1362.54700746, 6584.98450471, 3687.48907311,   58.67230686,\n",
       "       8609.13265686, 3561.37135023, 2880.65474092,  769.96973468,\n",
       "       7155.57868147, 6747.96192851, 8128.02718228, 7042.71881878,\n",
       "       2179.59951314, 5720.40121597, 7618.04877309, 9134.89250219,\n",
       "       2491.29646669, 6291.35532368, 2631.14122869, 5156.40351208,\n",
       "       8816.73314544, 6450.63156641, 1089.62141771, 4118.48649733,\n",
       "       3301.46074445, 2950.60783859, 6315.78618712, 5951.21877865,\n",
       "       6037.965524  ,  102.29938813, 2950.00614176, 5425.04525111,\n",
       "       6306.76032995, 3515.32361871, 9111.01777029, 3790.95085877,\n",
       "       1325.15142421, 6779.65589784, 8178.07806076, 6097.31315036,\n",
       "       1097.10779514, 2110.76834195, 7872.50329683, 2390.65851705,\n",
       "        110.63783898, 1483.94159033,  760.93404373, 1078.47842986,\n",
       "       8024.1882049 , 4160.65580702, 8644.86453451, 3727.70863485,\n",
       "       5707.38687432, 2708.76128566,  622.92377677, 6162.11928432,\n",
       "       2585.14697252, 5520.97965507, 8652.03988537, 8858.49846085,\n",
       "       5774.28889314, 8496.28641096, 8734.79688805, 3820.7928991 ,\n",
       "       4834.79962662, 8916.52096446, 2624.18270807,  973.63293627,\n",
       "       5666.97692721,  267.60495458, 3826.47574566, 8337.29826831,\n",
       "        338.91320763, 4240.16025579, 3350.1549639 , 8577.61817821,\n",
       "       3828.67154325, 4278.41287883, 8262.60908313, 4173.31513579,\n",
       "       6101.89905635, 1457.14685146, 6725.52335971, 1561.26600565,\n",
       "        926.04799268,  198.86563443, 2041.90809989,  825.90821536,\n",
       "       1004.56140573, 4009.69429704, 3193.04967421, 3081.94408105])"
      ]
     },
     "execution_count": 99,
     "metadata": {},
     "output_type": "execute_result"
    }
   ],
   "source": [
    "norma"
   ]
  }
 ],
 "metadata": {
  "kernelspec": {
   "display_name": "Python 3 (ipykernel)",
   "language": "python",
   "name": "python3"
  },
  "language_info": {
   "codemirror_mode": {
    "name": "ipython",
    "version": 3
   },
   "file_extension": ".py",
   "mimetype": "text/x-python",
   "name": "python",
   "nbconvert_exporter": "python",
   "pygments_lexer": "ipython3",
   "version": "3.9.12"
  }
 },
 "nbformat": 4,
 "nbformat_minor": 5
}
