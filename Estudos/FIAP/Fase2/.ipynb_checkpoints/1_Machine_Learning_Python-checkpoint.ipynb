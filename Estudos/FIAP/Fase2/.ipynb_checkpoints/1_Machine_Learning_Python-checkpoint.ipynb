{
 "cells": [
  {
   "cell_type": "markdown",
   "id": "ade55ae9",
   "metadata": {},
   "source": [
    "Explorando um pouco sobre o pandas"
   ]
  },
  {
   "cell_type": "code",
   "execution_count": 1,
   "id": "b6cd2b20",
   "metadata": {},
   "outputs": [],
   "source": [
    "import pandas as pd"
   ]
  },
  {
   "cell_type": "code",
   "execution_count": 2,
   "id": "819983d1",
   "metadata": {},
   "outputs": [],
   "source": [
    "# O parametro sheet_name serve para rescolher qual a planilha dentro da pasta voce deseja importar\n",
    "df_excel = pd.read_excel('data/Chess.xlsx', sheet_name='Chess')\n",
    "df_csv = pd.read_csv('data/Tomato.csv', sep = ',')"
   ]
  },
  {
   "cell_type": "code",
   "execution_count": 3,
   "id": "726206bb",
   "metadata": {
    "scrolled": false
   },
   "outputs": [
    {
     "data": {
      "text/html": [
       "<div>\n",
       "<style scoped>\n",
       "    .dataframe tbody tr th:only-of-type {\n",
       "        vertical-align: middle;\n",
       "    }\n",
       "\n",
       "    .dataframe tbody tr th {\n",
       "        vertical-align: top;\n",
       "    }\n",
       "\n",
       "    .dataframe thead th {\n",
       "        text-align: right;\n",
       "    }\n",
       "</style>\n",
       "<table border=\"1\" class=\"dataframe\">\n",
       "  <thead>\n",
       "    <tr style=\"text-align: right;\">\n",
       "      <th></th>\n",
       "      <th>rated</th>\n",
       "      <th>created_at</th>\n",
       "      <th>last_move_at</th>\n",
       "      <th>turns</th>\n",
       "      <th>victory_status</th>\n",
       "      <th>winner</th>\n",
       "      <th>increment_code</th>\n",
       "      <th>white_id</th>\n",
       "      <th>white_rating</th>\n",
       "      <th>black_id</th>\n",
       "      <th>black_rating</th>\n",
       "      <th>opening_eco</th>\n",
       "      <th>opening_name</th>\n",
       "      <th>opening_ply</th>\n",
       "    </tr>\n",
       "  </thead>\n",
       "  <tbody>\n",
       "    <tr>\n",
       "      <th>0</th>\n",
       "      <td>False</td>\n",
       "      <td>1.504210e+17</td>\n",
       "      <td>1.504210e+17</td>\n",
       "      <td>13</td>\n",
       "      <td>outoftime</td>\n",
       "      <td>white</td>\n",
       "      <td>15+2</td>\n",
       "      <td>bourgris</td>\n",
       "      <td>1500</td>\n",
       "      <td>a-00</td>\n",
       "      <td>1191</td>\n",
       "      <td>D10</td>\n",
       "      <td>Slav Defense: Exchange Variation</td>\n",
       "      <td>5</td>\n",
       "    </tr>\n",
       "    <tr>\n",
       "      <th>1</th>\n",
       "      <td>True</td>\n",
       "      <td>1.504130e+17</td>\n",
       "      <td>1.504130e+17</td>\n",
       "      <td>16</td>\n",
       "      <td>resign</td>\n",
       "      <td>black</td>\n",
       "      <td>5+10</td>\n",
       "      <td>a-00</td>\n",
       "      <td>1322</td>\n",
       "      <td>skinnerua</td>\n",
       "      <td>1261</td>\n",
       "      <td>B00</td>\n",
       "      <td>Nimzowitsch Defense: Kennedy Variation</td>\n",
       "      <td>4</td>\n",
       "    </tr>\n",
       "    <tr>\n",
       "      <th>2</th>\n",
       "      <td>True</td>\n",
       "      <td>1.504130e+17</td>\n",
       "      <td>1.504130e+17</td>\n",
       "      <td>61</td>\n",
       "      <td>mate</td>\n",
       "      <td>white</td>\n",
       "      <td>5+10</td>\n",
       "      <td>ischia</td>\n",
       "      <td>1496</td>\n",
       "      <td>a-00</td>\n",
       "      <td>1500</td>\n",
       "      <td>C20</td>\n",
       "      <td>King's Pawn Game: Leonardis Variation</td>\n",
       "      <td>3</td>\n",
       "    </tr>\n",
       "    <tr>\n",
       "      <th>3</th>\n",
       "      <td>True</td>\n",
       "      <td>1.504110e+17</td>\n",
       "      <td>1.504110e+17</td>\n",
       "      <td>61</td>\n",
       "      <td>mate</td>\n",
       "      <td>white</td>\n",
       "      <td>20+0</td>\n",
       "      <td>daniamurashov</td>\n",
       "      <td>1439</td>\n",
       "      <td>adivanov2009</td>\n",
       "      <td>1454</td>\n",
       "      <td>D02</td>\n",
       "      <td>Queen's Pawn Game: Zukertort Variation</td>\n",
       "      <td>3</td>\n",
       "    </tr>\n",
       "    <tr>\n",
       "      <th>4</th>\n",
       "      <td>True</td>\n",
       "      <td>1.504030e+17</td>\n",
       "      <td>1.504030e+17</td>\n",
       "      <td>95</td>\n",
       "      <td>mate</td>\n",
       "      <td>white</td>\n",
       "      <td>30+3</td>\n",
       "      <td>nik221107</td>\n",
       "      <td>1523</td>\n",
       "      <td>adivanov2009</td>\n",
       "      <td>1469</td>\n",
       "      <td>C41</td>\n",
       "      <td>Philidor Defense</td>\n",
       "      <td>5</td>\n",
       "    </tr>\n",
       "  </tbody>\n",
       "</table>\n",
       "</div>"
      ],
      "text/plain": [
       "   rated    created_at  last_move_at  turns victory_status winner  \\\n",
       "0  False  1.504210e+17  1.504210e+17     13      outoftime  white   \n",
       "1   True  1.504130e+17  1.504130e+17     16         resign  black   \n",
       "2   True  1.504130e+17  1.504130e+17     61           mate  white   \n",
       "3   True  1.504110e+17  1.504110e+17     61           mate  white   \n",
       "4   True  1.504030e+17  1.504030e+17     95           mate  white   \n",
       "\n",
       "  increment_code       white_id  white_rating      black_id  black_rating  \\\n",
       "0           15+2       bourgris          1500          a-00          1191   \n",
       "1           5+10           a-00          1322     skinnerua          1261   \n",
       "2           5+10         ischia          1496          a-00          1500   \n",
       "3           20+0  daniamurashov          1439  adivanov2009          1454   \n",
       "4           30+3      nik221107          1523  adivanov2009          1469   \n",
       "\n",
       "  opening_eco                            opening_name  opening_ply  \n",
       "0         D10        Slav Defense: Exchange Variation            5  \n",
       "1         B00  Nimzowitsch Defense: Kennedy Variation            4  \n",
       "2         C20   King's Pawn Game: Leonardis Variation            3  \n",
       "3         D02  Queen's Pawn Game: Zukertort Variation            3  \n",
       "4         C41                        Philidor Defense            5  "
      ]
     },
     "execution_count": 3,
     "metadata": {},
     "output_type": "execute_result"
    }
   ],
   "source": [
    "df_excel.head()"
   ]
  },
  {
   "cell_type": "code",
   "execution_count": 4,
   "id": "b8071dff",
   "metadata": {},
   "outputs": [
    {
     "data": {
      "text/html": [
       "<div>\n",
       "<style scoped>\n",
       "    .dataframe tbody tr th:only-of-type {\n",
       "        vertical-align: middle;\n",
       "    }\n",
       "\n",
       "    .dataframe tbody tr th {\n",
       "        vertical-align: top;\n",
       "    }\n",
       "\n",
       "    .dataframe thead th {\n",
       "        text-align: right;\n",
       "    }\n",
       "</style>\n",
       "<table border=\"1\" class=\"dataframe\">\n",
       "  <thead>\n",
       "    <tr style=\"text-align: right;\">\n",
       "      <th></th>\n",
       "      <th>Date</th>\n",
       "      <th>Unit</th>\n",
       "      <th>Minimum</th>\n",
       "      <th>Maximum</th>\n",
       "      <th>Average</th>\n",
       "      <th>Market</th>\n",
       "    </tr>\n",
       "  </thead>\n",
       "  <tbody>\n",
       "    <tr>\n",
       "      <th>0</th>\n",
       "      <td>2013-06-16</td>\n",
       "      <td>Kg</td>\n",
       "      <td>26</td>\n",
       "      <td>32</td>\n",
       "      <td>29.0</td>\n",
       "      <td>Tomato</td>\n",
       "    </tr>\n",
       "    <tr>\n",
       "      <th>1</th>\n",
       "      <td>2013-06-17</td>\n",
       "      <td>Kg</td>\n",
       "      <td>20</td>\n",
       "      <td>25</td>\n",
       "      <td>22.5</td>\n",
       "      <td>Tomato</td>\n",
       "    </tr>\n",
       "    <tr>\n",
       "      <th>2</th>\n",
       "      <td>2013-06-18</td>\n",
       "      <td>Kg</td>\n",
       "      <td>22</td>\n",
       "      <td>26</td>\n",
       "      <td>24.0</td>\n",
       "      <td>Tomato</td>\n",
       "    </tr>\n",
       "    <tr>\n",
       "      <th>3</th>\n",
       "      <td>2013-06-19</td>\n",
       "      <td>Kg</td>\n",
       "      <td>24</td>\n",
       "      <td>28</td>\n",
       "      <td>26.0</td>\n",
       "      <td>Tomato</td>\n",
       "    </tr>\n",
       "    <tr>\n",
       "      <th>4</th>\n",
       "      <td>2013-06-20</td>\n",
       "      <td>Kg</td>\n",
       "      <td>22</td>\n",
       "      <td>26</td>\n",
       "      <td>24.0</td>\n",
       "      <td>Tomato</td>\n",
       "    </tr>\n",
       "  </tbody>\n",
       "</table>\n",
       "</div>"
      ],
      "text/plain": [
       "         Date Unit  Minimum  Maximum  Average  Market\n",
       "0  2013-06-16   Kg       26       32     29.0  Tomato\n",
       "1  2013-06-17   Kg       20       25     22.5  Tomato\n",
       "2  2013-06-18   Kg       22       26     24.0  Tomato\n",
       "3  2013-06-19   Kg       24       28     26.0  Tomato\n",
       "4  2013-06-20   Kg       22       26     24.0  Tomato"
      ]
     },
     "execution_count": 4,
     "metadata": {},
     "output_type": "execute_result"
    }
   ],
   "source": [
    "df_csv.head()"
   ]
  },
  {
   "cell_type": "code",
   "execution_count": 5,
   "id": "558ef54a",
   "metadata": {},
   "outputs": [
    {
     "name": "stdout",
     "output_type": "stream",
     "text": [
      "<class 'pandas.core.frame.DataFrame'>\n",
      "RangeIndex: 20058 entries, 0 to 20057\n",
      "Data columns (total 14 columns):\n",
      " #   Column          Non-Null Count  Dtype  \n",
      "---  ------          --------------  -----  \n",
      " 0   rated           20058 non-null  bool   \n",
      " 1   created_at      20058 non-null  float64\n",
      " 2   last_move_at    20058 non-null  float64\n",
      " 3   turns           20058 non-null  int64  \n",
      " 4   victory_status  20058 non-null  object \n",
      " 5   winner          20058 non-null  object \n",
      " 6   increment_code  20058 non-null  object \n",
      " 7   white_id        20058 non-null  object \n",
      " 8   white_rating    20058 non-null  int64  \n",
      " 9   black_id        20058 non-null  object \n",
      " 10  black_rating    20058 non-null  int64  \n",
      " 11  opening_eco     20058 non-null  object \n",
      " 12  opening_name    20058 non-null  object \n",
      " 13  opening_ply     20058 non-null  int64  \n",
      "dtypes: bool(1), float64(2), int64(4), object(7)\n",
      "memory usage: 2.0+ MB\n"
     ]
    }
   ],
   "source": [
    "df_excel.info()"
   ]
  },
  {
   "cell_type": "code",
   "execution_count": 6,
   "id": "c4085c4f",
   "metadata": {},
   "outputs": [
    {
     "data": {
      "text/html": [
       "<div>\n",
       "<style scoped>\n",
       "    .dataframe tbody tr th:only-of-type {\n",
       "        vertical-align: middle;\n",
       "    }\n",
       "\n",
       "    .dataframe tbody tr th {\n",
       "        vertical-align: top;\n",
       "    }\n",
       "\n",
       "    .dataframe thead th {\n",
       "        text-align: right;\n",
       "    }\n",
       "</style>\n",
       "<table border=\"1\" class=\"dataframe\">\n",
       "  <thead>\n",
       "    <tr style=\"text-align: right;\">\n",
       "      <th></th>\n",
       "      <th>Minimum</th>\n",
       "      <th>Maximum</th>\n",
       "      <th>Average</th>\n",
       "    </tr>\n",
       "  </thead>\n",
       "  <tbody>\n",
       "    <tr>\n",
       "      <th>count</th>\n",
       "      <td>2741.000000</td>\n",
       "      <td>2741.000000</td>\n",
       "      <td>2741.000000</td>\n",
       "    </tr>\n",
       "    <tr>\n",
       "      <th>mean</th>\n",
       "      <td>35.089748</td>\n",
       "      <td>41.281284</td>\n",
       "      <td>38.185516</td>\n",
       "    </tr>\n",
       "    <tr>\n",
       "      <th>std</th>\n",
       "      <td>16.648425</td>\n",
       "      <td>17.364135</td>\n",
       "      <td>16.970949</td>\n",
       "    </tr>\n",
       "    <tr>\n",
       "      <th>min</th>\n",
       "      <td>8.000000</td>\n",
       "      <td>12.000000</td>\n",
       "      <td>10.000000</td>\n",
       "    </tr>\n",
       "    <tr>\n",
       "      <th>25%</th>\n",
       "      <td>22.000000</td>\n",
       "      <td>30.000000</td>\n",
       "      <td>25.000000</td>\n",
       "    </tr>\n",
       "    <tr>\n",
       "      <th>50%</th>\n",
       "      <td>30.000000</td>\n",
       "      <td>38.000000</td>\n",
       "      <td>35.000000</td>\n",
       "    </tr>\n",
       "    <tr>\n",
       "      <th>75%</th>\n",
       "      <td>45.000000</td>\n",
       "      <td>50.000000</td>\n",
       "      <td>47.500000</td>\n",
       "    </tr>\n",
       "    <tr>\n",
       "      <th>max</th>\n",
       "      <td>115.000000</td>\n",
       "      <td>120.000000</td>\n",
       "      <td>117.500000</td>\n",
       "    </tr>\n",
       "  </tbody>\n",
       "</table>\n",
       "</div>"
      ],
      "text/plain": [
       "           Minimum      Maximum      Average\n",
       "count  2741.000000  2741.000000  2741.000000\n",
       "mean     35.089748    41.281284    38.185516\n",
       "std      16.648425    17.364135    16.970949\n",
       "min       8.000000    12.000000    10.000000\n",
       "25%      22.000000    30.000000    25.000000\n",
       "50%      30.000000    38.000000    35.000000\n",
       "75%      45.000000    50.000000    47.500000\n",
       "max     115.000000   120.000000   117.500000"
      ]
     },
     "execution_count": 6,
     "metadata": {},
     "output_type": "execute_result"
    }
   ],
   "source": [
    "df_csv.describe()"
   ]
  },
  {
   "cell_type": "code",
   "execution_count": 7,
   "id": "4a3763a6",
   "metadata": {},
   "outputs": [
    {
     "data": {
      "text/html": [
       "<div>\n",
       "<style scoped>\n",
       "    .dataframe tbody tr th:only-of-type {\n",
       "        vertical-align: middle;\n",
       "    }\n",
       "\n",
       "    .dataframe tbody tr th {\n",
       "        vertical-align: top;\n",
       "    }\n",
       "\n",
       "    .dataframe thead th {\n",
       "        text-align: right;\n",
       "    }\n",
       "</style>\n",
       "<table border=\"1\" class=\"dataframe\">\n",
       "  <thead>\n",
       "    <tr style=\"text-align: right;\">\n",
       "      <th></th>\n",
       "      <th>Date</th>\n",
       "      <th>Unit</th>\n",
       "      <th>Minimum</th>\n",
       "      <th>Maximum</th>\n",
       "      <th>Average</th>\n",
       "      <th>Market</th>\n",
       "    </tr>\n",
       "  </thead>\n",
       "  <tbody>\n",
       "    <tr>\n",
       "      <th>0</th>\n",
       "      <td>2013-06-16</td>\n",
       "      <td>Kg</td>\n",
       "      <td>26</td>\n",
       "      <td>32</td>\n",
       "      <td>29.0</td>\n",
       "      <td>Tomato</td>\n",
       "    </tr>\n",
       "    <tr>\n",
       "      <th>1</th>\n",
       "      <td>2013-06-17</td>\n",
       "      <td>Kg</td>\n",
       "      <td>20</td>\n",
       "      <td>25</td>\n",
       "      <td>22.5</td>\n",
       "      <td>Tomato</td>\n",
       "    </tr>\n",
       "    <tr>\n",
       "      <th>2</th>\n",
       "      <td>2013-06-18</td>\n",
       "      <td>Kg</td>\n",
       "      <td>22</td>\n",
       "      <td>26</td>\n",
       "      <td>24.0</td>\n",
       "      <td>Tomato</td>\n",
       "    </tr>\n",
       "    <tr>\n",
       "      <th>3</th>\n",
       "      <td>2013-06-19</td>\n",
       "      <td>Kg</td>\n",
       "      <td>24</td>\n",
       "      <td>28</td>\n",
       "      <td>26.0</td>\n",
       "      <td>Tomato</td>\n",
       "    </tr>\n",
       "    <tr>\n",
       "      <th>4</th>\n",
       "      <td>2013-06-20</td>\n",
       "      <td>Kg</td>\n",
       "      <td>22</td>\n",
       "      <td>26</td>\n",
       "      <td>24.0</td>\n",
       "      <td>Tomato</td>\n",
       "    </tr>\n",
       "  </tbody>\n",
       "</table>\n",
       "</div>"
      ],
      "text/plain": [
       "         Date Unit  Minimum  Maximum  Average  Market\n",
       "0  2013-06-16   Kg       26       32     29.0  Tomato\n",
       "1  2013-06-17   Kg       20       25     22.5  Tomato\n",
       "2  2013-06-18   Kg       22       26     24.0  Tomato\n",
       "3  2013-06-19   Kg       24       28     26.0  Tomato\n",
       "4  2013-06-20   Kg       22       26     24.0  Tomato"
      ]
     },
     "execution_count": 7,
     "metadata": {},
     "output_type": "execute_result"
    }
   ],
   "source": [
    "df_csv.head()"
   ]
  },
  {
   "cell_type": "code",
   "execution_count": 8,
   "id": "468420ea",
   "metadata": {},
   "outputs": [],
   "source": [
    "def categoriazar_tomate_media(media):\n",
    "    if media >= 40 and media <= 70:\n",
    "        return \"tomate medio\"\n",
    "    elif media < 40:\n",
    "        return \"tomate pequeno\"\n",
    "    else:\n",
    "        return \"tomate grande\""
   ]
  },
  {
   "cell_type": "code",
   "execution_count": 9,
   "id": "d33a3d60",
   "metadata": {},
   "outputs": [],
   "source": [
    "df_csv['categoria_tomate'] = df_csv['Average'].apply(categoriazar_tomate_media)"
   ]
  },
  {
   "cell_type": "code",
   "execution_count": 10,
   "id": "50a5a9e8",
   "metadata": {},
   "outputs": [
    {
     "data": {
      "text/html": [
       "<div>\n",
       "<style scoped>\n",
       "    .dataframe tbody tr th:only-of-type {\n",
       "        vertical-align: middle;\n",
       "    }\n",
       "\n",
       "    .dataframe tbody tr th {\n",
       "        vertical-align: top;\n",
       "    }\n",
       "\n",
       "    .dataframe thead th {\n",
       "        text-align: right;\n",
       "    }\n",
       "</style>\n",
       "<table border=\"1\" class=\"dataframe\">\n",
       "  <thead>\n",
       "    <tr style=\"text-align: right;\">\n",
       "      <th></th>\n",
       "      <th>Date</th>\n",
       "      <th>Unit</th>\n",
       "      <th>Minimum</th>\n",
       "      <th>Maximum</th>\n",
       "      <th>Average</th>\n",
       "      <th>Market</th>\n",
       "      <th>categoria_tomate</th>\n",
       "    </tr>\n",
       "  </thead>\n",
       "  <tbody>\n",
       "    <tr>\n",
       "      <th>0</th>\n",
       "      <td>2013-06-16</td>\n",
       "      <td>Kg</td>\n",
       "      <td>26</td>\n",
       "      <td>32</td>\n",
       "      <td>29.0</td>\n",
       "      <td>Tomato</td>\n",
       "      <td>tomate pequeno</td>\n",
       "    </tr>\n",
       "    <tr>\n",
       "      <th>1</th>\n",
       "      <td>2013-06-17</td>\n",
       "      <td>Kg</td>\n",
       "      <td>20</td>\n",
       "      <td>25</td>\n",
       "      <td>22.5</td>\n",
       "      <td>Tomato</td>\n",
       "      <td>tomate pequeno</td>\n",
       "    </tr>\n",
       "    <tr>\n",
       "      <th>2</th>\n",
       "      <td>2013-06-18</td>\n",
       "      <td>Kg</td>\n",
       "      <td>22</td>\n",
       "      <td>26</td>\n",
       "      <td>24.0</td>\n",
       "      <td>Tomato</td>\n",
       "      <td>tomate pequeno</td>\n",
       "    </tr>\n",
       "    <tr>\n",
       "      <th>3</th>\n",
       "      <td>2013-06-19</td>\n",
       "      <td>Kg</td>\n",
       "      <td>24</td>\n",
       "      <td>28</td>\n",
       "      <td>26.0</td>\n",
       "      <td>Tomato</td>\n",
       "      <td>tomate pequeno</td>\n",
       "    </tr>\n",
       "    <tr>\n",
       "      <th>4</th>\n",
       "      <td>2013-06-20</td>\n",
       "      <td>Kg</td>\n",
       "      <td>22</td>\n",
       "      <td>26</td>\n",
       "      <td>24.0</td>\n",
       "      <td>Tomato</td>\n",
       "      <td>tomate pequeno</td>\n",
       "    </tr>\n",
       "  </tbody>\n",
       "</table>\n",
       "</div>"
      ],
      "text/plain": [
       "         Date Unit  Minimum  Maximum  Average  Market categoria_tomate\n",
       "0  2013-06-16   Kg       26       32     29.0  Tomato   tomate pequeno\n",
       "1  2013-06-17   Kg       20       25     22.5  Tomato   tomate pequeno\n",
       "2  2013-06-18   Kg       22       26     24.0  Tomato   tomate pequeno\n",
       "3  2013-06-19   Kg       24       28     26.0  Tomato   tomate pequeno\n",
       "4  2013-06-20   Kg       22       26     24.0  Tomato   tomate pequeno"
      ]
     },
     "execution_count": 10,
     "metadata": {},
     "output_type": "execute_result"
    }
   ],
   "source": [
    "df_csv.head()"
   ]
  },
  {
   "cell_type": "code",
   "execution_count": 11,
   "id": "86ac66e2",
   "metadata": {
    "scrolled": true
   },
   "outputs": [
    {
     "data": {
      "text/html": [
       "<div>\n",
       "<style scoped>\n",
       "    .dataframe tbody tr th:only-of-type {\n",
       "        vertical-align: middle;\n",
       "    }\n",
       "\n",
       "    .dataframe tbody tr th {\n",
       "        vertical-align: top;\n",
       "    }\n",
       "\n",
       "    .dataframe thead tr th {\n",
       "        text-align: left;\n",
       "    }\n",
       "\n",
       "    .dataframe thead tr:last-of-type th {\n",
       "        text-align: right;\n",
       "    }\n",
       "</style>\n",
       "<table border=\"1\" class=\"dataframe\">\n",
       "  <thead>\n",
       "    <tr>\n",
       "      <th></th>\n",
       "      <th colspan=\"8\" halign=\"left\">Minimum</th>\n",
       "      <th colspan=\"5\" halign=\"left\">Maximum</th>\n",
       "      <th colspan=\"8\" halign=\"left\">Average</th>\n",
       "    </tr>\n",
       "    <tr>\n",
       "      <th></th>\n",
       "      <th>count</th>\n",
       "      <th>mean</th>\n",
       "      <th>std</th>\n",
       "      <th>min</th>\n",
       "      <th>25%</th>\n",
       "      <th>50%</th>\n",
       "      <th>75%</th>\n",
       "      <th>max</th>\n",
       "      <th>count</th>\n",
       "      <th>mean</th>\n",
       "      <th>...</th>\n",
       "      <th>75%</th>\n",
       "      <th>max</th>\n",
       "      <th>count</th>\n",
       "      <th>mean</th>\n",
       "      <th>std</th>\n",
       "      <th>min</th>\n",
       "      <th>25%</th>\n",
       "      <th>50%</th>\n",
       "      <th>75%</th>\n",
       "      <th>max</th>\n",
       "    </tr>\n",
       "    <tr>\n",
       "      <th>categoria_tomate</th>\n",
       "      <th></th>\n",
       "      <th></th>\n",
       "      <th></th>\n",
       "      <th></th>\n",
       "      <th></th>\n",
       "      <th></th>\n",
       "      <th></th>\n",
       "      <th></th>\n",
       "      <th></th>\n",
       "      <th></th>\n",
       "      <th></th>\n",
       "      <th></th>\n",
       "      <th></th>\n",
       "      <th></th>\n",
       "      <th></th>\n",
       "      <th></th>\n",
       "      <th></th>\n",
       "      <th></th>\n",
       "      <th></th>\n",
       "      <th></th>\n",
       "      <th></th>\n",
       "    </tr>\n",
       "  </thead>\n",
       "  <tbody>\n",
       "    <tr>\n",
       "      <th>tomate grande</th>\n",
       "      <td>149.0</td>\n",
       "      <td>75.744966</td>\n",
       "      <td>7.324666</td>\n",
       "      <td>65.0</td>\n",
       "      <td>70.0</td>\n",
       "      <td>75.0</td>\n",
       "      <td>80.0</td>\n",
       "      <td>115.0</td>\n",
       "      <td>149.0</td>\n",
       "      <td>82.583893</td>\n",
       "      <td>...</td>\n",
       "      <td>85.0</td>\n",
       "      <td>120.0</td>\n",
       "      <td>149.0</td>\n",
       "      <td>79.164430</td>\n",
       "      <td>7.367396</td>\n",
       "      <td>70.5</td>\n",
       "      <td>75.0</td>\n",
       "      <td>77.5</td>\n",
       "      <td>82.5</td>\n",
       "      <td>117.5</td>\n",
       "    </tr>\n",
       "    <tr>\n",
       "      <th>tomate medio</th>\n",
       "      <td>954.0</td>\n",
       "      <td>47.818658</td>\n",
       "      <td>8.203065</td>\n",
       "      <td>30.0</td>\n",
       "      <td>40.0</td>\n",
       "      <td>45.0</td>\n",
       "      <td>55.0</td>\n",
       "      <td>65.0</td>\n",
       "      <td>954.0</td>\n",
       "      <td>55.009434</td>\n",
       "      <td>...</td>\n",
       "      <td>60.0</td>\n",
       "      <td>75.0</td>\n",
       "      <td>954.0</td>\n",
       "      <td>51.414046</td>\n",
       "      <td>8.272792</td>\n",
       "      <td>40.0</td>\n",
       "      <td>45.0</td>\n",
       "      <td>50.0</td>\n",
       "      <td>57.5</td>\n",
       "      <td>70.0</td>\n",
       "    </tr>\n",
       "    <tr>\n",
       "      <th>tomate pequeno</th>\n",
       "      <td>1638.0</td>\n",
       "      <td>23.978022</td>\n",
       "      <td>7.175572</td>\n",
       "      <td>8.0</td>\n",
       "      <td>18.0</td>\n",
       "      <td>25.0</td>\n",
       "      <td>30.0</td>\n",
       "      <td>38.0</td>\n",
       "      <td>1638.0</td>\n",
       "      <td>29.528694</td>\n",
       "      <td>...</td>\n",
       "      <td>35.0</td>\n",
       "      <td>44.0</td>\n",
       "      <td>1638.0</td>\n",
       "      <td>26.753358</td>\n",
       "      <td>7.191735</td>\n",
       "      <td>10.0</td>\n",
       "      <td>21.5</td>\n",
       "      <td>27.5</td>\n",
       "      <td>32.5</td>\n",
       "      <td>39.5</td>\n",
       "    </tr>\n",
       "  </tbody>\n",
       "</table>\n",
       "<p>3 rows × 24 columns</p>\n",
       "</div>"
      ],
      "text/plain": [
       "                 Minimum                                                      \\\n",
       "                   count       mean       std   min   25%   50%   75%    max   \n",
       "categoria_tomate                                                               \n",
       "tomate grande      149.0  75.744966  7.324666  65.0  70.0  75.0  80.0  115.0   \n",
       "tomate medio       954.0  47.818658  8.203065  30.0  40.0  45.0  55.0   65.0   \n",
       "tomate pequeno    1638.0  23.978022  7.175572   8.0  18.0  25.0  30.0   38.0   \n",
       "\n",
       "                 Maximum             ...              Average             \\\n",
       "                   count       mean  ...   75%    max   count       mean   \n",
       "categoria_tomate                     ...                                   \n",
       "tomate grande      149.0  82.583893  ...  85.0  120.0   149.0  79.164430   \n",
       "tomate medio       954.0  55.009434  ...  60.0   75.0   954.0  51.414046   \n",
       "tomate pequeno    1638.0  29.528694  ...  35.0   44.0  1638.0  26.753358   \n",
       "\n",
       "                                                           \n",
       "                       std   min   25%   50%   75%    max  \n",
       "categoria_tomate                                           \n",
       "tomate grande     7.367396  70.5  75.0  77.5  82.5  117.5  \n",
       "tomate medio      8.272792  40.0  45.0  50.0  57.5   70.0  \n",
       "tomate pequeno    7.191735  10.0  21.5  27.5  32.5   39.5  \n",
       "\n",
       "[3 rows x 24 columns]"
      ]
     },
     "execution_count": 11,
     "metadata": {},
     "output_type": "execute_result"
    }
   ],
   "source": [
    "df_csv.groupby(['categoria_tomate']).describe()"
   ]
  },
  {
   "cell_type": "code",
   "execution_count": 12,
   "id": "c8a41f5f",
   "metadata": {},
   "outputs": [
    {
     "data": {
      "text/html": [
       "<div>\n",
       "<style scoped>\n",
       "    .dataframe tbody tr th:only-of-type {\n",
       "        vertical-align: middle;\n",
       "    }\n",
       "\n",
       "    .dataframe tbody tr th {\n",
       "        vertical-align: top;\n",
       "    }\n",
       "\n",
       "    .dataframe thead th {\n",
       "        text-align: right;\n",
       "    }\n",
       "</style>\n",
       "<table border=\"1\" class=\"dataframe\">\n",
       "  <thead>\n",
       "    <tr style=\"text-align: right;\">\n",
       "      <th></th>\n",
       "      <th>Date</th>\n",
       "      <th>Unit</th>\n",
       "      <th>Minimum</th>\n",
       "      <th>Maximum</th>\n",
       "      <th>Average</th>\n",
       "      <th>Market</th>\n",
       "      <th>categoria_tomate</th>\n",
       "    </tr>\n",
       "  </thead>\n",
       "  <tbody>\n",
       "    <tr>\n",
       "      <th>0</th>\n",
       "      <td>2013-06-16</td>\n",
       "      <td>Kg</td>\n",
       "      <td>26</td>\n",
       "      <td>32</td>\n",
       "      <td>29.0</td>\n",
       "      <td>Tomato</td>\n",
       "      <td>tomate pequeno</td>\n",
       "    </tr>\n",
       "    <tr>\n",
       "      <th>1</th>\n",
       "      <td>2013-06-17</td>\n",
       "      <td>Kg</td>\n",
       "      <td>20</td>\n",
       "      <td>25</td>\n",
       "      <td>22.5</td>\n",
       "      <td>Tomato</td>\n",
       "      <td>tomate pequeno</td>\n",
       "    </tr>\n",
       "    <tr>\n",
       "      <th>2</th>\n",
       "      <td>2013-06-18</td>\n",
       "      <td>Kg</td>\n",
       "      <td>22</td>\n",
       "      <td>26</td>\n",
       "      <td>24.0</td>\n",
       "      <td>Tomato</td>\n",
       "      <td>tomate pequeno</td>\n",
       "    </tr>\n",
       "    <tr>\n",
       "      <th>3</th>\n",
       "      <td>2013-06-19</td>\n",
       "      <td>Kg</td>\n",
       "      <td>24</td>\n",
       "      <td>28</td>\n",
       "      <td>26.0</td>\n",
       "      <td>Tomato</td>\n",
       "      <td>tomate pequeno</td>\n",
       "    </tr>\n",
       "    <tr>\n",
       "      <th>4</th>\n",
       "      <td>2013-06-20</td>\n",
       "      <td>Kg</td>\n",
       "      <td>22</td>\n",
       "      <td>26</td>\n",
       "      <td>24.0</td>\n",
       "      <td>Tomato</td>\n",
       "      <td>tomate pequeno</td>\n",
       "    </tr>\n",
       "    <tr>\n",
       "      <th>...</th>\n",
       "      <td>...</td>\n",
       "      <td>...</td>\n",
       "      <td>...</td>\n",
       "      <td>...</td>\n",
       "      <td>...</td>\n",
       "      <td>...</td>\n",
       "      <td>...</td>\n",
       "    </tr>\n",
       "    <tr>\n",
       "      <th>2736</th>\n",
       "      <td>2021-05-09</td>\n",
       "      <td>Kg</td>\n",
       "      <td>10</td>\n",
       "      <td>15</td>\n",
       "      <td>12.5</td>\n",
       "      <td>Tomato</td>\n",
       "      <td>tomate pequeno</td>\n",
       "    </tr>\n",
       "    <tr>\n",
       "      <th>2737</th>\n",
       "      <td>2021-05-10</td>\n",
       "      <td>Kg</td>\n",
       "      <td>10</td>\n",
       "      <td>15</td>\n",
       "      <td>12.5</td>\n",
       "      <td>Tomato</td>\n",
       "      <td>tomate pequeno</td>\n",
       "    </tr>\n",
       "    <tr>\n",
       "      <th>2738</th>\n",
       "      <td>2021-05-11</td>\n",
       "      <td>Kg</td>\n",
       "      <td>10</td>\n",
       "      <td>15</td>\n",
       "      <td>12.5</td>\n",
       "      <td>Tomato</td>\n",
       "      <td>tomate pequeno</td>\n",
       "    </tr>\n",
       "    <tr>\n",
       "      <th>2739</th>\n",
       "      <td>2021-05-12</td>\n",
       "      <td>Kg</td>\n",
       "      <td>30</td>\n",
       "      <td>35</td>\n",
       "      <td>32.5</td>\n",
       "      <td>Tomato</td>\n",
       "      <td>tomate pequeno</td>\n",
       "    </tr>\n",
       "    <tr>\n",
       "      <th>2740</th>\n",
       "      <td>2021-05-13</td>\n",
       "      <td>Kg</td>\n",
       "      <td>35</td>\n",
       "      <td>40</td>\n",
       "      <td>37.5</td>\n",
       "      <td>Tomato</td>\n",
       "      <td>tomate pequeno</td>\n",
       "    </tr>\n",
       "  </tbody>\n",
       "</table>\n",
       "<p>1638 rows × 7 columns</p>\n",
       "</div>"
      ],
      "text/plain": [
       "            Date Unit  Minimum  Maximum  Average  Market categoria_tomate\n",
       "0     2013-06-16   Kg       26       32     29.0  Tomato   tomate pequeno\n",
       "1     2013-06-17   Kg       20       25     22.5  Tomato   tomate pequeno\n",
       "2     2013-06-18   Kg       22       26     24.0  Tomato   tomate pequeno\n",
       "3     2013-06-19   Kg       24       28     26.0  Tomato   tomate pequeno\n",
       "4     2013-06-20   Kg       22       26     24.0  Tomato   tomate pequeno\n",
       "...          ...  ...      ...      ...      ...     ...              ...\n",
       "2736  2021-05-09   Kg       10       15     12.5  Tomato   tomate pequeno\n",
       "2737  2021-05-10   Kg       10       15     12.5  Tomato   tomate pequeno\n",
       "2738  2021-05-11   Kg       10       15     12.5  Tomato   tomate pequeno\n",
       "2739  2021-05-12   Kg       30       35     32.5  Tomato   tomate pequeno\n",
       "2740  2021-05-13   Kg       35       40     37.5  Tomato   tomate pequeno\n",
       "\n",
       "[1638 rows x 7 columns]"
      ]
     },
     "execution_count": 12,
     "metadata": {},
     "output_type": "execute_result"
    }
   ],
   "source": [
    "filtro = df_csv['Average'] < 40\n",
    "df_csv.loc[filtro]"
   ]
  },
  {
   "cell_type": "markdown",
   "id": "005766c1",
   "metadata": {},
   "source": [
    "Explorando um pouco sobre numpy"
   ]
  },
  {
   "cell_type": "code",
   "execution_count": 13,
   "id": "b777384a",
   "metadata": {},
   "outputs": [],
   "source": [
    "import numpy as np"
   ]
  },
  {
   "cell_type": "code",
   "execution_count": 14,
   "id": "d61f37b5",
   "metadata": {},
   "outputs": [],
   "source": [
    "arr_list = np.array([1,2,3,4,5,6,7,8])"
   ]
  },
  {
   "cell_type": "code",
   "execution_count": 15,
   "id": "999f52c9",
   "metadata": {},
   "outputs": [
    {
     "name": "stdout",
     "output_type": "stream",
     "text": [
      "[1 2 3 4 5 6 7 8]\n"
     ]
    }
   ],
   "source": [
    "print(arr_list)"
   ]
  },
  {
   "cell_type": "code",
   "execution_count": 16,
   "id": "83ab264a",
   "metadata": {},
   "outputs": [
    {
     "name": "stdout",
     "output_type": "stream",
     "text": [
      "[[0. 0. 0. 0. 0. 0.]\n",
      " [0. 0. 0. 0. 0. 0.]\n",
      " [0. 0. 0. 0. 0. 0.]\n",
      " [0. 0. 0. 0. 0. 0.]]\n"
     ]
    }
   ],
   "source": [
    "arr_zeros = np.zeros((4,6))\n",
    "print(arr_zeros)"
   ]
  },
  {
   "cell_type": "code",
   "execution_count": 17,
   "id": "ec2fb67e",
   "metadata": {},
   "outputs": [
    {
     "name": "stdout",
     "output_type": "stream",
     "text": [
      "[[1. 1. 1. 1.]\n",
      " [1. 1. 1. 1.]\n",
      " [1. 1. 1. 1.]]\n"
     ]
    }
   ],
   "source": [
    "arr_ones = np.ones((3,4))\n",
    "print(arr_ones)"
   ]
  },
  {
   "cell_type": "code",
   "execution_count": 18,
   "id": "2a2d4274",
   "metadata": {},
   "outputs": [
    {
     "name": "stdout",
     "output_type": "stream",
     "text": [
      "[[0.26700088 0.12363558 0.52360781 0.88054862]\n",
      " [0.20299707 0.91955308 0.67543833 0.32096498]\n",
      " [0.01540961 0.87825386 0.28201269 0.15080478]]\n"
     ]
    }
   ],
   "source": [
    "arr_random = np.random.rand(3,4)\n",
    "print(arr_random)"
   ]
  },
  {
   "cell_type": "code",
   "execution_count": 19,
   "id": "1c9cf219",
   "metadata": {},
   "outputs": [
    {
     "name": "stdout",
     "output_type": "stream",
     "text": [
      "(3, 4)\n"
     ]
    }
   ],
   "source": [
    "print(arr_random.shape)"
   ]
  },
  {
   "cell_type": "code",
   "execution_count": 20,
   "id": "1ba7f426",
   "metadata": {},
   "outputs": [
    {
     "name": "stdout",
     "output_type": "stream",
     "text": [
      "[[0.26700088 0.12363558 0.52360781]\n",
      " [0.88054862 0.20299707 0.91955308]\n",
      " [0.67543833 0.32096498 0.01540961]\n",
      " [0.87825386 0.28201269 0.15080478]]\n"
     ]
    }
   ],
   "source": [
    "arr_random_reshape = arr_random.reshape((4,3))\n",
    "print(arr_random_reshape)"
   ]
  },
  {
   "cell_type": "code",
   "execution_count": 21,
   "id": "80591fa6",
   "metadata": {},
   "outputs": [],
   "source": [
    "arr1 = np.array([[1,2], [3,4]])\n",
    "arr2 = np.array([[5,6], [7,8]])\n",
    "arr3 = np.array([[9,10], [11,12]])"
   ]
  },
  {
   "cell_type": "code",
   "execution_count": 22,
   "id": "38c34784",
   "metadata": {},
   "outputs": [],
   "source": [
    "arr4 = np.concatenate((arr1,arr2,arr3), axis = 1)"
   ]
  },
  {
   "cell_type": "code",
   "execution_count": 23,
   "id": "7006daf3",
   "metadata": {},
   "outputs": [
    {
     "data": {
      "text/plain": [
       "array([[ 1,  2,  5,  6,  9, 10],\n",
       "       [ 3,  4,  7,  8, 11, 12]])"
      ]
     },
     "execution_count": 23,
     "metadata": {},
     "output_type": "execute_result"
    }
   ],
   "source": [
    "arr4"
   ]
  },
  {
   "cell_type": "code",
   "execution_count": 24,
   "id": "c581cd14",
   "metadata": {},
   "outputs": [
    {
     "data": {
      "text/plain": [
       "[array([[ 1,  2,  5,  6,  9, 10]]), array([[ 3,  4,  7,  8, 11, 12]])]"
      ]
     },
     "execution_count": 24,
     "metadata": {},
     "output_type": "execute_result"
    }
   ],
   "source": [
    "arr4_split = np.split(arr4, 2)\n",
    "arr4_split"
   ]
  },
  {
   "cell_type": "code",
   "execution_count": 25,
   "id": "12773a6c",
   "metadata": {},
   "outputs": [
    {
     "data": {
      "text/plain": [
       "array([[ 1,  3],\n",
       "       [ 2,  4],\n",
       "       [ 5,  7],\n",
       "       [ 6,  8],\n",
       "       [ 9, 11],\n",
       "       [10, 12]])"
      ]
     },
     "execution_count": 25,
     "metadata": {},
     "output_type": "execute_result"
    }
   ],
   "source": [
    "arr4_transpose = np.transpose(arr4)\n",
    "arr4_transpose"
   ]
  },
  {
   "cell_type": "code",
   "execution_count": 26,
   "id": "84621b11",
   "metadata": {},
   "outputs": [
    {
     "data": {
      "text/plain": [
       "array([[ 1,  2,  5,  6,  9, 10],\n",
       "       [ 3,  4,  7,  8, 11, 12]])"
      ]
     },
     "execution_count": 26,
     "metadata": {},
     "output_type": "execute_result"
    }
   ],
   "source": [
    "arr4_revertido = arr4_transpose.T\n",
    "arr4_revertido"
   ]
  },
  {
   "cell_type": "code",
   "execution_count": 27,
   "id": "3c8de8b0",
   "metadata": {},
   "outputs": [],
   "source": [
    "arr_a = np.array([1,7,27])\n",
    "arr_b = np.array([1,5,1])"
   ]
  },
  {
   "cell_type": "code",
   "execution_count": 28,
   "id": "67af9706",
   "metadata": {},
   "outputs": [
    {
     "data": {
      "text/plain": [
       "array([ 2, 12, 28])"
      ]
     },
     "execution_count": 28,
     "metadata": {},
     "output_type": "execute_result"
    }
   ],
   "source": [
    "arr_a_b = np.add(arr_a, arr_b)\n",
    "arr_a_b"
   ]
  },
  {
   "cell_type": "code",
   "execution_count": 29,
   "id": "40d3459c",
   "metadata": {},
   "outputs": [
    {
     "data": {
      "text/plain": [
       "array([ 0,  2, 26])"
      ]
     },
     "execution_count": 29,
     "metadata": {},
     "output_type": "execute_result"
    }
   ],
   "source": [
    "arr_a_b = np.subtract(arr_a, arr_b)\n",
    "arr_a_b"
   ]
  },
  {
   "cell_type": "markdown",
   "id": "df4a035e",
   "metadata": {},
   "source": [
    "Explorando um pouco sobre matplolib"
   ]
  },
  {
   "cell_type": "code",
   "execution_count": 30,
   "id": "d89b5e5f",
   "metadata": {},
   "outputs": [],
   "source": [
    "import matplotlib.pyplot as plt"
   ]
  },
  {
   "cell_type": "code",
   "execution_count": 31,
   "id": "8e7b779c",
   "metadata": {},
   "outputs": [
    {
     "data": {
      "text/html": [
       "<div>\n",
       "<style scoped>\n",
       "    .dataframe tbody tr th:only-of-type {\n",
       "        vertical-align: middle;\n",
       "    }\n",
       "\n",
       "    .dataframe tbody tr th {\n",
       "        vertical-align: top;\n",
       "    }\n",
       "\n",
       "    .dataframe thead th {\n",
       "        text-align: right;\n",
       "    }\n",
       "</style>\n",
       "<table border=\"1\" class=\"dataframe\">\n",
       "  <thead>\n",
       "    <tr style=\"text-align: right;\">\n",
       "      <th></th>\n",
       "      <th>Date</th>\n",
       "      <th>Unit</th>\n",
       "      <th>Minimum</th>\n",
       "      <th>Maximum</th>\n",
       "      <th>Average</th>\n",
       "      <th>Market</th>\n",
       "      <th>categoria_tomate</th>\n",
       "    </tr>\n",
       "  </thead>\n",
       "  <tbody>\n",
       "    <tr>\n",
       "      <th>0</th>\n",
       "      <td>2013-06-16</td>\n",
       "      <td>Kg</td>\n",
       "      <td>26</td>\n",
       "      <td>32</td>\n",
       "      <td>29.0</td>\n",
       "      <td>Tomato</td>\n",
       "      <td>tomate pequeno</td>\n",
       "    </tr>\n",
       "    <tr>\n",
       "      <th>1</th>\n",
       "      <td>2013-06-17</td>\n",
       "      <td>Kg</td>\n",
       "      <td>20</td>\n",
       "      <td>25</td>\n",
       "      <td>22.5</td>\n",
       "      <td>Tomato</td>\n",
       "      <td>tomate pequeno</td>\n",
       "    </tr>\n",
       "    <tr>\n",
       "      <th>2</th>\n",
       "      <td>2013-06-18</td>\n",
       "      <td>Kg</td>\n",
       "      <td>22</td>\n",
       "      <td>26</td>\n",
       "      <td>24.0</td>\n",
       "      <td>Tomato</td>\n",
       "      <td>tomate pequeno</td>\n",
       "    </tr>\n",
       "    <tr>\n",
       "      <th>3</th>\n",
       "      <td>2013-06-19</td>\n",
       "      <td>Kg</td>\n",
       "      <td>24</td>\n",
       "      <td>28</td>\n",
       "      <td>26.0</td>\n",
       "      <td>Tomato</td>\n",
       "      <td>tomate pequeno</td>\n",
       "    </tr>\n",
       "    <tr>\n",
       "      <th>4</th>\n",
       "      <td>2013-06-20</td>\n",
       "      <td>Kg</td>\n",
       "      <td>22</td>\n",
       "      <td>26</td>\n",
       "      <td>24.0</td>\n",
       "      <td>Tomato</td>\n",
       "      <td>tomate pequeno</td>\n",
       "    </tr>\n",
       "  </tbody>\n",
       "</table>\n",
       "</div>"
      ],
      "text/plain": [
       "         Date Unit  Minimum  Maximum  Average  Market categoria_tomate\n",
       "0  2013-06-16   Kg       26       32     29.0  Tomato   tomate pequeno\n",
       "1  2013-06-17   Kg       20       25     22.5  Tomato   tomate pequeno\n",
       "2  2013-06-18   Kg       22       26     24.0  Tomato   tomate pequeno\n",
       "3  2013-06-19   Kg       24       28     26.0  Tomato   tomate pequeno\n",
       "4  2013-06-20   Kg       22       26     24.0  Tomato   tomate pequeno"
      ]
     },
     "execution_count": 31,
     "metadata": {},
     "output_type": "execute_result"
    }
   ],
   "source": [
    "df_csv.head()"
   ]
  },
  {
   "cell_type": "code",
   "execution_count": 32,
   "id": "09e14a2e",
   "metadata": {},
   "outputs": [
    {
     "name": "stdout",
     "output_type": "stream",
     "text": [
      "<class 'pandas.core.frame.DataFrame'>\n",
      "RangeIndex: 2741 entries, 0 to 2740\n",
      "Data columns (total 7 columns):\n",
      " #   Column            Non-Null Count  Dtype  \n",
      "---  ------            --------------  -----  \n",
      " 0   Date              2741 non-null   object \n",
      " 1   Unit              2741 non-null   object \n",
      " 2   Minimum           2741 non-null   int64  \n",
      " 3   Maximum           2741 non-null   int64  \n",
      " 4   Average           2741 non-null   float64\n",
      " 5   Market            2741 non-null   object \n",
      " 6   categoria_tomate  2741 non-null   object \n",
      "dtypes: float64(1), int64(2), object(4)\n",
      "memory usage: 150.0+ KB\n"
     ]
    }
   ],
   "source": [
    "df_csv.info()"
   ]
  },
  {
   "cell_type": "code",
   "execution_count": 33,
   "id": "16974c2f",
   "metadata": {},
   "outputs": [
    {
     "name": "stdout",
     "output_type": "stream",
     "text": [
      "<class 'pandas.core.frame.DataFrame'>\n",
      "RangeIndex: 2741 entries, 0 to 2740\n",
      "Data columns (total 7 columns):\n",
      " #   Column            Non-Null Count  Dtype         \n",
      "---  ------            --------------  -----         \n",
      " 0   Date              2741 non-null   datetime64[ns]\n",
      " 1   Unit              2741 non-null   object        \n",
      " 2   Minimum           2741 non-null   int64         \n",
      " 3   Maximum           2741 non-null   int64         \n",
      " 4   Average           2741 non-null   float64       \n",
      " 5   Market            2741 non-null   object        \n",
      " 6   categoria_tomate  2741 non-null   object        \n",
      "dtypes: datetime64[ns](1), float64(1), int64(2), object(3)\n",
      "memory usage: 150.0+ KB\n"
     ]
    }
   ],
   "source": [
    "df_csv['Date'] = pd.to_datetime(df_csv['Date'])\n",
    "df_csv.info()"
   ]
  },
  {
   "cell_type": "code",
   "execution_count": 34,
   "id": "5d03120d",
   "metadata": {},
   "outputs": [
    {
     "data": {
      "image/png": "[encoded data removed]",
      "text/plain": [
       "<Figure size 432x288 with 1 Axes>"
      ]
     },
     "metadata": {
      "needs_background": "light"
     },
     "output_type": "display_data"
    }
   ],
   "source": [
    "plt.plot(df_csv['Date'],df_csv['Average'])\n",
    "plt.xlabel('Data')\n",
    "plt.ylabel('Média em kg de tomates')\n",
    "plt.title('Média de tomates ao longo do tempo')\n",
    "plt.show()"
   ]
  },
  {
   "cell_type": "code",
   "execution_count": 35,
   "id": "fbe7ac97",
   "metadata": {},
   "outputs": [
    {
     "data": {
      "text/html": [
       "<div>\n",
       "<style scoped>\n",
       "    .dataframe tbody tr th:only-of-type {\n",
       "        vertical-align: middle;\n",
       "    }\n",
       "\n",
       "    .dataframe tbody tr th {\n",
       "        vertical-align: top;\n",
       "    }\n",
       "\n",
       "    .dataframe thead th {\n",
       "        text-align: right;\n",
       "    }\n",
       "</style>\n",
       "<table border=\"1\" class=\"dataframe\">\n",
       "  <thead>\n",
       "    <tr style=\"text-align: right;\">\n",
       "      <th></th>\n",
       "      <th>rated</th>\n",
       "      <th>created_at</th>\n",
       "      <th>last_move_at</th>\n",
       "      <th>turns</th>\n",
       "      <th>victory_status</th>\n",
       "      <th>winner</th>\n",
       "      <th>increment_code</th>\n",
       "      <th>white_id</th>\n",
       "      <th>white_rating</th>\n",
       "      <th>black_id</th>\n",
       "      <th>black_rating</th>\n",
       "      <th>opening_eco</th>\n",
       "      <th>opening_name</th>\n",
       "      <th>opening_ply</th>\n",
       "    </tr>\n",
       "  </thead>\n",
       "  <tbody>\n",
       "    <tr>\n",
       "      <th>0</th>\n",
       "      <td>False</td>\n",
       "      <td>1.504210e+17</td>\n",
       "      <td>1.504210e+17</td>\n",
       "      <td>13</td>\n",
       "      <td>outoftime</td>\n",
       "      <td>white</td>\n",
       "      <td>15+2</td>\n",
       "      <td>bourgris</td>\n",
       "      <td>1500</td>\n",
       "      <td>a-00</td>\n",
       "      <td>1191</td>\n",
       "      <td>D10</td>\n",
       "      <td>Slav Defense: Exchange Variation</td>\n",
       "      <td>5</td>\n",
       "    </tr>\n",
       "    <tr>\n",
       "      <th>1</th>\n",
       "      <td>True</td>\n",
       "      <td>1.504130e+17</td>\n",
       "      <td>1.504130e+17</td>\n",
       "      <td>16</td>\n",
       "      <td>resign</td>\n",
       "      <td>black</td>\n",
       "      <td>5+10</td>\n",
       "      <td>a-00</td>\n",
       "      <td>1322</td>\n",
       "      <td>skinnerua</td>\n",
       "      <td>1261</td>\n",
       "      <td>B00</td>\n",
       "      <td>Nimzowitsch Defense: Kennedy Variation</td>\n",
       "      <td>4</td>\n",
       "    </tr>\n",
       "    <tr>\n",
       "      <th>2</th>\n",
       "      <td>True</td>\n",
       "      <td>1.504130e+17</td>\n",
       "      <td>1.504130e+17</td>\n",
       "      <td>61</td>\n",
       "      <td>mate</td>\n",
       "      <td>white</td>\n",
       "      <td>5+10</td>\n",
       "      <td>ischia</td>\n",
       "      <td>1496</td>\n",
       "      <td>a-00</td>\n",
       "      <td>1500</td>\n",
       "      <td>C20</td>\n",
       "      <td>King's Pawn Game: Leonardis Variation</td>\n",
       "      <td>3</td>\n",
       "    </tr>\n",
       "    <tr>\n",
       "      <th>3</th>\n",
       "      <td>True</td>\n",
       "      <td>1.504110e+17</td>\n",
       "      <td>1.504110e+17</td>\n",
       "      <td>61</td>\n",
       "      <td>mate</td>\n",
       "      <td>white</td>\n",
       "      <td>20+0</td>\n",
       "      <td>daniamurashov</td>\n",
       "      <td>1439</td>\n",
       "      <td>adivanov2009</td>\n",
       "      <td>1454</td>\n",
       "      <td>D02</td>\n",
       "      <td>Queen's Pawn Game: Zukertort Variation</td>\n",
       "      <td>3</td>\n",
       "    </tr>\n",
       "    <tr>\n",
       "      <th>4</th>\n",
       "      <td>True</td>\n",
       "      <td>1.504030e+17</td>\n",
       "      <td>1.504030e+17</td>\n",
       "      <td>95</td>\n",
       "      <td>mate</td>\n",
       "      <td>white</td>\n",
       "      <td>30+3</td>\n",
       "      <td>nik221107</td>\n",
       "      <td>1523</td>\n",
       "      <td>adivanov2009</td>\n",
       "      <td>1469</td>\n",
       "      <td>C41</td>\n",
       "      <td>Philidor Defense</td>\n",
       "      <td>5</td>\n",
       "    </tr>\n",
       "  </tbody>\n",
       "</table>\n",
       "</div>"
      ],
      "text/plain": [
       "   rated    created_at  last_move_at  turns victory_status winner  \\\n",
       "0  False  1.504210e+17  1.504210e+17     13      outoftime  white   \n",
       "1   True  1.504130e+17  1.504130e+17     16         resign  black   \n",
       "2   True  1.504130e+17  1.504130e+17     61           mate  white   \n",
       "3   True  1.504110e+17  1.504110e+17     61           mate  white   \n",
       "4   True  1.504030e+17  1.504030e+17     95           mate  white   \n",
       "\n",
       "  increment_code       white_id  white_rating      black_id  black_rating  \\\n",
       "0           15+2       bourgris          1500          a-00          1191   \n",
       "1           5+10           a-00          1322     skinnerua          1261   \n",
       "2           5+10         ischia          1496          a-00          1500   \n",
       "3           20+0  daniamurashov          1439  adivanov2009          1454   \n",
       "4           30+3      nik221107          1523  adivanov2009          1469   \n",
       "\n",
       "  opening_eco                            opening_name  opening_ply  \n",
       "0         D10        Slav Defense: Exchange Variation            5  \n",
       "1         B00  Nimzowitsch Defense: Kennedy Variation            4  \n",
       "2         C20   King's Pawn Game: Leonardis Variation            3  \n",
       "3         D02  Queen's Pawn Game: Zukertort Variation            3  \n",
       "4         C41                        Philidor Defense            5  "
      ]
     },
     "execution_count": 35,
     "metadata": {},
     "output_type": "execute_result"
    }
   ],
   "source": [
    "df_chess = df_excel\n",
    "df_chess.head()"
   ]
  },
  {
   "cell_type": "code",
   "execution_count": 36,
   "id": "fa41cb95",
   "metadata": {},
   "outputs": [
    {
     "data": {
      "image/png": "[encoded data removed]",
      "text/plain": [
       "<Figure size 432x288 with 1 Axes>"
      ]
     },
     "metadata": {
      "needs_background": "light"
     },
     "output_type": "display_data"
    }
   ],
   "source": [
    "plt.scatter(df_chess['black_rating'],df_chess['white_rating'])\n",
    "plt.xlabel('Black')\n",
    "plt.ylabel('White')\n",
    "plt.title('Partidas de peças pretas x peças brancas')\n",
    "plt.show()"
   ]
  },
  {
   "cell_type": "code",
   "execution_count": 37,
   "id": "80818586",
   "metadata": {},
   "outputs": [
    {
     "data": {
      "image/png": "[encoded data removed]",
      "text/plain": [
       "<Figure size 432x288 with 1 Axes>"
      ]
     },
     "metadata": {
      "needs_background": "light"
     },
     "output_type": "display_data"
    }
   ],
   "source": [
    "plt.bar(df_csv['categoria_tomate'], df_csv['Average'])\n",
    "plt.xlabel('Categoria de tomates')\n",
    "plt.ylabel('Média')\n",
    "plt.title('Média de tomates por categoria')\n",
    "plt.show()"
   ]
  },
  {
   "cell_type": "code",
   "execution_count": 38,
   "id": "76910862",
   "metadata": {},
   "outputs": [
    {
     "data": {
      "image/png": "[encoded data removed]",
      "text/plain": [
       "<Figure size 432x288 with 1 Axes>"
      ]
     },
     "metadata": {},
     "output_type": "display_data"
    }
   ],
   "source": [
    "df_chess.groupby(['victory_status']).mean().plot(kind='pie', y='turns',autopct='%1.0f%%')\n",
    "plt.title('Média de partidas dentre de status de vitória')\n",
    "plt.show()"
   ]
  },
  {
   "cell_type": "markdown",
   "id": "f34aceaf",
   "metadata": {},
   "source": [
    "Explorando Scikit Learn"
   ]
  },
  {
   "cell_type": "code",
   "execution_count": 39,
   "id": "b1f1c9db",
   "metadata": {},
   "outputs": [],
   "source": [
    "df_diabetes = pd.read_csv('data/diabetes.csv', sep=',')"
   ]
  },
  {
   "cell_type": "code",
   "execution_count": 40,
   "id": "353fd888",
   "metadata": {},
   "outputs": [
    {
     "data": {
      "text/html": [
       "<div>\n",
       "<style scoped>\n",
       "    .dataframe tbody tr th:only-of-type {\n",
       "        vertical-align: middle;\n",
       "    }\n",
       "\n",
       "    .dataframe tbody tr th {\n",
       "        vertical-align: top;\n",
       "    }\n",
       "\n",
       "    .dataframe thead th {\n",
       "        text-align: right;\n",
       "    }\n",
       "</style>\n",
       "<table border=\"1\" class=\"dataframe\">\n",
       "  <thead>\n",
       "    <tr style=\"text-align: right;\">\n",
       "      <th></th>\n",
       "      <th>Number of times pregnant</th>\n",
       "      <th>Plasma glucose concentration a 2 hours in an oral glucose tolerance test</th>\n",
       "      <th>Diastolic blood pressure (mm Hg)</th>\n",
       "      <th>Triceps skin fold thickness (mm)</th>\n",
       "      <th>2-Hour serum insulin (mu U/ml)</th>\n",
       "      <th>Body mass index (weight in kg/(height in m)^2)</th>\n",
       "      <th>Diabetes pedigree function</th>\n",
       "      <th>Age (years)</th>\n",
       "      <th>Class variable</th>\n",
       "    </tr>\n",
       "  </thead>\n",
       "  <tbody>\n",
       "    <tr>\n",
       "      <th>0</th>\n",
       "      <td>6</td>\n",
       "      <td>148</td>\n",
       "      <td>72</td>\n",
       "      <td>35</td>\n",
       "      <td>0</td>\n",
       "      <td>33.6</td>\n",
       "      <td>0.627</td>\n",
       "      <td>50</td>\n",
       "      <td>1</td>\n",
       "    </tr>\n",
       "    <tr>\n",
       "      <th>1</th>\n",
       "      <td>1</td>\n",
       "      <td>85</td>\n",
       "      <td>66</td>\n",
       "      <td>29</td>\n",
       "      <td>0</td>\n",
       "      <td>26.6</td>\n",
       "      <td>0.351</td>\n",
       "      <td>31</td>\n",
       "      <td>0</td>\n",
       "    </tr>\n",
       "    <tr>\n",
       "      <th>2</th>\n",
       "      <td>8</td>\n",
       "      <td>183</td>\n",
       "      <td>64</td>\n",
       "      <td>0</td>\n",
       "      <td>0</td>\n",
       "      <td>23.3</td>\n",
       "      <td>0.672</td>\n",
       "      <td>32</td>\n",
       "      <td>1</td>\n",
       "    </tr>\n",
       "    <tr>\n",
       "      <th>3</th>\n",
       "      <td>1</td>\n",
       "      <td>89</td>\n",
       "      <td>66</td>\n",
       "      <td>23</td>\n",
       "      <td>94</td>\n",
       "      <td>28.1</td>\n",
       "      <td>0.167</td>\n",
       "      <td>21</td>\n",
       "      <td>0</td>\n",
       "    </tr>\n",
       "    <tr>\n",
       "      <th>4</th>\n",
       "      <td>0</td>\n",
       "      <td>137</td>\n",
       "      <td>40</td>\n",
       "      <td>35</td>\n",
       "      <td>168</td>\n",
       "      <td>43.1</td>\n",
       "      <td>2.288</td>\n",
       "      <td>33</td>\n",
       "      <td>1</td>\n",
       "    </tr>\n",
       "  </tbody>\n",
       "</table>\n",
       "</div>"
      ],
      "text/plain": [
       "   Number of times pregnant  \\\n",
       "0                         6   \n",
       "1                         1   \n",
       "2                         8   \n",
       "3                         1   \n",
       "4                         0   \n",
       "\n",
       "   Plasma glucose concentration a 2 hours in an oral glucose tolerance test  \\\n",
       "0                                                148                          \n",
       "1                                                 85                          \n",
       "2                                                183                          \n",
       "3                                                 89                          \n",
       "4                                                137                          \n",
       "\n",
       "   Diastolic blood pressure (mm Hg)  Triceps skin fold thickness (mm)  \\\n",
       "0                                72                                35   \n",
       "1                                66                                29   \n",
       "2                                64                                 0   \n",
       "3                                66                                23   \n",
       "4                                40                                35   \n",
       "\n",
       "   2-Hour serum insulin (mu U/ml)  \\\n",
       "0                               0   \n",
       "1                               0   \n",
       "2                               0   \n",
       "3                              94   \n",
       "4                             168   \n",
       "\n",
       "   Body mass index (weight in kg/(height in m)^2)  Diabetes pedigree function  \\\n",
       "0                                            33.6                       0.627   \n",
       "1                                            26.6                       0.351   \n",
       "2                                            23.3                       0.672   \n",
       "3                                            28.1                       0.167   \n",
       "4                                            43.1                       2.288   \n",
       "\n",
       "   Age (years)  Class variable  \n",
       "0           50               1  \n",
       "1           31               0  \n",
       "2           32               1  \n",
       "3           21               0  \n",
       "4           33               1  "
      ]
     },
     "execution_count": 40,
     "metadata": {},
     "output_type": "execute_result"
    }
   ],
   "source": [
    "df_diabetes.head()"
   ]
  },
  {
   "cell_type": "code",
   "execution_count": 41,
   "id": "975f0688",
   "metadata": {},
   "outputs": [],
   "source": [
    "from sklearn.model_selection import train_test_split\n",
    "\n",
    "x = df_diabetes.drop('Class variable', axis = 1)\n",
    "y = df_diabetes['Class variable']"
   ]
  },
  {
   "cell_type": "code",
   "execution_count": 42,
   "id": "7e96a983",
   "metadata": {},
   "outputs": [
    {
     "data": {
      "text/html": [
       "<div>\n",
       "<style scoped>\n",
       "    .dataframe tbody tr th:only-of-type {\n",
       "        vertical-align: middle;\n",
       "    }\n",
       "\n",
       "    .dataframe tbody tr th {\n",
       "        vertical-align: top;\n",
       "    }\n",
       "\n",
       "    .dataframe thead th {\n",
       "        text-align: right;\n",
       "    }\n",
       "</style>\n",
       "<table border=\"1\" class=\"dataframe\">\n",
       "  <thead>\n",
       "    <tr style=\"text-align: right;\">\n",
       "      <th></th>\n",
       "      <th>Number of times pregnant</th>\n",
       "      <th>Plasma glucose concentration a 2 hours in an oral glucose tolerance test</th>\n",
       "      <th>Diastolic blood pressure (mm Hg)</th>\n",
       "      <th>Triceps skin fold thickness (mm)</th>\n",
       "      <th>2-Hour serum insulin (mu U/ml)</th>\n",
       "      <th>Body mass index (weight in kg/(height in m)^2)</th>\n",
       "      <th>Diabetes pedigree function</th>\n",
       "      <th>Age (years)</th>\n",
       "    </tr>\n",
       "  </thead>\n",
       "  <tbody>\n",
       "    <tr>\n",
       "      <th>0</th>\n",
       "      <td>6</td>\n",
       "      <td>148</td>\n",
       "      <td>72</td>\n",
       "      <td>35</td>\n",
       "      <td>0</td>\n",
       "      <td>33.6</td>\n",
       "      <td>0.627</td>\n",
       "      <td>50</td>\n",
       "    </tr>\n",
       "    <tr>\n",
       "      <th>1</th>\n",
       "      <td>1</td>\n",
       "      <td>85</td>\n",
       "      <td>66</td>\n",
       "      <td>29</td>\n",
       "      <td>0</td>\n",
       "      <td>26.6</td>\n",
       "      <td>0.351</td>\n",
       "      <td>31</td>\n",
       "    </tr>\n",
       "    <tr>\n",
       "      <th>2</th>\n",
       "      <td>8</td>\n",
       "      <td>183</td>\n",
       "      <td>64</td>\n",
       "      <td>0</td>\n",
       "      <td>0</td>\n",
       "      <td>23.3</td>\n",
       "      <td>0.672</td>\n",
       "      <td>32</td>\n",
       "    </tr>\n",
       "    <tr>\n",
       "      <th>3</th>\n",
       "      <td>1</td>\n",
       "      <td>89</td>\n",
       "      <td>66</td>\n",
       "      <td>23</td>\n",
       "      <td>94</td>\n",
       "      <td>28.1</td>\n",
       "      <td>0.167</td>\n",
       "      <td>21</td>\n",
       "    </tr>\n",
       "    <tr>\n",
       "      <th>4</th>\n",
       "      <td>0</td>\n",
       "      <td>137</td>\n",
       "      <td>40</td>\n",
       "      <td>35</td>\n",
       "      <td>168</td>\n",
       "      <td>43.1</td>\n",
       "      <td>2.288</td>\n",
       "      <td>33</td>\n",
       "    </tr>\n",
       "    <tr>\n",
       "      <th>...</th>\n",
       "      <td>...</td>\n",
       "      <td>...</td>\n",
       "      <td>...</td>\n",
       "      <td>...</td>\n",
       "      <td>...</td>\n",
       "      <td>...</td>\n",
       "      <td>...</td>\n",
       "      <td>...</td>\n",
       "    </tr>\n",
       "    <tr>\n",
       "      <th>763</th>\n",
       "      <td>10</td>\n",
       "      <td>101</td>\n",
       "      <td>76</td>\n",
       "      <td>48</td>\n",
       "      <td>180</td>\n",
       "      <td>32.9</td>\n",
       "      <td>0.171</td>\n",
       "      <td>63</td>\n",
       "    </tr>\n",
       "    <tr>\n",
       "      <th>764</th>\n",
       "      <td>2</td>\n",
       "      <td>122</td>\n",
       "      <td>70</td>\n",
       "      <td>27</td>\n",
       "      <td>0</td>\n",
       "      <td>36.8</td>\n",
       "      <td>0.340</td>\n",
       "      <td>27</td>\n",
       "    </tr>\n",
       "    <tr>\n",
       "      <th>765</th>\n",
       "      <td>5</td>\n",
       "      <td>121</td>\n",
       "      <td>72</td>\n",
       "      <td>23</td>\n",
       "      <td>112</td>\n",
       "      <td>26.2</td>\n",
       "      <td>0.245</td>\n",
       "      <td>30</td>\n",
       "    </tr>\n",
       "    <tr>\n",
       "      <th>766</th>\n",
       "      <td>1</td>\n",
       "      <td>126</td>\n",
       "      <td>60</td>\n",
       "      <td>0</td>\n",
       "      <td>0</td>\n",
       "      <td>30.1</td>\n",
       "      <td>0.349</td>\n",
       "      <td>47</td>\n",
       "    </tr>\n",
       "    <tr>\n",
       "      <th>767</th>\n",
       "      <td>1</td>\n",
       "      <td>93</td>\n",
       "      <td>70</td>\n",
       "      <td>31</td>\n",
       "      <td>0</td>\n",
       "      <td>30.4</td>\n",
       "      <td>0.315</td>\n",
       "      <td>23</td>\n",
       "    </tr>\n",
       "  </tbody>\n",
       "</table>\n",
       "<p>768 rows × 8 columns</p>\n",
       "</div>"
      ],
      "text/plain": [
       "     Number of times pregnant  \\\n",
       "0                           6   \n",
       "1                           1   \n",
       "2                           8   \n",
       "3                           1   \n",
       "4                           0   \n",
       "..                        ...   \n",
       "763                        10   \n",
       "764                         2   \n",
       "765                         5   \n",
       "766                         1   \n",
       "767                         1   \n",
       "\n",
       "     Plasma glucose concentration a 2 hours in an oral glucose tolerance test  \\\n",
       "0                                                  148                          \n",
       "1                                                   85                          \n",
       "2                                                  183                          \n",
       "3                                                   89                          \n",
       "4                                                  137                          \n",
       "..                                                 ...                          \n",
       "763                                                101                          \n",
       "764                                                122                          \n",
       "765                                                121                          \n",
       "766                                                126                          \n",
       "767                                                 93                          \n",
       "\n",
       "     Diastolic blood pressure (mm Hg)  Triceps skin fold thickness (mm)  \\\n",
       "0                                  72                                35   \n",
       "1                                  66                                29   \n",
       "2                                  64                                 0   \n",
       "3                                  66                                23   \n",
       "4                                  40                                35   \n",
       "..                                ...                               ...   \n",
       "763                                76                                48   \n",
       "764                                70                                27   \n",
       "765                                72                                23   \n",
       "766                                60                                 0   \n",
       "767                                70                                31   \n",
       "\n",
       "     2-Hour serum insulin (mu U/ml)  \\\n",
       "0                                 0   \n",
       "1                                 0   \n",
       "2                                 0   \n",
       "3                                94   \n",
       "4                               168   \n",
       "..                              ...   \n",
       "763                             180   \n",
       "764                               0   \n",
       "765                             112   \n",
       "766                               0   \n",
       "767                               0   \n",
       "\n",
       "     Body mass index (weight in kg/(height in m)^2)  \\\n",
       "0                                              33.6   \n",
       "1                                              26.6   \n",
       "2                                              23.3   \n",
       "3                                              28.1   \n",
       "4                                              43.1   \n",
       "..                                              ...   \n",
       "763                                            32.9   \n",
       "764                                            36.8   \n",
       "765                                            26.2   \n",
       "766                                            30.1   \n",
       "767                                            30.4   \n",
       "\n",
       "     Diabetes pedigree function  Age (years)  \n",
       "0                         0.627           50  \n",
       "1                         0.351           31  \n",
       "2                         0.672           32  \n",
       "3                         0.167           21  \n",
       "4                         2.288           33  \n",
       "..                          ...          ...  \n",
       "763                       0.171           63  \n",
       "764                       0.340           27  \n",
       "765                       0.245           30  \n",
       "766                       0.349           47  \n",
       "767                       0.315           23  \n",
       "\n",
       "[768 rows x 8 columns]"
      ]
     },
     "execution_count": 42,
     "metadata": {},
     "output_type": "execute_result"
    }
   ],
   "source": [
    "x"
   ]
  },
  {
   "cell_type": "code",
   "execution_count": 43,
   "id": "46a9cb13",
   "metadata": {},
   "outputs": [
    {
     "data": {
      "text/plain": [
       "0      1\n",
       "1      0\n",
       "2      1\n",
       "3      0\n",
       "4      1\n",
       "      ..\n",
       "763    0\n",
       "764    0\n",
       "765    0\n",
       "766    1\n",
       "767    0\n",
       "Name: Class variable, Length: 768, dtype: int64"
      ]
     },
     "execution_count": 43,
     "metadata": {},
     "output_type": "execute_result"
    }
   ],
   "source": [
    "y"
   ]
  },
  {
   "cell_type": "code",
   "execution_count": 44,
   "id": "09d587d7",
   "metadata": {},
   "outputs": [],
   "source": [
    "x_train, x_test, y_train, y_test = train_test_split(x, y, test_size = 0.3)"
   ]
  },
  {
   "cell_type": "code",
   "execution_count": 45,
   "id": "8b1317ba",
   "metadata": {},
   "outputs": [
    {
     "data": {
      "text/plain": [
       "537"
      ]
     },
     "execution_count": 45,
     "metadata": {},
     "output_type": "execute_result"
    }
   ],
   "source": [
    "len(x_train)"
   ]
  },
  {
   "cell_type": "code",
   "execution_count": 46,
   "id": "9584988e",
   "metadata": {},
   "outputs": [
    {
     "data": {
      "text/plain": [
       "231"
      ]
     },
     "execution_count": 46,
     "metadata": {},
     "output_type": "execute_result"
    }
   ],
   "source": [
    "len(x_test)"
   ]
  },
  {
   "cell_type": "code",
   "execution_count": 47,
   "id": "c0d2b27f",
   "metadata": {},
   "outputs": [],
   "source": [
    "from sklearn.neighbors import KNeighborsClassifier"
   ]
  },
  {
   "cell_type": "code",
   "execution_count": 48,
   "id": "be653acd",
   "metadata": {},
   "outputs": [],
   "source": [
    "# Algoritmo knn n_neighbors é o parametro que define por exemplo os 3 vizinhos mais próximos do ponto alvo\n",
    "knn = KNeighborsClassifier(n_neighbors=3)"
   ]
  },
  {
   "cell_type": "code",
   "execution_count": 49,
   "id": "9ee6d88b",
   "metadata": {},
   "outputs": [
    {
     "data": {
      "text/html": [
       "<style>#sk-container-id-1 {color: black;background-color: white;}#sk-container-id-1 pre{padding: 0;}#sk-container-id-1 div.sk-toggleable {background-color: white;}#sk-container-id-1 label.sk-toggleable__label {cursor: pointer;display: block;width: 100%;margin-bottom: 0;padding: 0.3em;box-sizing: border-box;text-align: center;}#sk-container-id-1 label.sk-toggleable__label-arrow:before {content: \"▸\";float: left;margin-right: 0.25em;color: #696969;}#sk-container-id-1 label.sk-toggleable__label-arrow:hover:before {color: black;}#sk-container-id-1 div.sk-estimator:hover label.sk-toggleable__label-arrow:before {color: black;}#sk-container-id-1 div.sk-toggleable__content {max-height: 0;max-width: 0;overflow: hidden;text-align: left;background-color: #f0f8ff;}#sk-container-id-1 div.sk-toggleable__content pre {margin: 0.2em;color: black;border-radius: 0.25em;background-color: #f0f8ff;}#sk-container-id-1 input.sk-toggleable__control:checked~div.sk-toggleable__content {max-height: 200px;max-width: 100%;overflow: auto;}#sk-container-id-1 input.sk-toggleable__control:checked~label.sk-toggleable__label-arrow:before {content: \"▾\";}#sk-container-id-1 div.sk-estimator input.sk-toggleable__control:checked~label.sk-toggleable__label {background-color: #d4ebff;}#sk-container-id-1 div.sk-label input.sk-toggleable__control:checked~label.sk-toggleable__label {background-color: #d4ebff;}#sk-container-id-1 input.sk-hidden--visually {border: 0;clip: rect(1px 1px 1px 1px);clip: rect(1px, 1px, 1px, 1px);height: 1px;margin: -1px;overflow: hidden;padding: 0;position: absolute;width: 1px;}#sk-container-id-1 div.sk-estimator {font-family: monospace;background-color: #f0f8ff;border: 1px dotted black;border-radius: 0.25em;box-sizing: border-box;margin-bottom: 0.5em;}#sk-container-id-1 div.sk-estimator:hover {background-color: #d4ebff;}#sk-container-id-1 div.sk-parallel-item::after {content: \"\";width: 100%;border-bottom: 1px solid gray;flex-grow: 1;}#sk-container-id-1 div.sk-label:hover label.sk-toggleable__label {background-color: #d4ebff;}#sk-container-id-1 div.sk-serial::before {content: \"\";position: absolute;border-left: 1px solid gray;box-sizing: border-box;top: 0;bottom: 0;left: 50%;z-index: 0;}#sk-container-id-1 div.sk-serial {display: flex;flex-direction: column;align-items: center;background-color: white;padding-right: 0.2em;padding-left: 0.2em;position: relative;}#sk-container-id-1 div.sk-item {position: relative;z-index: 1;}#sk-container-id-1 div.sk-parallel {display: flex;align-items: stretch;justify-content: center;background-color: white;position: relative;}#sk-container-id-1 div.sk-item::before, #sk-container-id-1 div.sk-parallel-item::before {content: \"\";position: absolute;border-left: 1px solid gray;box-sizing: border-box;top: 0;bottom: 0;left: 50%;z-index: -1;}#sk-container-id-1 div.sk-parallel-item {display: flex;flex-direction: column;z-index: 1;position: relative;background-color: white;}#sk-container-id-1 div.sk-parallel-item:first-child::after {align-self: flex-end;width: 50%;}#sk-container-id-1 div.sk-parallel-item:last-child::after {align-self: flex-start;width: 50%;}#sk-container-id-1 div.sk-parallel-item:only-child::after {width: 0;}#sk-container-id-1 div.sk-dashed-wrapped {border: 1px dashed gray;margin: 0 0.4em 0.5em 0.4em;box-sizing: border-box;padding-bottom: 0.4em;background-color: white;}#sk-container-id-1 div.sk-label label {font-family: monospace;font-weight: bold;display: inline-block;line-height: 1.2em;}#sk-container-id-1 div.sk-label-container {text-align: center;}#sk-container-id-1 div.sk-container {/* jupyter's `normalize.less` sets `[hidden] { display: none; }` but bootstrap.min.css set `[hidden] { display: none !important; }` so we also need the `!important` here to be able to override the default hidden behavior on the sphinx rendered scikit-learn.org. See: https://github.com/scikit-learn/scikit-learn/issues/21755 */display: inline-block !important;position: relative;}#sk-container-id-1 div.sk-text-repr-fallback {display: none;}</style><div id=\"sk-container-id-1\" class=\"sk-top-container\"><div class=\"sk-text-repr-fallback\"><pre>KNeighborsClassifier(n_neighbors=3)</pre><b>In a Jupyter environment, please rerun this cell to show the HTML representation or trust the notebook. <br />On GitHub, the HTML representation is unable to render, please try loading this page with nbviewer.org.</b></div><div class=\"sk-container\" hidden><div class=\"sk-item\"><div class=\"sk-estimator sk-toggleable\"><input class=\"sk-toggleable__control sk-hidden--visually\" id=\"sk-estimator-id-1\" type=\"checkbox\" checked><label for=\"sk-estimator-id-1\" class=\"sk-toggleable__label sk-toggleable__label-arrow\">KNeighborsClassifier</label><div class=\"sk-toggleable__content\"><pre>KNeighborsClassifier(n_neighbors=3)</pre></div></div></div></div></div>"
      ],
      "text/plain": [
       "KNeighborsClassifier(n_neighbors=3)"
      ]
     },
     "execution_count": 49,
     "metadata": {},
     "output_type": "execute_result"
    }
   ],
   "source": [
    "# Treinar o algoritmo\n",
    "knn.fit(x_train,y_train)"
   ]
  },
  {
   "cell_type": "code",
   "execution_count": 50,
   "id": "21ae367e",
   "metadata": {},
   "outputs": [],
   "source": [
    "accuracy = knn.score(x_test, y_test)"
   ]
  },
  {
   "cell_type": "code",
   "execution_count": 51,
   "id": "2cb0f314",
   "metadata": {},
   "outputs": [
    {
     "data": {
      "text/plain": [
       "0.6666666666666666"
      ]
     },
     "execution_count": 51,
     "metadata": {},
     "output_type": "execute_result"
    }
   ],
   "source": [
    "accuracy"
   ]
  }
 ],
 "metadata": {
  "kernelspec": {
   "display_name": "Python 3 (ipykernel)",
   "language": "python",
   "name": "python3"
  },
  "language_info": {
   "codemirror_mode": {
    "name": "ipython",
    "version": 3
   },
   "file_extension": ".py",
   "mimetype": "text/x-python",
   "name": "python",
   "nbconvert_exporter": "python",
   "pygments_lexer": "ipython3",
   "version": "3.9.12"
  }
 },
 "nbformat": 4,
 "nbformat_minor": 5
}
