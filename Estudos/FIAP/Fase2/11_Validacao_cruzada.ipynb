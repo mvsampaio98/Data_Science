{
 "cells": [
  {
   "cell_type": "code",
   "execution_count": 1,
   "id": "df45c585",
   "metadata": {},
   "outputs": [],
   "source": [
    "from sklearn.datasets import fetch_openml\n",
    "import pandas as pd\n",
    "import matplotlib.pyplot as plt\n",
    "import seaborn as sns\n",
    "import numpy as np\n",
    "\n",
    "from sklearn.model_selection import train_test_split\n",
    "from sklearn.neighbors import KNeighborsClassifier\n",
    "from sklearn.metrics import confusion_matrix\n",
    "from sklearn.metrics import classification_report, cohen_kappa_score\n",
    "from sklearn.preprocessing import StandardScaler, MinMaxScaler"
   ]
  },
  {
   "cell_type": "code",
   "execution_count": 2,
   "id": "8a06c65e",
   "metadata": {},
   "outputs": [],
   "source": [
    "dados = fetch_openml(data_id=1523)"
   ]
  },
  {
   "cell_type": "code",
   "execution_count": 3,
   "id": "fdf7b193",
   "metadata": {
    "scrolled": true
   },
   "outputs": [
    {
     "data": {
      "text/plain": [
       "{'data':             V1         V2         V3         V4          V5         V6\n",
       " 0    63.027818  22.552586  39.609117  40.475232   98.672917  -0.254400\n",
       " 1    39.056951  10.060991  25.015378  28.995960  114.405425   4.564259\n",
       " 2    68.832021  22.218482  50.092194  46.613539  105.985136  -3.530317\n",
       " 3    69.297008  24.652878  44.311238  44.644130  101.868495  11.211523\n",
       " 4    49.712859   9.652075  28.317406  40.060784  108.168725   7.918501\n",
       " ..         ...        ...        ...        ...         ...        ...\n",
       " 305  47.903565  13.616688  36.000000  34.286877  117.449062  -4.245395\n",
       " 306  53.936748  20.721496  29.220534  33.215251  114.365845  -0.421010\n",
       " 307  61.446597  22.694968  46.170347  38.751628  125.670725  -2.707880\n",
       " 308  45.252792   8.693157  41.583126  36.559635  118.545842   0.214750\n",
       " 309  33.841641   5.073991  36.641233  28.767649  123.945244  -0.199249\n",
       " \n",
       " [310 rows x 6 columns],\n",
       " 'target': 0      1\n",
       " 1      1\n",
       " 2      1\n",
       " 3      1\n",
       " 4      1\n",
       "       ..\n",
       " 305    2\n",
       " 306    2\n",
       " 307    2\n",
       " 308    2\n",
       " 309    2\n",
       " Name: Class, Length: 310, dtype: category\n",
       " Categories (3, object): ['1', '2', '3'],\n",
       " 'frame':             V1         V2         V3         V4          V5         V6 Class\n",
       " 0    63.027818  22.552586  39.609117  40.475232   98.672917  -0.254400     1\n",
       " 1    39.056951  10.060991  25.015378  28.995960  114.405425   4.564259     1\n",
       " 2    68.832021  22.218482  50.092194  46.613539  105.985136  -3.530317     1\n",
       " 3    69.297008  24.652878  44.311238  44.644130  101.868495  11.211523     1\n",
       " 4    49.712859   9.652075  28.317406  40.060784  108.168725   7.918501     1\n",
       " ..         ...        ...        ...        ...         ...        ...   ...\n",
       " 305  47.903565  13.616688  36.000000  34.286877  117.449062  -4.245395     2\n",
       " 306  53.936748  20.721496  29.220534  33.215251  114.365845  -0.421010     2\n",
       " 307  61.446597  22.694968  46.170347  38.751628  125.670725  -2.707880     2\n",
       " 308  45.252792   8.693157  41.583126  36.559635  118.545842   0.214750     2\n",
       " 309  33.841641   5.073991  36.641233  28.767649  123.945244  -0.199249     2\n",
       " \n",
       " [310 rows x 7 columns],\n",
       " 'categories': None,\n",
       " 'feature_names': ['V1', 'V2', 'V3', 'V4', 'V5', 'V6'],\n",
       " 'target_names': ['Class'],\n",
       " 'DESCR': \"**Author**: Guilherme de Alencar Barreto, Ajalmar R. da Rocha Neto, Henrique Antonio Fonseca da Mota Filho       \\n**Source**: UCI  \\n**Please cite**:   \\n\\n* Dataset Title: Vertebra Column - 3 classes\\n\\n* Abstract:   \\nData set containing values for six biomechanical features used to classify orthopaedic patients into 3 classes (normal, disk hernia or spondilolysthesis) or 2 classes (normal or abnormal).\\n\\n* Source:\\n\\nGuilherme de Alencar Barreto (guilherme '@' deti.ufc.br) & Ajalmar R. da Rocha Neto (ajalmar '@' ifce.edu.br), Department of Teleinformatics Engineering, Federal University of Ceará, Fortaleza, Ceará, Brazil. \\n\\nHenrique Antonio Fonseca da Mota Filho (hdamota '@' gmail.com), Hospital Monte Klinikum, Fortaleza, Ceará, Brazil.\\n\\n\\nData Set Information:\\n\\nBiomedical data set built by Dr. Henrique da Mota during a medical residence period in the Group of Applied Research in Orthopaedics (GARO) of the Centre Médico-Chirurgical de Réadaptation des Massues, Lyon, France. The data have been organized in two different but related classification tasks. The first task consists in classifying patients as belonging to one out of three categories: Normal (100 patients), Disk Hernia (60 patients) or Spondylolisthesis (150 patients). For the second task, the categories Disk Hernia and Spondylolisthesis were merged into a single category labelled as 'abnormal'. Thus, the second task consists in classifying patients as belonging to one out of two categories: Normal (100 patients) or Abnormal (210 patients). We provide files also for use within the WEKA environment.\\n\\n\\nAttribute Information:\\n\\nEach patient is represented in the data set by six biomechanical attributes derived from the shape and orientation of the pelvis and lumbar spine (in this order): pelvic incidence, pelvic tilt, lumbar lordosis angle, sacral slope, pelvic radius and grade of spondylolisthesis. The following convention is used for the class labels: DH (Disk Hernia), Spondylolisthesis (SL), Normal (NO) and Abnormal (AB).\\n\\n\\n* Relevant Papers:\\n\\n(1) Berthonnaud, E., Dimnet, J., Roussouly, P. & Labelle, H. (2005). 'Analysis of the sagittal balance of the spine and pelvis using shape and orientation parameters', Journal of Spinal Disorders & Techniques, 18(1):40â€“47. \\n\\n(2) Rocha Neto, A. R. & Barreto, G. A. (2009). 'On the Application of Ensembles of Classifiers to the Diagnosis of Pathologies of the Vertebral Column: A Comparative Analysis', IEEE Latin America Transactions, 7(4):487-496. \\n\\n(3) Rocha Neto, A. R., Sousa, R., Barreto, G. A. & Cardoso, J. S. (2011). 'Diagnostic of Pathology on the Vertebral Column with Embedded Reject Optionâ€\\x9d, Proceedings of the 5th Iberian Conference on Pattern Recognition and Image Analysis (IbPRIA'2011), Gran Canaria, Spain, Lecture Notes on Computer Science, vol. 6669, p. 588-595.\\n\\nDownloaded from openml.org.\",\n",
       " 'details': {'id': '1523',\n",
       "  'name': 'vertebra-column',\n",
       "  'version': '1',\n",
       "  'description_version': '1',\n",
       "  'format': 'ARFF',\n",
       "  'upload_date': '2015-06-01T17:34:00',\n",
       "  'licence': 'Public',\n",
       "  'url': 'https://api.openml.org/data/v1/download/1593719/vertebra-column.arff',\n",
       "  'parquet_url': 'https://openml1.win.tue.nl/datasets/0000/1523/dataset_1523.pq',\n",
       "  'file_id': '1593719',\n",
       "  'default_target_attribute': 'Class',\n",
       "  'tag': ['Chemistry',\n",
       "   'Life Science',\n",
       "   'mf_less_than_80',\n",
       "   'study_123',\n",
       "   'study_127',\n",
       "   'study_50',\n",
       "   'study_52',\n",
       "   'study_7',\n",
       "   'study_88'],\n",
       "  'visibility': 'public',\n",
       "  'minio_url': 'https://openml1.win.tue.nl/datasets/0000/1523/dataset_1523.pq',\n",
       "  'status': 'active',\n",
       "  'processing_date': '2018-10-03 21:39:57',\n",
       "  'md5_checksum': '78913b1453c43b7b9e0623b0d295b1cb'},\n",
       " 'url': 'https://www.openml.org/d/1523'}"
      ]
     },
     "execution_count": 3,
     "metadata": {},
     "output_type": "execute_result"
    }
   ],
   "source": [
    "dados"
   ]
  },
  {
   "cell_type": "code",
   "execution_count": 4,
   "id": "d8d3a8c9",
   "metadata": {},
   "outputs": [],
   "source": [
    "tabela_dados = pd.DataFrame(data=dados['data'])"
   ]
  },
  {
   "cell_type": "code",
   "execution_count": 5,
   "id": "616c1968",
   "metadata": {},
   "outputs": [
    {
     "data": {
      "text/html": [
       "<div>\n",
       "<style scoped>\n",
       "    .dataframe tbody tr th:only-of-type {\n",
       "        vertical-align: middle;\n",
       "    }\n",
       "\n",
       "    .dataframe tbody tr th {\n",
       "        vertical-align: top;\n",
       "    }\n",
       "\n",
       "    .dataframe thead th {\n",
       "        text-align: right;\n",
       "    }\n",
       "</style>\n",
       "<table border=\"1\" class=\"dataframe\">\n",
       "  <thead>\n",
       "    <tr style=\"text-align: right;\">\n",
       "      <th></th>\n",
       "      <th>V1</th>\n",
       "      <th>V2</th>\n",
       "      <th>V3</th>\n",
       "      <th>V4</th>\n",
       "      <th>V5</th>\n",
       "      <th>V6</th>\n",
       "    </tr>\n",
       "  </thead>\n",
       "  <tbody>\n",
       "    <tr>\n",
       "      <th>0</th>\n",
       "      <td>63.027818</td>\n",
       "      <td>22.552586</td>\n",
       "      <td>39.609117</td>\n",
       "      <td>40.475232</td>\n",
       "      <td>98.672917</td>\n",
       "      <td>-0.254400</td>\n",
       "    </tr>\n",
       "    <tr>\n",
       "      <th>1</th>\n",
       "      <td>39.056951</td>\n",
       "      <td>10.060991</td>\n",
       "      <td>25.015378</td>\n",
       "      <td>28.995960</td>\n",
       "      <td>114.405425</td>\n",
       "      <td>4.564259</td>\n",
       "    </tr>\n",
       "    <tr>\n",
       "      <th>2</th>\n",
       "      <td>68.832021</td>\n",
       "      <td>22.218482</td>\n",
       "      <td>50.092194</td>\n",
       "      <td>46.613539</td>\n",
       "      <td>105.985136</td>\n",
       "      <td>-3.530317</td>\n",
       "    </tr>\n",
       "    <tr>\n",
       "      <th>3</th>\n",
       "      <td>69.297008</td>\n",
       "      <td>24.652878</td>\n",
       "      <td>44.311238</td>\n",
       "      <td>44.644130</td>\n",
       "      <td>101.868495</td>\n",
       "      <td>11.211523</td>\n",
       "    </tr>\n",
       "    <tr>\n",
       "      <th>4</th>\n",
       "      <td>49.712859</td>\n",
       "      <td>9.652075</td>\n",
       "      <td>28.317406</td>\n",
       "      <td>40.060784</td>\n",
       "      <td>108.168725</td>\n",
       "      <td>7.918501</td>\n",
       "    </tr>\n",
       "  </tbody>\n",
       "</table>\n",
       "</div>"
      ],
      "text/plain": [
       "          V1         V2         V3         V4          V5         V6\n",
       "0  63.027818  22.552586  39.609117  40.475232   98.672917  -0.254400\n",
       "1  39.056951  10.060991  25.015378  28.995960  114.405425   4.564259\n",
       "2  68.832021  22.218482  50.092194  46.613539  105.985136  -3.530317\n",
       "3  69.297008  24.652878  44.311238  44.644130  101.868495  11.211523\n",
       "4  49.712859   9.652075  28.317406  40.060784  108.168725   7.918501"
      ]
     },
     "execution_count": 5,
     "metadata": {},
     "output_type": "execute_result"
    }
   ],
   "source": [
    "tabela_dados.head()"
   ]
  },
  {
   "cell_type": "code",
   "execution_count": 6,
   "id": "20c02b6c",
   "metadata": {},
   "outputs": [],
   "source": [
    "classes = {'1': 'Disk Hernia', '2': 'Normal', '3': 'Spondylolisthesis'}"
   ]
  },
  {
   "cell_type": "code",
   "execution_count": 7,
   "id": "8b95734c",
   "metadata": {},
   "outputs": [],
   "source": [
    "tabela_dados['diagnostic'] = [classes[target] for target in dados.target]"
   ]
  },
  {
   "cell_type": "code",
   "execution_count": 8,
   "id": "8b5bcb90",
   "metadata": {},
   "outputs": [
    {
     "data": {
      "text/html": [
       "<div>\n",
       "<style scoped>\n",
       "    .dataframe tbody tr th:only-of-type {\n",
       "        vertical-align: middle;\n",
       "    }\n",
       "\n",
       "    .dataframe tbody tr th {\n",
       "        vertical-align: top;\n",
       "    }\n",
       "\n",
       "    .dataframe thead th {\n",
       "        text-align: right;\n",
       "    }\n",
       "</style>\n",
       "<table border=\"1\" class=\"dataframe\">\n",
       "  <thead>\n",
       "    <tr style=\"text-align: right;\">\n",
       "      <th></th>\n",
       "      <th>V1</th>\n",
       "      <th>V2</th>\n",
       "      <th>V3</th>\n",
       "      <th>V4</th>\n",
       "      <th>V5</th>\n",
       "      <th>V6</th>\n",
       "      <th>diagnostic</th>\n",
       "    </tr>\n",
       "  </thead>\n",
       "  <tbody>\n",
       "    <tr>\n",
       "      <th>0</th>\n",
       "      <td>63.027818</td>\n",
       "      <td>22.552586</td>\n",
       "      <td>39.609117</td>\n",
       "      <td>40.475232</td>\n",
       "      <td>98.672917</td>\n",
       "      <td>-0.254400</td>\n",
       "      <td>Disk Hernia</td>\n",
       "    </tr>\n",
       "    <tr>\n",
       "      <th>1</th>\n",
       "      <td>39.056951</td>\n",
       "      <td>10.060991</td>\n",
       "      <td>25.015378</td>\n",
       "      <td>28.995960</td>\n",
       "      <td>114.405425</td>\n",
       "      <td>4.564259</td>\n",
       "      <td>Disk Hernia</td>\n",
       "    </tr>\n",
       "    <tr>\n",
       "      <th>2</th>\n",
       "      <td>68.832021</td>\n",
       "      <td>22.218482</td>\n",
       "      <td>50.092194</td>\n",
       "      <td>46.613539</td>\n",
       "      <td>105.985136</td>\n",
       "      <td>-3.530317</td>\n",
       "      <td>Disk Hernia</td>\n",
       "    </tr>\n",
       "    <tr>\n",
       "      <th>3</th>\n",
       "      <td>69.297008</td>\n",
       "      <td>24.652878</td>\n",
       "      <td>44.311238</td>\n",
       "      <td>44.644130</td>\n",
       "      <td>101.868495</td>\n",
       "      <td>11.211523</td>\n",
       "      <td>Disk Hernia</td>\n",
       "    </tr>\n",
       "    <tr>\n",
       "      <th>4</th>\n",
       "      <td>49.712859</td>\n",
       "      <td>9.652075</td>\n",
       "      <td>28.317406</td>\n",
       "      <td>40.060784</td>\n",
       "      <td>108.168725</td>\n",
       "      <td>7.918501</td>\n",
       "      <td>Disk Hernia</td>\n",
       "    </tr>\n",
       "  </tbody>\n",
       "</table>\n",
       "</div>"
      ],
      "text/plain": [
       "          V1         V2         V3         V4          V5         V6  \\\n",
       "0  63.027818  22.552586  39.609117  40.475232   98.672917  -0.254400   \n",
       "1  39.056951  10.060991  25.015378  28.995960  114.405425   4.564259   \n",
       "2  68.832021  22.218482  50.092194  46.613539  105.985136  -3.530317   \n",
       "3  69.297008  24.652878  44.311238  44.644130  101.868495  11.211523   \n",
       "4  49.712859   9.652075  28.317406  40.060784  108.168725   7.918501   \n",
       "\n",
       "    diagnostic  \n",
       "0  Disk Hernia  \n",
       "1  Disk Hernia  \n",
       "2  Disk Hernia  \n",
       "3  Disk Hernia  \n",
       "4  Disk Hernia  "
      ]
     },
     "execution_count": 8,
     "metadata": {},
     "output_type": "execute_result"
    }
   ],
   "source": [
    "tabela_dados.head()"
   ]
  },
  {
   "cell_type": "code",
   "execution_count": 9,
   "id": "3c84b72f",
   "metadata": {},
   "outputs": [
    {
     "name": "stdout",
     "output_type": "stream",
     "text": [
      "<class 'pandas.core.frame.DataFrame'>\n",
      "RangeIndex: 310 entries, 0 to 309\n",
      "Data columns (total 7 columns):\n",
      " #   Column      Non-Null Count  Dtype  \n",
      "---  ------      --------------  -----  \n",
      " 0   V1          310 non-null    float64\n",
      " 1   V2          310 non-null    float64\n",
      " 2   V3          310 non-null    float64\n",
      " 3   V4          310 non-null    float64\n",
      " 4   V5          310 non-null    float64\n",
      " 5   V6          310 non-null    float64\n",
      " 6   diagnostic  310 non-null    object \n",
      "dtypes: float64(6), object(1)\n",
      "memory usage: 17.1+ KB\n"
     ]
    }
   ],
   "source": [
    "tabela_dados.info()"
   ]
  },
  {
   "cell_type": "code",
   "execution_count": 10,
   "id": "5bb1932d",
   "metadata": {},
   "outputs": [
    {
     "data": {
      "text/html": [
       "<div>\n",
       "<style scoped>\n",
       "    .dataframe tbody tr th:only-of-type {\n",
       "        vertical-align: middle;\n",
       "    }\n",
       "\n",
       "    .dataframe tbody tr th {\n",
       "        vertical-align: top;\n",
       "    }\n",
       "\n",
       "    .dataframe thead th {\n",
       "        text-align: right;\n",
       "    }\n",
       "</style>\n",
       "<table border=\"1\" class=\"dataframe\">\n",
       "  <thead>\n",
       "    <tr style=\"text-align: right;\">\n",
       "      <th></th>\n",
       "      <th>V1</th>\n",
       "      <th>V2</th>\n",
       "      <th>V3</th>\n",
       "      <th>V4</th>\n",
       "      <th>V5</th>\n",
       "      <th>V6</th>\n",
       "    </tr>\n",
       "    <tr>\n",
       "      <th>diagnostic</th>\n",
       "      <th></th>\n",
       "      <th></th>\n",
       "      <th></th>\n",
       "      <th></th>\n",
       "      <th></th>\n",
       "      <th></th>\n",
       "    </tr>\n",
       "  </thead>\n",
       "  <tbody>\n",
       "    <tr>\n",
       "      <th>Disk Hernia</th>\n",
       "      <td>47.638407</td>\n",
       "      <td>17.398795</td>\n",
       "      <td>35.463524</td>\n",
       "      <td>30.239612</td>\n",
       "      <td>116.474968</td>\n",
       "      <td>2.480251</td>\n",
       "    </tr>\n",
       "    <tr>\n",
       "      <th>Normal</th>\n",
       "      <td>51.685244</td>\n",
       "      <td>12.821414</td>\n",
       "      <td>43.542605</td>\n",
       "      <td>38.863830</td>\n",
       "      <td>123.890834</td>\n",
       "      <td>2.186572</td>\n",
       "    </tr>\n",
       "    <tr>\n",
       "      <th>Spondylolisthesis</th>\n",
       "      <td>71.514224</td>\n",
       "      <td>20.748038</td>\n",
       "      <td>64.110108</td>\n",
       "      <td>50.766186</td>\n",
       "      <td>114.518810</td>\n",
       "      <td>51.896687</td>\n",
       "    </tr>\n",
       "  </tbody>\n",
       "</table>\n",
       "</div>"
      ],
      "text/plain": [
       "                          V1         V2         V3         V4          V5  \\\n",
       "diagnostic                                                                  \n",
       "Disk Hernia        47.638407  17.398795  35.463524  30.239612  116.474968   \n",
       "Normal             51.685244  12.821414  43.542605  38.863830  123.890834   \n",
       "Spondylolisthesis  71.514224  20.748038  64.110108  50.766186  114.518810   \n",
       "\n",
       "                          V6  \n",
       "diagnostic                    \n",
       "Disk Hernia         2.480251  \n",
       "Normal              2.186572  \n",
       "Spondylolisthesis  51.896687  "
      ]
     },
     "execution_count": 10,
     "metadata": {},
     "output_type": "execute_result"
    }
   ],
   "source": [
    "# Media dos dados\n",
    "tabela_dados.groupby('diagnostic').mean()"
   ]
  },
  {
   "cell_type": "code",
   "execution_count": 11,
   "id": "99dc4490",
   "metadata": {},
   "outputs": [
    {
     "data": {
      "text/html": [
       "<div>\n",
       "<style scoped>\n",
       "    .dataframe tbody tr th:only-of-type {\n",
       "        vertical-align: middle;\n",
       "    }\n",
       "\n",
       "    .dataframe tbody tr th {\n",
       "        vertical-align: top;\n",
       "    }\n",
       "\n",
       "    .dataframe thead tr th {\n",
       "        text-align: left;\n",
       "    }\n",
       "\n",
       "    .dataframe thead tr:last-of-type th {\n",
       "        text-align: right;\n",
       "    }\n",
       "</style>\n",
       "<table border=\"1\" class=\"dataframe\">\n",
       "  <thead>\n",
       "    <tr>\n",
       "      <th></th>\n",
       "      <th colspan=\"8\" halign=\"left\">V1</th>\n",
       "      <th colspan=\"2\" halign=\"left\">V2</th>\n",
       "      <th>...</th>\n",
       "      <th colspan=\"2\" halign=\"left\">V5</th>\n",
       "      <th colspan=\"8\" halign=\"left\">V6</th>\n",
       "    </tr>\n",
       "    <tr>\n",
       "      <th></th>\n",
       "      <th>count</th>\n",
       "      <th>mean</th>\n",
       "      <th>std</th>\n",
       "      <th>min</th>\n",
       "      <th>25%</th>\n",
       "      <th>50%</th>\n",
       "      <th>75%</th>\n",
       "      <th>max</th>\n",
       "      <th>count</th>\n",
       "      <th>mean</th>\n",
       "      <th>...</th>\n",
       "      <th>75%</th>\n",
       "      <th>max</th>\n",
       "      <th>count</th>\n",
       "      <th>mean</th>\n",
       "      <th>std</th>\n",
       "      <th>min</th>\n",
       "      <th>25%</th>\n",
       "      <th>50%</th>\n",
       "      <th>75%</th>\n",
       "      <th>max</th>\n",
       "    </tr>\n",
       "    <tr>\n",
       "      <th>diagnostic</th>\n",
       "      <th></th>\n",
       "      <th></th>\n",
       "      <th></th>\n",
       "      <th></th>\n",
       "      <th></th>\n",
       "      <th></th>\n",
       "      <th></th>\n",
       "      <th></th>\n",
       "      <th></th>\n",
       "      <th></th>\n",
       "      <th></th>\n",
       "      <th></th>\n",
       "      <th></th>\n",
       "      <th></th>\n",
       "      <th></th>\n",
       "      <th></th>\n",
       "      <th></th>\n",
       "      <th></th>\n",
       "      <th></th>\n",
       "      <th></th>\n",
       "      <th></th>\n",
       "    </tr>\n",
       "  </thead>\n",
       "  <tbody>\n",
       "    <tr>\n",
       "      <th>Disk Hernia</th>\n",
       "      <td>60.0</td>\n",
       "      <td>47.638407</td>\n",
       "      <td>10.697131</td>\n",
       "      <td>26.147921</td>\n",
       "      <td>41.018099</td>\n",
       "      <td>46.416169</td>\n",
       "      <td>53.922329</td>\n",
       "      <td>74.433593</td>\n",
       "      <td>60.0</td>\n",
       "      <td>17.398795</td>\n",
       "      <td>...</td>\n",
       "      <td>122.042999</td>\n",
       "      <td>137.540613</td>\n",
       "      <td>60.0</td>\n",
       "      <td>2.480251</td>\n",
       "      <td>5.531177</td>\n",
       "      <td>-10.675871</td>\n",
       "      <td>-0.910818</td>\n",
       "      <td>2.542441</td>\n",
       "      <td>6.059666</td>\n",
       "      <td>15.779697</td>\n",
       "    </tr>\n",
       "    <tr>\n",
       "      <th>Normal</th>\n",
       "      <td>100.0</td>\n",
       "      <td>51.685244</td>\n",
       "      <td>12.368161</td>\n",
       "      <td>30.741938</td>\n",
       "      <td>42.817849</td>\n",
       "      <td>50.123115</td>\n",
       "      <td>61.470097</td>\n",
       "      <td>89.834676</td>\n",
       "      <td>100.0</td>\n",
       "      <td>12.821414</td>\n",
       "      <td>...</td>\n",
       "      <td>129.040402</td>\n",
       "      <td>147.894637</td>\n",
       "      <td>100.0</td>\n",
       "      <td>2.186572</td>\n",
       "      <td>6.307483</td>\n",
       "      <td>-11.058179</td>\n",
       "      <td>-1.511360</td>\n",
       "      <td>1.152710</td>\n",
       "      <td>4.968807</td>\n",
       "      <td>31.172767</td>\n",
       "    </tr>\n",
       "    <tr>\n",
       "      <th>Spondylolisthesis</th>\n",
       "      <td>150.0</td>\n",
       "      <td>71.514224</td>\n",
       "      <td>15.109337</td>\n",
       "      <td>37.903910</td>\n",
       "      <td>60.658136</td>\n",
       "      <td>72.149306</td>\n",
       "      <td>81.075893</td>\n",
       "      <td>129.834041</td>\n",
       "      <td>150.0</td>\n",
       "      <td>20.748038</td>\n",
       "      <td>...</td>\n",
       "      <td>123.337307</td>\n",
       "      <td>163.071041</td>\n",
       "      <td>150.0</td>\n",
       "      <td>51.896687</td>\n",
       "      <td>40.108030</td>\n",
       "      <td>1.010041</td>\n",
       "      <td>30.393271</td>\n",
       "      <td>42.372509</td>\n",
       "      <td>61.894425</td>\n",
       "      <td>418.543082</td>\n",
       "    </tr>\n",
       "  </tbody>\n",
       "</table>\n",
       "<p>3 rows × 48 columns</p>\n",
       "</div>"
      ],
      "text/plain": [
       "                      V1                                              \\\n",
       "                   count       mean        std        min        25%   \n",
       "diagnostic                                                             \n",
       "Disk Hernia         60.0  47.638407  10.697131  26.147921  41.018099   \n",
       "Normal             100.0  51.685244  12.368161  30.741938  42.817849   \n",
       "Spondylolisthesis  150.0  71.514224  15.109337  37.903910  60.658136   \n",
       "\n",
       "                                                        V2             ...  \\\n",
       "                         50%        75%         max  count       mean  ...   \n",
       "diagnostic                                                             ...   \n",
       "Disk Hernia        46.416169  53.922329   74.433593   60.0  17.398795  ...   \n",
       "Normal             50.123115  61.470097   89.834676  100.0  12.821414  ...   \n",
       "Spondylolisthesis  72.149306  81.075893  129.834041  150.0  20.748038  ...   \n",
       "\n",
       "                           V5                 V6                        \\\n",
       "                          75%         max  count       mean        std   \n",
       "diagnostic                                                               \n",
       "Disk Hernia        122.042999  137.540613   60.0   2.480251   5.531177   \n",
       "Normal             129.040402  147.894637  100.0   2.186572   6.307483   \n",
       "Spondylolisthesis  123.337307  163.071041  150.0  51.896687  40.108030   \n",
       "\n",
       "                                                                           \n",
       "                         min        25%        50%        75%         max  \n",
       "diagnostic                                                                 \n",
       "Disk Hernia       -10.675871  -0.910818   2.542441   6.059666   15.779697  \n",
       "Normal            -11.058179  -1.511360   1.152710   4.968807   31.172767  \n",
       "Spondylolisthesis   1.010041  30.393271  42.372509  61.894425  418.543082  \n",
       "\n",
       "[3 rows x 48 columns]"
      ]
     },
     "execution_count": 11,
     "metadata": {},
     "output_type": "execute_result"
    }
   ],
   "source": [
    "tabela_dados.groupby('diagnostic').describe()"
   ]
  },
  {
   "cell_type": "code",
   "execution_count": 12,
   "id": "25315890",
   "metadata": {},
   "outputs": [],
   "source": [
    "# Removendo outlier\n",
    "tabela_dados.drop(tabela_dados.loc[tabela_dados['V6'] > 400].index, inplace=True)"
   ]
  },
  {
   "cell_type": "code",
   "execution_count": 13,
   "id": "7f7abf44",
   "metadata": {},
   "outputs": [
    {
     "data": {
      "text/html": [
       "<div>\n",
       "<style scoped>\n",
       "    .dataframe tbody tr th:only-of-type {\n",
       "        vertical-align: middle;\n",
       "    }\n",
       "\n",
       "    .dataframe tbody tr th {\n",
       "        vertical-align: top;\n",
       "    }\n",
       "\n",
       "    .dataframe thead th {\n",
       "        text-align: right;\n",
       "    }\n",
       "</style>\n",
       "<table border=\"1\" class=\"dataframe\">\n",
       "  <thead>\n",
       "    <tr style=\"text-align: right;\">\n",
       "      <th></th>\n",
       "      <th>V1</th>\n",
       "      <th>V2</th>\n",
       "      <th>V3</th>\n",
       "      <th>V4</th>\n",
       "      <th>V5</th>\n",
       "      <th>V6</th>\n",
       "      <th>diagnostic</th>\n",
       "    </tr>\n",
       "  </thead>\n",
       "  <tbody>\n",
       "  </tbody>\n",
       "</table>\n",
       "</div>"
      ],
      "text/plain": [
       "Empty DataFrame\n",
       "Columns: [V1, V2, V3, V4, V5, V6, diagnostic]\n",
       "Index: []"
      ]
     },
     "execution_count": 13,
     "metadata": {},
     "output_type": "execute_result"
    }
   ],
   "source": [
    "tabela_dados.loc[tabela_dados['V6'] > 400]"
   ]
  },
  {
   "cell_type": "code",
   "execution_count": 14,
   "id": "bde3b224",
   "metadata": {},
   "outputs": [],
   "source": [
    "# Separação dos dados\n",
    "x = tabela_dados.drop(columns=['diagnostic'])\n",
    "y = tabela_dados['diagnostic']"
   ]
  },
  {
   "cell_type": "code",
   "execution_count": 15,
   "id": "31e078ac",
   "metadata": {},
   "outputs": [],
   "source": [
    "x_train, x_test, y_train, y_test = train_test_split(x,y,test_size=0.3,stratify=y)"
   ]
  },
  {
   "cell_type": "code",
   "execution_count": 16,
   "id": "18b0ae45",
   "metadata": {},
   "outputs": [],
   "source": [
    "# Normalizando dados\n",
    "scaler = MinMaxScaler()\n",
    "\n",
    "scaler.fit(x_train)\n",
    "\n",
    "x_train_scaled = scaler.transform(x_train)\n",
    "x_test_scaled = scaler.transform(x_test)"
   ]
  },
  {
   "cell_type": "code",
   "execution_count": 17,
   "id": "dc90560d",
   "metadata": {},
   "outputs": [
    {
     "data": {
      "text/plain": [
       "{'Disk Hernia', 'Normal', 'Spondylolisthesis'}"
      ]
     },
     "execution_count": 17,
     "metadata": {},
     "output_type": "execute_result"
    }
   ],
   "source": [
    "set(tabela_dados['diagnostic'])"
   ]
  },
  {
   "cell_type": "code",
   "execution_count": 18,
   "id": "dc9a7a0f",
   "metadata": {},
   "outputs": [
    {
     "data": {
      "text/html": [
       "<style>#sk-container-id-1 {color: black;background-color: white;}#sk-container-id-1 pre{padding: 0;}#sk-container-id-1 div.sk-toggleable {background-color: white;}#sk-container-id-1 label.sk-toggleable__label {cursor: pointer;display: block;width: 100%;margin-bottom: 0;padding: 0.3em;box-sizing: border-box;text-align: center;}#sk-container-id-1 label.sk-toggleable__label-arrow:before {content: \"▸\";float: left;margin-right: 0.25em;color: #696969;}#sk-container-id-1 label.sk-toggleable__label-arrow:hover:before {color: black;}#sk-container-id-1 div.sk-estimator:hover label.sk-toggleable__label-arrow:before {color: black;}#sk-container-id-1 div.sk-toggleable__content {max-height: 0;max-width: 0;overflow: hidden;text-align: left;background-color: #f0f8ff;}#sk-container-id-1 div.sk-toggleable__content pre {margin: 0.2em;color: black;border-radius: 0.25em;background-color: #f0f8ff;}#sk-container-id-1 input.sk-toggleable__control:checked~div.sk-toggleable__content {max-height: 200px;max-width: 100%;overflow: auto;}#sk-container-id-1 input.sk-toggleable__control:checked~label.sk-toggleable__label-arrow:before {content: \"▾\";}#sk-container-id-1 div.sk-estimator input.sk-toggleable__control:checked~label.sk-toggleable__label {background-color: #d4ebff;}#sk-container-id-1 div.sk-label input.sk-toggleable__control:checked~label.sk-toggleable__label {background-color: #d4ebff;}#sk-container-id-1 input.sk-hidden--visually {border: 0;clip: rect(1px 1px 1px 1px);clip: rect(1px, 1px, 1px, 1px);height: 1px;margin: -1px;overflow: hidden;padding: 0;position: absolute;width: 1px;}#sk-container-id-1 div.sk-estimator {font-family: monospace;background-color: #f0f8ff;border: 1px dotted black;border-radius: 0.25em;box-sizing: border-box;margin-bottom: 0.5em;}#sk-container-id-1 div.sk-estimator:hover {background-color: #d4ebff;}#sk-container-id-1 div.sk-parallel-item::after {content: \"\";width: 100%;border-bottom: 1px solid gray;flex-grow: 1;}#sk-container-id-1 div.sk-label:hover label.sk-toggleable__label {background-color: #d4ebff;}#sk-container-id-1 div.sk-serial::before {content: \"\";position: absolute;border-left: 1px solid gray;box-sizing: border-box;top: 0;bottom: 0;left: 50%;z-index: 0;}#sk-container-id-1 div.sk-serial {display: flex;flex-direction: column;align-items: center;background-color: white;padding-right: 0.2em;padding-left: 0.2em;position: relative;}#sk-container-id-1 div.sk-item {position: relative;z-index: 1;}#sk-container-id-1 div.sk-parallel {display: flex;align-items: stretch;justify-content: center;background-color: white;position: relative;}#sk-container-id-1 div.sk-item::before, #sk-container-id-1 div.sk-parallel-item::before {content: \"\";position: absolute;border-left: 1px solid gray;box-sizing: border-box;top: 0;bottom: 0;left: 50%;z-index: -1;}#sk-container-id-1 div.sk-parallel-item {display: flex;flex-direction: column;z-index: 1;position: relative;background-color: white;}#sk-container-id-1 div.sk-parallel-item:first-child::after {align-self: flex-end;width: 50%;}#sk-container-id-1 div.sk-parallel-item:last-child::after {align-self: flex-start;width: 50%;}#sk-container-id-1 div.sk-parallel-item:only-child::after {width: 0;}#sk-container-id-1 div.sk-dashed-wrapped {border: 1px dashed gray;margin: 0 0.4em 0.5em 0.4em;box-sizing: border-box;padding-bottom: 0.4em;background-color: white;}#sk-container-id-1 div.sk-label label {font-family: monospace;font-weight: bold;display: inline-block;line-height: 1.2em;}#sk-container-id-1 div.sk-label-container {text-align: center;}#sk-container-id-1 div.sk-container {/* jupyter's `normalize.less` sets `[hidden] { display: none; }` but bootstrap.min.css set `[hidden] { display: none !important; }` so we also need the `!important` here to be able to override the default hidden behavior on the sphinx rendered scikit-learn.org. See: https://github.com/scikit-learn/scikit-learn/issues/21755 */display: inline-block !important;position: relative;}#sk-container-id-1 div.sk-text-repr-fallback {display: none;}</style><div id=\"sk-container-id-1\" class=\"sk-top-container\"><div class=\"sk-text-repr-fallback\"><pre>KNeighborsClassifier(n_neighbors=3)</pre><b>In a Jupyter environment, please rerun this cell to show the HTML representation or trust the notebook. <br />On GitHub, the HTML representation is unable to render, please try loading this page with nbviewer.org.</b></div><div class=\"sk-container\" hidden><div class=\"sk-item\"><div class=\"sk-estimator sk-toggleable\"><input class=\"sk-toggleable__control sk-hidden--visually\" id=\"sk-estimator-id-1\" type=\"checkbox\" checked><label for=\"sk-estimator-id-1\" class=\"sk-toggleable__label sk-toggleable__label-arrow\">KNeighborsClassifier</label><div class=\"sk-toggleable__content\"><pre>KNeighborsClassifier(n_neighbors=3)</pre></div></div></div></div></div>"
      ],
      "text/plain": [
       "KNeighborsClassifier(n_neighbors=3)"
      ]
     },
     "execution_count": 18,
     "metadata": {},
     "output_type": "execute_result"
    }
   ],
   "source": [
    "# Criando o modelo\n",
    "modelo_classificador = KNeighborsClassifier(n_neighbors=3)\n",
    "\n",
    "modelo_classificador.fit(x_train_scaled, y_train)"
   ]
  },
  {
   "cell_type": "code",
   "execution_count": 19,
   "id": "d9b5e14e",
   "metadata": {},
   "outputs": [],
   "source": [
    "# Predição sem escalonamento\n",
    "y_predito = modelo_classificador.predict(x_test_scaled)"
   ]
  },
  {
   "cell_type": "code",
   "execution_count": 20,
   "id": "beb56a8b",
   "metadata": {},
   "outputs": [],
   "source": [
    "from sklearn.metrics import ConfusionMatrixDisplay"
   ]
  },
  {
   "cell_type": "code",
   "execution_count": 21,
   "id": "dba2004a",
   "metadata": {},
   "outputs": [],
   "source": [
    "matriz_confusao = confusion_matrix(y_true = y_test,\n",
    "                                  y_pred = y_predito,\n",
    "                                  labels = ['Disk Hernia', 'Normal', 'Spondylolisthesis'])"
   ]
  },
  {
   "cell_type": "code",
   "execution_count": 22,
   "id": "7ceaddfd",
   "metadata": {},
   "outputs": [
    {
     "data": {
      "text/plain": [
       "<sklearn.metrics._plot.confusion_matrix.ConfusionMatrixDisplay at 0x204c47bc730>"
      ]
     },
     "execution_count": 22,
     "metadata": {},
     "output_type": "execute_result"
    },
    {
     "data": {
      "text/plain": [
       "<Figure size 1080x360 with 0 Axes>"
      ]
     },
     "metadata": {},
     "output_type": "display_data"
    },
    {
     "data": {
      "image/png": "[encoded data removed]",
      "text/plain": [
       "<Figure size 432x288 with 2 Axes>"
      ]
     },
     "metadata": {
      "needs_background": "light"
     },
     "output_type": "display_data"
    }
   ],
   "source": [
    "# Plotando a matriz de confusao\n",
    "figure = plt.figure(figsize=(15,5))\n",
    "disp = ConfusionMatrixDisplay(confusion_matrix = matriz_confusao,\n",
    "                             display_labels=['Disk Hernia', 'Normal', 'Spondylolisthesis'])\n",
    "disp.plot(values_format='d')"
   ]
  },
  {
   "cell_type": "code",
   "execution_count": 23,
   "id": "0195cbdf",
   "metadata": {},
   "outputs": [
    {
     "name": "stdout",
     "output_type": "stream",
     "text": [
      "                   precision    recall  f1-score   support\n",
      "\n",
      "      Disk Hernia       0.56      0.50      0.53        18\n",
      "           Normal       0.70      0.77      0.73        30\n",
      "Spondylolisthesis       0.95      0.93      0.94        45\n",
      "\n",
      "         accuracy                           0.80        93\n",
      "        macro avg       0.74      0.73      0.73        93\n",
      "     weighted avg       0.80      0.80      0.79        93\n",
      "\n"
     ]
    }
   ],
   "source": [
    "print(classification_report(y_test, y_predito))"
   ]
  },
  {
   "cell_type": "code",
   "execution_count": 24,
   "id": "a3c68202",
   "metadata": {},
   "outputs": [],
   "source": [
    "from sklearn.metrics import accuracy_score"
   ]
  },
  {
   "cell_type": "code",
   "execution_count": 25,
   "id": "8b844084",
   "metadata": {},
   "outputs": [
    {
     "name": "stdout",
     "output_type": "stream",
     "text": [
      "0.8\n"
     ]
    }
   ],
   "source": [
    "print(round(accuracy_score(y_test, y_predito), 2))"
   ]
  },
  {
   "cell_type": "code",
   "execution_count": 26,
   "id": "c3f15ae3",
   "metadata": {},
   "outputs": [],
   "source": [
    "# Fazer a validacao dos melhores hiperparametros pro modelo de ML\n",
    "from sklearn.model_selection import cross_val_score\n",
    "from sklearn.model_selection import KFold"
   ]
  },
  {
   "cell_type": "code",
   "execution_count": 27,
   "id": "36a8d4c2",
   "metadata": {},
   "outputs": [
    {
     "name": "stdout",
     "output_type": "stream",
     "text": [
      "K-Fold (R^2) Scores:  [0.82258065 0.83870968 0.82258065 0.79032258 0.8852459 ]\n",
      "Media R^2 para Cross-Validation:  0.8318878900052882\n"
     ]
    }
   ],
   "source": [
    "kfold = KFold(n_splits=5, shuffle=True)\n",
    "result = cross_val_score(modelo_classificador, x, y, cv = kfold)\n",
    "print('K-Fold (R^2) Scores: ', result)\n",
    "print('Media R^2 para Cross-Validation: ', result.mean())"
   ]
  },
  {
   "cell_type": "markdown",
   "id": "a8403a64",
   "metadata": {},
   "source": [
    "Escolhendo os melhores hiperparâmetros com validação cruzada:"
   ]
  },
  {
   "cell_type": "code",
   "execution_count": 28,
   "id": "5da386b5",
   "metadata": {},
   "outputs": [],
   "source": [
    "from sklearn.model_selection import GridSearchCV # metodo para selecao dos melhores parametros\n",
    "from sklearn.metrics import make_scorer, accuracy_score, f1_score # metricas de validação"
   ]
  },
  {
   "cell_type": "code",
   "execution_count": 29,
   "id": "6c681ffb",
   "metadata": {},
   "outputs": [],
   "source": [
    "error = [] # Armazenar erros\n",
    "\n",
    "# Calculando erro para K entre 1 e 15:\n",
    "for i in range(1,15):\n",
    "    knn = KNeighborsClassifier(n_neighbors=i)\n",
    "    knn.fit(x_train_scaled, y_train)\n",
    "    pred_i = knn.predict(x_test_scaled)\n",
    "    error.append(np.mean(pred_i != y_test))"
   ]
  },
  {
   "cell_type": "code",
   "execution_count": 30,
   "id": "fb0f60bd",
   "metadata": {},
   "outputs": [
    {
     "data": {
      "text/plain": [
       "[<matplotlib.lines.Line2D at 0x204bfeddc10>]"
      ]
     },
     "execution_count": 30,
     "metadata": {},
     "output_type": "execute_result"
    },
    {
     "data": {
      "image/png": "[encoded data removed]",
      "text/plain": [
       "<Figure size 864x432 with 1 Axes>"
      ]
     },
     "metadata": {
      "needs_background": "light"
     },
     "output_type": "display_data"
    }
   ],
   "source": [
    "plt.figure(figsize=(12,6))\n",
    "plt.plot(range(1,15), error, color='red', linestyle='dashed', marker='o',\n",
    "        markerfacecolor='blue', markersize=10)"
   ]
  },
  {
   "cell_type": "code",
   "execution_count": 31,
   "id": "334a5b9c",
   "metadata": {},
   "outputs": [],
   "source": [
    "param_grid = {'n_neighbors':[8,14], # total de vizinhos\n",
    "             'weights': ['uniform', 'distance'], #Função de peso usada na previsao\n",
    "             'metric': ['cosine', 'euclidean', 'manhattan']} # metrica para calculo"
   ]
  },
  {
   "cell_type": "code",
   "execution_count": 32,
   "id": "166af2dd",
   "metadata": {},
   "outputs": [],
   "source": [
    "# Metrica de desempenho = melhor acuracia\n",
    "gs_metric = make_scorer(accuracy_score, greater_is_better=True)"
   ]
  },
  {
   "cell_type": "code",
   "execution_count": 33,
   "id": "faa5ac7e",
   "metadata": {},
   "outputs": [],
   "source": [
    "grid = GridSearchCV(KNeighborsClassifier(),\n",
    "                   param_grid=param_grid,\n",
    "                   scoring=gs_metric,\n",
    "                   cv=5,n_jobs=4,verbose=3) #cv gerador da validação cruzada"
   ]
  },
  {
   "cell_type": "code",
   "execution_count": 34,
   "id": "1f666006",
   "metadata": {},
   "outputs": [
    {
     "name": "stdout",
     "output_type": "stream",
     "text": [
      "Fitting 5 folds for each of 12 candidates, totalling 60 fits\n",
      "KNN {'metric': 'manhattan', 'n_neighbors': 14, 'weights': 'uniform'}\n"
     ]
    }
   ],
   "source": [
    "grid.fit(x_train_scaled,y_train) #Selecionando os melhores hiperparamentos\n",
    "knn_params = grid.best_params_\n",
    "print('KNN', knn_params)"
   ]
  },
  {
   "cell_type": "code",
   "execution_count": 35,
   "id": "9482f040",
   "metadata": {},
   "outputs": [
    {
     "data": {
      "text/plain": [
       "{'mean_fit_time': array([0.00489926, 0.00226116, 0.00030208, 0.00240011, 0.00198307,\n",
       "        0.00261717, 0.00091   , 0.00110807, 0.00120468, 0.00136237,\n",
       "        0.00171494, 0.00070214]),\n",
       " 'std_fit_time': array([0.00400232, 0.00277032, 0.00060415, 0.00300183, 0.00188942,\n",
       "        0.00345386, 0.00081033, 0.00175579, 0.00147543, 0.00171187,\n",
       "        0.00318217, 0.00140429]),\n",
       " 'mean_score_time': array([0.00392556, 0.00326433, 0.00694866, 0.0022109 , 0.0068409 ,\n",
       "        0.00202174, 0.00786695, 0.00359592, 0.00682311, 0.00203848,\n",
       "        0.00712166, 0.00534062]),\n",
       " 'std_score_time': array([0.00325321, 0.00195565, 0.00358627, 0.00195147, 0.00121691,\n",
       "        0.00333083, 0.00190282, 0.00189636, 0.00372945, 0.00312469,\n",
       "        0.0016254 , 0.00328117]),\n",
       " 'param_metric': masked_array(data=['cosine', 'cosine', 'cosine', 'cosine', 'euclidean',\n",
       "                    'euclidean', 'euclidean', 'euclidean', 'manhattan',\n",
       "                    'manhattan', 'manhattan', 'manhattan'],\n",
       "              mask=[False, False, False, False, False, False, False, False,\n",
       "                    False, False, False, False],\n",
       "        fill_value='?',\n",
       "             dtype=object),\n",
       " 'param_n_neighbors': masked_array(data=[8, 8, 14, 14, 8, 8, 14, 14, 8, 8, 14, 14],\n",
       "              mask=[False, False, False, False, False, False, False, False,\n",
       "                    False, False, False, False],\n",
       "        fill_value='?',\n",
       "             dtype=object),\n",
       " 'param_weights': masked_array(data=['uniform', 'distance', 'uniform', 'distance',\n",
       "                    'uniform', 'distance', 'uniform', 'distance',\n",
       "                    'uniform', 'distance', 'uniform', 'distance'],\n",
       "              mask=[False, False, False, False, False, False, False, False,\n",
       "                    False, False, False, False],\n",
       "        fill_value='?',\n",
       "             dtype=object),\n",
       " 'params': [{'metric': 'cosine', 'n_neighbors': 8, 'weights': 'uniform'},\n",
       "  {'metric': 'cosine', 'n_neighbors': 8, 'weights': 'distance'},\n",
       "  {'metric': 'cosine', 'n_neighbors': 14, 'weights': 'uniform'},\n",
       "  {'metric': 'cosine', 'n_neighbors': 14, 'weights': 'distance'},\n",
       "  {'metric': 'euclidean', 'n_neighbors': 8, 'weights': 'uniform'},\n",
       "  {'metric': 'euclidean', 'n_neighbors': 8, 'weights': 'distance'},\n",
       "  {'metric': 'euclidean', 'n_neighbors': 14, 'weights': 'uniform'},\n",
       "  {'metric': 'euclidean', 'n_neighbors': 14, 'weights': 'distance'},\n",
       "  {'metric': 'manhattan', 'n_neighbors': 8, 'weights': 'uniform'},\n",
       "  {'metric': 'manhattan', 'n_neighbors': 8, 'weights': 'distance'},\n",
       "  {'metric': 'manhattan', 'n_neighbors': 14, 'weights': 'uniform'},\n",
       "  {'metric': 'manhattan', 'n_neighbors': 14, 'weights': 'distance'}],\n",
       " 'split0_test_score': array([0.81818182, 0.81818182, 0.88636364, 0.86363636, 0.88636364,\n",
       "        0.84090909, 0.86363636, 0.86363636, 0.81818182, 0.75      ,\n",
       "        0.88636364, 0.86363636]),\n",
       " 'split1_test_score': array([0.79069767, 0.81395349, 0.81395349, 0.81395349, 0.76744186,\n",
       "        0.81395349, 0.81395349, 0.8372093 , 0.69767442, 0.79069767,\n",
       "        0.79069767, 0.81395349]),\n",
       " 'split2_test_score': array([0.69767442, 0.74418605, 0.72093023, 0.74418605, 0.76744186,\n",
       "        0.76744186, 0.69767442, 0.74418605, 0.76744186, 0.74418605,\n",
       "        0.74418605, 0.74418605]),\n",
       " 'split3_test_score': array([0.79069767, 0.79069767, 0.79069767, 0.79069767, 0.8372093 ,\n",
       "        0.81395349, 0.8372093 , 0.81395349, 0.81395349, 0.8372093 ,\n",
       "        0.81395349, 0.79069767]),\n",
       " 'split4_test_score': array([0.65116279, 0.74418605, 0.72093023, 0.72093023, 0.76744186,\n",
       "        0.79069767, 0.74418605, 0.76744186, 0.81395349, 0.8372093 ,\n",
       "        0.81395349, 0.81395349]),\n",
       " 'mean_test_score': array([0.74968288, 0.78224101, 0.78657505, 0.78668076, 0.8051797 ,\n",
       "        0.80539112, 0.79133192, 0.80528541, 0.78224101, 0.79186047,\n",
       "        0.80983087, 0.80528541]),\n",
       " 'std_test_score': array([0.06398065, 0.03245088, 0.06219778, 0.05061825, 0.04876302,\n",
       "        0.0247556 , 0.06138218, 0.04396446, 0.04620309, 0.04034733,\n",
       "        0.04597081, 0.03873252]),\n",
       " 'rank_test_score': array([12, 10,  9,  8,  5,  2,  7,  3, 10,  6,  1,  3])}"
      ]
     },
     "execution_count": 35,
     "metadata": {},
     "output_type": "execute_result"
    }
   ],
   "source": [
    "grid.cv_results_"
   ]
  },
  {
   "cell_type": "markdown",
   "id": "832174c9",
   "metadata": {},
   "source": [
    "Testando varios tipos de algoritmo de classificação:"
   ]
  },
  {
   "cell_type": "code",
   "execution_count": 36,
   "id": "7b76045c",
   "metadata": {},
   "outputs": [],
   "source": [
    "def AplicaValidacaoCruzada(x_axis, y_axis):\n",
    "    #Linear models\n",
    "    from sklearn.neighbors import KNeighborsClassifier\n",
    "    from sklearn.ensemble import RandomForestClassifier\n",
    "    from sklearn.svm import SVC\n",
    "    #Cross-Validation models\n",
    "    from sklearn.model_selection import cross_val_score\n",
    "    from sklearn.model_selection import KFold\n",
    "    #Configurando KFold\n",
    "    kfold = KFold(n_splits=10, shuffle=True)\n",
    "    #Axis\n",
    "    x = x_axis\n",
    "    y = y_axis\n",
    "    #Criando modelos\n",
    "    #KNN\n",
    "    knn = KNeighborsClassifier(n_neighbors=14, metric='manhattan',weights='uniform')\n",
    "    knn.fit(x,y)\n",
    "    #SVM\n",
    "    svm = SVC()\n",
    "    svm.fit(x,y)\n",
    "    #Random Forest\n",
    "    rf = RandomForestClassifier(random_state=7)\n",
    "    rf.fit(x,y)\n",
    "    #Aplicando KFold\n",
    "    knn_result = cross_val_score(knn,x,y,cv=kfold)\n",
    "    svm_result = cross_val_score(svm,x,y,cv=kfold)\n",
    "    rf_result = cross_val_score(rf,x,y,cv=kfold)\n",
    "    #Cria dicionario para guardar modelos lineares\n",
    "    dic_models = {'KNN': knn_result.mean(),'SVM': svm_result.mean(), 'RF': rf_result.mean()}\n",
    "    #Seleciona o melhor modelo\n",
    "    melhor_modelo = max(dic_models, key=dic_models.get)\n",
    "    \n",
    "    print('KNN (R^2):', knn_result.mean())\n",
    "    print('SVM (R^2):', svm_result.mean())\n",
    "    print('RF (R^2):', rf_result.mean())\n",
    "    print('O melhor modelo é: {0} com valor: {1}'.format(melhor_modelo, dic_models[melhor_modelo]))"
   ]
  },
  {
   "cell_type": "code",
   "execution_count": 37,
   "id": "624bd8eb",
   "metadata": {},
   "outputs": [
    {
     "name": "stdout",
     "output_type": "stream",
     "text": [
      "KNN (R^2): 0.8250537634408601\n",
      "SVM (R^2): 0.8544086021505377\n",
      "RF (R^2): 0.8350537634408601\n",
      "O melhor modelo é: SVM com valor: 0.8544086021505377\n"
     ]
    }
   ],
   "source": [
    "AplicaValidacaoCruzada(x,y)"
   ]
  }
 ],
 "metadata": {
  "kernelspec": {
   "display_name": "Python 3 (ipykernel)",
   "language": "python",
   "name": "python3"
  },
  "language_info": {
   "codemirror_mode": {
    "name": "ipython",
    "version": 3
   },
   "file_extension": ".py",
   "mimetype": "text/x-python",
   "name": "python",
   "nbconvert_exporter": "python",
   "pygments_lexer": "ipython3",
   "version": "3.9.12"
  }
 },
 "nbformat": 4,
 "nbformat_minor": 5
}
