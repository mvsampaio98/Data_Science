{
 "cells": [
  {
   "cell_type": "code",
   "execution_count": 1,
   "id": "e65e04ef",
   "metadata": {},
   "outputs": [],
   "source": [
    "import pandas as pd"
   ]
  },
  {
   "cell_type": "code",
   "execution_count": 3,
   "id": "e3a558d5",
   "metadata": {},
   "outputs": [
    {
     "data": {
      "text/html": [
       "<div>\n",
       "<style scoped>\n",
       "    .dataframe tbody tr th:only-of-type {\n",
       "        vertical-align: middle;\n",
       "    }\n",
       "\n",
       "    .dataframe tbody tr th {\n",
       "        vertical-align: top;\n",
       "    }\n",
       "\n",
       "    .dataframe thead th {\n",
       "        text-align: right;\n",
       "    }\n",
       "</style>\n",
       "<table border=\"1\" class=\"dataframe\">\n",
       "  <thead>\n",
       "    <tr style=\"text-align: right;\">\n",
       "      <th></th>\n",
       "      <th>mpg</th>\n",
       "      <th>cylinders</th>\n",
       "      <th>displacement</th>\n",
       "      <th>horsepower</th>\n",
       "      <th>weight</th>\n",
       "      <th>acceleration</th>\n",
       "      <th>model year</th>\n",
       "      <th>origin</th>\n",
       "      <th>car name</th>\n",
       "    </tr>\n",
       "  </thead>\n",
       "  <tbody>\n",
       "    <tr>\n",
       "      <th>0</th>\n",
       "      <td>18,00</td>\n",
       "      <td>8,00</td>\n",
       "      <td>307,00</td>\n",
       "      <td>130,00</td>\n",
       "      <td>3504,00</td>\n",
       "      <td>12,00</td>\n",
       "      <td>70,00</td>\n",
       "      <td>1,00</td>\n",
       "      <td>chevrolet chevelle malibu</td>\n",
       "    </tr>\n",
       "    <tr>\n",
       "      <th>1</th>\n",
       "      <td>15,00</td>\n",
       "      <td>8,00</td>\n",
       "      <td>350,00</td>\n",
       "      <td>165,00</td>\n",
       "      <td>3693,00</td>\n",
       "      <td>11,50</td>\n",
       "      <td>70,00</td>\n",
       "      <td>1,00</td>\n",
       "      <td>buick skylark 320</td>\n",
       "    </tr>\n",
       "    <tr>\n",
       "      <th>2</th>\n",
       "      <td>18,00</td>\n",
       "      <td>8,00</td>\n",
       "      <td>318,00</td>\n",
       "      <td>150,00</td>\n",
       "      <td>3436,00</td>\n",
       "      <td>11,00</td>\n",
       "      <td>70,00</td>\n",
       "      <td>1,00</td>\n",
       "      <td>plymouth satellite</td>\n",
       "    </tr>\n",
       "    <tr>\n",
       "      <th>3</th>\n",
       "      <td>16,00</td>\n",
       "      <td>8,00</td>\n",
       "      <td>304,00</td>\n",
       "      <td>150,00</td>\n",
       "      <td>3433,00</td>\n",
       "      <td>12,00</td>\n",
       "      <td>70,00</td>\n",
       "      <td>1,00</td>\n",
       "      <td>amc rebel sst</td>\n",
       "    </tr>\n",
       "    <tr>\n",
       "      <th>4</th>\n",
       "      <td>17,00</td>\n",
       "      <td>8,00</td>\n",
       "      <td>302,00</td>\n",
       "      <td>140,00</td>\n",
       "      <td>3449,00</td>\n",
       "      <td>10,50</td>\n",
       "      <td>70,00</td>\n",
       "      <td>1,00</td>\n",
       "      <td>ford torino</td>\n",
       "    </tr>\n",
       "  </tbody>\n",
       "</table>\n",
       "</div>"
      ],
      "text/plain": [
       "     mpg cylinders displacement horsepower   weight acceleration model year  \\\n",
       "0  18,00      8,00       307,00     130,00  3504,00        12,00      70,00   \n",
       "1  15,00      8,00       350,00     165,00  3693,00        11,50      70,00   \n",
       "2  18,00      8,00       318,00     150,00  3436,00        11,00      70,00   \n",
       "3  16,00      8,00       304,00     150,00  3433,00        12,00      70,00   \n",
       "4  17,00      8,00       302,00     140,00  3449,00        10,50      70,00   \n",
       "\n",
       "  origin                   car name  \n",
       "0   1,00  chevrolet chevelle malibu  \n",
       "1   1,00          buick skylark 320  \n",
       "2   1,00         plymouth satellite  \n",
       "3   1,00              amc rebel sst  \n",
       "4   1,00                ford torino  "
      ]
     },
     "execution_count": 3,
     "metadata": {},
     "output_type": "execute_result"
    }
   ],
   "source": [
    "dados = pd.read_csv('auto-mpg-original.csv', sep = ';')\n",
    "dados.head()"
   ]
  },
  {
   "cell_type": "code",
   "execution_count": 4,
   "id": "181679e3",
   "metadata": {},
   "outputs": [
    {
     "data": {
      "text/plain": [
       "(406, 9)"
      ]
     },
     "execution_count": 4,
     "metadata": {},
     "output_type": "execute_result"
    }
   ],
   "source": [
    "dados.shape"
   ]
  },
  {
   "cell_type": "code",
   "execution_count": 7,
   "id": "96c0be1d",
   "metadata": {},
   "outputs": [
    {
     "data": {
      "text/plain": [
       "14"
      ]
     },
     "execution_count": 7,
     "metadata": {},
     "output_type": "execute_result"
    }
   ],
   "source": [
    "dados.isnull().sum().sum()"
   ]
  },
  {
   "cell_type": "code",
   "execution_count": 8,
   "id": "d343d59e",
   "metadata": {},
   "outputs": [
    {
     "data": {
      "text/plain": [
       "392"
      ]
     },
     "execution_count": 8,
     "metadata": {},
     "output_type": "execute_result"
    }
   ],
   "source": [
    "406 - 14"
   ]
  },
  {
   "cell_type": "code",
   "execution_count": 36,
   "id": "ec872fcc",
   "metadata": {},
   "outputs": [],
   "source": [
    "dados['mpg'] = dados['mpg'].str.replace(\",\",\".\")\n",
    "dados['cylinders'] = dados['cylinders'].str.replace(\",\",\".\")\n",
    "dados['displacement'] = dados['displacement'].str.replace(\",\",\".\")\n",
    "dados['horsepower'] = dados['horsepower'].str.replace(\",\",\".\")\n",
    "dados['weight'] = dados['weight'].str.replace(\",\",\".\")\n",
    "dados['acceleration'] = dados['acceleration'].str.replace(\",\",\".\")"
   ]
  },
  {
   "cell_type": "code",
   "execution_count": 37,
   "id": "d0ad0c81",
   "metadata": {},
   "outputs": [
    {
     "data": {
      "text/html": [
       "<div>\n",
       "<style scoped>\n",
       "    .dataframe tbody tr th:only-of-type {\n",
       "        vertical-align: middle;\n",
       "    }\n",
       "\n",
       "    .dataframe tbody tr th {\n",
       "        vertical-align: top;\n",
       "    }\n",
       "\n",
       "    .dataframe thead th {\n",
       "        text-align: right;\n",
       "    }\n",
       "</style>\n",
       "<table border=\"1\" class=\"dataframe\">\n",
       "  <thead>\n",
       "    <tr style=\"text-align: right;\">\n",
       "      <th></th>\n",
       "      <th>mpg</th>\n",
       "      <th>cylinders</th>\n",
       "      <th>displacement</th>\n",
       "      <th>horsepower</th>\n",
       "      <th>weight</th>\n",
       "      <th>acceleration</th>\n",
       "      <th>model year</th>\n",
       "      <th>origin</th>\n",
       "      <th>car name</th>\n",
       "    </tr>\n",
       "  </thead>\n",
       "  <tbody>\n",
       "    <tr>\n",
       "      <th>0</th>\n",
       "      <td>18.00</td>\n",
       "      <td>8.00</td>\n",
       "      <td>307.00</td>\n",
       "      <td>130.00</td>\n",
       "      <td>3504.00</td>\n",
       "      <td>12.00</td>\n",
       "      <td>70,00</td>\n",
       "      <td>1,00</td>\n",
       "      <td>chevrolet chevelle malibu</td>\n",
       "    </tr>\n",
       "    <tr>\n",
       "      <th>1</th>\n",
       "      <td>15.00</td>\n",
       "      <td>8.00</td>\n",
       "      <td>350.00</td>\n",
       "      <td>165.00</td>\n",
       "      <td>3693.00</td>\n",
       "      <td>11.50</td>\n",
       "      <td>70,00</td>\n",
       "      <td>1,00</td>\n",
       "      <td>buick skylark 320</td>\n",
       "    </tr>\n",
       "    <tr>\n",
       "      <th>2</th>\n",
       "      <td>18.00</td>\n",
       "      <td>8.00</td>\n",
       "      <td>318.00</td>\n",
       "      <td>150.00</td>\n",
       "      <td>3436.00</td>\n",
       "      <td>11.00</td>\n",
       "      <td>70,00</td>\n",
       "      <td>1,00</td>\n",
       "      <td>plymouth satellite</td>\n",
       "    </tr>\n",
       "    <tr>\n",
       "      <th>3</th>\n",
       "      <td>16.00</td>\n",
       "      <td>8.00</td>\n",
       "      <td>304.00</td>\n",
       "      <td>150.00</td>\n",
       "      <td>3433.00</td>\n",
       "      <td>12.00</td>\n",
       "      <td>70,00</td>\n",
       "      <td>1,00</td>\n",
       "      <td>amc rebel sst</td>\n",
       "    </tr>\n",
       "    <tr>\n",
       "      <th>4</th>\n",
       "      <td>17.00</td>\n",
       "      <td>8.00</td>\n",
       "      <td>302.00</td>\n",
       "      <td>140.00</td>\n",
       "      <td>3449.00</td>\n",
       "      <td>10.50</td>\n",
       "      <td>70,00</td>\n",
       "      <td>1,00</td>\n",
       "      <td>ford torino</td>\n",
       "    </tr>\n",
       "  </tbody>\n",
       "</table>\n",
       "</div>"
      ],
      "text/plain": [
       "     mpg cylinders displacement horsepower   weight acceleration model year  \\\n",
       "0  18.00      8.00       307.00     130.00  3504.00        12.00      70,00   \n",
       "1  15.00      8.00       350.00     165.00  3693.00        11.50      70,00   \n",
       "2  18.00      8.00       318.00     150.00  3436.00        11.00      70,00   \n",
       "3  16.00      8.00       304.00     150.00  3433.00        12.00      70,00   \n",
       "4  17.00      8.00       302.00     140.00  3449.00        10.50      70,00   \n",
       "\n",
       "  origin                   car name  \n",
       "0   1,00  chevrolet chevelle malibu  \n",
       "1   1,00          buick skylark 320  \n",
       "2   1,00         plymouth satellite  \n",
       "3   1,00              amc rebel sst  \n",
       "4   1,00                ford torino  "
      ]
     },
     "execution_count": 37,
     "metadata": {},
     "output_type": "execute_result"
    }
   ],
   "source": [
    "dados.head()"
   ]
  },
  {
   "cell_type": "code",
   "execution_count": 38,
   "id": "cc078983",
   "metadata": {},
   "outputs": [],
   "source": [
    "dados['mpg'] = dados['mpg'].astype(float)\n",
    "dados['cylinders'] = dados['cylinders'].astype(float)\n",
    "dados['displacement'] = dados['displacement'].astype(float)\n",
    "dados['horsepower'] = dados['horsepower'].astype(float)\n",
    "dados['weight'] = dados['weight'].astype(float)\n",
    "dados['acceleration'] = dados['acceleration'].astype(float)"
   ]
  },
  {
   "cell_type": "code",
   "execution_count": 39,
   "id": "da4476c3",
   "metadata": {},
   "outputs": [
    {
     "name": "stdout",
     "output_type": "stream",
     "text": [
      "<class 'pandas.core.frame.DataFrame'>\n",
      "RangeIndex: 406 entries, 0 to 405\n",
      "Data columns (total 9 columns):\n",
      " #   Column        Non-Null Count  Dtype  \n",
      "---  ------        --------------  -----  \n",
      " 0   mpg           398 non-null    float64\n",
      " 1   cylinders     406 non-null    float64\n",
      " 2   displacement  406 non-null    float64\n",
      " 3   horsepower    400 non-null    float64\n",
      " 4   weight        406 non-null    float64\n",
      " 5   acceleration  406 non-null    float64\n",
      " 6   model year    406 non-null    object \n",
      " 7   origin        406 non-null    object \n",
      " 8   car name      406 non-null    object \n",
      "dtypes: float64(6), object(3)\n",
      "memory usage: 28.7+ KB\n"
     ]
    }
   ],
   "source": [
    "dados.info()"
   ]
  },
  {
   "cell_type": "code",
   "execution_count": 47,
   "id": "9de3ec3a",
   "metadata": {},
   "outputs": [
    {
     "data": {
      "text/plain": [
       "model year\n",
       "70,00    27.0\n",
       "71,00    35.0\n",
       "72,00    28.0\n",
       "73,00    29.0\n",
       "74,00    32.0\n",
       "75,00    33.0\n",
       "76,00    33.0\n",
       "77,00    36.0\n",
       "78,00    43.1\n",
       "79,00    37.3\n",
       "80,00    46.6\n",
       "81,00    39.1\n",
       "82,00    44.0\n",
       "Name: mpg, dtype: float64"
      ]
     },
     "execution_count": 47,
     "metadata": {},
     "output_type": "execute_result"
    }
   ],
   "source": [
    "dados.groupby('model year')['mpg'].max()"
   ]
  },
  {
   "cell_type": "code",
   "execution_count": 48,
   "id": "c9d9babf",
   "metadata": {},
   "outputs": [],
   "source": [
    "dados.dropna(inplace = True)"
   ]
  },
  {
   "cell_type": "code",
   "execution_count": 49,
   "id": "fb12e864",
   "metadata": {},
   "outputs": [
    {
     "data": {
      "text/html": [
       "<div>\n",
       "<style scoped>\n",
       "    .dataframe tbody tr th:only-of-type {\n",
       "        vertical-align: middle;\n",
       "    }\n",
       "\n",
       "    .dataframe tbody tr th {\n",
       "        vertical-align: top;\n",
       "    }\n",
       "\n",
       "    .dataframe thead th {\n",
       "        text-align: right;\n",
       "    }\n",
       "</style>\n",
       "<table border=\"1\" class=\"dataframe\">\n",
       "  <thead>\n",
       "    <tr style=\"text-align: right;\">\n",
       "      <th></th>\n",
       "      <th>mpg</th>\n",
       "      <th>cylinders</th>\n",
       "      <th>displacement</th>\n",
       "      <th>horsepower</th>\n",
       "      <th>weight</th>\n",
       "      <th>acceleration</th>\n",
       "    </tr>\n",
       "  </thead>\n",
       "  <tbody>\n",
       "    <tr>\n",
       "      <th>count</th>\n",
       "      <td>392.000000</td>\n",
       "      <td>392.000000</td>\n",
       "      <td>392.000000</td>\n",
       "      <td>392.000000</td>\n",
       "      <td>392.000000</td>\n",
       "      <td>392.000000</td>\n",
       "    </tr>\n",
       "    <tr>\n",
       "      <th>mean</th>\n",
       "      <td>23.445918</td>\n",
       "      <td>5.471939</td>\n",
       "      <td>388.348214</td>\n",
       "      <td>509.354592</td>\n",
       "      <td>2977.584184</td>\n",
       "      <td>15.541327</td>\n",
       "    </tr>\n",
       "    <tr>\n",
       "      <th>std</th>\n",
       "      <td>7.805007</td>\n",
       "      <td>1.705783</td>\n",
       "      <td>302.431814</td>\n",
       "      <td>334.078508</td>\n",
       "      <td>849.402560</td>\n",
       "      <td>2.758864</td>\n",
       "    </tr>\n",
       "    <tr>\n",
       "      <th>min</th>\n",
       "      <td>9.000000</td>\n",
       "      <td>3.000000</td>\n",
       "      <td>97.500000</td>\n",
       "      <td>100.000000</td>\n",
       "      <td>1613.000000</td>\n",
       "      <td>8.000000</td>\n",
       "    </tr>\n",
       "    <tr>\n",
       "      <th>25%</th>\n",
       "      <td>17.000000</td>\n",
       "      <td>4.000000</td>\n",
       "      <td>145.750000</td>\n",
       "      <td>147.250000</td>\n",
       "      <td>2225.250000</td>\n",
       "      <td>13.775000</td>\n",
       "    </tr>\n",
       "    <tr>\n",
       "      <th>50%</th>\n",
       "      <td>22.750000</td>\n",
       "      <td>4.000000</td>\n",
       "      <td>260.000000</td>\n",
       "      <td>650.000000</td>\n",
       "      <td>2803.500000</td>\n",
       "      <td>15.500000</td>\n",
       "    </tr>\n",
       "    <tr>\n",
       "      <th>75%</th>\n",
       "      <td>29.000000</td>\n",
       "      <td>8.000000</td>\n",
       "      <td>443.500000</td>\n",
       "      <td>840.000000</td>\n",
       "      <td>3614.750000</td>\n",
       "      <td>17.025000</td>\n",
       "    </tr>\n",
       "    <tr>\n",
       "      <th>max</th>\n",
       "      <td>46.600000</td>\n",
       "      <td>8.000000</td>\n",
       "      <td>980.000000</td>\n",
       "      <td>980.000000</td>\n",
       "      <td>5140.000000</td>\n",
       "      <td>24.800000</td>\n",
       "    </tr>\n",
       "  </tbody>\n",
       "</table>\n",
       "</div>"
      ],
      "text/plain": [
       "              mpg   cylinders  displacement  horsepower       weight  \\\n",
       "count  392.000000  392.000000    392.000000  392.000000   392.000000   \n",
       "mean    23.445918    5.471939    388.348214  509.354592  2977.584184   \n",
       "std      7.805007    1.705783    302.431814  334.078508   849.402560   \n",
       "min      9.000000    3.000000     97.500000  100.000000  1613.000000   \n",
       "25%     17.000000    4.000000    145.750000  147.250000  2225.250000   \n",
       "50%     22.750000    4.000000    260.000000  650.000000  2803.500000   \n",
       "75%     29.000000    8.000000    443.500000  840.000000  3614.750000   \n",
       "max     46.600000    8.000000    980.000000  980.000000  5140.000000   \n",
       "\n",
       "       acceleration  \n",
       "count    392.000000  \n",
       "mean      15.541327  \n",
       "std        2.758864  \n",
       "min        8.000000  \n",
       "25%       13.775000  \n",
       "50%       15.500000  \n",
       "75%       17.025000  \n",
       "max       24.800000  "
      ]
     },
     "execution_count": 49,
     "metadata": {},
     "output_type": "execute_result"
    }
   ],
   "source": [
    "dados.describe()"
   ]
  },
  {
   "cell_type": "code",
   "execution_count": 54,
   "id": "d4643cb7",
   "metadata": {},
   "outputs": [
    {
     "data": {
      "text/plain": [
       "amc matador            5\n",
       "ford pinto             5\n",
       "toyota corolla         5\n",
       "toyota corona          4\n",
       "amc hornet             4\n",
       "                      ..\n",
       "buick skyhawk          1\n",
       "chevrolet monza 2+2    1\n",
       "ford mustang ii        1\n",
       "pontiac astro          1\n",
       "chevy s-10             1\n",
       "Name: car name, Length: 301, dtype: int64"
      ]
     },
     "execution_count": 54,
     "metadata": {},
     "output_type": "execute_result"
    }
   ],
   "source": [
    "dados['car name'].value_counts()"
   ]
  },
  {
   "cell_type": "code",
   "execution_count": 55,
   "id": "2865c0c1",
   "metadata": {},
   "outputs": [
    {
     "data": {
      "text/html": [
       "<div>\n",
       "<style scoped>\n",
       "    .dataframe tbody tr th:only-of-type {\n",
       "        vertical-align: middle;\n",
       "    }\n",
       "\n",
       "    .dataframe tbody tr th {\n",
       "        vertical-align: top;\n",
       "    }\n",
       "\n",
       "    .dataframe thead th {\n",
       "        text-align: right;\n",
       "    }\n",
       "</style>\n",
       "<table border=\"1\" class=\"dataframe\">\n",
       "  <thead>\n",
       "    <tr style=\"text-align: right;\">\n",
       "      <th></th>\n",
       "      <th>mpg</th>\n",
       "      <th>cylinders</th>\n",
       "      <th>displacement</th>\n",
       "      <th>horsepower</th>\n",
       "      <th>weight</th>\n",
       "      <th>acceleration</th>\n",
       "    </tr>\n",
       "  </thead>\n",
       "  <tbody>\n",
       "    <tr>\n",
       "      <th>mpg</th>\n",
       "      <td>1.000000</td>\n",
       "      <td>-0.777618</td>\n",
       "      <td>0.403576</td>\n",
       "      <td>0.552285</td>\n",
       "      <td>-0.832244</td>\n",
       "      <td>0.423329</td>\n",
       "    </tr>\n",
       "    <tr>\n",
       "      <th>cylinders</th>\n",
       "      <td>-0.777618</td>\n",
       "      <td>1.000000</td>\n",
       "      <td>-0.238708</td>\n",
       "      <td>-0.709525</td>\n",
       "      <td>0.897527</td>\n",
       "      <td>-0.504683</td>\n",
       "    </tr>\n",
       "    <tr>\n",
       "      <th>displacement</th>\n",
       "      <td>0.403576</td>\n",
       "      <td>-0.238708</td>\n",
       "      <td>1.000000</td>\n",
       "      <td>0.084837</td>\n",
       "      <td>-0.381734</td>\n",
       "      <td>0.173959</td>\n",
       "    </tr>\n",
       "    <tr>\n",
       "      <th>horsepower</th>\n",
       "      <td>0.552285</td>\n",
       "      <td>-0.709525</td>\n",
       "      <td>0.084837</td>\n",
       "      <td>1.000000</td>\n",
       "      <td>-0.643922</td>\n",
       "      <td>0.402398</td>\n",
       "    </tr>\n",
       "    <tr>\n",
       "      <th>weight</th>\n",
       "      <td>-0.832244</td>\n",
       "      <td>0.897527</td>\n",
       "      <td>-0.381734</td>\n",
       "      <td>-0.643922</td>\n",
       "      <td>1.000000</td>\n",
       "      <td>-0.416839</td>\n",
       "    </tr>\n",
       "    <tr>\n",
       "      <th>acceleration</th>\n",
       "      <td>0.423329</td>\n",
       "      <td>-0.504683</td>\n",
       "      <td>0.173959</td>\n",
       "      <td>0.402398</td>\n",
       "      <td>-0.416839</td>\n",
       "      <td>1.000000</td>\n",
       "    </tr>\n",
       "  </tbody>\n",
       "</table>\n",
       "</div>"
      ],
      "text/plain": [
       "                   mpg  cylinders  displacement  horsepower    weight  \\\n",
       "mpg           1.000000  -0.777618      0.403576    0.552285 -0.832244   \n",
       "cylinders    -0.777618   1.000000     -0.238708   -0.709525  0.897527   \n",
       "displacement  0.403576  -0.238708      1.000000    0.084837 -0.381734   \n",
       "horsepower    0.552285  -0.709525      0.084837    1.000000 -0.643922   \n",
       "weight       -0.832244   0.897527     -0.381734   -0.643922  1.000000   \n",
       "acceleration  0.423329  -0.504683      0.173959    0.402398 -0.416839   \n",
       "\n",
       "              acceleration  \n",
       "mpg               0.423329  \n",
       "cylinders        -0.504683  \n",
       "displacement      0.173959  \n",
       "horsepower        0.402398  \n",
       "weight           -0.416839  \n",
       "acceleration      1.000000  "
      ]
     },
     "execution_count": 55,
     "metadata": {},
     "output_type": "execute_result"
    }
   ],
   "source": [
    "dados.corr()"
   ]
  },
  {
   "cell_type": "code",
   "execution_count": 61,
   "id": "6d615c02",
   "metadata": {},
   "outputs": [
    {
     "data": {
      "text/plain": [
       "amc matador            5\n",
       "ford pinto             5\n",
       "toyota corolla         5\n",
       "toyota corona          4\n",
       "amc hornet             4\n",
       "                      ..\n",
       "buick skyhawk          1\n",
       "chevrolet monza 2+2    1\n",
       "ford mustang ii        1\n",
       "pontiac astro          1\n",
       "chevy s-10             1\n",
       "Name: car name, Length: 301, dtype: int64"
      ]
     },
     "execution_count": 61,
     "metadata": {},
     "output_type": "execute_result"
    }
   ],
   "source": [
    "dados['car name'].value_counts()"
   ]
  },
  {
   "cell_type": "code",
   "execution_count": 71,
   "id": "5b95c8d6",
   "metadata": {},
   "outputs": [
    {
     "ename": "AttributeError",
     "evalue": "'DataFrame' object has no attribute 'bar'",
     "output_type": "error",
     "traceback": [
      "\u001b[1;31m---------------------------------------------------------------------------\u001b[0m",
      "\u001b[1;31mAttributeError\u001b[0m                            Traceback (most recent call last)",
      "Input \u001b[1;32mIn [71]\u001b[0m, in \u001b[0;36m<cell line: 2>\u001b[1;34m()\u001b[0m\n\u001b[0;32m      1\u001b[0m \u001b[38;5;28;01mimport\u001b[39;00m \u001b[38;5;21;01mmatplotlib\u001b[39;00m\u001b[38;5;21;01m.\u001b[39;00m\u001b[38;5;21;01mpyplot\u001b[39;00m \u001b[38;5;28;01mas\u001b[39;00m \u001b[38;5;21;01mplt\u001b[39;00m\n\u001b[1;32m----> 2\u001b[0m \u001b[43mdados\u001b[49m\u001b[38;5;241;43m.\u001b[39;49m\u001b[43mbar\u001b[49m(x \u001b[38;5;241m=\u001b[39m dados[\u001b[38;5;124m'\u001b[39m\u001b[38;5;124mmpg\u001b[39m\u001b[38;5;124m'\u001b[39m], y \u001b[38;5;241m=\u001b[39m dados[\u001b[38;5;124m'\u001b[39m\u001b[38;5;124mmodel year\u001b[39m\u001b[38;5;124m'\u001b[39m])\n",
      "File \u001b[1;32m~\\Anaconda3\\lib\\site-packages\\pandas\\core\\generic.py:5575\u001b[0m, in \u001b[0;36mNDFrame.__getattr__\u001b[1;34m(self, name)\u001b[0m\n\u001b[0;32m   5568\u001b[0m \u001b[38;5;28;01mif\u001b[39;00m (\n\u001b[0;32m   5569\u001b[0m     name \u001b[38;5;129;01mnot\u001b[39;00m \u001b[38;5;129;01min\u001b[39;00m \u001b[38;5;28mself\u001b[39m\u001b[38;5;241m.\u001b[39m_internal_names_set\n\u001b[0;32m   5570\u001b[0m     \u001b[38;5;129;01mand\u001b[39;00m name \u001b[38;5;129;01mnot\u001b[39;00m \u001b[38;5;129;01min\u001b[39;00m \u001b[38;5;28mself\u001b[39m\u001b[38;5;241m.\u001b[39m_metadata\n\u001b[0;32m   5571\u001b[0m     \u001b[38;5;129;01mand\u001b[39;00m name \u001b[38;5;129;01mnot\u001b[39;00m \u001b[38;5;129;01min\u001b[39;00m \u001b[38;5;28mself\u001b[39m\u001b[38;5;241m.\u001b[39m_accessors\n\u001b[0;32m   5572\u001b[0m     \u001b[38;5;129;01mand\u001b[39;00m \u001b[38;5;28mself\u001b[39m\u001b[38;5;241m.\u001b[39m_info_axis\u001b[38;5;241m.\u001b[39m_can_hold_identifiers_and_holds_name(name)\n\u001b[0;32m   5573\u001b[0m ):\n\u001b[0;32m   5574\u001b[0m     \u001b[38;5;28;01mreturn\u001b[39;00m \u001b[38;5;28mself\u001b[39m[name]\n\u001b[1;32m-> 5575\u001b[0m \u001b[38;5;28;01mreturn\u001b[39;00m \u001b[38;5;28;43mobject\u001b[39;49m\u001b[38;5;241;43m.\u001b[39;49m\u001b[38;5;21;43m__getattribute__\u001b[39;49m\u001b[43m(\u001b[49m\u001b[38;5;28;43mself\u001b[39;49m\u001b[43m,\u001b[49m\u001b[43m \u001b[49m\u001b[43mname\u001b[49m\u001b[43m)\u001b[49m\n",
      "\u001b[1;31mAttributeError\u001b[0m: 'DataFrame' object has no attribute 'bar'"
     ]
    }
   ],
   "source": [
    "import matplotlib.pyplot as plt\n",
    "\n",
    "dados.bar(x = dados['mpg'], y = dados['model year'])"
   ]
  },
  {
   "cell_type": "code",
   "execution_count": null,
   "id": "58f1b091",
   "metadata": {},
   "outputs": [],
   "source": []
  }
 ],
 "metadata": {
  "kernelspec": {
   "display_name": "Python 3 (ipykernel)",
   "language": "python",
   "name": "python3"
  },
  "language_info": {
   "codemirror_mode": {
    "name": "ipython",
    "version": 3
   },
   "file_extension": ".py",
   "mimetype": "text/x-python",
   "name": "python",
   "nbconvert_exporter": "python",
   "pygments_lexer": "ipython3",
   "version": "3.9.12"
  }
 },
 "nbformat": 4,
 "nbformat_minor": 5
}
