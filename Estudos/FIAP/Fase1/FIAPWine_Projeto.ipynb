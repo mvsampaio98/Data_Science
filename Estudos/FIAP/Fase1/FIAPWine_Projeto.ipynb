{
 "cells": [
  {
   "cell_type": "markdown",
   "id": "e4604a47",
   "metadata": {},
   "source": [
    "### Tarefa 1: Importe o dataset"
   ]
  },
  {
   "cell_type": "code",
   "execution_count": 1,
   "id": "f1b97a8f",
   "metadata": {},
   "outputs": [
    {
     "data": {
      "text/html": [
       "<div>\n",
       "<style scoped>\n",
       "    .dataframe tbody tr th:only-of-type {\n",
       "        vertical-align: middle;\n",
       "    }\n",
       "\n",
       "    .dataframe tbody tr th {\n",
       "        vertical-align: top;\n",
       "    }\n",
       "\n",
       "    .dataframe thead th {\n",
       "        text-align: right;\n",
       "    }\n",
       "</style>\n",
       "<table border=\"1\" class=\"dataframe\">\n",
       "  <thead>\n",
       "    <tr style=\"text-align: right;\">\n",
       "      <th></th>\n",
       "      <th>type</th>\n",
       "      <th>fixed acidity</th>\n",
       "      <th>volatile acidity</th>\n",
       "      <th>citric acid</th>\n",
       "      <th>residual sugar</th>\n",
       "      <th>chlorides</th>\n",
       "      <th>free sulfur dioxide</th>\n",
       "      <th>total sulfur dioxide</th>\n",
       "      <th>density</th>\n",
       "      <th>pH</th>\n",
       "      <th>sulphates</th>\n",
       "      <th>alcohol</th>\n",
       "      <th>quality</th>\n",
       "    </tr>\n",
       "  </thead>\n",
       "  <tbody>\n",
       "    <tr>\n",
       "      <th>0</th>\n",
       "      <td>white</td>\n",
       "      <td>7.0</td>\n",
       "      <td>0.27</td>\n",
       "      <td>0.36</td>\n",
       "      <td>20.7</td>\n",
       "      <td>0.045</td>\n",
       "      <td>45.0</td>\n",
       "      <td>170.0</td>\n",
       "      <td>1.0010</td>\n",
       "      <td>3.00</td>\n",
       "      <td>0.45</td>\n",
       "      <td>8.8</td>\n",
       "      <td>6</td>\n",
       "    </tr>\n",
       "    <tr>\n",
       "      <th>1</th>\n",
       "      <td>white</td>\n",
       "      <td>6.3</td>\n",
       "      <td>0.30</td>\n",
       "      <td>0.34</td>\n",
       "      <td>1.6</td>\n",
       "      <td>0.049</td>\n",
       "      <td>14.0</td>\n",
       "      <td>132.0</td>\n",
       "      <td>0.9940</td>\n",
       "      <td>3.30</td>\n",
       "      <td>0.49</td>\n",
       "      <td>9.5</td>\n",
       "      <td>6</td>\n",
       "    </tr>\n",
       "    <tr>\n",
       "      <th>2</th>\n",
       "      <td>white</td>\n",
       "      <td>8.1</td>\n",
       "      <td>0.28</td>\n",
       "      <td>0.40</td>\n",
       "      <td>6.9</td>\n",
       "      <td>0.050</td>\n",
       "      <td>30.0</td>\n",
       "      <td>97.0</td>\n",
       "      <td>0.9951</td>\n",
       "      <td>3.26</td>\n",
       "      <td>0.44</td>\n",
       "      <td>10.1</td>\n",
       "      <td>6</td>\n",
       "    </tr>\n",
       "    <tr>\n",
       "      <th>3</th>\n",
       "      <td>white</td>\n",
       "      <td>7.2</td>\n",
       "      <td>0.23</td>\n",
       "      <td>0.32</td>\n",
       "      <td>8.5</td>\n",
       "      <td>0.058</td>\n",
       "      <td>47.0</td>\n",
       "      <td>186.0</td>\n",
       "      <td>0.9956</td>\n",
       "      <td>3.19</td>\n",
       "      <td>0.40</td>\n",
       "      <td>9.9</td>\n",
       "      <td>6</td>\n",
       "    </tr>\n",
       "    <tr>\n",
       "      <th>4</th>\n",
       "      <td>white</td>\n",
       "      <td>7.2</td>\n",
       "      <td>0.23</td>\n",
       "      <td>0.32</td>\n",
       "      <td>8.5</td>\n",
       "      <td>0.058</td>\n",
       "      <td>47.0</td>\n",
       "      <td>186.0</td>\n",
       "      <td>0.9956</td>\n",
       "      <td>3.19</td>\n",
       "      <td>0.40</td>\n",
       "      <td>9.9</td>\n",
       "      <td>6</td>\n",
       "    </tr>\n",
       "  </tbody>\n",
       "</table>\n",
       "</div>"
      ],
      "text/plain": [
       "    type  fixed acidity  volatile acidity  citric acid  residual sugar  \\\n",
       "0  white            7.0              0.27         0.36            20.7   \n",
       "1  white            6.3              0.30         0.34             1.6   \n",
       "2  white            8.1              0.28         0.40             6.9   \n",
       "3  white            7.2              0.23         0.32             8.5   \n",
       "4  white            7.2              0.23         0.32             8.5   \n",
       "\n",
       "   chlorides  free sulfur dioxide  total sulfur dioxide  density    pH  \\\n",
       "0      0.045                 45.0                 170.0   1.0010  3.00   \n",
       "1      0.049                 14.0                 132.0   0.9940  3.30   \n",
       "2      0.050                 30.0                  97.0   0.9951  3.26   \n",
       "3      0.058                 47.0                 186.0   0.9956  3.19   \n",
       "4      0.058                 47.0                 186.0   0.9956  3.19   \n",
       "\n",
       "   sulphates  alcohol  quality  \n",
       "0       0.45      8.8        6  \n",
       "1       0.49      9.5        6  \n",
       "2       0.44     10.1        6  \n",
       "3       0.40      9.9        6  \n",
       "4       0.40      9.9        6  "
      ]
     },
     "execution_count": 1,
     "metadata": {},
     "output_type": "execute_result"
    }
   ],
   "source": [
    "import pandas as pd\n",
    "dados = pd.read_csv('dados/winequalityN.csv')\n",
    "dados.head()"
   ]
  },
  {
   "cell_type": "markdown",
   "id": "28997892",
   "metadata": {},
   "source": [
    "### Tarefa 2: Utilize Pandas para verificar a estrutura do dataset"
   ]
  },
  {
   "cell_type": "markdown",
   "id": "46f2cb37",
   "metadata": {},
   "source": [
    "**1. Número de linhas e colunas**"
   ]
  },
  {
   "cell_type": "code",
   "execution_count": 2,
   "id": "449b3c5a",
   "metadata": {},
   "outputs": [
    {
     "name": "stdout",
     "output_type": "stream",
     "text": [
      "O número de linhas do dataset é: 6497\n",
      "O número de colunas do dataset é: 13\n"
     ]
    }
   ],
   "source": [
    "print(f'O número de linhas do dataset é: {dados.shape[0]}')\n",
    "print(f'O número de colunas do dataset é: {dados.shape[1]}')"
   ]
  },
  {
   "cell_type": "markdown",
   "id": "37401853",
   "metadata": {},
   "source": [
    "**2. Tipos de dados das colunas**"
   ]
  },
  {
   "cell_type": "code",
   "execution_count": 3,
   "id": "503f07b6",
   "metadata": {},
   "outputs": [
    {
     "name": "stdout",
     "output_type": "stream",
     "text": [
      "<class 'pandas.core.frame.DataFrame'>\n",
      "RangeIndex: 6497 entries, 0 to 6496\n",
      "Data columns (total 13 columns):\n",
      " #   Column                Non-Null Count  Dtype  \n",
      "---  ------                --------------  -----  \n",
      " 0   type                  6497 non-null   object \n",
      " 1   fixed acidity         6487 non-null   float64\n",
      " 2   volatile acidity      6489 non-null   float64\n",
      " 3   citric acid           6494 non-null   float64\n",
      " 4   residual sugar        6495 non-null   float64\n",
      " 5   chlorides             6495 non-null   float64\n",
      " 6   free sulfur dioxide   6497 non-null   float64\n",
      " 7   total sulfur dioxide  6497 non-null   float64\n",
      " 8   density               6497 non-null   float64\n",
      " 9   pH                    6488 non-null   float64\n",
      " 10  sulphates             6493 non-null   float64\n",
      " 11  alcohol               6497 non-null   float64\n",
      " 12  quality               6497 non-null   int64  \n",
      "dtypes: float64(11), int64(1), object(1)\n",
      "memory usage: 660.0+ KB\n"
     ]
    }
   ],
   "source": [
    "dados.info()"
   ]
  },
  {
   "cell_type": "markdown",
   "id": "fffd92b7",
   "metadata": {},
   "source": [
    "### Tarefa 3: Limpe o dataset"
   ]
  },
  {
   "cell_type": "markdown",
   "id": "d6ea8595",
   "metadata": {},
   "source": [
    "**1. Remova as linhas duplicadas**"
   ]
  },
  {
   "cell_type": "code",
   "execution_count": 4,
   "id": "0ae14ddd",
   "metadata": {},
   "outputs": [
    {
     "name": "stdout",
     "output_type": "stream",
     "text": [
      "<class 'pandas.core.frame.DataFrame'>\n",
      "Int64Index: 5329 entries, 0 to 6496\n",
      "Data columns (total 13 columns):\n",
      " #   Column                Non-Null Count  Dtype  \n",
      "---  ------                --------------  -----  \n",
      " 0   type                  5329 non-null   object \n",
      " 1   fixed acidity         5319 non-null   float64\n",
      " 2   volatile acidity      5321 non-null   float64\n",
      " 3   citric acid           5326 non-null   float64\n",
      " 4   residual sugar        5327 non-null   float64\n",
      " 5   chlorides             5327 non-null   float64\n",
      " 6   free sulfur dioxide   5329 non-null   float64\n",
      " 7   total sulfur dioxide  5329 non-null   float64\n",
      " 8   density               5329 non-null   float64\n",
      " 9   pH                    5320 non-null   float64\n",
      " 10  sulphates             5325 non-null   float64\n",
      " 11  alcohol               5329 non-null   float64\n",
      " 12  quality               5329 non-null   int64  \n",
      "dtypes: float64(11), int64(1), object(1)\n",
      "memory usage: 582.9+ KB\n"
     ]
    }
   ],
   "source": [
    "dados.drop_duplicates(inplace=True)\n",
    "dados.info()"
   ]
  },
  {
   "cell_type": "markdown",
   "id": "ebf82b64",
   "metadata": {},
   "source": [
    "**2. Tratar valores faltantes**"
   ]
  },
  {
   "cell_type": "code",
   "execution_count": 5,
   "id": "60100074",
   "metadata": {},
   "outputs": [
    {
     "data": {
      "text/plain": [
       "38"
      ]
     },
     "execution_count": 5,
     "metadata": {},
     "output_type": "execute_result"
    }
   ],
   "source": [
    "dados.isnull().sum().sum()"
   ]
  },
  {
   "cell_type": "code",
   "execution_count": 6,
   "id": "c4cf1c6d",
   "metadata": {},
   "outputs": [
    {
     "name": "stdout",
     "output_type": "stream",
     "text": [
      "<class 'pandas.core.frame.DataFrame'>\n",
      "Int64Index: 5295 entries, 0 to 6496\n",
      "Data columns (total 13 columns):\n",
      " #   Column                Non-Null Count  Dtype  \n",
      "---  ------                --------------  -----  \n",
      " 0   type                  5295 non-null   object \n",
      " 1   fixed acidity         5295 non-null   float64\n",
      " 2   volatile acidity      5295 non-null   float64\n",
      " 3   citric acid           5295 non-null   float64\n",
      " 4   residual sugar        5295 non-null   float64\n",
      " 5   chlorides             5295 non-null   float64\n",
      " 6   free sulfur dioxide   5295 non-null   float64\n",
      " 7   total sulfur dioxide  5295 non-null   float64\n",
      " 8   density               5295 non-null   float64\n",
      " 9   pH                    5295 non-null   float64\n",
      " 10  sulphates             5295 non-null   float64\n",
      " 11  alcohol               5295 non-null   float64\n",
      " 12  quality               5295 non-null   int64  \n",
      "dtypes: float64(11), int64(1), object(1)\n",
      "memory usage: 579.1+ KB\n"
     ]
    }
   ],
   "source": [
    "dados.dropna(inplace=True)\n",
    "dados.info()"
   ]
  },
  {
   "cell_type": "markdown",
   "id": "217a2f13",
   "metadata": {},
   "source": [
    "### Tarefa 4: Utilize Matplotlib para visualizar informações"
   ]
  },
  {
   "cell_type": "code",
   "execution_count": 7,
   "id": "94cd96ab",
   "metadata": {},
   "outputs": [],
   "source": [
    "import matplotlib.pyplot as plt"
   ]
  },
  {
   "cell_type": "markdown",
   "id": "6be130c3",
   "metadata": {},
   "source": [
    "**1. Distribuição da acidez volátil por qualidade do vinho**"
   ]
  },
  {
   "cell_type": "markdown",
   "id": "177ad963",
   "metadata": {},
   "source": [
    "**2. Distribuição do teor alcóolico por qualidade do vinho**"
   ]
  },
  {
   "cell_type": "markdown",
   "id": "02313d4f",
   "metadata": {},
   "source": [
    "**3. Relação entre acidez volátil e teor alcóolico**"
   ]
  },
  {
   "cell_type": "markdown",
   "id": "7f65ae3b",
   "metadata": {},
   "source": [
    "**4. Relação entre teor alcóolico e qualidade do vinho**"
   ]
  },
  {
   "cell_type": "markdown",
   "id": "ca3874f4",
   "metadata": {},
   "source": [
    "### Tarefa 5: Análise de resultados"
   ]
  },
  {
   "cell_type": "markdown",
   "id": "5d9b3093",
   "metadata": {},
   "source": [
    "**1. Qual a acidez volátil média dos vinhos de qualidade elevada?**"
   ]
  },
  {
   "cell_type": "code",
   "execution_count": 8,
   "id": "f778264f",
   "metadata": {},
   "outputs": [
    {
     "data": {
      "text/plain": [
       "array([6, 5, 7, 8, 4, 3, 9], dtype=int64)"
      ]
     },
     "execution_count": 8,
     "metadata": {},
     "output_type": "execute_result"
    }
   ],
   "source": [
    "dados.quality.unique()"
   ]
  },
  {
   "cell_type": "markdown",
   "id": "52daee31",
   "metadata": {},
   "source": [
    "Irei considerar uma qualidade elevada de vinho acima da nota 8:"
   ]
  },
  {
   "cell_type": "code",
   "execution_count": 9,
   "id": "82b548d3",
   "metadata": {},
   "outputs": [
    {
     "data": {
      "text/plain": [
       "array([8, 9], dtype=int64)"
      ]
     },
     "execution_count": 9,
     "metadata": {},
     "output_type": "execute_result"
    }
   ],
   "source": [
    "qualidade_elevada = dados.query('quality >= 8')\n",
    "qualidade_elevada['quality'].unique()"
   ]
  },
  {
   "cell_type": "code",
   "execution_count": 10,
   "id": "6775d71f",
   "metadata": {},
   "outputs": [
    {
     "name": "stdout",
     "output_type": "stream",
     "text": [
      "A acidez volátil média dos vinhos de qualidade elevada é: 0.3\n"
     ]
    }
   ],
   "source": [
    "print('A acidez volátil média dos vinhos de qualidade elevada é:', round(qualidade_elevada['volatile acidity'].mean(),2))"
   ]
  },
  {
   "cell_type": "markdown",
   "id": "2b49bc78",
   "metadata": {},
   "source": [
    "**2. Qual a relação entre o teor alcóolico e qualidade do vinho?**"
   ]
  },
  {
   "cell_type": "code",
   "execution_count": 11,
   "id": "9c4df1b3",
   "metadata": {},
   "outputs": [
    {
     "data": {
      "text/html": [
       "<div>\n",
       "<style scoped>\n",
       "    .dataframe tbody tr th:only-of-type {\n",
       "        vertical-align: middle;\n",
       "    }\n",
       "\n",
       "    .dataframe tbody tr th {\n",
       "        vertical-align: top;\n",
       "    }\n",
       "\n",
       "    .dataframe thead th {\n",
       "        text-align: right;\n",
       "    }\n",
       "</style>\n",
       "<table border=\"1\" class=\"dataframe\">\n",
       "  <thead>\n",
       "    <tr style=\"text-align: right;\">\n",
       "      <th></th>\n",
       "      <th>fixed acidity</th>\n",
       "      <th>volatile acidity</th>\n",
       "      <th>citric acid</th>\n",
       "      <th>residual sugar</th>\n",
       "      <th>chlorides</th>\n",
       "      <th>free sulfur dioxide</th>\n",
       "      <th>total sulfur dioxide</th>\n",
       "      <th>density</th>\n",
       "      <th>pH</th>\n",
       "      <th>sulphates</th>\n",
       "      <th>alcohol</th>\n",
       "      <th>quality</th>\n",
       "    </tr>\n",
       "  </thead>\n",
       "  <tbody>\n",
       "    <tr>\n",
       "      <th>fixed acidity</th>\n",
       "      <td>1.000000</td>\n",
       "      <td>0.216524</td>\n",
       "      <td>0.329252</td>\n",
       "      <td>-0.106084</td>\n",
       "      <td>0.289903</td>\n",
       "      <td>-0.282025</td>\n",
       "      <td>-0.328631</td>\n",
       "      <td>0.478920</td>\n",
       "      <td>-0.269624</td>\n",
       "      <td>0.307044</td>\n",
       "      <td>-0.103657</td>\n",
       "      <td>-0.079599</td>\n",
       "    </tr>\n",
       "    <tr>\n",
       "      <th>volatile acidity</th>\n",
       "      <td>0.216524</td>\n",
       "      <td>1.000000</td>\n",
       "      <td>-0.382750</td>\n",
       "      <td>-0.164438</td>\n",
       "      <td>0.368266</td>\n",
       "      <td>-0.349784</td>\n",
       "      <td>-0.401231</td>\n",
       "      <td>0.308416</td>\n",
       "      <td>0.245329</td>\n",
       "      <td>0.226537</td>\n",
       "      <td>-0.066781</td>\n",
       "      <td>-0.265214</td>\n",
       "    </tr>\n",
       "    <tr>\n",
       "      <th>citric acid</th>\n",
       "      <td>0.329252</td>\n",
       "      <td>-0.382750</td>\n",
       "      <td>1.000000</td>\n",
       "      <td>0.146528</td>\n",
       "      <td>0.055266</td>\n",
       "      <td>0.130802</td>\n",
       "      <td>0.194231</td>\n",
       "      <td>0.095824</td>\n",
       "      <td>-0.342648</td>\n",
       "      <td>0.062121</td>\n",
       "      <td>-0.005124</td>\n",
       "      <td>0.097926</td>\n",
       "    </tr>\n",
       "    <tr>\n",
       "      <th>residual sugar</th>\n",
       "      <td>-0.106084</td>\n",
       "      <td>-0.164438</td>\n",
       "      <td>0.146528</td>\n",
       "      <td>1.000000</td>\n",
       "      <td>-0.123115</td>\n",
       "      <td>0.399579</td>\n",
       "      <td>0.487534</td>\n",
       "      <td>0.520194</td>\n",
       "      <td>-0.233319</td>\n",
       "      <td>-0.174663</td>\n",
       "      <td>-0.305311</td>\n",
       "      <td>-0.054625</td>\n",
       "    </tr>\n",
       "    <tr>\n",
       "      <th>chlorides</th>\n",
       "      <td>0.289903</td>\n",
       "      <td>0.368266</td>\n",
       "      <td>0.055266</td>\n",
       "      <td>-0.123115</td>\n",
       "      <td>1.000000</td>\n",
       "      <td>-0.187312</td>\n",
       "      <td>-0.270009</td>\n",
       "      <td>0.372126</td>\n",
       "      <td>0.025963</td>\n",
       "      <td>0.405771</td>\n",
       "      <td>-0.270196</td>\n",
       "      <td>-0.202016</td>\n",
       "    </tr>\n",
       "    <tr>\n",
       "      <th>free sulfur dioxide</th>\n",
       "      <td>-0.282025</td>\n",
       "      <td>-0.349784</td>\n",
       "      <td>0.130802</td>\n",
       "      <td>0.399579</td>\n",
       "      <td>-0.187312</td>\n",
       "      <td>1.000000</td>\n",
       "      <td>0.721308</td>\n",
       "      <td>0.005827</td>\n",
       "      <td>-0.141368</td>\n",
       "      <td>-0.199005</td>\n",
       "      <td>-0.169854</td>\n",
       "      <td>0.053786</td>\n",
       "    </tr>\n",
       "    <tr>\n",
       "      <th>total sulfur dioxide</th>\n",
       "      <td>-0.328631</td>\n",
       "      <td>-0.401231</td>\n",
       "      <td>0.194231</td>\n",
       "      <td>0.487534</td>\n",
       "      <td>-0.270009</td>\n",
       "      <td>0.721308</td>\n",
       "      <td>1.000000</td>\n",
       "      <td>0.005974</td>\n",
       "      <td>-0.222003</td>\n",
       "      <td>-0.275389</td>\n",
       "      <td>-0.247779</td>\n",
       "      <td>-0.050728</td>\n",
       "    </tr>\n",
       "    <tr>\n",
       "      <th>density</th>\n",
       "      <td>0.478920</td>\n",
       "      <td>0.308416</td>\n",
       "      <td>0.095824</td>\n",
       "      <td>0.520194</td>\n",
       "      <td>0.372126</td>\n",
       "      <td>0.005827</td>\n",
       "      <td>0.005974</td>\n",
       "      <td>1.000000</td>\n",
       "      <td>0.034979</td>\n",
       "      <td>0.283042</td>\n",
       "      <td>-0.668950</td>\n",
       "      <td>-0.325338</td>\n",
       "    </tr>\n",
       "    <tr>\n",
       "      <th>pH</th>\n",
       "      <td>-0.269624</td>\n",
       "      <td>0.245329</td>\n",
       "      <td>-0.342648</td>\n",
       "      <td>-0.233319</td>\n",
       "      <td>0.025963</td>\n",
       "      <td>-0.141368</td>\n",
       "      <td>-0.222003</td>\n",
       "      <td>0.034979</td>\n",
       "      <td>1.000000</td>\n",
       "      <td>0.166139</td>\n",
       "      <td>0.096615</td>\n",
       "      <td>0.038903</td>\n",
       "    </tr>\n",
       "    <tr>\n",
       "      <th>sulphates</th>\n",
       "      <td>0.307044</td>\n",
       "      <td>0.226537</td>\n",
       "      <td>0.062121</td>\n",
       "      <td>-0.174663</td>\n",
       "      <td>0.405771</td>\n",
       "      <td>-0.199005</td>\n",
       "      <td>-0.275389</td>\n",
       "      <td>0.283042</td>\n",
       "      <td>0.166139</td>\n",
       "      <td>1.000000</td>\n",
       "      <td>-0.019008</td>\n",
       "      <td>0.041806</td>\n",
       "    </tr>\n",
       "    <tr>\n",
       "      <th>alcohol</th>\n",
       "      <td>-0.103657</td>\n",
       "      <td>-0.066781</td>\n",
       "      <td>-0.005124</td>\n",
       "      <td>-0.305311</td>\n",
       "      <td>-0.270196</td>\n",
       "      <td>-0.169854</td>\n",
       "      <td>-0.247779</td>\n",
       "      <td>-0.668950</td>\n",
       "      <td>0.096615</td>\n",
       "      <td>-0.019008</td>\n",
       "      <td>1.000000</td>\n",
       "      <td>0.470143</td>\n",
       "    </tr>\n",
       "    <tr>\n",
       "      <th>quality</th>\n",
       "      <td>-0.079599</td>\n",
       "      <td>-0.265214</td>\n",
       "      <td>0.097926</td>\n",
       "      <td>-0.054625</td>\n",
       "      <td>-0.202016</td>\n",
       "      <td>0.053786</td>\n",
       "      <td>-0.050728</td>\n",
       "      <td>-0.325338</td>\n",
       "      <td>0.038903</td>\n",
       "      <td>0.041806</td>\n",
       "      <td>0.470143</td>\n",
       "      <td>1.000000</td>\n",
       "    </tr>\n",
       "  </tbody>\n",
       "</table>\n",
       "</div>"
      ],
      "text/plain": [
       "                      fixed acidity  volatile acidity  citric acid  \\\n",
       "fixed acidity              1.000000          0.216524     0.329252   \n",
       "volatile acidity           0.216524          1.000000    -0.382750   \n",
       "citric acid                0.329252         -0.382750     1.000000   \n",
       "residual sugar            -0.106084         -0.164438     0.146528   \n",
       "chlorides                  0.289903          0.368266     0.055266   \n",
       "free sulfur dioxide       -0.282025         -0.349784     0.130802   \n",
       "total sulfur dioxide      -0.328631         -0.401231     0.194231   \n",
       "density                    0.478920          0.308416     0.095824   \n",
       "pH                        -0.269624          0.245329    -0.342648   \n",
       "sulphates                  0.307044          0.226537     0.062121   \n",
       "alcohol                   -0.103657         -0.066781    -0.005124   \n",
       "quality                   -0.079599         -0.265214     0.097926   \n",
       "\n",
       "                      residual sugar  chlorides  free sulfur dioxide  \\\n",
       "fixed acidity              -0.106084   0.289903            -0.282025   \n",
       "volatile acidity           -0.164438   0.368266            -0.349784   \n",
       "citric acid                 0.146528   0.055266             0.130802   \n",
       "residual sugar              1.000000  -0.123115             0.399579   \n",
       "chlorides                  -0.123115   1.000000            -0.187312   \n",
       "free sulfur dioxide         0.399579  -0.187312             1.000000   \n",
       "total sulfur dioxide        0.487534  -0.270009             0.721308   \n",
       "density                     0.520194   0.372126             0.005827   \n",
       "pH                         -0.233319   0.025963            -0.141368   \n",
       "sulphates                  -0.174663   0.405771            -0.199005   \n",
       "alcohol                    -0.305311  -0.270196            -0.169854   \n",
       "quality                    -0.054625  -0.202016             0.053786   \n",
       "\n",
       "                      total sulfur dioxide   density        pH  sulphates  \\\n",
       "fixed acidity                    -0.328631  0.478920 -0.269624   0.307044   \n",
       "volatile acidity                 -0.401231  0.308416  0.245329   0.226537   \n",
       "citric acid                       0.194231  0.095824 -0.342648   0.062121   \n",
       "residual sugar                    0.487534  0.520194 -0.233319  -0.174663   \n",
       "chlorides                        -0.270009  0.372126  0.025963   0.405771   \n",
       "free sulfur dioxide               0.721308  0.005827 -0.141368  -0.199005   \n",
       "total sulfur dioxide              1.000000  0.005974 -0.222003  -0.275389   \n",
       "density                           0.005974  1.000000  0.034979   0.283042   \n",
       "pH                               -0.222003  0.034979  1.000000   0.166139   \n",
       "sulphates                        -0.275389  0.283042  0.166139   1.000000   \n",
       "alcohol                          -0.247779 -0.668950  0.096615  -0.019008   \n",
       "quality                          -0.050728 -0.325338  0.038903   0.041806   \n",
       "\n",
       "                       alcohol   quality  \n",
       "fixed acidity        -0.103657 -0.079599  \n",
       "volatile acidity     -0.066781 -0.265214  \n",
       "citric acid          -0.005124  0.097926  \n",
       "residual sugar       -0.305311 -0.054625  \n",
       "chlorides            -0.270196 -0.202016  \n",
       "free sulfur dioxide  -0.169854  0.053786  \n",
       "total sulfur dioxide -0.247779 -0.050728  \n",
       "density              -0.668950 -0.325338  \n",
       "pH                    0.096615  0.038903  \n",
       "sulphates            -0.019008  0.041806  \n",
       "alcohol               1.000000  0.470143  \n",
       "quality               0.470143  1.000000  "
      ]
     },
     "execution_count": 11,
     "metadata": {},
     "output_type": "execute_result"
    }
   ],
   "source": [
    "dados.corr()"
   ]
  },
  {
   "cell_type": "markdown",
   "id": "11bda862",
   "metadata": {},
   "source": [
    "A correlação entre Álcool e Qualidade do vinho é de **0.47**, o que significa que provavelmente vinhos de qualidade elevada tem um maior teor alcóolico"
   ]
  },
  {
   "cell_type": "code",
   "execution_count": 12,
   "id": "de8742a6",
   "metadata": {},
   "outputs": [
    {
     "data": {
      "image/png": "[encoded data removed]",
      "text/plain": [
       "<Figure size 864x432 with 1 Axes>"
      ]
     },
     "metadata": {
      "needs_background": "light"
     },
     "output_type": "display_data"
    }
   ],
   "source": [
    "dados.groupby('quality')['alcohol'].mean().plot(kind='bar',figsize=(12,6),grid=True)\n",
    "plt.title('Média de Teor alcóolico de vinhos por sua Qualidade')\n",
    "plt.xlabel('Qualidade')\n",
    "plt.ylabel('Média de Teor alcóolico')\n",
    "plt.xticks(rotation=0)\n",
    "plt.show()"
   ]
  },
  {
   "cell_type": "markdown",
   "id": "a0293787",
   "metadata": {},
   "source": [
    "A conclusão da primeira análise pode ser confirmada também pelo gráfico acima"
   ]
  },
  {
   "cell_type": "markdown",
   "id": "cda7e7fa",
   "metadata": {},
   "source": [
    "**3. Há alguma relação entre acidez volátil e teor alcóolico?**"
   ]
  },
  {
   "cell_type": "markdown",
   "id": "b6a33465",
   "metadata": {},
   "source": [
    "Não. Conforme vimos no tópico acima, podemos concluir que a correlação entre teor alcóolico e acidez volátil é apenas de **-0.066**, ou seja, quase nula, logo não existe relação alguma entre as variáveis !"
   ]
  },
  {
   "cell_type": "markdown",
   "id": "841619c0",
   "metadata": {},
   "source": [
    "**4. Há alguma relação entre acidez volátil e qualidade do vinho?**"
   ]
  },
  {
   "cell_type": "markdown",
   "id": "5c93c92c",
   "metadata": {},
   "source": [
    "Conforme vimos no tópico 2, a correlação entre essas variáveis é de **-0.265214**, o que indica um certo nível de correlação mesmo que seja um pouco fraca. Como essa correlação é negativa, geralmente quanto maior a acidez volátil menor será sua qualidade, pois estas variáveis são inversamente proporcionais"
   ]
  },
  {
   "cell_type": "code",
   "execution_count": 13,
   "id": "3aa00c9a",
   "metadata": {},
   "outputs": [
    {
     "data": {
      "image/png": "[encoded data removed]",
      "text/plain": [
       "<Figure size 864x432 with 1 Axes>"
      ]
     },
     "metadata": {
      "needs_background": "light"
     },
     "output_type": "display_data"
    }
   ],
   "source": [
    "dados.groupby('quality')['volatile acidity'].mean().plot(kind='bar',figsize=(12,6),grid=True)\n",
    "plt.title('Média de Acidez Volátil de vinhos por sua Qualidade')\n",
    "plt.xlabel('Qualidade')\n",
    "plt.ylabel('Média de Acidez Volátil')\n",
    "plt.xticks(rotation=0)\n",
    "plt.show()"
   ]
  },
  {
   "cell_type": "markdown",
   "id": "48243c06",
   "metadata": {},
   "source": [
    "O gráfico acima nos permite notar justamente esse comportamento !"
   ]
  },
  {
   "cell_type": "markdown",
   "id": "19b96eb0",
   "metadata": {},
   "source": [
    "### Tarefa 6: Melhore esteticamente os gráficos feitos na Tarefa 5 utilizando o Seaborn:"
   ]
  },
  {
   "cell_type": "code",
   "execution_count": 16,
   "id": "0646ec41",
   "metadata": {},
   "outputs": [],
   "source": [
    "import seaborn as sns"
   ]
  },
  {
   "cell_type": "markdown",
   "id": "817a9766",
   "metadata": {},
   "source": [
    "**Grafico 1:**"
   ]
  },
  {
   "cell_type": "code",
   "execution_count": 18,
   "id": "4a23d9ec",
   "metadata": {},
   "outputs": [
    {
     "data": {
      "text/plain": [
       "quality\n",
       "3    10.215000\n",
       "4    10.211765\n",
       "5     9.873074\n",
       "6    10.649401\n",
       "7    11.514358\n",
       "8    11.912162\n",
       "9    12.180000\n",
       "Name: alcohol, dtype: float64"
      ]
     },
     "execution_count": 18,
     "metadata": {},
     "output_type": "execute_result"
    }
   ],
   "source": [
    "dados_qualidade_alcool"
   ]
  },
  {
   "cell_type": "code",
   "execution_count": 28,
   "id": "40a6c41b",
   "metadata": {},
   "outputs": [
    {
     "data": {
      "image/png": "[encoded data removed]",
      "text/plain": [
       "<Figure size 864x432 with 1 Axes>"
      ]
     },
     "metadata": {
      "needs_background": "light"
     },
     "output_type": "display_data"
    }
   ],
   "source": [
    "plt.figure(figsize=(12,6))\n",
    "plt.title('Média de Teor alcóolico de vinhos por sua Qualidade')\n",
    "plt.xticks(rotation=0)\n",
    "plt.grid(ls='--')\n",
    "sns.barplot(data=dados,x='quality',y='alcohol')\n",
    "plt.xlabel('Qualidade')\n",
    "plt.ylabel('Média de Teor alcóolico')\n",
    "plt.show()"
   ]
  },
  {
   "cell_type": "markdown",
   "id": "d3c4f176",
   "metadata": {},
   "source": [
    "**Grafico 2:**"
   ]
  },
  {
   "cell_type": "code",
   "execution_count": 27,
   "id": "3e942c9e",
   "metadata": {},
   "outputs": [
    {
     "data": {
      "image/png": "[encoded data removed]",
      "text/plain": [
       "<Figure size 864x432 with 1 Axes>"
      ]
     },
     "metadata": {
      "needs_background": "light"
     },
     "output_type": "display_data"
    }
   ],
   "source": [
    "plt.figure(figsize=(12,6))\n",
    "plt.title('Média de Teor alcóolico de vinhos por sua Qualidade')\n",
    "plt.xticks(rotation=0)\n",
    "plt.grid(ls='--')\n",
    "sns.barplot(data=dados,x='quality',y='volatile acidity')\n",
    "plt.xlabel('Qualidade')\n",
    "plt.ylabel('Média de Teor alcóolico')\n",
    "plt.show()"
   ]
  }
 ],
 "metadata": {
  "kernelspec": {
   "display_name": "Python 3 (ipykernel)",
   "language": "python",
   "name": "python3"
  },
  "language_info": {
   "codemirror_mode": {
    "name": "ipython",
    "version": 3
   },
   "file_extension": ".py",
   "mimetype": "text/x-python",
   "name": "python",
   "nbconvert_exporter": "python",
   "pygments_lexer": "ipython3",
   "version": "3.9.12"
  }
 },
 "nbformat": 4,
 "nbformat_minor": 5
}
