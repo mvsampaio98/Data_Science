{
 "cells": [
  {
   "cell_type": "markdown",
   "id": "84cd7827",
   "metadata": {},
   "source": [
    "### Aula 1:"
   ]
  },
  {
   "cell_type": "markdown",
   "id": "2d1b18de",
   "metadata": {},
   "source": [
    "**Algebra Linear**: Resolver sistemas de esquações lineares."
   ]
  },
  {
   "cell_type": "markdown",
   "id": "61e174af",
   "metadata": {},
   "source": [
    "### Aula 2:"
   ]
  },
  {
   "cell_type": "markdown",
   "id": "d741c7d0",
   "metadata": {},
   "source": [
    "Se você utilizar 4 cifrões você pode escrever fórmulas matemáticas em Markdown, conforme esse exemplo abaixo:"
   ]
  },
  {
   "cell_type": "markdown",
   "id": "88216be8",
   "metadata": {},
   "source": [
    "$$\\alpha + \\beta = 10$$"
   ]
  },
  {
   "cell_type": "code",
   "execution_count": 1,
   "id": "6d269ab4",
   "metadata": {},
   "outputs": [],
   "source": [
    "# Principais bibliotecas que trabalham com estatística:\n",
    "import numpy as np\n",
    "import scipy as sc\n",
    "import sympy as sy "
   ]
  },
  {
   "cell_type": "markdown",
   "id": "50ac8027",
   "metadata": {},
   "source": [
    "--------------"
   ]
  },
  {
   "cell_type": "code",
   "execution_count": 2,
   "id": "5cb5c607",
   "metadata": {},
   "outputs": [],
   "source": [
    "x1 = 2 # Valor escalar\n",
    "x2 = np.array([1,2,3]) # Vetor com três elementos escalares\n",
    "x3 = np.array([[1],[2],[3]]) # Matriz com três elementos vetores com elementos escalares\n",
    "x4 = np.array([[1,2,3],[1,2,3],[1,2,3]]) # Matriz tradicional"
   ]
  },
  {
   "cell_type": "code",
   "execution_count": 3,
   "id": "f7b0c9ef",
   "metadata": {},
   "outputs": [
    {
     "name": "stdout",
     "output_type": "stream",
     "text": [
      "Escalar: \n",
      " 2\n",
      "Vetor: \n",
      " [1 2 3]\n",
      "Matriz: \n",
      " [[1]\n",
      " [2]\n",
      " [3]]\n",
      "Matriz Tradicional: \n",
      " [[1 2 3]\n",
      " [1 2 3]\n",
      " [1 2 3]]\n"
     ]
    }
   ],
   "source": [
    "print('Escalar: \\n', x1)\n",
    "print('Vetor: \\n', x2)\n",
    "print('Matriz: \\n', x3)\n",
    "print('Matriz Tradicional: \\n', x4)"
   ]
  },
  {
   "cell_type": "markdown",
   "id": "83a82b05",
   "metadata": {},
   "source": [
    "### Aula 3:"
   ]
  },
  {
   "cell_type": "code",
   "execution_count": 4,
   "id": "0c1864fa",
   "metadata": {},
   "outputs": [],
   "source": [
    "import pandas as pd"
   ]
  },
  {
   "cell_type": "code",
   "execution_count": 5,
   "id": "4a77d9c0",
   "metadata": {
    "scrolled": false
   },
   "outputs": [
    {
     "data": {
      "text/html": [
       "<div>\n",
       "<style scoped>\n",
       "    .dataframe tbody tr th:only-of-type {\n",
       "        vertical-align: middle;\n",
       "    }\n",
       "\n",
       "    .dataframe tbody tr th {\n",
       "        vertical-align: top;\n",
       "    }\n",
       "\n",
       "    .dataframe thead th {\n",
       "        text-align: right;\n",
       "    }\n",
       "</style>\n",
       "<table border=\"1\" class=\"dataframe\">\n",
       "  <thead>\n",
       "    <tr style=\"text-align: right;\">\n",
       "      <th></th>\n",
       "      <th>coluna 1</th>\n",
       "    </tr>\n",
       "  </thead>\n",
       "  <tbody>\n",
       "    <tr>\n",
       "      <th>0</th>\n",
       "      <td>1</td>\n",
       "    </tr>\n",
       "    <tr>\n",
       "      <th>1</th>\n",
       "      <td>2</td>\n",
       "    </tr>\n",
       "    <tr>\n",
       "      <th>2</th>\n",
       "      <td>3</td>\n",
       "    </tr>\n",
       "    <tr>\n",
       "      <th>3</th>\n",
       "      <td>4</td>\n",
       "    </tr>\n",
       "    <tr>\n",
       "      <th>4</th>\n",
       "      <td>5</td>\n",
       "    </tr>\n",
       "  </tbody>\n",
       "</table>\n",
       "</div>"
      ],
      "text/plain": [
       "   coluna 1\n",
       "0         1\n",
       "1         2\n",
       "2         3\n",
       "3         4\n",
       "4         5"
      ]
     },
     "execution_count": 5,
     "metadata": {},
     "output_type": "execute_result"
    }
   ],
   "source": [
    "lista = [1,2,3,4,5]\n",
    "\n",
    "df = pd.DataFrame({'coluna 1':lista})\n",
    "df"
   ]
  },
  {
   "cell_type": "code",
   "execution_count": 6,
   "id": "db9e5ea3",
   "metadata": {},
   "outputs": [
    {
     "data": {
      "text/plain": [
       "pandas.core.frame.DataFrame"
      ]
     },
     "execution_count": 6,
     "metadata": {},
     "output_type": "execute_result"
    }
   ],
   "source": [
    "type(df)"
   ]
  },
  {
   "cell_type": "markdown",
   "id": "d40e79c4",
   "metadata": {},
   "source": [
    "### Aula 4:"
   ]
  },
  {
   "cell_type": "markdown",
   "id": "6c98cd4f",
   "metadata": {},
   "source": [
    "-----------"
   ]
  },
  {
   "cell_type": "markdown",
   "id": "de7d1e36",
   "metadata": {},
   "source": [
    "Soma de Matrizes: Utiliza a propriedade de distributiva conforme exemplo abaixo:"
   ]
  },
  {
   "cell_type": "code",
   "execution_count": 12,
   "id": "99df514a",
   "metadata": {},
   "outputs": [
    {
     "data": {
      "text/plain": [
       "array([3, 4, 5])"
      ]
     },
     "execution_count": 12,
     "metadata": {},
     "output_type": "execute_result"
    }
   ],
   "source": [
    "x1+x2"
   ]
  },
  {
   "cell_type": "code",
   "execution_count": 13,
   "id": "2f8555ec",
   "metadata": {},
   "outputs": [
    {
     "data": {
      "text/plain": [
       "array([[2, 3, 4],\n",
       "       [3, 4, 5],\n",
       "       [4, 5, 6]])"
      ]
     },
     "execution_count": 13,
     "metadata": {},
     "output_type": "execute_result"
    }
   ],
   "source": [
    "x2+x3"
   ]
  },
  {
   "cell_type": "markdown",
   "id": "e28fe64a",
   "metadata": {},
   "source": [
    "### Aula 5:"
   ]
  },
  {
   "cell_type": "markdown",
   "id": "6efac4df",
   "metadata": {},
   "source": [
    "Multiplicar Matrizes: Somente ocorre se o **numero de colunas** da primeira matriz deve ser **igual** ao **numero de linhas** da segunda matriz.\n",
    "\n",
    "Lembrando que a ordem dos fatos da multiplicação altera o resultado no caso de matrizes, ou seja: **A.B != B.A**"
   ]
  },
  {
   "cell_type": "code",
   "execution_count": 11,
   "id": "f06a81b9",
   "metadata": {},
   "outputs": [
    {
     "data": {
      "text/plain": [
       "array([[14],\n",
       "       [14],\n",
       "       [14]])"
      ]
     },
     "execution_count": 11,
     "metadata": {},
     "output_type": "execute_result"
    }
   ],
   "source": [
    "x4@x3"
   ]
  },
  {
   "cell_type": "markdown",
   "id": "b19abd49",
   "metadata": {},
   "source": [
    "Divisão Matrizes:\n",
    "\n",
    "**A.X = Y** --> Essa equação é muito importante para solucionar diversos problemas de Machine Learning (Equação Fundamental da Algebra Linear)\n",
    "\n",
    "Podemos até conseguir dividir matrizes, porém não podemos passa por exemplo a matriz solução X dividindo pela matriz resultado Y."
   ]
  },
  {
   "cell_type": "code",
   "execution_count": 14,
   "id": "22575793",
   "metadata": {},
   "outputs": [
    {
     "data": {
      "text/plain": [
       "array([[1.        , 2.        , 3.        ],\n",
       "       [0.5       , 1.        , 1.5       ],\n",
       "       [0.33333333, 0.66666667, 1.        ]])"
      ]
     },
     "execution_count": 14,
     "metadata": {},
     "output_type": "execute_result"
    }
   ],
   "source": [
    "x4/x3"
   ]
  },
  {
   "cell_type": "code",
   "execution_count": null,
   "id": "72422098",
   "metadata": {},
   "outputs": [],
   "source": []
  }
 ],
 "metadata": {
  "kernelspec": {
   "display_name": "Python 3 (ipykernel)",
   "language": "python",
   "name": "python3"
  },
  "language_info": {
   "codemirror_mode": {
    "name": "ipython",
    "version": 3
   },
   "file_extension": ".py",
   "mimetype": "text/x-python",
   "name": "python",
   "nbconvert_exporter": "python",
   "pygments_lexer": "ipython3",
   "version": "3.9.12"
  }
 },
 "nbformat": 4,
 "nbformat_minor": 5
}
