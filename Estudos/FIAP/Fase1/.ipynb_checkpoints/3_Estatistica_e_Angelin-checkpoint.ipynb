{
 "cells": [
  {
   "cell_type": "markdown",
   "id": "84cd7827",
   "metadata": {},
   "source": [
    "### Aula 1:"
   ]
  },
  {
   "cell_type": "markdown",
   "id": "2d1b18de",
   "metadata": {},
   "source": [
    "**Algebra Linear**: Resolver sistemas de esquações lineares."
   ]
  },
  {
   "cell_type": "markdown",
   "id": "61e174af",
   "metadata": {},
   "source": [
    "### Aula 2:"
   ]
  },
  {
   "cell_type": "markdown",
   "id": "d741c7d0",
   "metadata": {},
   "source": [
    "Se você utilizar 4 cifrões você pode escrever fórmulas matemáticas em Markdown, conforme esse exemplo abaixo:"
   ]
  },
  {
   "cell_type": "markdown",
   "id": "88216be8",
   "metadata": {},
   "source": [
    "$$\\alpha + \\beta = 10$$"
   ]
  },
  {
   "cell_type": "code",
   "execution_count": 1,
   "id": "6d269ab4",
   "metadata": {},
   "outputs": [],
   "source": [
    "# Principais bibliotecas que trabalham com estatística:\n",
    "import numpy as np\n",
    "import scipy as sc\n",
    "import sympy as sy "
   ]
  },
  {
   "cell_type": "markdown",
   "id": "50ac8027",
   "metadata": {},
   "source": [
    "--------------"
   ]
  },
  {
   "cell_type": "code",
   "execution_count": 2,
   "id": "5cb5c607",
   "metadata": {},
   "outputs": [],
   "source": [
    "x1 = 2 # Valor escalar\n",
    "x2 = np.array([1,2,3]) # Vetor com três elementos escalares\n",
    "x3 = np.array([[1],[2],[3]]) # Matriz com três elementos vetores com elementos escalares\n",
    "x4 = np.array([[1,2,3],[1,2,3],[1,2,3]]) # Matriz tradicional"
   ]
  },
  {
   "cell_type": "code",
   "execution_count": 3,
   "id": "f7b0c9ef",
   "metadata": {},
   "outputs": [
    {
     "name": "stdout",
     "output_type": "stream",
     "text": [
      "Escalar: \n",
      " 2\n",
      "Vetor: \n",
      " [1 2 3]\n",
      "Matriz: \n",
      " [[1]\n",
      " [2]\n",
      " [3]]\n",
      "Matriz Tradicional: \n",
      " [[1 2 3]\n",
      " [1 2 3]\n",
      " [1 2 3]]\n"
     ]
    }
   ],
   "source": [
    "print('Escalar: \\n', x1)\n",
    "print('Vetor: \\n', x2)\n",
    "print('Matriz: \\n', x3)\n",
    "print('Matriz Tradicional: \\n', x4)"
   ]
  },
  {
   "cell_type": "markdown",
   "id": "83a82b05",
   "metadata": {},
   "source": [
    "### Aula 3:"
   ]
  },
  {
   "cell_type": "code",
   "execution_count": 4,
   "id": "0c1864fa",
   "metadata": {},
   "outputs": [],
   "source": [
    "import pandas as pd"
   ]
  },
  {
   "cell_type": "code",
   "execution_count": 5,
   "id": "4a77d9c0",
   "metadata": {
    "scrolled": false
   },
   "outputs": [
    {
     "data": {
      "text/html": [
       "<div>\n",
       "<style scoped>\n",
       "    .dataframe tbody tr th:only-of-type {\n",
       "        vertical-align: middle;\n",
       "    }\n",
       "\n",
       "    .dataframe tbody tr th {\n",
       "        vertical-align: top;\n",
       "    }\n",
       "\n",
       "    .dataframe thead th {\n",
       "        text-align: right;\n",
       "    }\n",
       "</style>\n",
       "<table border=\"1\" class=\"dataframe\">\n",
       "  <thead>\n",
       "    <tr style=\"text-align: right;\">\n",
       "      <th></th>\n",
       "      <th>coluna 1</th>\n",
       "    </tr>\n",
       "  </thead>\n",
       "  <tbody>\n",
       "    <tr>\n",
       "      <th>0</th>\n",
       "      <td>1</td>\n",
       "    </tr>\n",
       "    <tr>\n",
       "      <th>1</th>\n",
       "      <td>2</td>\n",
       "    </tr>\n",
       "    <tr>\n",
       "      <th>2</th>\n",
       "      <td>3</td>\n",
       "    </tr>\n",
       "    <tr>\n",
       "      <th>3</th>\n",
       "      <td>4</td>\n",
       "    </tr>\n",
       "    <tr>\n",
       "      <th>4</th>\n",
       "      <td>5</td>\n",
       "    </tr>\n",
       "  </tbody>\n",
       "</table>\n",
       "</div>"
      ],
      "text/plain": [
       "   coluna 1\n",
       "0         1\n",
       "1         2\n",
       "2         3\n",
       "3         4\n",
       "4         5"
      ]
     },
     "execution_count": 5,
     "metadata": {},
     "output_type": "execute_result"
    }
   ],
   "source": [
    "lista = [1,2,3,4,5]\n",
    "\n",
    "df = pd.DataFrame({'coluna 1':lista})\n",
    "df"
   ]
  },
  {
   "cell_type": "code",
   "execution_count": 6,
   "id": "db9e5ea3",
   "metadata": {},
   "outputs": [
    {
     "data": {
      "text/plain": [
       "pandas.core.frame.DataFrame"
      ]
     },
     "execution_count": 6,
     "metadata": {},
     "output_type": "execute_result"
    }
   ],
   "source": [
    "type(df)"
   ]
  },
  {
   "cell_type": "markdown",
   "id": "d40e79c4",
   "metadata": {},
   "source": [
    "### Aula 4:"
   ]
  },
  {
   "cell_type": "markdown",
   "id": "6c98cd4f",
   "metadata": {},
   "source": [
    "-----------"
   ]
  },
  {
   "cell_type": "markdown",
   "id": "de7d1e36",
   "metadata": {},
   "source": [
    "Soma de Matrizes: Utiliza a propriedade de distributiva conforme exemplo abaixo:"
   ]
  },
  {
   "cell_type": "code",
   "execution_count": 7,
   "id": "99df514a",
   "metadata": {},
   "outputs": [
    {
     "data": {
      "text/plain": [
       "array([3, 4, 5])"
      ]
     },
     "execution_count": 7,
     "metadata": {},
     "output_type": "execute_result"
    }
   ],
   "source": [
    "x1+x2"
   ]
  },
  {
   "cell_type": "code",
   "execution_count": 8,
   "id": "2f8555ec",
   "metadata": {},
   "outputs": [
    {
     "data": {
      "text/plain": [
       "array([[2, 3, 4],\n",
       "       [3, 4, 5],\n",
       "       [4, 5, 6]])"
      ]
     },
     "execution_count": 8,
     "metadata": {},
     "output_type": "execute_result"
    }
   ],
   "source": [
    "x2+x3"
   ]
  },
  {
   "cell_type": "markdown",
   "id": "e28fe64a",
   "metadata": {},
   "source": [
    "### Aula 5:"
   ]
  },
  {
   "cell_type": "markdown",
   "id": "6efac4df",
   "metadata": {},
   "source": [
    "Multiplicar Matrizes: Somente ocorre se o **numero de colunas** da primeira matriz deve ser **igual** ao **numero de linhas** da segunda matriz.\n",
    "\n",
    "Lembrando que a ordem dos fatos da multiplicação altera o resultado no caso de matrizes, ou seja: **A.B != B.A**"
   ]
  },
  {
   "cell_type": "code",
   "execution_count": 9,
   "id": "f06a81b9",
   "metadata": {},
   "outputs": [
    {
     "data": {
      "text/plain": [
       "array([[14],\n",
       "       [14],\n",
       "       [14]])"
      ]
     },
     "execution_count": 9,
     "metadata": {},
     "output_type": "execute_result"
    }
   ],
   "source": [
    "x4@x3"
   ]
  },
  {
   "cell_type": "markdown",
   "id": "b19abd49",
   "metadata": {},
   "source": [
    "Divisão Matrizes:\n",
    "\n",
    "**A.X = Y** --> Essa equação é muito importante para solucionar diversos problemas de Machine Learning (Equação Fundamental da Algebra Linear)\n",
    "\n",
    "Podemos até conseguir dividir matrizes, porém não podemos passa por exemplo a matriz solução X dividindo pela matriz resultado Y."
   ]
  },
  {
   "cell_type": "code",
   "execution_count": 10,
   "id": "22575793",
   "metadata": {},
   "outputs": [
    {
     "data": {
      "text/plain": [
       "array([[1.        , 2.        , 3.        ],\n",
       "       [0.5       , 1.        , 1.5       ],\n",
       "       [0.33333333, 0.66666667, 1.        ]])"
      ]
     },
     "execution_count": 10,
     "metadata": {},
     "output_type": "execute_result"
    }
   ],
   "source": [
    "x4/x3"
   ]
  },
  {
   "cell_type": "markdown",
   "id": "3e20e972",
   "metadata": {},
   "source": [
    "### Aula 6:"
   ]
  },
  {
   "cell_type": "markdown",
   "id": "2871dd09",
   "metadata": {},
   "source": [
    "• 0 é elemento neutro na soma e subtração.\n",
    "\n",
    "• 1 é elemento neutro na multiplicação e divisão."
   ]
  },
  {
   "cell_type": "code",
   "execution_count": 11,
   "id": "803ce928",
   "metadata": {},
   "outputs": [
    {
     "data": {
      "text/plain": [
       "array([[0., 0., 0.],\n",
       "       [0., 0., 0.],\n",
       "       [0., 0., 0.]])"
      ]
     },
     "execution_count": 11,
     "metadata": {},
     "output_type": "execute_result"
    }
   ],
   "source": [
    "# Criando matriz de zeros:\n",
    "\n",
    "zeros = np.zeros((3,3))\n",
    "zeros"
   ]
  },
  {
   "cell_type": "code",
   "execution_count": 12,
   "id": "3dfc6c89",
   "metadata": {},
   "outputs": [
    {
     "data": {
      "text/plain": [
       "array([[1., 1., 1.],\n",
       "       [1., 1., 1.],\n",
       "       [1., 1., 1.]])"
      ]
     },
     "execution_count": 12,
     "metadata": {},
     "output_type": "execute_result"
    }
   ],
   "source": [
    "# Criando matriz de numeros 1:\n",
    "\n",
    "ones = np.ones((3,3))\n",
    "ones"
   ]
  },
  {
   "cell_type": "code",
   "execution_count": 13,
   "id": "30516913",
   "metadata": {},
   "outputs": [
    {
     "data": {
      "text/plain": [
       "array([[1., 0., 0.],\n",
       "       [0., 1., 0.],\n",
       "       [0., 0., 1.]])"
      ]
     },
     "execution_count": 13,
     "metadata": {},
     "output_type": "execute_result"
    }
   ],
   "source": [
    "# Criando matriz identidade:\n",
    "\n",
    "matriz_id = np.eye(3)\n",
    "matriz_id"
   ]
  },
  {
   "cell_type": "markdown",
   "id": "27bee12c",
   "metadata": {},
   "source": [
    "### Aula 7:"
   ]
  },
  {
   "cell_type": "markdown",
   "id": "a6a2ccb4",
   "metadata": {},
   "source": [
    "• Um número que multiplica o seu inverso tem sempre que resultar em 1."
   ]
  },
  {
   "cell_type": "markdown",
   "id": "3152a5b8",
   "metadata": {},
   "source": [
    "$$ x*x^{-1} = 1 $$\n",
    "Logo a matriz inversa é dada por:\n",
    "$$ A*A^{-1} = I $$\n",
    "Voltando para a Eq. fundamental da álgebra:\n",
    "$$ A.X = Y$$\n",
    "$$ A.A^{-1}.X = Y.A^{-1}$$\n",
    "$$ I.X = A^{-1}.Y$$\n",
    "$$ X = A^{-1}.Y$$"
   ]
  },
  {
   "cell_type": "markdown",
   "id": "d25ff9ba",
   "metadata": {},
   "source": [
    "### Aula 8:"
   ]
  },
  {
   "cell_type": "markdown",
   "id": "3aa695cb",
   "metadata": {},
   "source": [
    "• Continuando com a abordagem da aula passada, sabemos que:"
   ]
  },
  {
   "cell_type": "markdown",
   "id": "bce9f21a",
   "metadata": {},
   "source": [
    "$$ X = (A^{T}A)^{-1}$$\n",
    "$$ X = (A^{T}A)^{-1} A^{T}Y$$"
   ]
  },
  {
   "cell_type": "code",
   "execution_count": 14,
   "id": "db54389d",
   "metadata": {},
   "outputs": [
    {
     "data": {
      "image/png": "[encoded data removed]",
      "text/plain": [
       "<Figure size 720x360 with 1 Axes>"
      ]
     },
     "metadata": {
      "needs_background": "light"
     },
     "output_type": "display_data"
    }
   ],
   "source": [
    "x1,y1 = -1,0\n",
    "x2,y2 = 0,1\n",
    "x3,y3 = 1,2\n",
    "x4,y4 = 2,1\n",
    "\n",
    "x = [x1,x2,x3,x4]\n",
    "y = [y1,y2,y3,y4]\n",
    "\n",
    "import matplotlib.pyplot as plt\n",
    "\n",
    "plt.figure(figsize=(10,5))\n",
    "\n",
    "plt.scatter(x1,y1,color = 'green', label = 'Pares ordenados (x,y)')\n",
    "plt.scatter(x2,y2,color = 'green')\n",
    "plt.scatter(x3,y3,color = 'green')\n",
    "plt.scatter(x4,y4,color = 'green')\n",
    "\n",
    "plt.plot(x,y, label = 'Grafico que liga os pontos')\n",
    "plt.grid(True)\n",
    "plt.box(False)\n",
    "plt.legend()\n",
    "plt.title('Interpolação da Reta sobre todos os pontos')\n",
    "plt.show()"
   ]
  },
  {
   "cell_type": "code",
   "execution_count": 15,
   "id": "977afa98",
   "metadata": {},
   "outputs": [],
   "source": [
    "# y = mx + n\n",
    "# 0 = -m + n\n",
    "# 1 = n\n",
    "# 2 = m + n\n",
    "# 1 = 2m + n\n",
    "# A matriz A são os numeros que multiplicam os coeficientes angulares\n",
    "# e lineares de cada par ordenado:\n",
    "A = np.array([[-1,1], [0,1], [1,1], [2,1]])\n",
    "y = np.array([[y1], [y2], [y3], [y4]])"
   ]
  },
  {
   "cell_type": "code",
   "execution_count": 16,
   "id": "d16a2bb8",
   "metadata": {},
   "outputs": [
    {
     "data": {
      "text/plain": [
       "array([[-1,  1],\n",
       "       [ 0,  1],\n",
       "       [ 1,  1],\n",
       "       [ 2,  1]])"
      ]
     },
     "execution_count": 16,
     "metadata": {},
     "output_type": "execute_result"
    }
   ],
   "source": [
    "A"
   ]
  },
  {
   "cell_type": "code",
   "execution_count": 17,
   "id": "ace9c0cb",
   "metadata": {},
   "outputs": [
    {
     "data": {
      "text/plain": [
       "array([[0],\n",
       "       [1],\n",
       "       [2],\n",
       "       [1]])"
      ]
     },
     "execution_count": 17,
     "metadata": {},
     "output_type": "execute_result"
    }
   ],
   "source": [
    "y"
   ]
  },
  {
   "cell_type": "markdown",
   "id": "2ca3e469",
   "metadata": {},
   "source": [
    "Achando os valores de m e n por meio da equação:"
   ]
  },
  {
   "cell_type": "markdown",
   "id": "42c3dcc5",
   "metadata": {},
   "source": [
    "$$ X = (A^{T}A)^{-1} A^{T}Y$$"
   ]
  },
  {
   "cell_type": "code",
   "execution_count": 18,
   "id": "f37326f0",
   "metadata": {},
   "outputs": [
    {
     "name": "stdout",
     "output_type": "stream",
     "text": [
      "[0.4] [0.8]\n"
     ]
    }
   ],
   "source": [
    "(m,n) = np.dot(np.dot(np.linalg.pinv(np.dot(A.T,A)),A.T),y)\n",
    "print(m,n)"
   ]
  },
  {
   "cell_type": "code",
   "execution_count": 19,
   "id": "94fe20a9",
   "metadata": {},
   "outputs": [
    {
     "data": {
      "image/png": "[encoded data removed]",
      "text/plain": [
       "<Figure size 720x360 with 1 Axes>"
      ]
     },
     "metadata": {
      "needs_background": "light"
     },
     "output_type": "display_data"
    }
   ],
   "source": [
    "x1,y1 = -1,0\n",
    "x2,y2 = 0,1\n",
    "x3,y3 = 1,2\n",
    "x4,y4 = 2,1\n",
    "\n",
    "x = [x1,x2,x3,x4]\n",
    "y = [y1,y2,y3,y4]\n",
    "\n",
    "import matplotlib.pyplot as plt\n",
    "\n",
    "plt.figure(figsize=(10,5))\n",
    "\n",
    "plt.scatter(x1,y1,color = 'green', label = 'Pares ordenados (x,y)')\n",
    "plt.scatter(x2,y2,color = 'green')\n",
    "plt.scatter(x3,y3,color = 'green')\n",
    "plt.scatter(x4,y4,color = 'green')\n",
    "\n",
    "v_x = np.linspace(-1,2)\n",
    "plt.plot(x,y, label = 'Grafico que liga os pontos')\n",
    "plt.plot(v_x, m*v_x+n, label = 'Reta otimizada pela MMQ')\n",
    "plt.grid(True)\n",
    "plt.box(False)\n",
    "plt.legend()\n",
    "plt.title('Interpolação da Reta sobre todos os pontos')\n",
    "plt.show()"
   ]
  }
 ],
 "metadata": {
  "kernelspec": {
   "display_name": "Python 3 (ipykernel)",
   "language": "python",
   "name": "python3"
  },
  "language_info": {
   "codemirror_mode": {
    "name": "ipython",
    "version": 3
   },
   "file_extension": ".py",
   "mimetype": "text/x-python",
   "name": "python",
   "nbconvert_exporter": "python",
   "pygments_lexer": "ipython3",
   "version": "3.9.12"
  }
 },
 "nbformat": 4,
 "nbformat_minor": 5
}
