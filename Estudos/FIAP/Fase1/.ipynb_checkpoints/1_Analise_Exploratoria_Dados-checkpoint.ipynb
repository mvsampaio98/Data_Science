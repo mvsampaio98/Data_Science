{
 "cells": [
  {
   "cell_type": "markdown",
   "id": "3eae5811",
   "metadata": {},
   "source": [
    "### Importando a base de dados no Pandas:"
   ]
  },
  {
   "cell_type": "code",
   "execution_count": 1,
   "id": "164ed707",
   "metadata": {},
   "outputs": [],
   "source": [
    "import pandas as pd"
   ]
  },
  {
   "cell_type": "markdown",
   "id": "0886f614",
   "metadata": {},
   "source": [
    "Utilizamos o *encoding* correto para a leitura dos nossos dados, o parâmetro *skiprows* para pular as primeiras linhas desnecessárias e o *skipfooter* para pular as últimas linhas. Os parâmetros *thousands* e *decimal* é utilizado para trocar as casas decimais de vírgula para ponto por exemplo, ficando igual a convenção americana de dados numéricos. "
   ]
  },
  {
   "cell_type": "code",
   "execution_count": 2,
   "id": "f38fbe5e",
   "metadata": {},
   "outputs": [
    {
     "name": "stderr",
     "output_type": "stream",
     "text": [
      "C:\\Users\\mvsam\\AppData\\Local\\Temp\\ipykernel_3936\\4093605996.py:1: ParserWarning: Falling back to the 'python' engine because the 'c' engine does not support skipfooter; you can avoid this warning by specifying engine='python'.\n",
      "  dados = pd.read_csv('dados/sih_cnv_qiuf214900192_141_121_80.csv', encoding='ISO-8859-1', skiprows=3,sep=';',skipfooter=12, thousands=',', decimal='.')\n"
     ]
    }
   ],
   "source": [
    "dados = pd.read_csv('dados/sih_cnv_qiuf214900192_141_121_80.csv', encoding='ISO-8859-1', skiprows=3,sep=';',skipfooter=12, thousands=',', decimal='.')"
   ]
  },
  {
   "cell_type": "markdown",
   "id": "d03c19f4",
   "metadata": {},
   "source": [
    "### Vizualisando as primeiras 5 linhas do DataFrame:"
   ]
  },
  {
   "cell_type": "code",
   "execution_count": 3,
   "id": "fc69d784",
   "metadata": {},
   "outputs": [
    {
     "data": {
      "text/html": [
       "<div>\n",
       "<style scoped>\n",
       "    .dataframe tbody tr th:only-of-type {\n",
       "        vertical-align: middle;\n",
       "    }\n",
       "\n",
       "    .dataframe tbody tr th {\n",
       "        vertical-align: top;\n",
       "    }\n",
       "\n",
       "    .dataframe thead th {\n",
       "        text-align: right;\n",
       "    }\n",
       "</style>\n",
       "<table border=\"1\" class=\"dataframe\">\n",
       "  <thead>\n",
       "    <tr style=\"text-align: right;\">\n",
       "      <th></th>\n",
       "      <th>Unidade da Federação</th>\n",
       "      <th>2008/Jan</th>\n",
       "      <th>2008/Fev</th>\n",
       "      <th>2008/Mar</th>\n",
       "      <th>2008/Abr</th>\n",
       "      <th>2008/Mai</th>\n",
       "      <th>2008/Jun</th>\n",
       "      <th>2008/Jul</th>\n",
       "      <th>2008/Ago</th>\n",
       "      <th>2008/Set</th>\n",
       "      <th>...</th>\n",
       "      <th>2022/Dez</th>\n",
       "      <th>2023/Jan</th>\n",
       "      <th>2023/Fev</th>\n",
       "      <th>2023/Mar</th>\n",
       "      <th>2023/Abr</th>\n",
       "      <th>2023/Mai</th>\n",
       "      <th>2023/Jun</th>\n",
       "      <th>2023/Jul</th>\n",
       "      <th>2023/Ago</th>\n",
       "      <th>Total</th>\n",
       "    </tr>\n",
       "  </thead>\n",
       "  <tbody>\n",
       "    <tr>\n",
       "      <th>0</th>\n",
       "      <td>11 Rondônia</td>\n",
       "      <td>138852839</td>\n",
       "      <td>293128342</td>\n",
       "      <td>154168252</td>\n",
       "      <td>152531496</td>\n",
       "      <td>164595384</td>\n",
       "      <td>140615068</td>\n",
       "      <td>306527901</td>\n",
       "      <td>323149461</td>\n",
       "      <td>311717863</td>\n",
       "      <td>...</td>\n",
       "      <td>1113518734</td>\n",
       "      <td>1026383680</td>\n",
       "      <td>863172679</td>\n",
       "      <td>1121531762</td>\n",
       "      <td>1044675493</td>\n",
       "      <td>1374643823</td>\n",
       "      <td>1121183038</td>\n",
       "      <td>1099185034</td>\n",
       "      <td>1186133649</td>\n",
       "      <td>133662481079</td>\n",
       "    </tr>\n",
       "    <tr>\n",
       "      <th>1</th>\n",
       "      <td>12 Acre</td>\n",
       "      <td>90241600</td>\n",
       "      <td>149720626</td>\n",
       "      <td>179402848</td>\n",
       "      <td>173046942</td>\n",
       "      <td>181944392</td>\n",
       "      <td>182849600</td>\n",
       "      <td>251175459</td>\n",
       "      <td>208910714</td>\n",
       "      <td>227570853</td>\n",
       "      <td>...</td>\n",
       "      <td>399902390</td>\n",
       "      <td>349241089</td>\n",
       "      <td>426193815</td>\n",
       "      <td>492748249</td>\n",
       "      <td>470118254</td>\n",
       "      <td>484500675</td>\n",
       "      <td>512489900</td>\n",
       "      <td>569279393</td>\n",
       "      <td>456128178</td>\n",
       "      <td>57039178605</td>\n",
       "    </tr>\n",
       "    <tr>\n",
       "      <th>2</th>\n",
       "      <td>13 Amazonas</td>\n",
       "      <td>473552942</td>\n",
       "      <td>711899057</td>\n",
       "      <td>819663549</td>\n",
       "      <td>825937842</td>\n",
       "      <td>783139990</td>\n",
       "      <td>847727362</td>\n",
       "      <td>936885872</td>\n",
       "      <td>935253270</td>\n",
       "      <td>936309935</td>\n",
       "      <td>...</td>\n",
       "      <td>2217448271</td>\n",
       "      <td>2058288210</td>\n",
       "      <td>1659281825</td>\n",
       "      <td>2162675785</td>\n",
       "      <td>1948146577</td>\n",
       "      <td>2161230585</td>\n",
       "      <td>2163396664</td>\n",
       "      <td>2412332939</td>\n",
       "      <td>2361516103</td>\n",
       "      <td>252583307582</td>\n",
       "    </tr>\n",
       "    <tr>\n",
       "      <th>3</th>\n",
       "      <td>14 Roraima</td>\n",
       "      <td>65788953</td>\n",
       "      <td>77793931</td>\n",
       "      <td>71868803</td>\n",
       "      <td>83999439</td>\n",
       "      <td>86234796</td>\n",
       "      <td>83244066</td>\n",
       "      <td>99669309</td>\n",
       "      <td>89427118</td>\n",
       "      <td>91042417</td>\n",
       "      <td>...</td>\n",
       "      <td>441603067</td>\n",
       "      <td>448675639</td>\n",
       "      <td>388737646</td>\n",
       "      <td>459729719</td>\n",
       "      <td>445628966</td>\n",
       "      <td>443504277</td>\n",
       "      <td>381736158</td>\n",
       "      <td>340221096</td>\n",
       "      <td>423652689</td>\n",
       "      <td>43876763621</td>\n",
       "    </tr>\n",
       "    <tr>\n",
       "      <th>4</th>\n",
       "      <td>15 Pará</td>\n",
       "      <td>1886474411</td>\n",
       "      <td>1955375820</td>\n",
       "      <td>2193734270</td>\n",
       "      <td>2084282969</td>\n",
       "      <td>2324995288</td>\n",
       "      <td>2324068756</td>\n",
       "      <td>2400222356</td>\n",
       "      <td>2334121803</td>\n",
       "      <td>2517226132</td>\n",
       "      <td>...</td>\n",
       "      <td>4449125098</td>\n",
       "      <td>4625608099</td>\n",
       "      <td>4636830540</td>\n",
       "      <td>4730248261</td>\n",
       "      <td>4758254376</td>\n",
       "      <td>4656882878</td>\n",
       "      <td>4435819639</td>\n",
       "      <td>5193018094</td>\n",
       "      <td>4452007427</td>\n",
       "      <td>605729973983</td>\n",
       "    </tr>\n",
       "  </tbody>\n",
       "</table>\n",
       "<p>5 rows × 190 columns</p>\n",
       "</div>"
      ],
      "text/plain": [
       "  Unidade da Federação    2008/Jan    2008/Fev    2008/Mar    2008/Abr  \\\n",
       "0          11 Rondônia   138852839   293128342   154168252   152531496   \n",
       "1              12 Acre    90241600   149720626   179402848   173046942   \n",
       "2          13 Amazonas   473552942   711899057   819663549   825937842   \n",
       "3           14 Roraima    65788953    77793931    71868803    83999439   \n",
       "4              15 Pará  1886474411  1955375820  2193734270  2084282969   \n",
       "\n",
       "     2008/Mai    2008/Jun    2008/Jul    2008/Ago    2008/Set  ...  \\\n",
       "0   164595384   140615068   306527901   323149461   311717863  ...   \n",
       "1   181944392   182849600   251175459   208910714   227570853  ...   \n",
       "2   783139990   847727362   936885872   935253270   936309935  ...   \n",
       "3    86234796    83244066    99669309    89427118    91042417  ...   \n",
       "4  2324995288  2324068756  2400222356  2334121803  2517226132  ...   \n",
       "\n",
       "     2022/Dez    2023/Jan    2023/Fev    2023/Mar    2023/Abr    2023/Mai  \\\n",
       "0  1113518734  1026383680   863172679  1121531762  1044675493  1374643823   \n",
       "1   399902390   349241089   426193815   492748249   470118254   484500675   \n",
       "2  2217448271  2058288210  1659281825  2162675785  1948146577  2161230585   \n",
       "3   441603067   448675639   388737646   459729719   445628966   443504277   \n",
       "4  4449125098  4625608099  4636830540  4730248261  4758254376  4656882878   \n",
       "\n",
       "     2023/Jun    2023/Jul    2023/Ago         Total  \n",
       "0  1121183038  1099185034  1186133649  133662481079  \n",
       "1   512489900   569279393   456128178   57039178605  \n",
       "2  2163396664  2412332939  2361516103  252583307582  \n",
       "3   381736158   340221096   423652689   43876763621  \n",
       "4  4435819639  5193018094  4452007427  605729973983  \n",
       "\n",
       "[5 rows x 190 columns]"
      ]
     },
     "execution_count": 3,
     "metadata": {},
     "output_type": "execute_result"
    }
   ],
   "source": [
    "dados.head()"
   ]
  },
  {
   "cell_type": "markdown",
   "id": "6d36d961",
   "metadata": {},
   "source": [
    "### Obtendo algumas informações do DataFrame:"
   ]
  },
  {
   "cell_type": "code",
   "execution_count": 4,
   "id": "a8367618",
   "metadata": {},
   "outputs": [
    {
     "name": "stdout",
     "output_type": "stream",
     "text": [
      "<class 'pandas.core.frame.DataFrame'>\n",
      "RangeIndex: 27 entries, 0 to 26\n",
      "Columns: 190 entries, Unidade da Federação to Total\n",
      "dtypes: int64(188), object(2)\n",
      "memory usage: 40.2+ KB\n"
     ]
    }
   ],
   "source": [
    "dados.info()"
   ]
  },
  {
   "cell_type": "markdown",
   "id": "7f106738",
   "metadata": {},
   "source": [
    "### Como faço para visualizar apenas a coluna mais recente do Dataframe ?"
   ]
  },
  {
   "cell_type": "markdown",
   "id": "a1a4578a",
   "metadata": {},
   "source": [
    "Dessa forma abaixo, selecionamos a penúltima coluna que representa o mês mais atual do nosso DataFrame:"
   ]
  },
  {
   "cell_type": "code",
   "execution_count": 5,
   "id": "be786ba4",
   "metadata": {},
   "outputs": [
    {
     "data": {
      "text/plain": [
       "0      1186133649\n",
       "1       456128178\n",
       "2      2361516103\n",
       "3       423652689\n",
       "4      4452007427\n",
       "5       350366651\n",
       "6        72157985\n",
       "7      3567714992\n",
       "8      2138963140\n",
       "9      5150113705\n",
       "10     3221636368\n",
       "11     2857633455\n",
       "12     8875277912\n",
       "13     1273963466\n",
       "14     1594451274\n",
       "15    10256151185\n",
       "16    22078883931\n",
       "17     4182290519\n",
       "18    11439538104\n",
       "19    40054755364\n",
       "20    15600869498\n",
       "21     9224957198\n",
       "22    11794044816\n",
       "23     2725042475\n",
       "24     2056487502\n",
       "25     4749383659\n",
       "26     3096124428\n",
       "Name: 2023/Ago, dtype: int64"
      ]
     },
     "execution_count": 5,
     "metadata": {},
     "output_type": "execute_result"
    }
   ],
   "source": [
    "dados.iloc[:, -2]"
   ]
  }
 ],
 "metadata": {
  "kernelspec": {
   "display_name": "Python 3 (ipykernel)",
   "language": "python",
   "name": "python3"
  },
  "language_info": {
   "codemirror_mode": {
    "name": "ipython",
    "version": 3
   },
   "file_extension": ".py",
   "mimetype": "text/x-python",
   "name": "python",
   "nbconvert_exporter": "python",
   "pygments_lexer": "ipython3",
   "version": "3.9.12"
  }
 },
 "nbformat": 4,
 "nbformat_minor": 5
}
