{
 "cells": [
  {
   "cell_type": "code",
   "execution_count": 1,
   "id": "55c7e20e",
   "metadata": {},
   "outputs": [],
   "source": [
    "import pandas as pd"
   ]
  },
  {
   "cell_type": "code",
   "execution_count": 2,
   "id": "db8074d3",
   "metadata": {},
   "outputs": [
    {
     "data": {
      "text/html": [
       "<div>\n",
       "<style scoped>\n",
       "    .dataframe tbody tr th:only-of-type {\n",
       "        vertical-align: middle;\n",
       "    }\n",
       "\n",
       "    .dataframe tbody tr th {\n",
       "        vertical-align: top;\n",
       "    }\n",
       "\n",
       "    .dataframe thead th {\n",
       "        text-align: right;\n",
       "    }\n",
       "</style>\n",
       "<table border=\"1\" class=\"dataframe\">\n",
       "  <thead>\n",
       "    <tr style=\"text-align: right;\">\n",
       "      <th></th>\n",
       "      <th>Unidade da Federação</th>\n",
       "      <th>2023/Ago</th>\n",
       "    </tr>\n",
       "  </thead>\n",
       "  <tbody>\n",
       "    <tr>\n",
       "      <th>0</th>\n",
       "      <td>35 São Paulo</td>\n",
       "      <td>400.547554</td>\n",
       "    </tr>\n",
       "    <tr>\n",
       "      <th>1</th>\n",
       "      <td>31 Minas Gerais</td>\n",
       "      <td>220.788839</td>\n",
       "    </tr>\n",
       "    <tr>\n",
       "      <th>2</th>\n",
       "      <td>41 Paraná</td>\n",
       "      <td>156.008695</td>\n",
       "    </tr>\n",
       "    <tr>\n",
       "      <th>3</th>\n",
       "      <td>43 Rio Grande do Sul</td>\n",
       "      <td>117.940448</td>\n",
       "    </tr>\n",
       "    <tr>\n",
       "      <th>4</th>\n",
       "      <td>33 Rio de Janeiro</td>\n",
       "      <td>114.395381</td>\n",
       "    </tr>\n",
       "  </tbody>\n",
       "</table>\n",
       "</div>"
      ],
      "text/plain": [
       "   Unidade da Federação    2023/Ago\n",
       "0          35 São Paulo  400.547554\n",
       "1       31 Minas Gerais  220.788839\n",
       "2             41 Paraná  156.008695\n",
       "3  43 Rio Grande do Sul  117.940448\n",
       "4     33 Rio de Janeiro  114.395381"
      ]
     },
     "execution_count": 2,
     "metadata": {},
     "output_type": "execute_result"
    }
   ],
   "source": [
    "gastos_mais_recente = pd.read_csv('dados/gastos_mais_recente.csv')\n",
    "gastos_mais_recente.head()"
   ]
  },
  {
   "cell_type": "code",
   "execution_count": 3,
   "id": "e1999e31",
   "metadata": {},
   "outputs": [],
   "source": [
    "dados_ibge = pd.read_html('https://pt.wikipedia.org/wiki/Lista_de_unidades_federativas_do_Brasil_por_popula%C3%A7%C3%A3o')"
   ]
  },
  {
   "cell_type": "code",
   "execution_count": 4,
   "id": "f9ebc70e",
   "metadata": {},
   "outputs": [
    {
     "data": {
      "text/html": [
       "<div>\n",
       "<style scoped>\n",
       "    .dataframe tbody tr th:only-of-type {\n",
       "        vertical-align: middle;\n",
       "    }\n",
       "\n",
       "    .dataframe tbody tr th {\n",
       "        vertical-align: top;\n",
       "    }\n",
       "\n",
       "    .dataframe thead th {\n",
       "        text-align: right;\n",
       "    }\n",
       "</style>\n",
       "<table border=\"1\" class=\"dataframe\">\n",
       "  <thead>\n",
       "    <tr style=\"text-align: right;\">\n",
       "      <th></th>\n",
       "      <th>Posição</th>\n",
       "      <th>Unidade federativa</th>\n",
       "      <th>População(Censo de 2022)[2]</th>\n",
       "      <th>População(Censo de 2010)[3]</th>\n",
       "      <th>Mudança</th>\n",
       "      <th>% da pop. total</th>\n",
       "      <th>País comparável (habitantes)</th>\n",
       "    </tr>\n",
       "  </thead>\n",
       "  <tbody>\n",
       "    <tr>\n",
       "      <th>0</th>\n",
       "      <td>1</td>\n",
       "      <td>São Paulo</td>\n",
       "      <td>44 411 238</td>\n",
       "      <td>41 262 199</td>\n",
       "      <td>+7.63%</td>\n",
       "      <td>21,88%</td>\n",
       "      <td>Argentina (46 621 847)</td>\n",
       "    </tr>\n",
       "    <tr>\n",
       "      <th>1</th>\n",
       "      <td>2</td>\n",
       "      <td>Minas Gerais</td>\n",
       "      <td>20 538 718</td>\n",
       "      <td>19 597 330</td>\n",
       "      <td>+4.81%</td>\n",
       "      <td>10,11%</td>\n",
       "      <td>Burquina Fasso (20 903 273)</td>\n",
       "    </tr>\n",
       "    <tr>\n",
       "      <th>2</th>\n",
       "      <td>3</td>\n",
       "      <td>Rio de Janeiro</td>\n",
       "      <td>16 054 524</td>\n",
       "      <td>15 989 929</td>\n",
       "      <td>+0.40%</td>\n",
       "      <td>7,91%</td>\n",
       "      <td>Camboja (16 718 965)</td>\n",
       "    </tr>\n",
       "    <tr>\n",
       "      <th>3</th>\n",
       "      <td>4</td>\n",
       "      <td>Bahia</td>\n",
       "      <td>14 141 626</td>\n",
       "      <td>14 016 906</td>\n",
       "      <td>+0.89%</td>\n",
       "      <td>6,96%</td>\n",
       "      <td>Zimbabwe (14 862 924)</td>\n",
       "    </tr>\n",
       "    <tr>\n",
       "      <th>4</th>\n",
       "      <td>5</td>\n",
       "      <td>Paraná</td>\n",
       "      <td>11 444 380</td>\n",
       "      <td>10 444 526</td>\n",
       "      <td>+9.57%</td>\n",
       "      <td>5,64%</td>\n",
       "      <td>Tunísia (11 818 619)</td>\n",
       "    </tr>\n",
       "  </tbody>\n",
       "</table>\n",
       "</div>"
      ],
      "text/plain": [
       "   Posição Unidade federativa População(Censo de 2022)[2]  \\\n",
       "0        1          São Paulo                  44 411 238   \n",
       "1        2       Minas Gerais                  20 538 718   \n",
       "2        3     Rio de Janeiro                  16 054 524   \n",
       "3        4              Bahia                  14 141 626   \n",
       "4        5             Paraná                  11 444 380   \n",
       "\n",
       "  População(Censo de 2010)[3] Mudança % da pop. total  \\\n",
       "0                  41 262 199  +7.63%          21,88%   \n",
       "1                  19 597 330  +4.81%          10,11%   \n",
       "2                  15 989 929  +0.40%           7,91%   \n",
       "3                  14 016 906  +0.89%           6,96%   \n",
       "4                  10 444 526  +9.57%           5,64%   \n",
       "\n",
       "  País comparável (habitantes)  \n",
       "0       Argentina (46 621 847)  \n",
       "1  Burquina Fasso (20 903 273)  \n",
       "2         Camboja (16 718 965)  \n",
       "3        Zimbabwe (14 862 924)  \n",
       "4         Tunísia (11 818 619)  "
      ]
     },
     "execution_count": 4,
     "metadata": {},
     "output_type": "execute_result"
    }
   ],
   "source": [
    "dados_ibge_tab = dados_ibge[1]\n",
    "dados_ibge_tab.head()"
   ]
  },
  {
   "cell_type": "code",
   "execution_count": 5,
   "id": "22956589",
   "metadata": {},
   "outputs": [
    {
     "data": {
      "text/html": [
       "<div>\n",
       "<style scoped>\n",
       "    .dataframe tbody tr th:only-of-type {\n",
       "        vertical-align: middle;\n",
       "    }\n",
       "\n",
       "    .dataframe tbody tr th {\n",
       "        vertical-align: top;\n",
       "    }\n",
       "\n",
       "    .dataframe thead th {\n",
       "        text-align: right;\n",
       "    }\n",
       "</style>\n",
       "<table border=\"1\" class=\"dataframe\">\n",
       "  <thead>\n",
       "    <tr style=\"text-align: right;\">\n",
       "      <th></th>\n",
       "      <th>Unidade federativa</th>\n",
       "      <th>População(Censo de 2022)[2]</th>\n",
       "    </tr>\n",
       "  </thead>\n",
       "  <tbody>\n",
       "    <tr>\n",
       "      <th>0</th>\n",
       "      <td>São Paulo</td>\n",
       "      <td>44 411 238</td>\n",
       "    </tr>\n",
       "    <tr>\n",
       "      <th>1</th>\n",
       "      <td>Minas Gerais</td>\n",
       "      <td>20 538 718</td>\n",
       "    </tr>\n",
       "    <tr>\n",
       "      <th>2</th>\n",
       "      <td>Rio de Janeiro</td>\n",
       "      <td>16 054 524</td>\n",
       "    </tr>\n",
       "    <tr>\n",
       "      <th>3</th>\n",
       "      <td>Bahia</td>\n",
       "      <td>14 141 626</td>\n",
       "    </tr>\n",
       "    <tr>\n",
       "      <th>4</th>\n",
       "      <td>Paraná</td>\n",
       "      <td>11 444 380</td>\n",
       "    </tr>\n",
       "  </tbody>\n",
       "</table>\n",
       "</div>"
      ],
      "text/plain": [
       "  Unidade federativa População(Censo de 2022)[2]\n",
       "0          São Paulo                  44 411 238\n",
       "1       Minas Gerais                  20 538 718\n",
       "2     Rio de Janeiro                  16 054 524\n",
       "3              Bahia                  14 141 626\n",
       "4             Paraná                  11 444 380"
      ]
     },
     "execution_count": 5,
     "metadata": {},
     "output_type": "execute_result"
    }
   ],
   "source": [
    "dados_ibge_tab = dados_ibge_tab[['Unidade federativa', 'População(Censo de 2022)[2]']]\n",
    "dados_ibge_tab.head()"
   ]
  },
  {
   "cell_type": "code",
   "execution_count": 6,
   "id": "3a92a475",
   "metadata": {
    "scrolled": false
   },
   "outputs": [
    {
     "name": "stdout",
     "output_type": "stream",
     "text": [
      "<class 'pandas.core.frame.DataFrame'>\n",
      "RangeIndex: 27 entries, 0 to 26\n",
      "Data columns (total 2 columns):\n",
      " #   Column                       Non-Null Count  Dtype \n",
      "---  ------                       --------------  ----- \n",
      " 0   Unidade federativa           27 non-null     object\n",
      " 1   População(Censo de 2022)[2]  27 non-null     object\n",
      "dtypes: object(2)\n",
      "memory usage: 560.0+ bytes\n"
     ]
    }
   ],
   "source": [
    "dados_ibge_tab.info()"
   ]
  },
  {
   "cell_type": "code",
   "execution_count": 7,
   "id": "87b0cdd2",
   "metadata": {},
   "outputs": [
    {
     "data": {
      "text/html": [
       "<div>\n",
       "<style scoped>\n",
       "    .dataframe tbody tr th:only-of-type {\n",
       "        vertical-align: middle;\n",
       "    }\n",
       "\n",
       "    .dataframe tbody tr th {\n",
       "        vertical-align: top;\n",
       "    }\n",
       "\n",
       "    .dataframe thead th {\n",
       "        text-align: right;\n",
       "    }\n",
       "</style>\n",
       "<table border=\"1\" class=\"dataframe\">\n",
       "  <thead>\n",
       "    <tr style=\"text-align: right;\">\n",
       "      <th></th>\n",
       "      <th>Unidade da Federação</th>\n",
       "      <th>populacao</th>\n",
       "    </tr>\n",
       "  </thead>\n",
       "  <tbody>\n",
       "    <tr>\n",
       "      <th>0</th>\n",
       "      <td>São Paulo</td>\n",
       "      <td>44 411 238</td>\n",
       "    </tr>\n",
       "    <tr>\n",
       "      <th>1</th>\n",
       "      <td>Minas Gerais</td>\n",
       "      <td>20 538 718</td>\n",
       "    </tr>\n",
       "    <tr>\n",
       "      <th>2</th>\n",
       "      <td>Rio de Janeiro</td>\n",
       "      <td>16 054 524</td>\n",
       "    </tr>\n",
       "    <tr>\n",
       "      <th>3</th>\n",
       "      <td>Bahia</td>\n",
       "      <td>14 141 626</td>\n",
       "    </tr>\n",
       "    <tr>\n",
       "      <th>4</th>\n",
       "      <td>Paraná</td>\n",
       "      <td>11 444 380</td>\n",
       "    </tr>\n",
       "  </tbody>\n",
       "</table>\n",
       "</div>"
      ],
      "text/plain": [
       "  Unidade da Federação   populacao\n",
       "0            São Paulo  44 411 238\n",
       "1         Minas Gerais  20 538 718\n",
       "2       Rio de Janeiro  16 054 524\n",
       "3                Bahia  14 141 626\n",
       "4               Paraná  11 444 380"
      ]
     },
     "execution_count": 7,
     "metadata": {},
     "output_type": "execute_result"
    }
   ],
   "source": [
    "dados_ibge_tab.columns = ['Unidade da Federação', 'populacao']\n",
    "dados_ibge_tab.head()"
   ]
  },
  {
   "cell_type": "code",
   "execution_count": 8,
   "id": "7584b9ca",
   "metadata": {},
   "outputs": [
    {
     "name": "stderr",
     "output_type": "stream",
     "text": [
      "C:\\Users\\mvsam\\AppData\\Local\\Temp\\ipykernel_14648\\372465251.py:1: SettingWithCopyWarning: \n",
      "A value is trying to be set on a copy of a slice from a DataFrame.\n",
      "Try using .loc[row_indexer,col_indexer] = value instead\n",
      "\n",
      "See the caveats in the documentation: https://pandas.pydata.org/pandas-docs/stable/user_guide/indexing.html#returning-a-view-versus-a-copy\n",
      "  dados_ibge_tab['populacao'] = dados_ibge_tab['populacao'].str.replace('\\xa0', '').astype(int)\n"
     ]
    }
   ],
   "source": [
    "dados_ibge_tab['populacao'] = dados_ibge_tab['populacao'].str.replace('\\xa0', '').astype(int)"
   ]
  },
  {
   "cell_type": "code",
   "execution_count": 9,
   "id": "8e617eca",
   "metadata": {},
   "outputs": [
    {
     "name": "stdout",
     "output_type": "stream",
     "text": [
      "<class 'pandas.core.frame.DataFrame'>\n",
      "RangeIndex: 27 entries, 0 to 26\n",
      "Data columns (total 2 columns):\n",
      " #   Column                Non-Null Count  Dtype \n",
      "---  ------                --------------  ----- \n",
      " 0   Unidade da Federação  27 non-null     object\n",
      " 1   populacao             27 non-null     int32 \n",
      "dtypes: int32(1), object(1)\n",
      "memory usage: 452.0+ bytes\n"
     ]
    }
   ],
   "source": [
    "dados_ibge_tab.info()"
   ]
  },
  {
   "cell_type": "code",
   "execution_count": 10,
   "id": "15c72886",
   "metadata": {},
   "outputs": [
    {
     "data": {
      "text/html": [
       "<div>\n",
       "<style scoped>\n",
       "    .dataframe tbody tr th:only-of-type {\n",
       "        vertical-align: middle;\n",
       "    }\n",
       "\n",
       "    .dataframe tbody tr th {\n",
       "        vertical-align: top;\n",
       "    }\n",
       "\n",
       "    .dataframe thead th {\n",
       "        text-align: right;\n",
       "    }\n",
       "</style>\n",
       "<table border=\"1\" class=\"dataframe\">\n",
       "  <thead>\n",
       "    <tr style=\"text-align: right;\">\n",
       "      <th></th>\n",
       "      <th>Unidade da Federação</th>\n",
       "      <th>populacao</th>\n",
       "    </tr>\n",
       "  </thead>\n",
       "  <tbody>\n",
       "    <tr>\n",
       "      <th>0</th>\n",
       "      <td>São Paulo</td>\n",
       "      <td>44411238</td>\n",
       "    </tr>\n",
       "    <tr>\n",
       "      <th>1</th>\n",
       "      <td>Minas Gerais</td>\n",
       "      <td>20538718</td>\n",
       "    </tr>\n",
       "    <tr>\n",
       "      <th>2</th>\n",
       "      <td>Rio de Janeiro</td>\n",
       "      <td>16054524</td>\n",
       "    </tr>\n",
       "    <tr>\n",
       "      <th>3</th>\n",
       "      <td>Bahia</td>\n",
       "      <td>14141626</td>\n",
       "    </tr>\n",
       "    <tr>\n",
       "      <th>4</th>\n",
       "      <td>Paraná</td>\n",
       "      <td>11444380</td>\n",
       "    </tr>\n",
       "  </tbody>\n",
       "</table>\n",
       "</div>"
      ],
      "text/plain": [
       "  Unidade da Federação  populacao\n",
       "0            São Paulo   44411238\n",
       "1         Minas Gerais   20538718\n",
       "2       Rio de Janeiro   16054524\n",
       "3                Bahia   14141626\n",
       "4               Paraná   11444380"
      ]
     },
     "execution_count": 10,
     "metadata": {},
     "output_type": "execute_result"
    }
   ],
   "source": [
    "dados_ibge_tab.head()"
   ]
  },
  {
   "cell_type": "code",
   "execution_count": 11,
   "id": "9bb7a53b",
   "metadata": {},
   "outputs": [],
   "source": [
    "gastos_mais_recente.set_index('Unidade da Federação', inplace=True)\n",
    "dados_ibge_tab.set_index('Unidade da Federação', inplace=True)"
   ]
  },
  {
   "cell_type": "code",
   "execution_count": 12,
   "id": "35781ecd",
   "metadata": {},
   "outputs": [],
   "source": [
    "gastos_mais_recente.index = gastos_mais_recente.index.str[3:]"
   ]
  },
  {
   "cell_type": "code",
   "execution_count": 13,
   "id": "99795b47",
   "metadata": {
    "scrolled": true
   },
   "outputs": [],
   "source": [
    "gastos_e_populacao = dados_ibge_tab.join(gastos_mais_recente)"
   ]
  },
  {
   "cell_type": "code",
   "execution_count": 14,
   "id": "240ccd77",
   "metadata": {},
   "outputs": [
    {
     "data": {
      "text/html": [
       "<div>\n",
       "<style scoped>\n",
       "    .dataframe tbody tr th:only-of-type {\n",
       "        vertical-align: middle;\n",
       "    }\n",
       "\n",
       "    .dataframe tbody tr th {\n",
       "        vertical-align: top;\n",
       "    }\n",
       "\n",
       "    .dataframe thead th {\n",
       "        text-align: right;\n",
       "    }\n",
       "</style>\n",
       "<table border=\"1\" class=\"dataframe\">\n",
       "  <thead>\n",
       "    <tr style=\"text-align: right;\">\n",
       "      <th></th>\n",
       "      <th>populacao</th>\n",
       "      <th>2023/Ago</th>\n",
       "    </tr>\n",
       "    <tr>\n",
       "      <th>Unidade da Federação</th>\n",
       "      <th></th>\n",
       "      <th></th>\n",
       "    </tr>\n",
       "  </thead>\n",
       "  <tbody>\n",
       "    <tr>\n",
       "      <th>São Paulo</th>\n",
       "      <td>44411238</td>\n",
       "      <td>400.547554</td>\n",
       "    </tr>\n",
       "    <tr>\n",
       "      <th>Minas Gerais</th>\n",
       "      <td>20538718</td>\n",
       "      <td>220.788839</td>\n",
       "    </tr>\n",
       "    <tr>\n",
       "      <th>Rio de Janeiro</th>\n",
       "      <td>16054524</td>\n",
       "      <td>114.395381</td>\n",
       "    </tr>\n",
       "    <tr>\n",
       "      <th>Bahia</th>\n",
       "      <td>14141626</td>\n",
       "      <td>102.561512</td>\n",
       "    </tr>\n",
       "    <tr>\n",
       "      <th>Paraná</th>\n",
       "      <td>11444380</td>\n",
       "      <td>156.008695</td>\n",
       "    </tr>\n",
       "  </tbody>\n",
       "</table>\n",
       "</div>"
      ],
      "text/plain": [
       "                      populacao    2023/Ago\n",
       "Unidade da Federação                       \n",
       "São Paulo              44411238  400.547554\n",
       "Minas Gerais           20538718  220.788839\n",
       "Rio de Janeiro         16054524  114.395381\n",
       "Bahia                  14141626  102.561512\n",
       "Paraná                 11444380  156.008695"
      ]
     },
     "execution_count": 14,
     "metadata": {},
     "output_type": "execute_result"
    }
   ],
   "source": [
    "gastos_e_populacao.head()"
   ]
  },
  {
   "cell_type": "code",
   "execution_count": 15,
   "id": "2187964f",
   "metadata": {},
   "outputs": [],
   "source": [
    "gastos_e_populacao['2023/Ago'] = gastos_e_populacao['2023/Ago'] * 1000000"
   ]
  },
  {
   "cell_type": "code",
   "execution_count": 16,
   "id": "9e576b48",
   "metadata": {},
   "outputs": [
    {
     "data": {
      "text/html": [
       "<div>\n",
       "<style scoped>\n",
       "    .dataframe tbody tr th:only-of-type {\n",
       "        vertical-align: middle;\n",
       "    }\n",
       "\n",
       "    .dataframe tbody tr th {\n",
       "        vertical-align: top;\n",
       "    }\n",
       "\n",
       "    .dataframe thead th {\n",
       "        text-align: right;\n",
       "    }\n",
       "</style>\n",
       "<table border=\"1\" class=\"dataframe\">\n",
       "  <thead>\n",
       "    <tr style=\"text-align: right;\">\n",
       "      <th></th>\n",
       "      <th>populacao</th>\n",
       "      <th>2023/Ago</th>\n",
       "      <th>gasto_por_hab</th>\n",
       "    </tr>\n",
       "    <tr>\n",
       "      <th>Unidade da Federação</th>\n",
       "      <th></th>\n",
       "      <th></th>\n",
       "      <th></th>\n",
       "    </tr>\n",
       "  </thead>\n",
       "  <tbody>\n",
       "    <tr>\n",
       "      <th>São Paulo</th>\n",
       "      <td>44411238</td>\n",
       "      <td>4.005476e+08</td>\n",
       "      <td>9.019059</td>\n",
       "    </tr>\n",
       "    <tr>\n",
       "      <th>Minas Gerais</th>\n",
       "      <td>20538718</td>\n",
       "      <td>2.207888e+08</td>\n",
       "      <td>10.749884</td>\n",
       "    </tr>\n",
       "    <tr>\n",
       "      <th>Rio de Janeiro</th>\n",
       "      <td>16054524</td>\n",
       "      <td>1.143954e+08</td>\n",
       "      <td>7.125430</td>\n",
       "    </tr>\n",
       "    <tr>\n",
       "      <th>Bahia</th>\n",
       "      <td>14141626</td>\n",
       "      <td>1.025615e+08</td>\n",
       "      <td>7.252455</td>\n",
       "    </tr>\n",
       "    <tr>\n",
       "      <th>Paraná</th>\n",
       "      <td>11444380</td>\n",
       "      <td>1.560087e+08</td>\n",
       "      <td>13.631904</td>\n",
       "    </tr>\n",
       "  </tbody>\n",
       "</table>\n",
       "</div>"
      ],
      "text/plain": [
       "                      populacao      2023/Ago  gasto_por_hab\n",
       "Unidade da Federação                                        \n",
       "São Paulo              44411238  4.005476e+08       9.019059\n",
       "Minas Gerais           20538718  2.207888e+08      10.749884\n",
       "Rio de Janeiro         16054524  1.143954e+08       7.125430\n",
       "Bahia                  14141626  1.025615e+08       7.252455\n",
       "Paraná                 11444380  1.560087e+08      13.631904"
      ]
     },
     "execution_count": 16,
     "metadata": {},
     "output_type": "execute_result"
    }
   ],
   "source": [
    "gastos_e_populacao['gasto_por_hab'] = gastos_e_populacao['2023/Ago'] / gastos_e_populacao['populacao']\n",
    "gastos_e_populacao.head()"
   ]
  },
  {
   "cell_type": "code",
   "execution_count": 17,
   "id": "22ebbaff",
   "metadata": {},
   "outputs": [
    {
     "data": {
      "text/plain": [
       "<AxesSubplot: xlabel='Unidade da Federação'>"
      ]
     },
     "execution_count": 17,
     "metadata": {},
     "output_type": "execute_result"
    },
    {
     "data": {
      "image/png": "[encoded data removed]",
      "text/plain": [
       "<Figure size 432x288 with 1 Axes>"
      ]
     },
     "metadata": {
      "needs_background": "light"
     },
     "output_type": "display_data"
    }
   ],
   "source": [
    "gastos_e_populacao['gasto_por_hab'].plot(kind='bar')"
   ]
  },
  {
   "cell_type": "markdown",
   "id": "b3ef303e",
   "metadata": {},
   "source": [
    "### Desafio 1: Colocar legendas, títulos, formatar eixos e ordenar do maior para o menor"
   ]
  },
  {
   "cell_type": "code",
   "execution_count": 18,
   "id": "14da5486",
   "metadata": {},
   "outputs": [],
   "source": [
    "gastos_e_populacao.sort_values('gasto_por_hab', ascending=False, inplace=True)"
   ]
  },
  {
   "cell_type": "code",
   "execution_count": 19,
   "id": "4b48ea39",
   "metadata": {},
   "outputs": [
    {
     "data": {
      "image/png": "[encoded data removed]",
      "text/plain": [
       "<Figure size 1008x432 with 1 Axes>"
      ]
     },
     "metadata": {
      "needs_background": "light"
     },
     "output_type": "display_data"
    }
   ],
   "source": [
    "import matplotlib.pyplot as plt\n",
    "\n",
    "gastos_e_populacao['gasto_por_hab'] = gastos_e_populacao['gasto_por_hab'].sort_values(ascending=False)\n",
    "\n",
    "gastos_e_populacao['gasto_por_hab'].plot(kind='bar',figsize=(14,6),grid=True)\n",
    "plt.title('Gastos com Produção Hospitalar por População em Agosto de 2023')\n",
    "plt.xticks(rotation=45, ha='right')\n",
    "plt.xlabel('')\n",
    "plt.show()"
   ]
  },
  {
   "cell_type": "markdown",
   "id": "a141502e",
   "metadata": {},
   "source": [
    "### Desafio 2: Colocar uma linha horizontal com a média de todos os gastos por população"
   ]
  },
  {
   "cell_type": "code",
   "execution_count": 20,
   "id": "5104510c",
   "metadata": {},
   "outputs": [
    {
     "data": {
      "image/png": "[encoded data removed]",
      "text/plain": [
       "<Figure size 1008x432 with 1 Axes>"
      ]
     },
     "metadata": {
      "needs_background": "light"
     },
     "output_type": "display_data"
    }
   ],
   "source": [
    "import matplotlib.pyplot as plt\n",
    "\n",
    "gastos_e_populacao['gasto_por_hab'] = gastos_e_populacao['gasto_por_hab'].sort_values(ascending=False)\n",
    "\n",
    "gastos_e_populacao['gasto_por_hab'].plot(kind='bar',figsize=(14,6),grid=True)\n",
    "plt.title('Gastos com Produção Hospitalar por População em Agosto de 2023')\n",
    "plt.xticks(rotation=45, ha='right')\n",
    "plt.xlabel('')\n",
    "plt.axhline(gastos_e_populacao['gasto_por_hab'].mean(), linestyle='--', color='red')\n",
    "plt.show()"
   ]
  },
  {
   "cell_type": "markdown",
   "id": "adca9f6f",
   "metadata": {},
   "source": [
    "------"
   ]
  },
  {
   "cell_type": "code",
   "execution_count": 21,
   "id": "95188549",
   "metadata": {},
   "outputs": [
    {
     "data": {
      "image/png": "[encoded data removed]",
      "text/plain": [
       "<Figure size 504x504 with 1 Axes>"
      ]
     },
     "metadata": {
      "needs_background": "light"
     },
     "output_type": "display_data"
    }
   ],
   "source": [
    "import seaborn as sns\n",
    "\n",
    "plt.figure(figsize=(7,7))\n",
    "plt.ylabel('gastos')\n",
    "plt.title('Gastos com Produção hospitalar em Ago/2023 por População em milhões')\n",
    "sns.scatterplot(data = gastos_e_populacao / 1000000, x = 'populacao', y = '2023/Ago')\n",
    "plt.show()"
   ]
  },
  {
   "cell_type": "markdown",
   "id": "e07e6849",
   "metadata": {},
   "source": [
    "### Desafio 3: faça o mesmo plot para o penúltimo mês"
   ]
  },
  {
   "cell_type": "code",
   "execution_count": 22,
   "id": "4e4e1428",
   "metadata": {},
   "outputs": [
    {
     "data": {
      "text/html": [
       "<div>\n",
       "<style scoped>\n",
       "    .dataframe tbody tr th:only-of-type {\n",
       "        vertical-align: middle;\n",
       "    }\n",
       "\n",
       "    .dataframe tbody tr th {\n",
       "        vertical-align: top;\n",
       "    }\n",
       "\n",
       "    .dataframe thead th {\n",
       "        text-align: right;\n",
       "    }\n",
       "</style>\n",
       "<table border=\"1\" class=\"dataframe\">\n",
       "  <thead>\n",
       "    <tr style=\"text-align: right;\">\n",
       "      <th></th>\n",
       "      <th>Unidade da Federação</th>\n",
       "      <th>2008/Jan</th>\n",
       "      <th>2008/Fev</th>\n",
       "      <th>2008/Mar</th>\n",
       "      <th>2008/Abr</th>\n",
       "      <th>2008/Mai</th>\n",
       "      <th>2008/Jun</th>\n",
       "      <th>2008/Jul</th>\n",
       "      <th>2008/Ago</th>\n",
       "      <th>2008/Set</th>\n",
       "      <th>...</th>\n",
       "      <th>2022/Nov</th>\n",
       "      <th>2022/Dez</th>\n",
       "      <th>2023/Jan</th>\n",
       "      <th>2023/Fev</th>\n",
       "      <th>2023/Mar</th>\n",
       "      <th>2023/Abr</th>\n",
       "      <th>2023/Mai</th>\n",
       "      <th>2023/Jun</th>\n",
       "      <th>2023/Jul</th>\n",
       "      <th>2023/Ago</th>\n",
       "    </tr>\n",
       "  </thead>\n",
       "  <tbody>\n",
       "    <tr>\n",
       "      <th>0</th>\n",
       "      <td>35 São Paulo</td>\n",
       "      <td>91.678473</td>\n",
       "      <td>148.677527</td>\n",
       "      <td>156.087269</td>\n",
       "      <td>161.227125</td>\n",
       "      <td>187.119398</td>\n",
       "      <td>187.291126</td>\n",
       "      <td>194.398399</td>\n",
       "      <td>184.854516</td>\n",
       "      <td>188.636360</td>\n",
       "      <td>...</td>\n",
       "      <td>356.542924</td>\n",
       "      <td>351.265367</td>\n",
       "      <td>356.626279</td>\n",
       "      <td>335.629832</td>\n",
       "      <td>377.858406</td>\n",
       "      <td>354.160470</td>\n",
       "      <td>365.197239</td>\n",
       "      <td>387.466241</td>\n",
       "      <td>384.882699</td>\n",
       "      <td>400.547554</td>\n",
       "    </tr>\n",
       "    <tr>\n",
       "      <th>1</th>\n",
       "      <td>31 Minas Gerais</td>\n",
       "      <td>45.671660</td>\n",
       "      <td>70.194037</td>\n",
       "      <td>79.231337</td>\n",
       "      <td>77.136538</td>\n",
       "      <td>80.554441</td>\n",
       "      <td>94.758523</td>\n",
       "      <td>85.360064</td>\n",
       "      <td>84.722528</td>\n",
       "      <td>84.601758</td>\n",
       "      <td>...</td>\n",
       "      <td>194.518172</td>\n",
       "      <td>207.421645</td>\n",
       "      <td>194.617740</td>\n",
       "      <td>179.424591</td>\n",
       "      <td>211.803367</td>\n",
       "      <td>197.315605</td>\n",
       "      <td>210.629269</td>\n",
       "      <td>215.243310</td>\n",
       "      <td>217.545152</td>\n",
       "      <td>220.788839</td>\n",
       "    </tr>\n",
       "    <tr>\n",
       "      <th>2</th>\n",
       "      <td>41 Paraná</td>\n",
       "      <td>38.266347</td>\n",
       "      <td>55.384671</td>\n",
       "      <td>53.801319</td>\n",
       "      <td>52.460307</td>\n",
       "      <td>54.419621</td>\n",
       "      <td>57.811688</td>\n",
       "      <td>58.094242</td>\n",
       "      <td>56.982775</td>\n",
       "      <td>57.549082</td>\n",
       "      <td>...</td>\n",
       "      <td>129.855131</td>\n",
       "      <td>151.285153</td>\n",
       "      <td>138.757581</td>\n",
       "      <td>136.826141</td>\n",
       "      <td>148.652956</td>\n",
       "      <td>142.057217</td>\n",
       "      <td>151.650812</td>\n",
       "      <td>146.345424</td>\n",
       "      <td>149.670849</td>\n",
       "      <td>156.008695</td>\n",
       "    </tr>\n",
       "    <tr>\n",
       "      <th>3</th>\n",
       "      <td>43 Rio Grande do Sul</td>\n",
       "      <td>30.931325</td>\n",
       "      <td>57.363420</td>\n",
       "      <td>51.547794</td>\n",
       "      <td>56.673338</td>\n",
       "      <td>48.397733</td>\n",
       "      <td>52.413430</td>\n",
       "      <td>56.636377</td>\n",
       "      <td>56.113055</td>\n",
       "      <td>55.356224</td>\n",
       "      <td>...</td>\n",
       "      <td>107.815960</td>\n",
       "      <td>109.417241</td>\n",
       "      <td>111.659794</td>\n",
       "      <td>99.589870</td>\n",
       "      <td>111.407034</td>\n",
       "      <td>106.960122</td>\n",
       "      <td>112.365113</td>\n",
       "      <td>113.734410</td>\n",
       "      <td>116.903978</td>\n",
       "      <td>117.940448</td>\n",
       "    </tr>\n",
       "    <tr>\n",
       "      <th>4</th>\n",
       "      <td>33 Rio de Janeiro</td>\n",
       "      <td>23.025259</td>\n",
       "      <td>28.394311</td>\n",
       "      <td>44.567063</td>\n",
       "      <td>44.054605</td>\n",
       "      <td>44.911021</td>\n",
       "      <td>48.056212</td>\n",
       "      <td>49.872379</td>\n",
       "      <td>50.912707</td>\n",
       "      <td>49.270353</td>\n",
       "      <td>...</td>\n",
       "      <td>107.642426</td>\n",
       "      <td>107.407251</td>\n",
       "      <td>107.582771</td>\n",
       "      <td>99.096733</td>\n",
       "      <td>113.917757</td>\n",
       "      <td>108.881459</td>\n",
       "      <td>118.845758</td>\n",
       "      <td>118.755282</td>\n",
       "      <td>124.227851</td>\n",
       "      <td>114.395381</td>\n",
       "    </tr>\n",
       "  </tbody>\n",
       "</table>\n",
       "<p>5 rows × 189 columns</p>\n",
       "</div>"
      ],
      "text/plain": [
       "   Unidade da Federação   2008/Jan    2008/Fev    2008/Mar    2008/Abr  \\\n",
       "0          35 São Paulo  91.678473  148.677527  156.087269  161.227125   \n",
       "1       31 Minas Gerais  45.671660   70.194037   79.231337   77.136538   \n",
       "2             41 Paraná  38.266347   55.384671   53.801319   52.460307   \n",
       "3  43 Rio Grande do Sul  30.931325   57.363420   51.547794   56.673338   \n",
       "4     33 Rio de Janeiro  23.025259   28.394311   44.567063   44.054605   \n",
       "\n",
       "     2008/Mai    2008/Jun    2008/Jul    2008/Ago    2008/Set  ...  \\\n",
       "0  187.119398  187.291126  194.398399  184.854516  188.636360  ...   \n",
       "1   80.554441   94.758523   85.360064   84.722528   84.601758  ...   \n",
       "2   54.419621   57.811688   58.094242   56.982775   57.549082  ...   \n",
       "3   48.397733   52.413430   56.636377   56.113055   55.356224  ...   \n",
       "4   44.911021   48.056212   49.872379   50.912707   49.270353  ...   \n",
       "\n",
       "     2022/Nov    2022/Dez    2023/Jan    2023/Fev    2023/Mar    2023/Abr  \\\n",
       "0  356.542924  351.265367  356.626279  335.629832  377.858406  354.160470   \n",
       "1  194.518172  207.421645  194.617740  179.424591  211.803367  197.315605   \n",
       "2  129.855131  151.285153  138.757581  136.826141  148.652956  142.057217   \n",
       "3  107.815960  109.417241  111.659794   99.589870  111.407034  106.960122   \n",
       "4  107.642426  107.407251  107.582771   99.096733  113.917757  108.881459   \n",
       "\n",
       "     2023/Mai    2023/Jun    2023/Jul    2023/Ago  \n",
       "0  365.197239  387.466241  384.882699  400.547554  \n",
       "1  210.629269  215.243310  217.545152  220.788839  \n",
       "2  151.650812  146.345424  149.670849  156.008695  \n",
       "3  112.365113  113.734410  116.903978  117.940448  \n",
       "4  118.845758  118.755282  124.227851  114.395381  \n",
       "\n",
       "[5 rows x 189 columns]"
      ]
     },
     "execution_count": 22,
     "metadata": {},
     "output_type": "execute_result"
    }
   ],
   "source": [
    "gastos_prod_hosp = pd.read_csv('dados/gastos_prod_hosp.csv')\n",
    "gastos_prod_hosp.head()"
   ]
  },
  {
   "cell_type": "code",
   "execution_count": 23,
   "id": "5e801c64",
   "metadata": {},
   "outputs": [
    {
     "data": {
      "text/html": [
       "<div>\n",
       "<style scoped>\n",
       "    .dataframe tbody tr th:only-of-type {\n",
       "        vertical-align: middle;\n",
       "    }\n",
       "\n",
       "    .dataframe tbody tr th {\n",
       "        vertical-align: top;\n",
       "    }\n",
       "\n",
       "    .dataframe thead th {\n",
       "        text-align: right;\n",
       "    }\n",
       "</style>\n",
       "<table border=\"1\" class=\"dataframe\">\n",
       "  <thead>\n",
       "    <tr style=\"text-align: right;\">\n",
       "      <th></th>\n",
       "      <th>2023/Jul</th>\n",
       "      <th>2023/Ago</th>\n",
       "    </tr>\n",
       "    <tr>\n",
       "      <th>Unidade da Federação</th>\n",
       "      <th></th>\n",
       "      <th></th>\n",
       "    </tr>\n",
       "  </thead>\n",
       "  <tbody>\n",
       "    <tr>\n",
       "      <th>São Paulo</th>\n",
       "      <td>384.882699</td>\n",
       "      <td>400.547554</td>\n",
       "    </tr>\n",
       "    <tr>\n",
       "      <th>Minas Gerais</th>\n",
       "      <td>217.545152</td>\n",
       "      <td>220.788839</td>\n",
       "    </tr>\n",
       "    <tr>\n",
       "      <th>Paraná</th>\n",
       "      <td>149.670849</td>\n",
       "      <td>156.008695</td>\n",
       "    </tr>\n",
       "    <tr>\n",
       "      <th>Rio Grande do Sul</th>\n",
       "      <td>116.903978</td>\n",
       "      <td>117.940448</td>\n",
       "    </tr>\n",
       "    <tr>\n",
       "      <th>Rio de Janeiro</th>\n",
       "      <td>124.227851</td>\n",
       "      <td>114.395381</td>\n",
       "    </tr>\n",
       "  </tbody>\n",
       "</table>\n",
       "</div>"
      ],
      "text/plain": [
       "                        2023/Jul    2023/Ago\n",
       "Unidade da Federação                        \n",
       "São Paulo             384.882699  400.547554\n",
       "Minas Gerais          217.545152  220.788839\n",
       "Paraná                149.670849  156.008695\n",
       "Rio Grande do Sul     116.903978  117.940448\n",
       "Rio de Janeiro        124.227851  114.395381"
      ]
     },
     "execution_count": 23,
     "metadata": {},
     "output_type": "execute_result"
    }
   ],
   "source": [
    "gastos_prod_hosp.set_index('Unidade da Federação', inplace = True)\n",
    "gastos_ultimos_dois = gastos_prod_hosp[['2023/Jul', '2023/Ago']]\n",
    "gastos_ultimos_dois.index = gastos_ultimos_dois.index.str[3:]\n",
    "gastos_ultimos_dois.head()"
   ]
  },
  {
   "cell_type": "code",
   "execution_count": 24,
   "id": "9375da8c",
   "metadata": {},
   "outputs": [
    {
     "data": {
      "text/html": [
       "<div>\n",
       "<style scoped>\n",
       "    .dataframe tbody tr th:only-of-type {\n",
       "        vertical-align: middle;\n",
       "    }\n",
       "\n",
       "    .dataframe tbody tr th {\n",
       "        vertical-align: top;\n",
       "    }\n",
       "\n",
       "    .dataframe thead th {\n",
       "        text-align: right;\n",
       "    }\n",
       "</style>\n",
       "<table border=\"1\" class=\"dataframe\">\n",
       "  <thead>\n",
       "    <tr style=\"text-align: right;\">\n",
       "      <th></th>\n",
       "      <th>populacao</th>\n",
       "      <th>2023/Jul</th>\n",
       "      <th>2023/Ago</th>\n",
       "    </tr>\n",
       "    <tr>\n",
       "      <th>Unidade da Federação</th>\n",
       "      <th></th>\n",
       "      <th></th>\n",
       "      <th></th>\n",
       "    </tr>\n",
       "  </thead>\n",
       "  <tbody>\n",
       "    <tr>\n",
       "      <th>São Paulo</th>\n",
       "      <td>44411238</td>\n",
       "      <td>384.882699</td>\n",
       "      <td>400.547554</td>\n",
       "    </tr>\n",
       "    <tr>\n",
       "      <th>Minas Gerais</th>\n",
       "      <td>20538718</td>\n",
       "      <td>217.545152</td>\n",
       "      <td>220.788839</td>\n",
       "    </tr>\n",
       "    <tr>\n",
       "      <th>Rio de Janeiro</th>\n",
       "      <td>16054524</td>\n",
       "      <td>124.227851</td>\n",
       "      <td>114.395381</td>\n",
       "    </tr>\n",
       "    <tr>\n",
       "      <th>Bahia</th>\n",
       "      <td>14141626</td>\n",
       "      <td>106.032225</td>\n",
       "      <td>102.561512</td>\n",
       "    </tr>\n",
       "    <tr>\n",
       "      <th>Paraná</th>\n",
       "      <td>11444380</td>\n",
       "      <td>149.670849</td>\n",
       "      <td>156.008695</td>\n",
       "    </tr>\n",
       "  </tbody>\n",
       "</table>\n",
       "</div>"
      ],
      "text/plain": [
       "                      populacao    2023/Jul    2023/Ago\n",
       "Unidade da Federação                                   \n",
       "São Paulo              44411238  384.882699  400.547554\n",
       "Minas Gerais           20538718  217.545152  220.788839\n",
       "Rio de Janeiro         16054524  124.227851  114.395381\n",
       "Bahia                  14141626  106.032225  102.561512\n",
       "Paraná                 11444380  149.670849  156.008695"
      ]
     },
     "execution_count": 24,
     "metadata": {},
     "output_type": "execute_result"
    }
   ],
   "source": [
    "gastos_e_populacao2 = dados_ibge_tab.join(gastos_ultimos_dois)\n",
    "gastos_e_populacao2.head()"
   ]
  },
  {
   "cell_type": "code",
   "execution_count": 25,
   "id": "cfaa3cea",
   "metadata": {},
   "outputs": [
    {
     "data": {
      "text/html": [
       "<div>\n",
       "<style scoped>\n",
       "    .dataframe tbody tr th:only-of-type {\n",
       "        vertical-align: middle;\n",
       "    }\n",
       "\n",
       "    .dataframe tbody tr th {\n",
       "        vertical-align: top;\n",
       "    }\n",
       "\n",
       "    .dataframe thead th {\n",
       "        text-align: right;\n",
       "    }\n",
       "</style>\n",
       "<table border=\"1\" class=\"dataframe\">\n",
       "  <thead>\n",
       "    <tr style=\"text-align: right;\">\n",
       "      <th></th>\n",
       "      <th>populacao</th>\n",
       "      <th>2023/Jul</th>\n",
       "      <th>2023/Ago</th>\n",
       "    </tr>\n",
       "    <tr>\n",
       "      <th>Unidade da Federação</th>\n",
       "      <th></th>\n",
       "      <th></th>\n",
       "      <th></th>\n",
       "    </tr>\n",
       "  </thead>\n",
       "  <tbody>\n",
       "    <tr>\n",
       "      <th>São Paulo</th>\n",
       "      <td>44.411238</td>\n",
       "      <td>384.882699</td>\n",
       "      <td>400.547554</td>\n",
       "    </tr>\n",
       "    <tr>\n",
       "      <th>Minas Gerais</th>\n",
       "      <td>20.538718</td>\n",
       "      <td>217.545152</td>\n",
       "      <td>220.788839</td>\n",
       "    </tr>\n",
       "    <tr>\n",
       "      <th>Rio de Janeiro</th>\n",
       "      <td>16.054524</td>\n",
       "      <td>124.227851</td>\n",
       "      <td>114.395381</td>\n",
       "    </tr>\n",
       "    <tr>\n",
       "      <th>Bahia</th>\n",
       "      <td>14.141626</td>\n",
       "      <td>106.032225</td>\n",
       "      <td>102.561512</td>\n",
       "    </tr>\n",
       "    <tr>\n",
       "      <th>Paraná</th>\n",
       "      <td>11.444380</td>\n",
       "      <td>149.670849</td>\n",
       "      <td>156.008695</td>\n",
       "    </tr>\n",
       "  </tbody>\n",
       "</table>\n",
       "</div>"
      ],
      "text/plain": [
       "                      populacao    2023/Jul    2023/Ago\n",
       "Unidade da Federação                                   \n",
       "São Paulo             44.411238  384.882699  400.547554\n",
       "Minas Gerais          20.538718  217.545152  220.788839\n",
       "Rio de Janeiro        16.054524  124.227851  114.395381\n",
       "Bahia                 14.141626  106.032225  102.561512\n",
       "Paraná                11.444380  149.670849  156.008695"
      ]
     },
     "execution_count": 25,
     "metadata": {},
     "output_type": "execute_result"
    }
   ],
   "source": [
    "gastos_e_populacao2['populacao'] = gastos_e_populacao2['populacao'] / 1000000\n",
    "gastos_e_populacao2.head()"
   ]
  },
  {
   "cell_type": "code",
   "execution_count": 26,
   "id": "0442ba38",
   "metadata": {},
   "outputs": [
    {
     "data": {
      "image/png": "[encoded data removed]",
      "text/plain": [
       "<Figure size 504x504 with 1 Axes>"
      ]
     },
     "metadata": {
      "needs_background": "light"
     },
     "output_type": "display_data"
    }
   ],
   "source": [
    "import seaborn as sns\n",
    "\n",
    "plt.figure(figsize=(7,7))\n",
    "plt.ylabel('gastos')\n",
    "plt.title('Gastos com Produção hospitalar em Jul/2023 por População em milhoões')\n",
    "sns.scatterplot(data = gastos_e_populacao2, x = 'populacao', y = '2023/Jul')\n",
    "plt.show()"
   ]
  },
  {
   "cell_type": "markdown",
   "id": "09854a88",
   "metadata": {},
   "source": [
    "### Desafio 4: Faça os dois gráficos dos últimos dois meses no mesmo plot:"
   ]
  },
  {
   "cell_type": "code",
   "execution_count": 27,
   "id": "48cc4a9c",
   "metadata": {},
   "outputs": [
    {
     "data": {
      "image/png": "[encoded data removed]",
      "text/plain": [
       "<Figure size 720x720 with 1 Axes>"
      ]
     },
     "metadata": {
      "needs_background": "light"
     },
     "output_type": "display_data"
    }
   ],
   "source": [
    "plt.figure(figsize=(10,10))\n",
    "plt.ylabel('gastos')\n",
    "plt.title('Gastos com Produção hospitalar em Jul e Ago/2023 por População em milhoões')\n",
    "sns.scatterplot(data = gastos_e_populacao2, x = 'populacao', y = '2023/Jul',label='2023/Jul')\n",
    "sns.scatterplot(data = gastos_e_populacao2, x = 'populacao', y = '2023/Ago',label='2023/Ago')\n",
    "plt.show()"
   ]
  },
  {
   "cell_type": "markdown",
   "id": "94c1a7db",
   "metadata": {},
   "source": [
    "------"
   ]
  },
  {
   "cell_type": "markdown",
   "id": "6d82b8c8",
   "metadata": {},
   "source": [
    "### Criando funções para plotar gráficos mais rapidamente:"
   ]
  },
  {
   "cell_type": "code",
   "execution_count": 28,
   "id": "c4c033f3",
   "metadata": {},
   "outputs": [],
   "source": [
    "gastos_prod_hosp.index = gastos_prod_hosp.index.str[3:].str.strip()"
   ]
  },
  {
   "cell_type": "code",
   "execution_count": 29,
   "id": "9fb1ac33",
   "metadata": {},
   "outputs": [],
   "source": [
    "def insere_gastos_e_gastos_por_hab(gastos_prod_hosp,gastos_e_populacao,mes):\n",
    "    gastos = gastos_prod_hosp[mes]\n",
    "    gastos_e_populacao[f'gastos_{mes}'] = gastos * 1000000\n",
    "    gastos_e_populacao[f'gasto_por_hab_{mes}'] = gastos_e_populacao[f'gastos_{mes}'] / gastos_e_populacao['populacao']\n",
    "    return gastos_e_populacao"
   ]
  },
  {
   "cell_type": "code",
   "execution_count": 30,
   "id": "903e8c15",
   "metadata": {},
   "outputs": [
    {
     "data": {
      "text/html": [
       "<div>\n",
       "<style scoped>\n",
       "    .dataframe tbody tr th:only-of-type {\n",
       "        vertical-align: middle;\n",
       "    }\n",
       "\n",
       "    .dataframe tbody tr th {\n",
       "        vertical-align: top;\n",
       "    }\n",
       "\n",
       "    .dataframe thead th {\n",
       "        text-align: right;\n",
       "    }\n",
       "</style>\n",
       "<table border=\"1\" class=\"dataframe\">\n",
       "  <thead>\n",
       "    <tr style=\"text-align: right;\">\n",
       "      <th></th>\n",
       "      <th>populacao</th>\n",
       "      <th>2023/Ago</th>\n",
       "      <th>gasto_por_hab</th>\n",
       "      <th>gastos_2023/Ago</th>\n",
       "      <th>gasto_por_hab_2023/Ago</th>\n",
       "      <th>gastos_2023/Jul</th>\n",
       "      <th>gasto_por_hab_2023/Jul</th>\n",
       "      <th>gastos_2023/Jun</th>\n",
       "      <th>gasto_por_hab_2023/Jun</th>\n",
       "    </tr>\n",
       "    <tr>\n",
       "      <th>Unidade da Federação</th>\n",
       "      <th></th>\n",
       "      <th></th>\n",
       "      <th></th>\n",
       "      <th></th>\n",
       "      <th></th>\n",
       "      <th></th>\n",
       "      <th></th>\n",
       "      <th></th>\n",
       "      <th></th>\n",
       "    </tr>\n",
       "  </thead>\n",
       "  <tbody>\n",
       "    <tr>\n",
       "      <th>Paraná</th>\n",
       "      <td>11444380</td>\n",
       "      <td>1.560087e+08</td>\n",
       "      <td>13.631904</td>\n",
       "      <td>1.560087e+08</td>\n",
       "      <td>13.631904</td>\n",
       "      <td>1.496708e+08</td>\n",
       "      <td>13.078109</td>\n",
       "      <td>1.463454e+08</td>\n",
       "      <td>12.787536</td>\n",
       "    </tr>\n",
       "    <tr>\n",
       "      <th>Santa Catarina</th>\n",
       "      <td>7610361</td>\n",
       "      <td>9.224957e+07</td>\n",
       "      <td>12.121576</td>\n",
       "      <td>9.224957e+07</td>\n",
       "      <td>12.121576</td>\n",
       "      <td>8.734911e+07</td>\n",
       "      <td>11.477657</td>\n",
       "      <td>8.772574e+07</td>\n",
       "      <td>11.527145</td>\n",
       "    </tr>\n",
       "    <tr>\n",
       "      <th>Distrito Federal</th>\n",
       "      <td>2817381</td>\n",
       "      <td>3.096124e+07</td>\n",
       "      <td>10.989371</td>\n",
       "      <td>3.096124e+07</td>\n",
       "      <td>10.989371</td>\n",
       "      <td>2.903418e+07</td>\n",
       "      <td>10.305378</td>\n",
       "      <td>2.825858e+07</td>\n",
       "      <td>10.030087</td>\n",
       "    </tr>\n",
       "    <tr>\n",
       "      <th>Espírito Santo</th>\n",
       "      <td>3833712</td>\n",
       "      <td>4.182291e+07</td>\n",
       "      <td>10.909245</td>\n",
       "      <td>4.182291e+07</td>\n",
       "      <td>10.909245</td>\n",
       "      <td>3.867649e+07</td>\n",
       "      <td>10.088522</td>\n",
       "      <td>4.231712e+07</td>\n",
       "      <td>11.038157</td>\n",
       "    </tr>\n",
       "    <tr>\n",
       "      <th>Rio Grande do Sul</th>\n",
       "      <td>10882965</td>\n",
       "      <td>1.179404e+08</td>\n",
       "      <td>10.837161</td>\n",
       "      <td>1.179404e+08</td>\n",
       "      <td>10.837161</td>\n",
       "      <td>1.169040e+08</td>\n",
       "      <td>10.741924</td>\n",
       "      <td>1.137344e+08</td>\n",
       "      <td>10.450682</td>\n",
       "    </tr>\n",
       "  </tbody>\n",
       "</table>\n",
       "</div>"
      ],
      "text/plain": [
       "                      populacao      2023/Ago  gasto_por_hab  gastos_2023/Ago  \\\n",
       "Unidade da Federação                                                            \n",
       "Paraná                 11444380  1.560087e+08      13.631904     1.560087e+08   \n",
       "Santa Catarina          7610361  9.224957e+07      12.121576     9.224957e+07   \n",
       "Distrito Federal        2817381  3.096124e+07      10.989371     3.096124e+07   \n",
       "Espírito Santo          3833712  4.182291e+07      10.909245     4.182291e+07   \n",
       "Rio Grande do Sul      10882965  1.179404e+08      10.837161     1.179404e+08   \n",
       "\n",
       "                      gasto_por_hab_2023/Ago  gastos_2023/Jul  \\\n",
       "Unidade da Federação                                            \n",
       "Paraná                             13.631904     1.496708e+08   \n",
       "Santa Catarina                     12.121576     8.734911e+07   \n",
       "Distrito Federal                   10.989371     2.903418e+07   \n",
       "Espírito Santo                     10.909245     3.867649e+07   \n",
       "Rio Grande do Sul                  10.837161     1.169040e+08   \n",
       "\n",
       "                      gasto_por_hab_2023/Jul  gastos_2023/Jun  \\\n",
       "Unidade da Federação                                            \n",
       "Paraná                             13.078109     1.463454e+08   \n",
       "Santa Catarina                     11.477657     8.772574e+07   \n",
       "Distrito Federal                   10.305378     2.825858e+07   \n",
       "Espírito Santo                     10.088522     4.231712e+07   \n",
       "Rio Grande do Sul                  10.741924     1.137344e+08   \n",
       "\n",
       "                      gasto_por_hab_2023/Jun  \n",
       "Unidade da Federação                          \n",
       "Paraná                             12.787536  \n",
       "Santa Catarina                     11.527145  \n",
       "Distrito Federal                   10.030087  \n",
       "Espírito Santo                     11.038157  \n",
       "Rio Grande do Sul                  10.450682  "
      ]
     },
     "execution_count": 30,
     "metadata": {},
     "output_type": "execute_result"
    }
   ],
   "source": [
    "gastos_e_populacao = insere_gastos_e_gastos_por_hab(gastos_prod_hosp,gastos_e_populacao,gastos_prod_hosp.columns[-1])\n",
    "gastos_e_populacao = insere_gastos_e_gastos_por_hab(gastos_prod_hosp,gastos_e_populacao,gastos_prod_hosp.columns[-2])\n",
    "gastos_e_populacao = insere_gastos_e_gastos_por_hab(gastos_prod_hosp,gastos_e_populacao,gastos_prod_hosp.columns[-3])\n",
    "gastos_e_populacao.head()"
   ]
  },
  {
   "cell_type": "code",
   "execution_count": 31,
   "id": "e151869e",
   "metadata": {},
   "outputs": [
    {
     "data": {
      "image/png": "[encoded data removed]",
      "text/plain": [
       "<Figure size 720x720 with 1 Axes>"
      ]
     },
     "metadata": {
      "needs_background": "light"
     },
     "output_type": "display_data"
    }
   ],
   "source": [
    "plt.figure(figsize=(10,10))\n",
    "plt.ylabel('gastos')\n",
    "plt.title('Gastos com Produção hospitalar em Jun a Ago/2023 por População em milhoões')\n",
    "sns.scatterplot(data = gastos_e_populacao / 1000000, x = 'populacao', y = 'gastos_2023/Jun',label='gastos_2023/Jun')\n",
    "sns.scatterplot(data = gastos_e_populacao / 1000000, x = 'populacao', y = 'gastos_2023/Jul',label='gastos_2023/Jul')\n",
    "sns.scatterplot(data = gastos_e_populacao / 1000000, x = 'populacao', y = 'gastos_2023/Ago',label='gastos_2023/Ago')\n",
    "plt.show()"
   ]
  },
  {
   "cell_type": "markdown",
   "id": "bb9cd6cb",
   "metadata": {},
   "source": [
    "Os gastos com produção hospitalar parecem estar aumentando conforme a populacao também aumenta"
   ]
  },
  {
   "cell_type": "code",
   "execution_count": 32,
   "id": "871745b4",
   "metadata": {},
   "outputs": [
    {
     "data": {
      "text/html": [
       "<div>\n",
       "<style scoped>\n",
       "    .dataframe tbody tr th:only-of-type {\n",
       "        vertical-align: middle;\n",
       "    }\n",
       "\n",
       "    .dataframe tbody tr th {\n",
       "        vertical-align: top;\n",
       "    }\n",
       "\n",
       "    .dataframe thead th {\n",
       "        text-align: right;\n",
       "    }\n",
       "</style>\n",
       "<table border=\"1\" class=\"dataframe\">\n",
       "  <thead>\n",
       "    <tr style=\"text-align: right;\">\n",
       "      <th>Unidade da Federação</th>\n",
       "      <th>São Paulo</th>\n",
       "      <th>Minas Gerais</th>\n",
       "      <th>Paraná</th>\n",
       "      <th>Rio Grande do Sul</th>\n",
       "      <th>Rio de Janeiro</th>\n",
       "      <th>Bahia</th>\n",
       "      <th>Pernambuco</th>\n",
       "      <th>Santa Catarina</th>\n",
       "      <th>Ceará</th>\n",
       "      <th>Goiás</th>\n",
       "      <th>...</th>\n",
       "      <th>Piauí</th>\n",
       "      <th>Mato Grosso</th>\n",
       "      <th>Alagoas</th>\n",
       "      <th>Amazonas</th>\n",
       "      <th>Sergipe</th>\n",
       "      <th>Rondônia</th>\n",
       "      <th>Tocantins</th>\n",
       "      <th>Acre</th>\n",
       "      <th>Roraima</th>\n",
       "      <th>Amapá</th>\n",
       "    </tr>\n",
       "  </thead>\n",
       "  <tbody>\n",
       "    <tr>\n",
       "      <th>2008/Jan</th>\n",
       "      <td>91.678473</td>\n",
       "      <td>45.671660</td>\n",
       "      <td>38.266347</td>\n",
       "      <td>30.931325</td>\n",
       "      <td>23.025259</td>\n",
       "      <td>21.211522</td>\n",
       "      <td>14.393950</td>\n",
       "      <td>16.504913</td>\n",
       "      <td>15.539822</td>\n",
       "      <td>15.310637</td>\n",
       "      <td>...</td>\n",
       "      <td>7.985142</td>\n",
       "      <td>4.795299</td>\n",
       "      <td>6.243726</td>\n",
       "      <td>4.735529</td>\n",
       "      <td>2.780750</td>\n",
       "      <td>1.388528</td>\n",
       "      <td>3.441593</td>\n",
       "      <td>0.902416</td>\n",
       "      <td>0.657890</td>\n",
       "      <td>1.120973</td>\n",
       "    </tr>\n",
       "    <tr>\n",
       "      <th>2008/Fev</th>\n",
       "      <td>148.677527</td>\n",
       "      <td>70.194037</td>\n",
       "      <td>55.384671</td>\n",
       "      <td>57.363420</td>\n",
       "      <td>28.394311</td>\n",
       "      <td>28.189305</td>\n",
       "      <td>24.181401</td>\n",
       "      <td>25.651429</td>\n",
       "      <td>25.735102</td>\n",
       "      <td>22.258669</td>\n",
       "      <td>...</td>\n",
       "      <td>10.079928</td>\n",
       "      <td>8.684882</td>\n",
       "      <td>8.376622</td>\n",
       "      <td>7.118991</td>\n",
       "      <td>3.676483</td>\n",
       "      <td>2.931283</td>\n",
       "      <td>4.985689</td>\n",
       "      <td>1.497206</td>\n",
       "      <td>0.777939</td>\n",
       "      <td>1.268740</td>\n",
       "    </tr>\n",
       "    <tr>\n",
       "      <th>2008/Mar</th>\n",
       "      <td>156.087269</td>\n",
       "      <td>79.231337</td>\n",
       "      <td>53.801319</td>\n",
       "      <td>51.547794</td>\n",
       "      <td>44.567063</td>\n",
       "      <td>34.181484</td>\n",
       "      <td>29.991303</td>\n",
       "      <td>26.743525</td>\n",
       "      <td>28.724626</td>\n",
       "      <td>21.442516</td>\n",
       "      <td>...</td>\n",
       "      <td>10.298372</td>\n",
       "      <td>7.886243</td>\n",
       "      <td>8.408336</td>\n",
       "      <td>8.196635</td>\n",
       "      <td>5.051474</td>\n",
       "      <td>1.541683</td>\n",
       "      <td>6.205613</td>\n",
       "      <td>1.794028</td>\n",
       "      <td>0.718688</td>\n",
       "      <td>0.974651</td>\n",
       "    </tr>\n",
       "    <tr>\n",
       "      <th>2008/Abr</th>\n",
       "      <td>161.227125</td>\n",
       "      <td>77.136538</td>\n",
       "      <td>52.460307</td>\n",
       "      <td>56.673338</td>\n",
       "      <td>44.054605</td>\n",
       "      <td>39.026934</td>\n",
       "      <td>34.806198</td>\n",
       "      <td>27.181488</td>\n",
       "      <td>30.676457</td>\n",
       "      <td>20.921212</td>\n",
       "      <td>...</td>\n",
       "      <td>10.775976</td>\n",
       "      <td>8.794110</td>\n",
       "      <td>9.090795</td>\n",
       "      <td>8.259378</td>\n",
       "      <td>5.046063</td>\n",
       "      <td>1.525315</td>\n",
       "      <td>4.984482</td>\n",
       "      <td>1.730469</td>\n",
       "      <td>0.839994</td>\n",
       "      <td>1.141137</td>\n",
       "    </tr>\n",
       "    <tr>\n",
       "      <th>2008/Mai</th>\n",
       "      <td>187.119398</td>\n",
       "      <td>80.554441</td>\n",
       "      <td>54.419621</td>\n",
       "      <td>48.397733</td>\n",
       "      <td>44.911021</td>\n",
       "      <td>42.949567</td>\n",
       "      <td>32.147987</td>\n",
       "      <td>26.845308</td>\n",
       "      <td>30.604453</td>\n",
       "      <td>21.615971</td>\n",
       "      <td>...</td>\n",
       "      <td>10.398361</td>\n",
       "      <td>9.231645</td>\n",
       "      <td>9.338771</td>\n",
       "      <td>7.831400</td>\n",
       "      <td>4.741152</td>\n",
       "      <td>1.645954</td>\n",
       "      <td>5.511002</td>\n",
       "      <td>1.819444</td>\n",
       "      <td>0.862348</td>\n",
       "      <td>0.866346</td>\n",
       "    </tr>\n",
       "  </tbody>\n",
       "</table>\n",
       "<p>5 rows × 27 columns</p>\n",
       "</div>"
      ],
      "text/plain": [
       "Unidade da Federação   São Paulo  Minas Gerais     Paraná  Rio Grande do Sul  \\\n",
       "2008/Jan               91.678473     45.671660  38.266347          30.931325   \n",
       "2008/Fev              148.677527     70.194037  55.384671          57.363420   \n",
       "2008/Mar              156.087269     79.231337  53.801319          51.547794   \n",
       "2008/Abr              161.227125     77.136538  52.460307          56.673338   \n",
       "2008/Mai              187.119398     80.554441  54.419621          48.397733   \n",
       "\n",
       "Unidade da Federação  Rio de Janeiro      Bahia  Pernambuco  Santa Catarina  \\\n",
       "2008/Jan                   23.025259  21.211522   14.393950       16.504913   \n",
       "2008/Fev                   28.394311  28.189305   24.181401       25.651429   \n",
       "2008/Mar                   44.567063  34.181484   29.991303       26.743525   \n",
       "2008/Abr                   44.054605  39.026934   34.806198       27.181488   \n",
       "2008/Mai                   44.911021  42.949567   32.147987       26.845308   \n",
       "\n",
       "Unidade da Federação      Ceará      Goiás  ...      Piauí  Mato Grosso  \\\n",
       "2008/Jan              15.539822  15.310637  ...   7.985142     4.795299   \n",
       "2008/Fev              25.735102  22.258669  ...  10.079928     8.684882   \n",
       "2008/Mar              28.724626  21.442516  ...  10.298372     7.886243   \n",
       "2008/Abr              30.676457  20.921212  ...  10.775976     8.794110   \n",
       "2008/Mai              30.604453  21.615971  ...  10.398361     9.231645   \n",
       "\n",
       "Unidade da Federação   Alagoas  Amazonas   Sergipe  Rondônia  Tocantins  \\\n",
       "2008/Jan              6.243726  4.735529  2.780750  1.388528   3.441593   \n",
       "2008/Fev              8.376622  7.118991  3.676483  2.931283   4.985689   \n",
       "2008/Mar              8.408336  8.196635  5.051474  1.541683   6.205613   \n",
       "2008/Abr              9.090795  8.259378  5.046063  1.525315   4.984482   \n",
       "2008/Mai              9.338771  7.831400  4.741152  1.645954   5.511002   \n",
       "\n",
       "Unidade da Federação      Acre   Roraima     Amapá  \n",
       "2008/Jan              0.902416  0.657890  1.120973  \n",
       "2008/Fev              1.497206  0.777939  1.268740  \n",
       "2008/Mar              1.794028  0.718688  0.974651  \n",
       "2008/Abr              1.730469  0.839994  1.141137  \n",
       "2008/Mai              1.819444  0.862348  0.866346  \n",
       "\n",
       "[5 rows x 27 columns]"
      ]
     },
     "execution_count": 32,
     "metadata": {},
     "output_type": "execute_result"
    }
   ],
   "source": [
    "mensal = gastos_prod_hosp.T\n",
    "mensal.head()"
   ]
  },
  {
   "cell_type": "code",
   "execution_count": null,
   "id": "7197ab70",
   "metadata": {},
   "outputs": [
    {
     "data": {
      "text/plain": [
       "<AxesSubplot: ylabel='Bahia'>"
      ]
     },
     "execution_count": 33,
     "metadata": {},
     "output_type": "execute_result"
    }
   ],
   "source": [
    "sns.scatterplot(data=mensal, x=mensal.index,y='Bahia')"
   ]
  },
  {
   "cell_type": "code",
   "execution_count": null,
   "id": "cb01cf6c",
   "metadata": {},
   "outputs": [],
   "source": [
    "import matplotlib.ticker as ticker\n",
    "\n",
    "plt.figure(figsize=(10,6))\n",
    "axis = sns.lineplot(data=mensal, x=mensal.index,y='Bahia')\n",
    "plt.xticks(rotation=45, ha='right')\n",
    "axis.xaxis.set_major_locator(ticker.IndexLocator(base=12,offset=0))\n",
    "plt.grid()\n",
    "plt.ylim(0,mensal['Bahia'].max() + 10)\n",
    "plt.show()"
   ]
  },
  {
   "cell_type": "markdown",
   "id": "15de576a",
   "metadata": {},
   "source": [
    "Provavelmente, quedas em Fervereiro o valor da Produção Hospitalar sempre cai devido o mês ter apenas 28 dias invés de 30 e 31 dias como os demais meses do ano."
   ]
  },
  {
   "cell_type": "markdown",
   "id": "7bcf0bb2",
   "metadata": {},
   "source": [
    "### Desafio 5: Fazer o gráfico com dois estados, uma cor diferente para cada Estado"
   ]
  },
  {
   "cell_type": "code",
   "execution_count": null,
   "id": "ed8a2d92",
   "metadata": {},
   "outputs": [],
   "source": [
    "plt.figure(figsize=(10,6))\n",
    "axis = sns.lineplot(data=mensal, x=mensal.index,y='Bahia', label = 'Bahia')\n",
    "axis = sns.lineplot(data=mensal, x=mensal.index,y='São Paulo', label = 'São Paulo')\n",
    "plt.xticks(rotation=45, ha='right')\n",
    "axis.xaxis.set_major_locator(ticker.IndexLocator(base=12,offset=0))\n",
    "plt.grid()\n",
    "plt.ylabel('Gastos com Produção Hospitalar')\n",
    "plt.ylim(0,mensal['São Paulo'].max() + 10)\n",
    "plt.show()"
   ]
  },
  {
   "cell_type": "code",
   "execution_count": null,
   "id": "62cfeaa7",
   "metadata": {},
   "outputs": [],
   "source": [
    "mensal.index"
   ]
  },
  {
   "cell_type": "code",
   "execution_count": null,
   "id": "0c17f6ed",
   "metadata": {},
   "outputs": [],
   "source": [
    "from datetime import date\n",
    "\n",
    "meses = {\n",
    "    'Jan' : 1,\n",
    "    'Fev' : 2,\n",
    "    'Mar' : 3,\n",
    "    'Abr' : 4,\n",
    "    'Mai' : 5,\n",
    "    'Jun' : 6,\n",
    "    'Jul' : 7,\n",
    "    'Ago' : 8,\n",
    "    'Set' : 9,\n",
    "    'Out' : 10,\n",
    "    'Nov' : 11,\n",
    "    'Dez' : 12\n",
    "}\n",
    "\n",
    "def para_dia(ano_mes):\n",
    "    ano = int(ano_mes[:4])\n",
    "    mes_como_string = ano_mes[5:]\n",
    "    mes = meses[mes_como_string]\n",
    "    return date(ano, mes, 1)"
   ]
  },
  {
   "cell_type": "code",
   "execution_count": null,
   "id": "6b20b712",
   "metadata": {},
   "outputs": [],
   "source": [
    "mensal.index.map(para_dia)"
   ]
  },
  {
   "cell_type": "code",
   "execution_count": null,
   "id": "d87bda6b",
   "metadata": {},
   "outputs": [],
   "source": [
    "mensal.index = mensal.index.map(para_dia)\n",
    "mensal.head()"
   ]
  },
  {
   "cell_type": "code",
   "execution_count": null,
   "id": "a9f2f41b",
   "metadata": {},
   "outputs": [],
   "source": [
    "plt.figure(figsize=(10,6))\n",
    "axis = sns.lineplot(data=mensal, x=mensal.index,y='Bahia', label = 'Bahia')\n",
    "axis = sns.lineplot(data=mensal, x=mensal.index,y='São Paulo', label = 'São Paulo')\n",
    "#plt.xticks(rotation=45, ha='right')\n",
    "#axis.xaxis.set_major_locator(ticker.IndexLocator(base=12,offset=0))\n",
    "plt.grid()\n",
    "plt.ylabel('Gastos com Produção Hospitalar')\n",
    "#plt.ylim(0,mensal['São Paulo'].max() + 10)\n",
    "plt.show()"
   ]
  },
  {
   "cell_type": "code",
   "execution_count": null,
   "id": "c2a33b6e",
   "metadata": {},
   "outputs": [],
   "source": [
    "mensal"
   ]
  },
  {
   "cell_type": "code",
   "execution_count": null,
   "id": "e3740764",
   "metadata": {},
   "outputs": [],
   "source": [
    "mensal_aberto = mensal.reset_index().melt(id_vars=['index'], value_vars=mensal.columns)\n",
    "mensal_aberto.columns = ['dia_mes_ano', 'uf', 'gasto']\n",
    "mensal_aberto.head()"
   ]
  },
  {
   "cell_type": "markdown",
   "id": "43084037",
   "metadata": {},
   "source": [
    "### Desafio 6: Escolher uma paleta adequada para o gráfico, plotar todas as unidades de federação, formatar legendas e eixos"
   ]
  },
  {
   "cell_type": "code",
   "execution_count": null,
   "id": "d68a46ed",
   "metadata": {},
   "outputs": [],
   "source": [
    "plt.figure(figsize=(10,6))\n",
    "axis = sns.lineplot(data=mensal_aberto, x='dia_mes_ano',y='gasto', hue='uf',palette='hls')\n",
    "plt.grid()\n",
    "plt.ylabel('Gastos com Produção Hospitalar em milhões de reais')\n",
    "plt.legend(ncols=3, fontsize='small')\n",
    "plt.show()"
   ]
  },
  {
   "cell_type": "markdown",
   "id": "f903a3cc",
   "metadata": {},
   "source": [
    "---------------------"
   ]
  },
  {
   "cell_type": "code",
   "execution_count": null,
   "id": "7b559498",
   "metadata": {},
   "outputs": [],
   "source": [
    "mensal_aberto['dia_mes_ano'][0]"
   ]
  },
  {
   "cell_type": "code",
   "execution_count": null,
   "id": "b217f9f2",
   "metadata": {},
   "outputs": [],
   "source": [
    "mensal_aberto['dia_mes_ano'][0].year"
   ]
  },
  {
   "cell_type": "code",
   "execution_count": null,
   "id": "25e6b1cc",
   "metadata": {},
   "outputs": [],
   "source": [
    "mensal_aberto.info()"
   ]
  },
  {
   "cell_type": "code",
   "execution_count": null,
   "id": "ccbf084b",
   "metadata": {},
   "outputs": [],
   "source": [
    "mensal_aberto['dia_mes_ano'] = pd.to_datetime(mensal_aberto['dia_mes_ano'])"
   ]
  },
  {
   "cell_type": "code",
   "execution_count": null,
   "id": "51a3417f",
   "metadata": {
    "scrolled": true
   },
   "outputs": [],
   "source": [
    "mensal_aberto['ano'] = mensal_aberto['dia_mes_ano'].dt.year\n",
    "mensal_aberto['mes'] = mensal_aberto['dia_mes_ano'].dt.month\n",
    "mensal_aberto.head()"
   ]
  },
  {
   "cell_type": "code",
   "execution_count": null,
   "id": "3e55bc9a",
   "metadata": {},
   "outputs": [],
   "source": [
    "mensal_aberto.query('uf == \"São Paulo\"')"
   ]
  },
  {
   "cell_type": "code",
   "execution_count": null,
   "id": "0103d06b",
   "metadata": {},
   "outputs": [],
   "source": [
    "plt.figure(figsize=(10,6))\n",
    "axis = sns.lineplot(data=mensal_aberto.query('uf == \"São Paulo\"'), x = 'mes', y = 'gasto', hue = 'ano')\n",
    "plt.ylim(0,600)\n",
    "plt.grid()\n",
    "plt.show()"
   ]
  },
  {
   "cell_type": "markdown",
   "id": "bee7bf0c",
   "metadata": {},
   "source": [
    "### Desafio 7: Escolher um ano e plotar o mesmo ano para dois estados diferentes no mesmo gráfico"
   ]
  },
  {
   "cell_type": "code",
   "execution_count": null,
   "id": "2621f7d6",
   "metadata": {},
   "outputs": [],
   "source": [
    "import numpy as np\n",
    "\n",
    "plt.figure(figsize=(10,6))\n",
    "axis = sns.lineplot(data=mensal_aberto.query('(uf == \"São Paulo\" | uf == \"Minas Gerais\") & (ano == 2020)'), x = 'mes', y = 'gasto', hue = 'uf')\n",
    "plt.ylim(0,600)\n",
    "plt.ylabel('Gastos com Produção Hospitalar em milhões de reais')\n",
    "plt.xlabel('')\n",
    "plt.xticks(np.arange(1, 13, step=1),labels=meses)\n",
    "plt.grid()\n",
    "plt.show()"
   ]
  },
  {
   "cell_type": "markdown",
   "id": "32e3c356",
   "metadata": {},
   "source": [
    "-----------"
   ]
  },
  {
   "cell_type": "code",
   "execution_count": null,
   "id": "6c3a092a",
   "metadata": {},
   "outputs": [],
   "source": [
    "dias_por_mes = {\n",
    "    1:31,\n",
    "    2:28,\n",
    "    3:31,\n",
    "    4:30,\n",
    "    5:31,\n",
    "    6:30,\n",
    "    7:31,\n",
    "    8:31,\n",
    "    9:30,\n",
    "    10:31,\n",
    "    11:30,\n",
    "    12:31\n",
    "}"
   ]
  },
  {
   "cell_type": "code",
   "execution_count": null,
   "id": "9c099301",
   "metadata": {},
   "outputs": [],
   "source": [
    "mensal_aberto['gasto_diario'] = mensal_aberto['gasto'] / mensal_aberto['mes'].map(dias_por_mes)\n",
    "mensal_aberto.head()"
   ]
  },
  {
   "cell_type": "code",
   "execution_count": null,
   "id": "865d58a5",
   "metadata": {
    "scrolled": true
   },
   "outputs": [],
   "source": [
    "import numpy as np\n",
    "\n",
    "plt.figure(figsize=(10,6))\n",
    "axis = sns.lineplot(data=mensal_aberto.query('(uf == \"São Paulo\" | uf == \"Minas Gerais\") & (ano == 2020)'), x = 'mes', y = 'gasto_diario', hue = 'uf')\n",
    "plt.ylim(0,15)\n",
    "plt.ylabel('Gastos com Produção Hospitalar em milhões de reais')\n",
    "plt.xlabel('')\n",
    "plt.xticks(np.arange(1, 13, step=1),labels=meses)\n",
    "plt.grid()\n",
    "plt.show()"
   ]
  },
  {
   "cell_type": "code",
   "execution_count": null,
   "id": "ff46a728",
   "metadata": {},
   "outputs": [],
   "source": [
    "mensal_do_meu_estado = mensal_aberto.query('uf==\"Bahia\"')\n",
    "mensal_do_meu_estado.head()"
   ]
  },
  {
   "cell_type": "code",
   "execution_count": null,
   "id": "4f522a41",
   "metadata": {},
   "outputs": [],
   "source": [
    "gastos_por_ano = mensal_do_meu_estado.groupby('ano').sum()\n",
    "gastos_por_ano.head()"
   ]
  },
  {
   "cell_type": "code",
   "execution_count": null,
   "id": "21378096",
   "metadata": {},
   "outputs": [],
   "source": [
    "plt.figure(figsize=(10,6))\n",
    "paleta = sns.color_palette('rocket_r',24)\n",
    "sns.barplot(data=gastos_por_ano, x = gastos_por_ano.index,y='gasto', palette = paleta)\n",
    "plt.show()"
   ]
  },
  {
   "cell_type": "code",
   "execution_count": null,
   "id": "7c19726d",
   "metadata": {},
   "outputs": [],
   "source": [
    "estados = ['Amazonas', 'Mato Grosso', 'Ceará']\n",
    "por_ano_dos_estados = mensal_aberto.query('uf in @estados').groupby(['uf','ano']).sum().reset_index()\n",
    "por_ano_dos_estados.head()"
   ]
  },
  {
   "cell_type": "code",
   "execution_count": null,
   "id": "5a82bb58",
   "metadata": {},
   "outputs": [],
   "source": [
    "plt.figure(figsize=(10,6))\n",
    "sns.barplot(data=por_ano_dos_estados, x = 'ano',y='gasto', hue='uf')\n",
    "plt.show()"
   ]
  },
  {
   "cell_type": "code",
   "execution_count": null,
   "id": "298f1ed9",
   "metadata": {},
   "outputs": [],
   "source": [
    "sns.lineplot(data=por_ano_dos_estados, x = 'ano',y='gasto', hue='uf')"
   ]
  },
  {
   "cell_type": "code",
   "execution_count": null,
   "id": "9f7ee357",
   "metadata": {},
   "outputs": [],
   "source": [
    "sns.catplot(data=por_ano_dos_estados, x = 'ano',y='gasto', col='uf', kind='bar')"
   ]
  },
  {
   "cell_type": "code",
   "execution_count": null,
   "id": "64a67f14",
   "metadata": {},
   "outputs": [],
   "source": [
    "sns.catplot(data=por_ano_dos_estados, x = 'ano',y='gasto', row='uf', kind='bar')"
   ]
  }
 ],
 "metadata": {
  "kernelspec": {
   "display_name": "Python 3 (ipykernel)",
   "language": "python",
   "name": "python3"
  },
  "language_info": {
   "codemirror_mode": {
    "name": "ipython",
    "version": 3
   },
   "file_extension": ".py",
   "mimetype": "text/x-python",
   "name": "python",
   "nbconvert_exporter": "python",
   "pygments_lexer": "ipython3",
   "version": "3.9.12"
  }
 },
 "nbformat": 4,
 "nbformat_minor": 5
}
