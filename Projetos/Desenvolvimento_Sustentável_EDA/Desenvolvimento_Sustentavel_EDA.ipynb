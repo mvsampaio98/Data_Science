{
 "cells": [
  {
   "cell_type": "markdown",
   "id": "2407f007",
   "metadata": {},
   "source": [
    "## Desenvolvimento Sustentável - Uma análise com dados"
   ]
  },
  {
   "cell_type": "markdown",
   "id": "7848aa63",
   "metadata": {},
   "source": [
    "Neste projeto, o meu objetivo é colocar em prática o que aprendi na formação da Alura \"Python para Data Science\". Com isso, desejo fazer uma análise exploratória de dados (EDA) com um dataset obtido no Kaggle sobre os Objetivos de Desenvolvimento Sustentáveis (ODS)."
   ]
  },
  {
   "cell_type": "markdown",
   "id": "ca45c48b",
   "metadata": {},
   "source": [
    "Importando a base de dados:"
   ]
  },
  {
   "cell_type": "code",
   "execution_count": 1,
   "id": "4a5ffdc3",
   "metadata": {},
   "outputs": [],
   "source": [
    "import pandas as pd"
   ]
  },
  {
   "cell_type": "code",
   "execution_count": 2,
   "id": "6bf2b773",
   "metadata": {},
   "outputs": [],
   "source": [
    "df = pd.read_csv('dados/sdg_index_2000-2022.csv')"
   ]
  },
  {
   "cell_type": "markdown",
   "id": "680973fe",
   "metadata": {},
   "source": [
    "Ver as primeiras linhas do DataFrame:"
   ]
  },
  {
   "cell_type": "code",
   "execution_count": 3,
   "id": "43d227b3",
   "metadata": {},
   "outputs": [
    {
     "data": {
      "text/html": [
       "<div>\n",
       "<style scoped>\n",
       "    .dataframe tbody tr th:only-of-type {\n",
       "        vertical-align: middle;\n",
       "    }\n",
       "\n",
       "    .dataframe tbody tr th {\n",
       "        vertical-align: top;\n",
       "    }\n",
       "\n",
       "    .dataframe thead th {\n",
       "        text-align: right;\n",
       "    }\n",
       "</style>\n",
       "<table border=\"1\" class=\"dataframe\">\n",
       "  <thead>\n",
       "    <tr style=\"text-align: right;\">\n",
       "      <th></th>\n",
       "      <th>country_code</th>\n",
       "      <th>country</th>\n",
       "      <th>year</th>\n",
       "      <th>sdg_index_score</th>\n",
       "      <th>goal_1_score</th>\n",
       "      <th>goal_2_score</th>\n",
       "      <th>goal_3_score</th>\n",
       "      <th>goal_4_score</th>\n",
       "      <th>goal_5_score</th>\n",
       "      <th>goal_6_score</th>\n",
       "      <th>...</th>\n",
       "      <th>goal_8_score</th>\n",
       "      <th>goal_9_score</th>\n",
       "      <th>goal_10_score</th>\n",
       "      <th>goal_11_score</th>\n",
       "      <th>goal_12_score</th>\n",
       "      <th>goal_13_score</th>\n",
       "      <th>goal_14_score</th>\n",
       "      <th>goal_15_score</th>\n",
       "      <th>goal_16_score</th>\n",
       "      <th>goal_17_score</th>\n",
       "    </tr>\n",
       "  </thead>\n",
       "  <tbody>\n",
       "    <tr>\n",
       "      <th>0</th>\n",
       "      <td>AFG</td>\n",
       "      <td>Afghanistan</td>\n",
       "      <td>2000</td>\n",
       "      <td>36.0</td>\n",
       "      <td>28.8</td>\n",
       "      <td>27.3</td>\n",
       "      <td>19.2</td>\n",
       "      <td>1.6</td>\n",
       "      <td>20.8</td>\n",
       "      <td>32.4</td>\n",
       "      <td>...</td>\n",
       "      <td>38.5</td>\n",
       "      <td>5.2</td>\n",
       "      <td>0.0</td>\n",
       "      <td>25.8</td>\n",
       "      <td>94.7</td>\n",
       "      <td>99.4</td>\n",
       "      <td>0.0</td>\n",
       "      <td>51.9</td>\n",
       "      <td>39.2</td>\n",
       "      <td>34.2</td>\n",
       "    </tr>\n",
       "    <tr>\n",
       "      <th>1</th>\n",
       "      <td>AFG</td>\n",
       "      <td>Afghanistan</td>\n",
       "      <td>2001</td>\n",
       "      <td>36.3</td>\n",
       "      <td>28.8</td>\n",
       "      <td>30.6</td>\n",
       "      <td>19.4</td>\n",
       "      <td>1.6</td>\n",
       "      <td>20.8</td>\n",
       "      <td>32.4</td>\n",
       "      <td>...</td>\n",
       "      <td>38.5</td>\n",
       "      <td>5.2</td>\n",
       "      <td>0.0</td>\n",
       "      <td>25.8</td>\n",
       "      <td>94.5</td>\n",
       "      <td>99.4</td>\n",
       "      <td>0.0</td>\n",
       "      <td>51.9</td>\n",
       "      <td>39.2</td>\n",
       "      <td>34.2</td>\n",
       "    </tr>\n",
       "    <tr>\n",
       "      <th>2</th>\n",
       "      <td>AFG</td>\n",
       "      <td>Afghanistan</td>\n",
       "      <td>2002</td>\n",
       "      <td>36.3</td>\n",
       "      <td>28.8</td>\n",
       "      <td>30.7</td>\n",
       "      <td>19.7</td>\n",
       "      <td>1.6</td>\n",
       "      <td>20.8</td>\n",
       "      <td>32.7</td>\n",
       "      <td>...</td>\n",
       "      <td>38.4</td>\n",
       "      <td>5.2</td>\n",
       "      <td>0.0</td>\n",
       "      <td>26.1</td>\n",
       "      <td>94.1</td>\n",
       "      <td>99.4</td>\n",
       "      <td>0.0</td>\n",
       "      <td>51.8</td>\n",
       "      <td>39.2</td>\n",
       "      <td>34.2</td>\n",
       "    </tr>\n",
       "    <tr>\n",
       "      <th>3</th>\n",
       "      <td>AFG</td>\n",
       "      <td>Afghanistan</td>\n",
       "      <td>2003</td>\n",
       "      <td>36.7</td>\n",
       "      <td>28.8</td>\n",
       "      <td>32.5</td>\n",
       "      <td>19.9</td>\n",
       "      <td>1.6</td>\n",
       "      <td>20.8</td>\n",
       "      <td>33.0</td>\n",
       "      <td>...</td>\n",
       "      <td>38.4</td>\n",
       "      <td>5.2</td>\n",
       "      <td>0.0</td>\n",
       "      <td>26.5</td>\n",
       "      <td>94.4</td>\n",
       "      <td>99.4</td>\n",
       "      <td>0.0</td>\n",
       "      <td>51.8</td>\n",
       "      <td>39.2</td>\n",
       "      <td>34.2</td>\n",
       "    </tr>\n",
       "    <tr>\n",
       "      <th>4</th>\n",
       "      <td>AFG</td>\n",
       "      <td>Afghanistan</td>\n",
       "      <td>2004</td>\n",
       "      <td>37.1</td>\n",
       "      <td>28.8</td>\n",
       "      <td>32.1</td>\n",
       "      <td>21.1</td>\n",
       "      <td>1.6</td>\n",
       "      <td>20.8</td>\n",
       "      <td>33.3</td>\n",
       "      <td>...</td>\n",
       "      <td>38.5</td>\n",
       "      <td>5.2</td>\n",
       "      <td>0.0</td>\n",
       "      <td>26.8</td>\n",
       "      <td>94.8</td>\n",
       "      <td>99.4</td>\n",
       "      <td>0.0</td>\n",
       "      <td>51.8</td>\n",
       "      <td>39.2</td>\n",
       "      <td>34.2</td>\n",
       "    </tr>\n",
       "  </tbody>\n",
       "</table>\n",
       "<p>5 rows × 21 columns</p>\n",
       "</div>"
      ],
      "text/plain": [
       "  country_code      country  year  sdg_index_score  goal_1_score  \\\n",
       "0          AFG  Afghanistan  2000             36.0          28.8   \n",
       "1          AFG  Afghanistan  2001             36.3          28.8   \n",
       "2          AFG  Afghanistan  2002             36.3          28.8   \n",
       "3          AFG  Afghanistan  2003             36.7          28.8   \n",
       "4          AFG  Afghanistan  2004             37.1          28.8   \n",
       "\n",
       "   goal_2_score  goal_3_score  goal_4_score  goal_5_score  goal_6_score  ...  \\\n",
       "0          27.3          19.2           1.6          20.8          32.4  ...   \n",
       "1          30.6          19.4           1.6          20.8          32.4  ...   \n",
       "2          30.7          19.7           1.6          20.8          32.7  ...   \n",
       "3          32.5          19.9           1.6          20.8          33.0  ...   \n",
       "4          32.1          21.1           1.6          20.8          33.3  ...   \n",
       "\n",
       "   goal_8_score  goal_9_score  goal_10_score  goal_11_score  goal_12_score  \\\n",
       "0          38.5           5.2            0.0           25.8           94.7   \n",
       "1          38.5           5.2            0.0           25.8           94.5   \n",
       "2          38.4           5.2            0.0           26.1           94.1   \n",
       "3          38.4           5.2            0.0           26.5           94.4   \n",
       "4          38.5           5.2            0.0           26.8           94.8   \n",
       "\n",
       "   goal_13_score  goal_14_score  goal_15_score  goal_16_score  goal_17_score  \n",
       "0           99.4            0.0           51.9           39.2           34.2  \n",
       "1           99.4            0.0           51.9           39.2           34.2  \n",
       "2           99.4            0.0           51.8           39.2           34.2  \n",
       "3           99.4            0.0           51.8           39.2           34.2  \n",
       "4           99.4            0.0           51.8           39.2           34.2  \n",
       "\n",
       "[5 rows x 21 columns]"
      ]
     },
     "execution_count": 3,
     "metadata": {},
     "output_type": "execute_result"
    }
   ],
   "source": [
    "df.head()"
   ]
  },
  {
   "cell_type": "markdown",
   "id": "16b9d4b6",
   "metadata": {},
   "source": [
    "Extrair informações sobre valores não nulos, nome das colunas e seus tipos:"
   ]
  },
  {
   "cell_type": "code",
   "execution_count": 4,
   "id": "2b6a5945",
   "metadata": {},
   "outputs": [
    {
     "name": "stdout",
     "output_type": "stream",
     "text": [
      "<class 'pandas.core.frame.DataFrame'>\n",
      "RangeIndex: 4140 entries, 0 to 4139\n",
      "Data columns (total 21 columns):\n",
      " #   Column           Non-Null Count  Dtype  \n",
      "---  ------           --------------  -----  \n",
      " 0   country_code     4140 non-null   object \n",
      " 1   country          4140 non-null   object \n",
      " 2   year             4140 non-null   int64  \n",
      " 3   sdg_index_score  4140 non-null   float64\n",
      " 4   goal_1_score     4140 non-null   float64\n",
      " 5   goal_2_score     4140 non-null   float64\n",
      " 6   goal_3_score     4140 non-null   float64\n",
      " 7   goal_4_score     4140 non-null   float64\n",
      " 8   goal_5_score     4140 non-null   float64\n",
      " 9   goal_6_score     4140 non-null   float64\n",
      " 10  goal_7_score     4140 non-null   float64\n",
      " 11  goal_8_score     4140 non-null   float64\n",
      " 12  goal_9_score     4140 non-null   float64\n",
      " 13  goal_10_score    4140 non-null   float64\n",
      " 14  goal_11_score    4140 non-null   float64\n",
      " 15  goal_12_score    4140 non-null   float64\n",
      " 16  goal_13_score    4140 non-null   float64\n",
      " 17  goal_14_score    4140 non-null   float64\n",
      " 18  goal_15_score    4140 non-null   float64\n",
      " 19  goal_16_score    4140 non-null   float64\n",
      " 20  goal_17_score    4140 non-null   float64\n",
      "dtypes: float64(18), int64(1), object(2)\n",
      "memory usage: 679.3+ KB\n"
     ]
    }
   ],
   "source": [
    "df.info()"
   ]
  },
  {
   "cell_type": "markdown",
   "id": "d7ee07dc",
   "metadata": {},
   "source": [
    "Conferindo de fato se não temos valores nulos:"
   ]
  },
  {
   "cell_type": "code",
   "execution_count": 5,
   "id": "2725eb04",
   "metadata": {},
   "outputs": [
    {
     "data": {
      "text/plain": [
       "0"
      ]
     },
     "execution_count": 5,
     "metadata": {},
     "output_type": "execute_result"
    }
   ],
   "source": [
    "df.isna().sum().sum()"
   ]
  },
  {
   "cell_type": "markdown",
   "id": "70ec3ac6",
   "metadata": {},
   "source": [
    "Conferindo se há valores duplicados:"
   ]
  },
  {
   "cell_type": "code",
   "execution_count": 6,
   "id": "c421be67",
   "metadata": {},
   "outputs": [
    {
     "data": {
      "text/plain": [
       "0"
      ]
     },
     "execution_count": 6,
     "metadata": {},
     "output_type": "execute_result"
    }
   ],
   "source": [
    "df.duplicated().sum()"
   ]
  },
  {
   "cell_type": "markdown",
   "id": "f8de651e",
   "metadata": {},
   "source": [
    "Checando os países presentes em nossas amostras:"
   ]
  },
  {
   "cell_type": "code",
   "execution_count": 7,
   "id": "c65e4943",
   "metadata": {},
   "outputs": [
    {
     "data": {
      "text/plain": [
       "array(['Afghanistan', 'Albania', 'Algeria', 'Angola', 'Argentina',\n",
       "       'Armenia', 'Australia', 'Austria', 'Azerbaijan', 'Bahamas, The',\n",
       "       'Bahrain', 'Bangladesh', 'Barbados', 'Belarus', 'Belgium',\n",
       "       'Belize', 'Benin', 'Bhutan', 'Bolivia', 'Bosnia and Herzegovina',\n",
       "       'Botswana', 'Brazil', 'Brunei Darussalam', 'Bulgaria',\n",
       "       'Burkina Faso', 'Burundi', 'Cabo Verde', 'Cambodia', 'Cameroon',\n",
       "       'Canada', 'Central African Republic', 'Chad', 'Chile', 'China',\n",
       "       'Colombia', 'Comoros', 'Congo, Dem. Rep.', 'Congo, Rep.',\n",
       "       'Costa Rica', \"Cote d'Ivoire\", 'Croatia', 'Cuba', 'Cyprus',\n",
       "       'Czechia', 'Denmark', 'Djibouti', 'Dominican Republic',\n",
       "       'East and South Asia', 'Eastern Europe and Central Asia',\n",
       "       'Ecuador', 'Egypt, Arab Rep.', 'El Salvador', 'Estonia',\n",
       "       'Eswatini', 'Ethiopia', 'Fiji', 'Finland', 'France', 'Gabon',\n",
       "       'Gambia, The', 'Georgia', 'Germany', 'Ghana', 'Greece',\n",
       "       'Guatemala', 'Guinea', 'Guyana', 'Haiti', 'High-income Countries',\n",
       "       'Honduras', 'Hungary', 'Iceland', 'India', 'Indonesia',\n",
       "       'Iran, Islamic Rep.', 'Iraq', 'Ireland', 'Israel', 'Italy',\n",
       "       'Jamaica', 'Japan', 'Jordan', 'Kazakhstan', 'Kenya', 'Korea, Rep.',\n",
       "       'Kuwait', 'Kyrgyz Republic', 'Lao PDR',\n",
       "       'Latin America and the Caribbean', 'Latvia', 'Lebanon', 'Lesotho',\n",
       "       'Liberia', 'Lithuania', 'Lower & Lower-middle Income',\n",
       "       'Lower-middle-income Countries', 'Low-income Countries',\n",
       "       'Luxembourg', 'Madagascar', 'Malawi', 'Malaysia', 'Maldives',\n",
       "       'Mali', 'Malta', 'Mauritania', 'Mauritius', 'Mexico',\n",
       "       'Middle East and North Africa', 'Moldova', 'Mongolia',\n",
       "       'Montenegro', 'Morocco', 'Mozambique', 'Myanmar', 'Namibia',\n",
       "       'Nepal', 'Netherlands', 'New Zealand', 'Nicaragua', 'Niger',\n",
       "       'Nigeria', 'North Macedonia', 'Norway', 'Oceania', 'OECD members',\n",
       "       'Oman', 'Pakistan', 'Panama', 'Papua New Guinea', 'Paraguay',\n",
       "       'Peru', 'Philippines', 'Poland', 'Portugal', 'Qatar', 'Romania',\n",
       "       'Russian Federation', 'Rwanda', 'Sao Tome and Principe',\n",
       "       'Saudi Arabia', 'Senegal', 'Serbia', 'Sierra Leone', 'Singapore',\n",
       "       'Slovak Republic', 'Slovenia', 'Small Island Developing States',\n",
       "       'Somalia', 'South Africa', 'South Sudan', 'Spain', 'Sri Lanka',\n",
       "       'Sub-Saharan Africa', 'Sudan', 'Suriname', 'Sweden', 'Switzerland',\n",
       "       'Syrian Arab Republic', 'Tajikistan', 'Tanzania', 'Thailand',\n",
       "       'Togo', 'Trinidad and Tobago', 'Tunisia', 'Türkiye',\n",
       "       'Turkmenistan', 'Uganda', 'Ukraine', 'United Arab Emirates',\n",
       "       'United Kingdom', 'United States', 'Upper-middle-income Countries',\n",
       "       'Uruguay', 'Uzbekistan', 'Venezuela, RB', 'Vietnam', 'World',\n",
       "       'Yemen, Rep.', 'Zambia', 'Zimbabwe'], dtype=object)"
      ]
     },
     "execution_count": 7,
     "metadata": {},
     "output_type": "execute_result"
    }
   ],
   "source": [
    "df['country'].unique()"
   ]
  },
  {
   "cell_type": "markdown",
   "id": "cc05c9ee",
   "metadata": {},
   "source": [
    "Selecionando as amostras que queremos remover do DataFrame:"
   ]
  },
  {
   "cell_type": "code",
   "execution_count": 8,
   "id": "5950e1a2",
   "metadata": {
    "scrolled": true
   },
   "outputs": [],
   "source": [
    "amostras_del = (df['country'] == \"East and South Asia\") | (df['country'] == \"Eastern Europe and Central Asia\") | \\\n",
    "(df['country'] == \"High-income Countries\") | (df['country'] == \"Latin America and the Caribbean\") | \\\n",
    "(df['country'] == \"Lower & Lower-middle Income\") | (df['country'] == \"Lower-middle-income Countries\") | \\\n",
    "(df['country'] == \"Low-income Countries\") | (df['country'] == \"Middle East and North Africa\") | \\\n",
    "(df['country'] == \"Oceania\") | (df['country'] == \"OECD members\") | (df['country'] == \"Small Island Developing States\") | \\\n",
    "(df['country'] == \"Sub-Saharan Africa\") | (df['country'] == \"Upper-middle-income Countries\") | \\\n",
    "(df['country'] == \"World\")"
   ]
  },
  {
   "cell_type": "markdown",
   "id": "eecd49a3",
   "metadata": {},
   "source": [
    "Filtrando o nosso dataset somente com as amostras desejadas:"
   ]
  },
  {
   "cell_type": "code",
   "execution_count": 9,
   "id": "425bab5f",
   "metadata": {},
   "outputs": [],
   "source": [
    "df = df.loc[~amostras_del]"
   ]
  },
  {
   "cell_type": "code",
   "execution_count": 10,
   "id": "300c364f",
   "metadata": {
    "scrolled": true
   },
   "outputs": [
    {
     "data": {
      "text/html": [
       "<div>\n",
       "<style scoped>\n",
       "    .dataframe tbody tr th:only-of-type {\n",
       "        vertical-align: middle;\n",
       "    }\n",
       "\n",
       "    .dataframe tbody tr th {\n",
       "        vertical-align: top;\n",
       "    }\n",
       "\n",
       "    .dataframe thead th {\n",
       "        text-align: right;\n",
       "    }\n",
       "</style>\n",
       "<table border=\"1\" class=\"dataframe\">\n",
       "  <thead>\n",
       "    <tr style=\"text-align: right;\">\n",
       "      <th></th>\n",
       "      <th>year</th>\n",
       "      <th>sdg_index_score</th>\n",
       "      <th>goal_1_score</th>\n",
       "      <th>goal_2_score</th>\n",
       "      <th>goal_3_score</th>\n",
       "      <th>goal_4_score</th>\n",
       "      <th>goal_5_score</th>\n",
       "      <th>goal_6_score</th>\n",
       "      <th>goal_7_score</th>\n",
       "      <th>goal_8_score</th>\n",
       "      <th>goal_9_score</th>\n",
       "      <th>goal_10_score</th>\n",
       "      <th>goal_11_score</th>\n",
       "      <th>goal_12_score</th>\n",
       "      <th>goal_13_score</th>\n",
       "      <th>goal_14_score</th>\n",
       "      <th>goal_15_score</th>\n",
       "      <th>goal_16_score</th>\n",
       "      <th>goal_17_score</th>\n",
       "    </tr>\n",
       "  </thead>\n",
       "  <tbody>\n",
       "    <tr>\n",
       "      <th>count</th>\n",
       "      <td>3818.000000</td>\n",
       "      <td>3818.000000</td>\n",
       "      <td>3818.000000</td>\n",
       "      <td>3818.000000</td>\n",
       "      <td>3818.000000</td>\n",
       "      <td>3818.000000</td>\n",
       "      <td>3818.000000</td>\n",
       "      <td>3818.000000</td>\n",
       "      <td>3818.000000</td>\n",
       "      <td>3818.000000</td>\n",
       "      <td>3818.000000</td>\n",
       "      <td>3818.000000</td>\n",
       "      <td>3818.000000</td>\n",
       "      <td>3818.000000</td>\n",
       "      <td>3818.000000</td>\n",
       "      <td>3818.000000</td>\n",
       "      <td>3818.000000</td>\n",
       "      <td>3818.000000</td>\n",
       "      <td>3818.000000</td>\n",
       "    </tr>\n",
       "    <tr>\n",
       "      <th>mean</th>\n",
       "      <td>2011.000000</td>\n",
       "      <td>63.850288</td>\n",
       "      <td>64.795233</td>\n",
       "      <td>57.698900</td>\n",
       "      <td>64.306207</td>\n",
       "      <td>72.073808</td>\n",
       "      <td>55.950367</td>\n",
       "      <td>64.523965</td>\n",
       "      <td>57.614013</td>\n",
       "      <td>69.838554</td>\n",
       "      <td>36.964222</td>\n",
       "      <td>52.771163</td>\n",
       "      <td>70.211498</td>\n",
       "      <td>79.268675</td>\n",
       "      <td>81.513332</td>\n",
       "      <td>47.805998</td>\n",
       "      <td>65.104453</td>\n",
       "      <td>62.587166</td>\n",
       "      <td>55.583552</td>\n",
       "    </tr>\n",
       "    <tr>\n",
       "      <th>std</th>\n",
       "      <td>6.634118</td>\n",
       "      <td>10.916160</td>\n",
       "      <td>36.836088</td>\n",
       "      <td>11.221834</td>\n",
       "      <td>22.651757</td>\n",
       "      <td>27.008855</td>\n",
       "      <td>17.621801</td>\n",
       "      <td>15.103414</td>\n",
       "      <td>21.871602</td>\n",
       "      <td>10.243085</td>\n",
       "      <td>26.079512</td>\n",
       "      <td>32.127442</td>\n",
       "      <td>18.417139</td>\n",
       "      <td>17.017656</td>\n",
       "      <td>21.895557</td>\n",
       "      <td>28.637462</td>\n",
       "      <td>13.775995</td>\n",
       "      <td>14.843730</td>\n",
       "      <td>13.277460</td>\n",
       "    </tr>\n",
       "    <tr>\n",
       "      <th>min</th>\n",
       "      <td>2000.000000</td>\n",
       "      <td>36.000000</td>\n",
       "      <td>0.000000</td>\n",
       "      <td>7.700000</td>\n",
       "      <td>5.900000</td>\n",
       "      <td>0.000000</td>\n",
       "      <td>3.500000</td>\n",
       "      <td>23.300000</td>\n",
       "      <td>0.100000</td>\n",
       "      <td>38.400000</td>\n",
       "      <td>0.000000</td>\n",
       "      <td>0.000000</td>\n",
       "      <td>13.800000</td>\n",
       "      <td>32.900000</td>\n",
       "      <td>0.000000</td>\n",
       "      <td>0.000000</td>\n",
       "      <td>26.000000</td>\n",
       "      <td>27.900000</td>\n",
       "      <td>15.100000</td>\n",
       "    </tr>\n",
       "    <tr>\n",
       "      <th>25%</th>\n",
       "      <td>2005.000000</td>\n",
       "      <td>55.100000</td>\n",
       "      <td>30.825000</td>\n",
       "      <td>52.325000</td>\n",
       "      <td>44.900000</td>\n",
       "      <td>55.600000</td>\n",
       "      <td>43.100000</td>\n",
       "      <td>52.600000</td>\n",
       "      <td>41.200000</td>\n",
       "      <td>63.900000</td>\n",
       "      <td>15.400000</td>\n",
       "      <td>23.200000</td>\n",
       "      <td>56.400000</td>\n",
       "      <td>67.825000</td>\n",
       "      <td>71.700000</td>\n",
       "      <td>36.925000</td>\n",
       "      <td>55.100000</td>\n",
       "      <td>51.600000</td>\n",
       "      <td>45.900000</td>\n",
       "    </tr>\n",
       "    <tr>\n",
       "      <th>50%</th>\n",
       "      <td>2011.000000</td>\n",
       "      <td>65.400000</td>\n",
       "      <td>81.600000</td>\n",
       "      <td>58.900000</td>\n",
       "      <td>71.150000</td>\n",
       "      <td>81.200000</td>\n",
       "      <td>57.700000</td>\n",
       "      <td>64.900000</td>\n",
       "      <td>65.200000</td>\n",
       "      <td>70.100000</td>\n",
       "      <td>29.000000</td>\n",
       "      <td>57.400000</td>\n",
       "      <td>75.300000</td>\n",
       "      <td>84.500000</td>\n",
       "      <td>90.800000</td>\n",
       "      <td>58.700000</td>\n",
       "      <td>65.100000</td>\n",
       "      <td>61.700000</td>\n",
       "      <td>55.100000</td>\n",
       "    </tr>\n",
       "    <tr>\n",
       "      <th>75%</th>\n",
       "      <td>2017.000000</td>\n",
       "      <td>72.300000</td>\n",
       "      <td>98.600000</td>\n",
       "      <td>65.300000</td>\n",
       "      <td>81.700000</td>\n",
       "      <td>94.900000</td>\n",
       "      <td>69.200000</td>\n",
       "      <td>74.700000</td>\n",
       "      <td>72.100000</td>\n",
       "      <td>76.700000</td>\n",
       "      <td>52.700000</td>\n",
       "      <td>80.800000</td>\n",
       "      <td>85.075000</td>\n",
       "      <td>94.100000</td>\n",
       "      <td>97.300000</td>\n",
       "      <td>67.900000</td>\n",
       "      <td>74.300000</td>\n",
       "      <td>74.200000</td>\n",
       "      <td>65.000000</td>\n",
       "    </tr>\n",
       "    <tr>\n",
       "      <th>max</th>\n",
       "      <td>2022.000000</td>\n",
       "      <td>86.800000</td>\n",
       "      <td>100.000000</td>\n",
       "      <td>83.400000</td>\n",
       "      <td>97.300000</td>\n",
       "      <td>100.000000</td>\n",
       "      <td>94.000000</td>\n",
       "      <td>95.100000</td>\n",
       "      <td>99.600000</td>\n",
       "      <td>93.600000</td>\n",
       "      <td>99.200000</td>\n",
       "      <td>100.000000</td>\n",
       "      <td>99.900000</td>\n",
       "      <td>99.000000</td>\n",
       "      <td>99.900000</td>\n",
       "      <td>91.200000</td>\n",
       "      <td>97.900000</td>\n",
       "      <td>96.000000</td>\n",
       "      <td>100.000000</td>\n",
       "    </tr>\n",
       "  </tbody>\n",
       "</table>\n",
       "</div>"
      ],
      "text/plain": [
       "              year  sdg_index_score  goal_1_score  goal_2_score  goal_3_score  \\\n",
       "count  3818.000000      3818.000000   3818.000000   3818.000000   3818.000000   \n",
       "mean   2011.000000        63.850288     64.795233     57.698900     64.306207   \n",
       "std       6.634118        10.916160     36.836088     11.221834     22.651757   \n",
       "min    2000.000000        36.000000      0.000000      7.700000      5.900000   \n",
       "25%    2005.000000        55.100000     30.825000     52.325000     44.900000   \n",
       "50%    2011.000000        65.400000     81.600000     58.900000     71.150000   \n",
       "75%    2017.000000        72.300000     98.600000     65.300000     81.700000   \n",
       "max    2022.000000        86.800000    100.000000     83.400000     97.300000   \n",
       "\n",
       "       goal_4_score  goal_5_score  goal_6_score  goal_7_score  goal_8_score  \\\n",
       "count   3818.000000   3818.000000   3818.000000   3818.000000   3818.000000   \n",
       "mean      72.073808     55.950367     64.523965     57.614013     69.838554   \n",
       "std       27.008855     17.621801     15.103414     21.871602     10.243085   \n",
       "min        0.000000      3.500000     23.300000      0.100000     38.400000   \n",
       "25%       55.600000     43.100000     52.600000     41.200000     63.900000   \n",
       "50%       81.200000     57.700000     64.900000     65.200000     70.100000   \n",
       "75%       94.900000     69.200000     74.700000     72.100000     76.700000   \n",
       "max      100.000000     94.000000     95.100000     99.600000     93.600000   \n",
       "\n",
       "       goal_9_score  goal_10_score  goal_11_score  goal_12_score  \\\n",
       "count   3818.000000    3818.000000    3818.000000    3818.000000   \n",
       "mean      36.964222      52.771163      70.211498      79.268675   \n",
       "std       26.079512      32.127442      18.417139      17.017656   \n",
       "min        0.000000       0.000000      13.800000      32.900000   \n",
       "25%       15.400000      23.200000      56.400000      67.825000   \n",
       "50%       29.000000      57.400000      75.300000      84.500000   \n",
       "75%       52.700000      80.800000      85.075000      94.100000   \n",
       "max       99.200000     100.000000      99.900000      99.000000   \n",
       "\n",
       "       goal_13_score  goal_14_score  goal_15_score  goal_16_score  \\\n",
       "count    3818.000000    3818.000000    3818.000000    3818.000000   \n",
       "mean       81.513332      47.805998      65.104453      62.587166   \n",
       "std        21.895557      28.637462      13.775995      14.843730   \n",
       "min         0.000000       0.000000      26.000000      27.900000   \n",
       "25%        71.700000      36.925000      55.100000      51.600000   \n",
       "50%        90.800000      58.700000      65.100000      61.700000   \n",
       "75%        97.300000      67.900000      74.300000      74.200000   \n",
       "max        99.900000      91.200000      97.900000      96.000000   \n",
       "\n",
       "       goal_17_score  \n",
       "count    3818.000000  \n",
       "mean       55.583552  \n",
       "std        13.277460  \n",
       "min        15.100000  \n",
       "25%        45.900000  \n",
       "50%        55.100000  \n",
       "75%        65.000000  \n",
       "max       100.000000  "
      ]
     },
     "execution_count": 10,
     "metadata": {},
     "output_type": "execute_result"
    }
   ],
   "source": [
    "df.describe()"
   ]
  },
  {
   "cell_type": "markdown",
   "id": "5c000f64",
   "metadata": {},
   "source": [
    "**1. Quais são os países mais sustentáveis do mundo ?**"
   ]
  },
  {
   "cell_type": "markdown",
   "id": "d814b586",
   "metadata": {},
   "source": [
    "Fazendo uma seleção de 10 países com o maior score médio de Desenvolvimento Sustentável do mundo entre 2000 e 2022:"
   ]
  },
  {
   "cell_type": "code",
   "execution_count": 11,
   "id": "bca759b0",
   "metadata": {},
   "outputs": [
    {
     "data": {
      "text/plain": [
       "country\n",
       "Sweden            85.06\n",
       "Finland           84.73\n",
       "Denmark           83.43\n",
       "Austria           80.71\n",
       "Norway            80.66\n",
       "Germany           80.07\n",
       "United Kingdom    79.16\n",
       "Switzerland       78.93\n",
       "France            78.39\n",
       "Czechia           78.10\n",
       "Name: sdg_index_score, dtype: float64"
      ]
     },
     "execution_count": 11,
     "metadata": {},
     "output_type": "execute_result"
    }
   ],
   "source": [
    "melhores_scores = round(df.groupby(['country'])['sdg_index_score'].mean().sort_values(ascending=False).head(10),2)\n",
    "melhores_scores"
   ]
  },
  {
   "cell_type": "markdown",
   "id": "14f599ce",
   "metadata": {},
   "source": [
    "Respondendo a primeira pergunta com um gráfico:"
   ]
  },
  {
   "cell_type": "code",
   "execution_count": 12,
   "id": "248f5ecc",
   "metadata": {},
   "outputs": [
    {
     "data": {
      "image/png": "[encoded data removed]",
      "text/plain": [
       "<Figure size 864x432 with 1 Axes>"
      ]
     },
     "metadata": {
      "needs_background": "light"
     },
     "output_type": "display_data"
    }
   ],
   "source": [
    "import matplotlib.pyplot as plt\n",
    "\n",
    "plt.figure(figsize=(12, 6))\n",
    "fig = melhores_scores.plot(kind='bar',color='limegreen',xlabel='')\n",
    "fig.set_title('Top 10 países mais sustentáveis do mundo (Score Médio)')\n",
    "fig.bar_label(fig.containers[0], label_type='edge')\n",
    "plt.savefig('dados/paises_mais_sustentaveis.png')"
   ]
  },
  {
   "cell_type": "code",
   "execution_count": null,
   "id": "d612472b",
   "metadata": {},
   "outputs": [],
   "source": []
  }
 ],
 "metadata": {
  "kernelspec": {
   "display_name": "Python 3 (ipykernel)",
   "language": "python",
   "name": "python3"
  },
  "language_info": {
   "codemirror_mode": {
    "name": "ipython",
    "version": 3
   },
   "file_extension": ".py",
   "mimetype": "text/x-python",
   "name": "python",
   "nbconvert_exporter": "python",
   "pygments_lexer": "ipython3",
   "version": "3.9.12"
  }
 },
 "nbformat": 4,
 "nbformat_minor": 5
}
