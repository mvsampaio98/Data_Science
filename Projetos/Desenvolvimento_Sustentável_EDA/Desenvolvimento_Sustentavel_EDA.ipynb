{
 "cells": [
  {
   "cell_type": "markdown",
   "id": "2407f007",
   "metadata": {},
   "source": [
    "## Desenvolvimento Sustentável - Uma análise com dados"
   ]
  },
  {
   "cell_type": "markdown",
   "id": "7848aa63",
   "metadata": {},
   "source": [
    "Neste projeto, o meu objetivo é colocar em prática o que aprendi na formação da Alura \"Python para Data Science\". Com isso, desejo fazer uma análise exploratória de dados (EDA) com um dataset obtido no Kaggle sobre os Objetivos de Desenvolvimento Sustentáveis (ODS)."
   ]
  },
  {
   "cell_type": "markdown",
   "id": "ca45c48b",
   "metadata": {},
   "source": [
    "Importando a base de dados:"
   ]
  },
  {
   "cell_type": "code",
   "execution_count": 1,
   "id": "4a5ffdc3",
   "metadata": {},
   "outputs": [],
   "source": [
    "import pandas as pd"
   ]
  },
  {
   "cell_type": "code",
   "execution_count": 2,
   "id": "6bf2b773",
   "metadata": {},
   "outputs": [],
   "source": [
    "df = pd.read_csv('dados/sdg_index_2000-2022.csv')"
   ]
  },
  {
   "cell_type": "markdown",
   "id": "680973fe",
   "metadata": {},
   "source": [
    "Ver as primeiras linhas do DataFrame:"
   ]
  },
  {
   "cell_type": "code",
   "execution_count": 3,
   "id": "43d227b3",
   "metadata": {},
   "outputs": [
    {
     "data": {
      "text/html": [
       "<div>\n",
       "<style scoped>\n",
       "    .dataframe tbody tr th:only-of-type {\n",
       "        vertical-align: middle;\n",
       "    }\n",
       "\n",
       "    .dataframe tbody tr th {\n",
       "        vertical-align: top;\n",
       "    }\n",
       "\n",
       "    .dataframe thead th {\n",
       "        text-align: right;\n",
       "    }\n",
       "</style>\n",
       "<table border=\"1\" class=\"dataframe\">\n",
       "  <thead>\n",
       "    <tr style=\"text-align: right;\">\n",
       "      <th></th>\n",
       "      <th>country_code</th>\n",
       "      <th>country</th>\n",
       "      <th>year</th>\n",
       "      <th>sdg_index_score</th>\n",
       "      <th>goal_1_score</th>\n",
       "      <th>goal_2_score</th>\n",
       "      <th>goal_3_score</th>\n",
       "      <th>goal_4_score</th>\n",
       "      <th>goal_5_score</th>\n",
       "      <th>goal_6_score</th>\n",
       "      <th>...</th>\n",
       "      <th>goal_8_score</th>\n",
       "      <th>goal_9_score</th>\n",
       "      <th>goal_10_score</th>\n",
       "      <th>goal_11_score</th>\n",
       "      <th>goal_12_score</th>\n",
       "      <th>goal_13_score</th>\n",
       "      <th>goal_14_score</th>\n",
       "      <th>goal_15_score</th>\n",
       "      <th>goal_16_score</th>\n",
       "      <th>goal_17_score</th>\n",
       "    </tr>\n",
       "  </thead>\n",
       "  <tbody>\n",
       "    <tr>\n",
       "      <th>0</th>\n",
       "      <td>AFG</td>\n",
       "      <td>Afghanistan</td>\n",
       "      <td>2000</td>\n",
       "      <td>36.0</td>\n",
       "      <td>28.8</td>\n",
       "      <td>27.3</td>\n",
       "      <td>19.2</td>\n",
       "      <td>1.6</td>\n",
       "      <td>20.8</td>\n",
       "      <td>32.4</td>\n",
       "      <td>...</td>\n",
       "      <td>38.5</td>\n",
       "      <td>5.2</td>\n",
       "      <td>0.0</td>\n",
       "      <td>25.8</td>\n",
       "      <td>94.7</td>\n",
       "      <td>99.4</td>\n",
       "      <td>0.0</td>\n",
       "      <td>51.9</td>\n",
       "      <td>39.2</td>\n",
       "      <td>34.2</td>\n",
       "    </tr>\n",
       "    <tr>\n",
       "      <th>1</th>\n",
       "      <td>AFG</td>\n",
       "      <td>Afghanistan</td>\n",
       "      <td>2001</td>\n",
       "      <td>36.3</td>\n",
       "      <td>28.8</td>\n",
       "      <td>30.6</td>\n",
       "      <td>19.4</td>\n",
       "      <td>1.6</td>\n",
       "      <td>20.8</td>\n",
       "      <td>32.4</td>\n",
       "      <td>...</td>\n",
       "      <td>38.5</td>\n",
       "      <td>5.2</td>\n",
       "      <td>0.0</td>\n",
       "      <td>25.8</td>\n",
       "      <td>94.5</td>\n",
       "      <td>99.4</td>\n",
       "      <td>0.0</td>\n",
       "      <td>51.9</td>\n",
       "      <td>39.2</td>\n",
       "      <td>34.2</td>\n",
       "    </tr>\n",
       "    <tr>\n",
       "      <th>2</th>\n",
       "      <td>AFG</td>\n",
       "      <td>Afghanistan</td>\n",
       "      <td>2002</td>\n",
       "      <td>36.3</td>\n",
       "      <td>28.8</td>\n",
       "      <td>30.7</td>\n",
       "      <td>19.7</td>\n",
       "      <td>1.6</td>\n",
       "      <td>20.8</td>\n",
       "      <td>32.7</td>\n",
       "      <td>...</td>\n",
       "      <td>38.4</td>\n",
       "      <td>5.2</td>\n",
       "      <td>0.0</td>\n",
       "      <td>26.1</td>\n",
       "      <td>94.1</td>\n",
       "      <td>99.4</td>\n",
       "      <td>0.0</td>\n",
       "      <td>51.8</td>\n",
       "      <td>39.2</td>\n",
       "      <td>34.2</td>\n",
       "    </tr>\n",
       "    <tr>\n",
       "      <th>3</th>\n",
       "      <td>AFG</td>\n",
       "      <td>Afghanistan</td>\n",
       "      <td>2003</td>\n",
       "      <td>36.7</td>\n",
       "      <td>28.8</td>\n",
       "      <td>32.5</td>\n",
       "      <td>19.9</td>\n",
       "      <td>1.6</td>\n",
       "      <td>20.8</td>\n",
       "      <td>33.0</td>\n",
       "      <td>...</td>\n",
       "      <td>38.4</td>\n",
       "      <td>5.2</td>\n",
       "      <td>0.0</td>\n",
       "      <td>26.5</td>\n",
       "      <td>94.4</td>\n",
       "      <td>99.4</td>\n",
       "      <td>0.0</td>\n",
       "      <td>51.8</td>\n",
       "      <td>39.2</td>\n",
       "      <td>34.2</td>\n",
       "    </tr>\n",
       "    <tr>\n",
       "      <th>4</th>\n",
       "      <td>AFG</td>\n",
       "      <td>Afghanistan</td>\n",
       "      <td>2004</td>\n",
       "      <td>37.1</td>\n",
       "      <td>28.8</td>\n",
       "      <td>32.1</td>\n",
       "      <td>21.1</td>\n",
       "      <td>1.6</td>\n",
       "      <td>20.8</td>\n",
       "      <td>33.3</td>\n",
       "      <td>...</td>\n",
       "      <td>38.5</td>\n",
       "      <td>5.2</td>\n",
       "      <td>0.0</td>\n",
       "      <td>26.8</td>\n",
       "      <td>94.8</td>\n",
       "      <td>99.4</td>\n",
       "      <td>0.0</td>\n",
       "      <td>51.8</td>\n",
       "      <td>39.2</td>\n",
       "      <td>34.2</td>\n",
       "    </tr>\n",
       "  </tbody>\n",
       "</table>\n",
       "<p>5 rows × 21 columns</p>\n",
       "</div>"
      ],
      "text/plain": [
       "  country_code      country  year  sdg_index_score  goal_1_score  \\\n",
       "0          AFG  Afghanistan  2000             36.0          28.8   \n",
       "1          AFG  Afghanistan  2001             36.3          28.8   \n",
       "2          AFG  Afghanistan  2002             36.3          28.8   \n",
       "3          AFG  Afghanistan  2003             36.7          28.8   \n",
       "4          AFG  Afghanistan  2004             37.1          28.8   \n",
       "\n",
       "   goal_2_score  goal_3_score  goal_4_score  goal_5_score  goal_6_score  ...  \\\n",
       "0          27.3          19.2           1.6          20.8          32.4  ...   \n",
       "1          30.6          19.4           1.6          20.8          32.4  ...   \n",
       "2          30.7          19.7           1.6          20.8          32.7  ...   \n",
       "3          32.5          19.9           1.6          20.8          33.0  ...   \n",
       "4          32.1          21.1           1.6          20.8          33.3  ...   \n",
       "\n",
       "   goal_8_score  goal_9_score  goal_10_score  goal_11_score  goal_12_score  \\\n",
       "0          38.5           5.2            0.0           25.8           94.7   \n",
       "1          38.5           5.2            0.0           25.8           94.5   \n",
       "2          38.4           5.2            0.0           26.1           94.1   \n",
       "3          38.4           5.2            0.0           26.5           94.4   \n",
       "4          38.5           5.2            0.0           26.8           94.8   \n",
       "\n",
       "   goal_13_score  goal_14_score  goal_15_score  goal_16_score  goal_17_score  \n",
       "0           99.4            0.0           51.9           39.2           34.2  \n",
       "1           99.4            0.0           51.9           39.2           34.2  \n",
       "2           99.4            0.0           51.8           39.2           34.2  \n",
       "3           99.4            0.0           51.8           39.2           34.2  \n",
       "4           99.4            0.0           51.8           39.2           34.2  \n",
       "\n",
       "[5 rows x 21 columns]"
      ]
     },
     "execution_count": 3,
     "metadata": {},
     "output_type": "execute_result"
    }
   ],
   "source": [
    "df.head()"
   ]
  },
  {
   "cell_type": "markdown",
   "id": "16b9d4b6",
   "metadata": {},
   "source": [
    "Extrair informações sobre valores não nulos, nome das colunas e seus tipos:"
   ]
  },
  {
   "cell_type": "code",
   "execution_count": 4,
   "id": "2b6a5945",
   "metadata": {},
   "outputs": [
    {
     "name": "stdout",
     "output_type": "stream",
     "text": [
      "<class 'pandas.core.frame.DataFrame'>\n",
      "RangeIndex: 4140 entries, 0 to 4139\n",
      "Data columns (total 21 columns):\n",
      " #   Column           Non-Null Count  Dtype  \n",
      "---  ------           --------------  -----  \n",
      " 0   country_code     4140 non-null   object \n",
      " 1   country          4140 non-null   object \n",
      " 2   year             4140 non-null   int64  \n",
      " 3   sdg_index_score  4140 non-null   float64\n",
      " 4   goal_1_score     4140 non-null   float64\n",
      " 5   goal_2_score     4140 non-null   float64\n",
      " 6   goal_3_score     4140 non-null   float64\n",
      " 7   goal_4_score     4140 non-null   float64\n",
      " 8   goal_5_score     4140 non-null   float64\n",
      " 9   goal_6_score     4140 non-null   float64\n",
      " 10  goal_7_score     4140 non-null   float64\n",
      " 11  goal_8_score     4140 non-null   float64\n",
      " 12  goal_9_score     4140 non-null   float64\n",
      " 13  goal_10_score    4140 non-null   float64\n",
      " 14  goal_11_score    4140 non-null   float64\n",
      " 15  goal_12_score    4140 non-null   float64\n",
      " 16  goal_13_score    4140 non-null   float64\n",
      " 17  goal_14_score    4140 non-null   float64\n",
      " 18  goal_15_score    4140 non-null   float64\n",
      " 19  goal_16_score    4140 non-null   float64\n",
      " 20  goal_17_score    4140 non-null   float64\n",
      "dtypes: float64(18), int64(1), object(2)\n",
      "memory usage: 679.3+ KB\n"
     ]
    }
   ],
   "source": [
    "df.info()"
   ]
  },
  {
   "cell_type": "markdown",
   "id": "d7ee07dc",
   "metadata": {},
   "source": [
    "Conferindo de fato se não temos valores nulos:"
   ]
  },
  {
   "cell_type": "code",
   "execution_count": 5,
   "id": "2725eb04",
   "metadata": {},
   "outputs": [
    {
     "data": {
      "text/plain": [
       "0"
      ]
     },
     "execution_count": 5,
     "metadata": {},
     "output_type": "execute_result"
    }
   ],
   "source": [
    "df.isna().sum().sum()"
   ]
  },
  {
   "cell_type": "markdown",
   "id": "70ec3ac6",
   "metadata": {},
   "source": [
    "Conferindo se há valores duplicados:"
   ]
  },
  {
   "cell_type": "code",
   "execution_count": 6,
   "id": "c421be67",
   "metadata": {},
   "outputs": [
    {
     "data": {
      "text/plain": [
       "0"
      ]
     },
     "execution_count": 6,
     "metadata": {},
     "output_type": "execute_result"
    }
   ],
   "source": [
    "df.duplicated().sum()"
   ]
  },
  {
   "cell_type": "markdown",
   "id": "f8de651e",
   "metadata": {},
   "source": [
    "Checando os países presentes em nossas amostras:"
   ]
  },
  {
   "cell_type": "code",
   "execution_count": 7,
   "id": "c65e4943",
   "metadata": {},
   "outputs": [
    {
     "data": {
      "text/plain": [
       "array(['Afghanistan', 'Albania', 'Algeria', 'Angola', 'Argentina',\n",
       "       'Armenia', 'Australia', 'Austria', 'Azerbaijan', 'Bahamas, The',\n",
       "       'Bahrain', 'Bangladesh', 'Barbados', 'Belarus', 'Belgium',\n",
       "       'Belize', 'Benin', 'Bhutan', 'Bolivia', 'Bosnia and Herzegovina',\n",
       "       'Botswana', 'Brazil', 'Brunei Darussalam', 'Bulgaria',\n",
       "       'Burkina Faso', 'Burundi', 'Cabo Verde', 'Cambodia', 'Cameroon',\n",
       "       'Canada', 'Central African Republic', 'Chad', 'Chile', 'China',\n",
       "       'Colombia', 'Comoros', 'Congo, Dem. Rep.', 'Congo, Rep.',\n",
       "       'Costa Rica', \"Cote d'Ivoire\", 'Croatia', 'Cuba', 'Cyprus',\n",
       "       'Czechia', 'Denmark', 'Djibouti', 'Dominican Republic',\n",
       "       'East and South Asia', 'Eastern Europe and Central Asia',\n",
       "       'Ecuador', 'Egypt, Arab Rep.', 'El Salvador', 'Estonia',\n",
       "       'Eswatini', 'Ethiopia', 'Fiji', 'Finland', 'France', 'Gabon',\n",
       "       'Gambia, The', 'Georgia', 'Germany', 'Ghana', 'Greece',\n",
       "       'Guatemala', 'Guinea', 'Guyana', 'Haiti', 'High-income Countries',\n",
       "       'Honduras', 'Hungary', 'Iceland', 'India', 'Indonesia',\n",
       "       'Iran, Islamic Rep.', 'Iraq', 'Ireland', 'Israel', 'Italy',\n",
       "       'Jamaica', 'Japan', 'Jordan', 'Kazakhstan', 'Kenya', 'Korea, Rep.',\n",
       "       'Kuwait', 'Kyrgyz Republic', 'Lao PDR',\n",
       "       'Latin America and the Caribbean', 'Latvia', 'Lebanon', 'Lesotho',\n",
       "       'Liberia', 'Lithuania', 'Lower & Lower-middle Income',\n",
       "       'Lower-middle-income Countries', 'Low-income Countries',\n",
       "       'Luxembourg', 'Madagascar', 'Malawi', 'Malaysia', 'Maldives',\n",
       "       'Mali', 'Malta', 'Mauritania', 'Mauritius', 'Mexico',\n",
       "       'Middle East and North Africa', 'Moldova', 'Mongolia',\n",
       "       'Montenegro', 'Morocco', 'Mozambique', 'Myanmar', 'Namibia',\n",
       "       'Nepal', 'Netherlands', 'New Zealand', 'Nicaragua', 'Niger',\n",
       "       'Nigeria', 'North Macedonia', 'Norway', 'Oceania', 'OECD members',\n",
       "       'Oman', 'Pakistan', 'Panama', 'Papua New Guinea', 'Paraguay',\n",
       "       'Peru', 'Philippines', 'Poland', 'Portugal', 'Qatar', 'Romania',\n",
       "       'Russian Federation', 'Rwanda', 'Sao Tome and Principe',\n",
       "       'Saudi Arabia', 'Senegal', 'Serbia', 'Sierra Leone', 'Singapore',\n",
       "       'Slovak Republic', 'Slovenia', 'Small Island Developing States',\n",
       "       'Somalia', 'South Africa', 'South Sudan', 'Spain', 'Sri Lanka',\n",
       "       'Sub-Saharan Africa', 'Sudan', 'Suriname', 'Sweden', 'Switzerland',\n",
       "       'Syrian Arab Republic', 'Tajikistan', 'Tanzania', 'Thailand',\n",
       "       'Togo', 'Trinidad and Tobago', 'Tunisia', 'Türkiye',\n",
       "       'Turkmenistan', 'Uganda', 'Ukraine', 'United Arab Emirates',\n",
       "       'United Kingdom', 'United States', 'Upper-middle-income Countries',\n",
       "       'Uruguay', 'Uzbekistan', 'Venezuela, RB', 'Vietnam', 'World',\n",
       "       'Yemen, Rep.', 'Zambia', 'Zimbabwe'], dtype=object)"
      ]
     },
     "execution_count": 7,
     "metadata": {},
     "output_type": "execute_result"
    }
   ],
   "source": [
    "df['country'].unique()"
   ]
  },
  {
   "cell_type": "markdown",
   "id": "cc05c9ee",
   "metadata": {},
   "source": [
    "Selecionando as amostras que queremos remover do DataFrame:"
   ]
  },
  {
   "cell_type": "code",
   "execution_count": 14,
   "id": "5950e1a2",
   "metadata": {
    "scrolled": true
   },
   "outputs": [],
   "source": [
    "amostras_del = (df['country'] == \"East and South Asia\") | (df['country'] == \"Eastern Europe and Central Asia\") | \\\n",
    "(df['country'] == \"High-income Countries\") | (df['country'] == \"Latin America and the Caribbean\") | \\\n",
    "(df['country'] == \"Lower & Lower-middle Income\") | (df['country'] == \"Lower-middle-income Countries\") | \\\n",
    "(df['country'] == \"Low-income Countries\") | (df['country'] == \"Middle East and North Africa\") | \\\n",
    "(df['country'] == \"Oceania\") | (df['country'] == \"OECD members\") | (df['country'] == \"Small Island Developing States\") | \\\n",
    "(df['country'] == \"Sub-Saharan Africa\") | (df['country'] == \"Upper-middle-income Countries\") | \\\n",
    "(df['country'] == \"World\")"
   ]
  },
  {
   "cell_type": "markdown",
   "id": "eecd49a3",
   "metadata": {},
   "source": [
    "Filtrando o nosso dataset somente com as amostras desejadas:"
   ]
  },
  {
   "cell_type": "code",
   "execution_count": 15,
   "id": "425bab5f",
   "metadata": {},
   "outputs": [],
   "source": [
    "df = df.loc[~amostras_del]"
   ]
  }
 ],
 "metadata": {
  "kernelspec": {
   "display_name": "Python 3 (ipykernel)",
   "language": "python",
   "name": "python3"
  },
  "language_info": {
   "codemirror_mode": {
    "name": "ipython",
    "version": 3
   },
   "file_extension": ".py",
   "mimetype": "text/x-python",
   "name": "python",
   "nbconvert_exporter": "python",
   "pygments_lexer": "ipython3",
   "version": "3.9.12"
  }
 },
 "nbformat": 4,
 "nbformat_minor": 5
}
