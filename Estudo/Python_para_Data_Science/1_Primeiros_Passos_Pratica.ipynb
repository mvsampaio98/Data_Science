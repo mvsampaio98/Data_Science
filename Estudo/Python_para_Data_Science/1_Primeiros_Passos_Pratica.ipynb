{
 "cells": [
  {
   "cell_type": "markdown",
   "metadata": {
    "id": "_kwAaQ36gLQ1"
   },
   "source": [
    "# Sobre o notebook\n",
    "\n",
    "A \"hora da prática\" é uma atividade do curso de Python para Data Science da Alura que contém diversos desafios envolvendo os aprendizados de cada aula.\n",
    "\n",
    "O notebook \"hora da pratica\" é um notebook construído com espaço para as células dos desafios propostos no curso, com ele você tem espaço para construir e executar suas soluções"
   ]
  },
  {
   "cell_type": "markdown",
   "metadata": {
    "id": "Mc-KN0dA0Z83"
   },
   "source": [
    "## Aula 1 - Introdução ao Python"
   ]
  },
  {
   "cell_type": "markdown",
   "metadata": {
    "id": "l5eLWf0W0ikn"
   },
   "source": [
    "### Questão 1\n",
    "\n",
    "Imprima a frase `Escola de Dados da Alura!`"
   ]
  },
  {
   "cell_type": "code",
   "execution_count": 1,
   "metadata": {
    "id": "5pllxJ0h0-yA"
   },
   "outputs": [
    {
     "name": "stdout",
     "output_type": "stream",
     "text": [
      "Escola de Dados da Alura!\n"
     ]
    }
   ],
   "source": [
    "print('Escola de Dados da Alura!')"
   ]
  },
  {
   "cell_type": "markdown",
   "metadata": {
    "id": "tQdX90Ue03c7"
   },
   "source": [
    "### Questão 2\n",
    "Imprima na tela seu nome e seu sobrenome seguindo a estrutura abaixo:\n",
    "```\n",
    "Nome: [seu nome]\n",
    "Sobrenome: [seu sobrenome]\n",
    "```\n"
   ]
  },
  {
   "cell_type": "code",
   "execution_count": 2,
   "metadata": {
    "id": "RVw5iKn20_Ps"
   },
   "outputs": [
    {
     "name": "stdout",
     "output_type": "stream",
     "text": [
      "Nome:  Marcelo\n",
      "Sobrenome:  Sampaio\n"
     ]
    }
   ],
   "source": [
    "print(\"Nome: \", \"Marcelo\")\n",
    "print(\"Sobrenome: \", \"Sampaio\")"
   ]
  },
  {
   "cell_type": "markdown",
   "metadata": {
    "id": "gfg-aiip03vC"
   },
   "source": [
    "### Questão 3\n",
    "Imprima o seu primeiro nome letra a letra. Por exemplo, nome é Mirla, então eu obtenho a seguinte saída:\n",
    "```\n",
    "M\n",
    "I\n",
    "R\n",
    "L\n",
    "A\n",
    "```\n"
   ]
  },
  {
   "cell_type": "code",
   "execution_count": 3,
   "metadata": {
    "id": "v5bkrgf60_qx"
   },
   "outputs": [
    {
     "name": "stdout",
     "output_type": "stream",
     "text": [
      "M\n",
      "a\n",
      "r\n",
      "c\n",
      "e\n",
      "l\n",
      "o\n"
     ]
    }
   ],
   "source": [
    "nome = 'Marcelo'\n",
    "for i in nome:\n",
    "    print(i)"
   ]
  },
  {
   "cell_type": "markdown",
   "metadata": {
    "id": "oadrJbl704MM"
   },
   "source": [
    "### Questão 4\n",
    "Imprima o dia do seu nascimento em formato `dia mês ano`. Os valores de dia e ano não podem estar entre aspas. O formato deve estar como no exemplo, supondo uma data de aniversário dia 28 de fevereiro de 2003:\n",
    "```\n",
    "28 fevereiro 2003\n",
    "```"
   ]
  },
  {
   "cell_type": "code",
   "execution_count": 4,
   "metadata": {
    "id": "cx0KSsrq1ALD"
   },
   "outputs": [
    {
     "name": "stdout",
     "output_type": "stream",
     "text": [
      "1 Agosto 1998\n"
     ]
    }
   ],
   "source": [
    "print(1, 'Agosto', 1998)"
   ]
  },
  {
   "cell_type": "markdown",
   "metadata": {
    "id": "3RgyMaan04TD"
   },
   "source": [
    "### Questão 5\n",
    "Imprima em um único print o atual ano que você está fazendo esse curso, o valor do ano deve ser um dado numérico. A saída do print deve ser a seguinte:\n",
    "```\n",
    "Ano atual: [ano]\n",
    "```\n"
   ]
  },
  {
   "cell_type": "code",
   "execution_count": 5,
   "metadata": {
    "id": "UN77EfQ2d36Y"
   },
   "outputs": [
    {
     "name": "stdout",
     "output_type": "stream",
     "text": [
      "Ano atual:  2023\n"
     ]
    }
   ],
   "source": [
    "print('Ano atual: ', 2023)"
   ]
  },
  {
   "cell_type": "markdown",
   "metadata": {
    "id": "D9e3FqhO1S3X"
   },
   "source": [
    "## Aula 2 - Manipulando dados no Python"
   ]
  },
  {
   "cell_type": "markdown",
   "metadata": {
    "id": "n6o7C1Ze2cRe"
   },
   "source": [
    "### Coleta e amostragem de dados"
   ]
  },
  {
   "cell_type": "markdown",
   "metadata": {
    "id": "sRneWag9PV5Q"
   },
   "source": [
    "#### Questão 1\n",
    "Crie um programa que solicite à pessoa usuária digitar seu nome, e imprima “Olá, [nome]!”."
   ]
  },
  {
   "cell_type": "code",
   "execution_count": 8,
   "metadata": {
    "id": "dbX1fKqy2HnE"
   },
   "outputs": [
    {
     "name": "stdout",
     "output_type": "stream",
     "text": [
      "Digite seu nome: Marcelo\n",
      "Olá, Marcelo!\n"
     ]
    }
   ],
   "source": [
    "nome = input('Digite seu nome: ')\n",
    "print(f'Olá, {nome}!')"
   ]
  },
  {
   "cell_type": "markdown",
   "metadata": {
    "id": "BJ1SznEp70d5"
   },
   "source": [
    "#### Questão 2\n",
    "Crie um programa que solicite à pessoa usuária digitar seu nome e idade, e imprima “Olá, [nome], você tem [idade] anos.”."
   ]
  },
  {
   "cell_type": "code",
   "execution_count": 9,
   "metadata": {
    "id": "jKz-0Sq8PFkp"
   },
   "outputs": [
    {
     "name": "stdout",
     "output_type": "stream",
     "text": [
      "Digite seu nome: Marcelo\n",
      "Digite sua idade: 25\n",
      "Olá, Marcelo, você tem 25 anos\n"
     ]
    }
   ],
   "source": [
    "nome = input('Digite seu nome: ')\n",
    "idade = int(input('Digite sua idade: '))\n",
    "print(f'Olá, {nome}, você tem {idade} anos')"
   ]
  },
  {
   "cell_type": "markdown",
   "metadata": {
    "id": "2T0jNYZt70aa"
   },
   "source": [
    "#### Questão 3\n",
    "Crie um programa que solicite à pessoa usuária digitar seu nome, idade e altura em metros, e imprima “Olá, [nome], você tem [idade] anos e mede [altura] metros!”."
   ]
  },
  {
   "cell_type": "code",
   "execution_count": 10,
   "metadata": {
    "id": "pI4kHNzTPIXh"
   },
   "outputs": [
    {
     "name": "stdout",
     "output_type": "stream",
     "text": [
      "Digite seu nome: Marcelo\n",
      "Digite sua idade: 25\n",
      "Digite sua altura: 1.80\n",
      "Olá, Marcelo, você tem 25 anos e mede 1.8 metros\n"
     ]
    }
   ],
   "source": [
    "nome = input('Digite seu nome: ')\n",
    "idade = int(input('Digite sua idade: '))\n",
    "altura = float(input('Digite sua altura: '))\n",
    "print(f'Olá, {nome}, você tem {idade} anos e mede {altura} metros')"
   ]
  },
  {
   "cell_type": "markdown",
   "metadata": {
    "id": "mEBFwKkC70KP"
   },
   "source": [
    "### Calculadora com operadores"
   ]
  },
  {
   "cell_type": "markdown",
   "metadata": {
    "id": "H-IV1oAPPSqK"
   },
   "source": [
    "#### Questão 1\n",
    "\n",
    "Crie um programa que solicite dois valores numéricos à pessoa usuária e imprima a soma dos dois valores."
   ]
  },
  {
   "cell_type": "code",
   "execution_count": 13,
   "metadata": {
    "id": "Zb0W84sy8rnp"
   },
   "outputs": [
    {
     "name": "stdout",
     "output_type": "stream",
     "text": [
      "Digite um numero: 10\n",
      "Digite outro numero: 20\n",
      "10 + 20 = 30\n"
     ]
    }
   ],
   "source": [
    "n1 = int(input('Digite um numero: '))\n",
    "n2 = int(input('Digite outro numero: '))\n",
    "soma = n1+n2\n",
    "print(f'{n1} + {n2} = {soma}')"
   ]
  },
  {
   "cell_type": "markdown",
   "metadata": {
    "id": "LUoi2MOu70Em"
   },
   "source": [
    "#### Questão 2\n",
    "Crie um programa que solicite três valores numéricos à pessoa usuária e imprima a soma dos três valores."
   ]
  },
  {
   "cell_type": "code",
   "execution_count": 14,
   "metadata": {
    "id": "4FYjWyBS8rDm"
   },
   "outputs": [
    {
     "name": "stdout",
     "output_type": "stream",
     "text": [
      "Digite um numero: 10\n",
      "Digite outro numero: 12\n",
      "Digite outro numero: 14\n",
      "10 + 12 + 14 = 36\n"
     ]
    }
   ],
   "source": [
    "n1 = int(input('Digite um numero: '))\n",
    "n2 = int(input('Digite outro numero: '))\n",
    "n3 = int(input('Digite outro numero: '))\n",
    "soma = n1+n2+n3\n",
    "print(f'{n1} + {n2} + {n3} = {soma}')"
   ]
  },
  {
   "cell_type": "markdown",
   "metadata": {
    "id": "lezGctF07z8i"
   },
   "source": [
    "#### Questão 3\n",
    "Crie um programa que solicite dois valores numéricos à pessoa usuária e imprima a subtração do primeiro pelo o segundo valor."
   ]
  },
  {
   "cell_type": "code",
   "execution_count": 16,
   "metadata": {
    "id": "k0GE1z4w8p3J"
   },
   "outputs": [
    {
     "name": "stdout",
     "output_type": "stream",
     "text": [
      "Digite um numero: 10\n",
      "Digite outro numero: 3\n",
      "10 - 3 = 7\n"
     ]
    }
   ],
   "source": [
    "n1 = int(input('Digite um numero: '))\n",
    "n2 = int(input('Digite outro numero: '))\n",
    "sub = n1-n2\n",
    "print(f'{n1} - {n2} = {sub}')"
   ]
  },
  {
   "cell_type": "markdown",
   "metadata": {
    "id": "wwMP-dPU7zxW"
   },
   "source": [
    "#### Questão 4\n",
    "\n",
    "Crie um programa que solicite dois valores numéricos à pessoa usuária e imprima a multiplicação dos dois valores.\n"
   ]
  },
  {
   "cell_type": "code",
   "execution_count": 17,
   "metadata": {
    "id": "GzFCVHfp8peZ"
   },
   "outputs": [
    {
     "name": "stdout",
     "output_type": "stream",
     "text": [
      "Digite um numero: 10\n",
      "Digite outro numero: 2\n",
      "10 * 2 = 20\n"
     ]
    }
   ],
   "source": [
    "n1 = int(input('Digite um numero: '))\n",
    "n2 = int(input('Digite outro numero: '))\n",
    "mult = n1*n2\n",
    "print(f'{n1} * {n2} = {mult}')"
   ]
  },
  {
   "cell_type": "markdown",
   "metadata": {
    "id": "9kxyHxUo7zRD"
   },
   "source": [
    "#### Questão 5\n",
    "\n",
    "Crie um programa que solicite dois valores numéricos, um numerador e um denominador, e realize a divisão entre os dois valores. Deixe claro que o valor do denominador não pode ser `0`.\n"
   ]
  },
  {
   "cell_type": "code",
   "execution_count": 19,
   "metadata": {
    "id": "ytJ8l5KH8ozc"
   },
   "outputs": [
    {
     "name": "stdout",
     "output_type": "stream",
     "text": [
      "Digite o numerador: 2\n",
      "Digite o denominador (diferente de 0): 0\n",
      "Denominador incorreto\n",
      "Digite o denominador (diferente de 0): 0\n",
      "Denominador incorreto\n",
      "Digite o denominador (diferente de 0): 4\n",
      "2 / 4 = 0.5\n"
     ]
    }
   ],
   "source": [
    "n1 = int(input('Digite o numerador: '))\n",
    "n2 = 0\n",
    "while n2 == 0:\n",
    "    n2 = int(input('Digite o denominador (diferente de 0): '))\n",
    "    if n2 == 0:\n",
    "        print('Denominador incorreto')\n",
    "div = n1/n2\n",
    "print(f'{n1} / {n2} = {div}')"
   ]
  },
  {
   "cell_type": "markdown",
   "metadata": {
    "id": "zkUSBTQq8Hxt"
   },
   "source": [
    "#### Questão 6\n",
    "\n",
    "Crie um programa que solicite dois valores numéricos, um operador e uma potência, e realize a exponenciação entre esses dois valores.\n"
   ]
  },
  {
   "cell_type": "code",
   "execution_count": 20,
   "metadata": {
    "id": "RPj36jq08oZp"
   },
   "outputs": [
    {
     "name": "stdout",
     "output_type": "stream",
     "text": [
      "Digite um numero: 2\n",
      "Digite outro numero: 3\n",
      "2 ^ 3 = 8\n"
     ]
    }
   ],
   "source": [
    "n1 = int(input('Digite um numero: '))\n",
    "n2 = int(input('Digite outro numero: '))\n",
    "exp = n1**n2\n",
    "print(f'{n1} ^ {n2} = {exp}')"
   ]
  },
  {
   "cell_type": "markdown",
   "metadata": {
    "id": "yiunIusZ8Huj"
   },
   "source": [
    "#### Questão 7\n",
    "Crie um programa que solicite dois valores numéricos, um numerador e um denominador e realize a divisão inteira entre os dois valores. Deixe claro que o valor do denominador não pode ser `0`."
   ]
  },
  {
   "cell_type": "code",
   "execution_count": 23,
   "metadata": {
    "id": "UHK8xITf8oCg"
   },
   "outputs": [
    {
     "name": "stdout",
     "output_type": "stream",
     "text": [
      "Digite o numerador: 3\n",
      "Digite o denominador (diferente de 0): 2\n",
      "3 // 2 = 1\n"
     ]
    }
   ],
   "source": [
    "n1 = int(input('Digite o numerador: '))\n",
    "n2 = 0\n",
    "while n2 == 0:\n",
    "    n2 = int(input('Digite o denominador (diferente de 0): '))\n",
    "    if n2 == 0:\n",
    "        print('Denominador incorreto')\n",
    "div = n1//n2\n",
    "print(f'{n1} // {n2} = {div}')"
   ]
  },
  {
   "cell_type": "markdown",
   "metadata": {
    "id": "z_D_JiLX8Hra"
   },
   "source": [
    "#### Questão 8\n",
    "\n",
    "Crie um programa que solicite dois valores numéricos, um numerador e um denominador, e retorne o resto da divisão entre os dois valores. Deixe claro que o valor do denominador não pode ser `0`."
   ]
  },
  {
   "cell_type": "code",
   "execution_count": 24,
   "metadata": {
    "id": "EWGJeukO8nqx"
   },
   "outputs": [
    {
     "name": "stdout",
     "output_type": "stream",
     "text": [
      "Digite o numerador: 3\n",
      "Digite o denominador (diferente de 0): 2\n",
      "3 % 2 = 1\n"
     ]
    }
   ],
   "source": [
    "n1 = int(input('Digite o numerador: '))\n",
    "n2 = 0\n",
    "while n2 == 0:\n",
    "    n2 = int(input('Digite o denominador (diferente de 0): '))\n",
    "    if n2 == 0:\n",
    "        print('Denominador incorreto')\n",
    "div = n1//n2\n",
    "print(f'{n1} % {n2} = {div}')"
   ]
  },
  {
   "cell_type": "markdown",
   "metadata": {
    "id": "RDRajNkU8N8N"
   },
   "source": [
    "#### Questão 9\n",
    "\n",
    "Crie um código que solicita 3 notas de um estudante e imprima a média das notas."
   ]
  },
  {
   "cell_type": "code",
   "execution_count": 26,
   "metadata": {
    "id": "H6F4Ojzt8nSR"
   },
   "outputs": [
    {
     "name": "stdout",
     "output_type": "stream",
     "text": [
      "Digite a nota 1: 10\n",
      "Digite a nota 2: 6.5\n",
      "Digite a nota 3: 4.8\n",
      "A média do aluno é: 7.1000000000000005\n"
     ]
    }
   ],
   "source": [
    "n1 = float(input('Digite a nota 1: '))\n",
    "n2 = float(input('Digite a nota 2: '))\n",
    "n3 = float(input('Digite a nota 3: '))\n",
    "media = (n1+n2+n3)/3\n",
    "print(f'A média do aluno é: {media}')"
   ]
  },
  {
   "cell_type": "markdown",
   "metadata": {
    "id": "d7fjkne58N21"
   },
   "source": [
    "#### Questão 10\n",
    "\n",
    "Crie um código que calcule e imprima a média ponderada dos números 5, 12, 20 e 15 com pesos respectivamente iguais a 1, 2, 3 e 4."
   ]
  },
  {
   "cell_type": "code",
   "execution_count": 27,
   "metadata": {
    "id": "fwjoHlV48mkv"
   },
   "outputs": [
    {
     "name": "stdout",
     "output_type": "stream",
     "text": [
      "A média ponderada é: 14.9\n"
     ]
    }
   ],
   "source": [
    "media_ponderada = (5*1 + 12*2 + 20*3 + 15*4)/10\n",
    "print(f'A média ponderada é: {media_ponderada}')"
   ]
  },
  {
   "cell_type": "markdown",
   "metadata": {
    "id": "GNmbX1OU8N0V"
   },
   "source": [
    "### Editando textos"
   ]
  },
  {
   "cell_type": "markdown",
   "metadata": {
    "id": "6wZ85mCsRCV0"
   },
   "source": [
    "#### Questão 1\n",
    "\n",
    "Crie uma variável chamada “`frase`” e atribua a ela uma string de sua escolha. Em seguida, imprima a frase na tela."
   ]
  },
  {
   "cell_type": "code",
   "execution_count": 29,
   "metadata": {
    "id": "eRqr_gh-8mFy"
   },
   "outputs": [
    {
     "name": "stdout",
     "output_type": "stream",
     "text": [
      "Olá amigo\n"
     ]
    }
   ],
   "source": [
    "frase = 'Olá amigo'\n",
    "print(frase)"
   ]
  },
  {
   "cell_type": "markdown",
   "metadata": {
    "id": "Aac17z-18Nwv"
   },
   "source": [
    "#### Questão 2\n",
    "Crie um código que solicite uma frase e depois imprima a frase na tela."
   ]
  },
  {
   "cell_type": "code",
   "execution_count": 30,
   "metadata": {
    "id": "8zfE2hh98lb0"
   },
   "outputs": [
    {
     "name": "stdout",
     "output_type": "stream",
     "text": [
      "Digite uma frase: Olá meu nome é marcelo\n",
      "Olá meu nome é marcelo\n"
     ]
    }
   ],
   "source": [
    "frase = input('Digite uma frase: ')\n",
    "print(frase)"
   ]
  },
  {
   "cell_type": "markdown",
   "metadata": {
    "id": "DXVzqpN58Ntr"
   },
   "source": [
    "#### Questão 3\n",
    "\n",
    "Crie um código que solicite uma frase à pessoa usuária e imprima a mesma frase digitada mas com todas as letras maiúsculas."
   ]
  },
  {
   "cell_type": "code",
   "execution_count": 31,
   "metadata": {
    "id": "d0VzoYP68k-I"
   },
   "outputs": [
    {
     "name": "stdout",
     "output_type": "stream",
     "text": [
      "Digite uma frase: Marcelo\n",
      "MARCELO\n"
     ]
    }
   ],
   "source": [
    "frase = input('Digite uma frase: ')\n",
    "frase = frase.upper()\n",
    "print(frase)"
   ]
  },
  {
   "cell_type": "markdown",
   "metadata": {
    "id": "I12VeNPK8Nqb"
   },
   "source": [
    "#### Questão 4\n",
    "\n",
    "Crie um código que solicite uma frase à pessoa usuária e imprima a mesma frase digitada mas com todas as letras minúsculas."
   ]
  },
  {
   "cell_type": "code",
   "execution_count": 32,
   "metadata": {
    "id": "KD8rNy2K8kox"
   },
   "outputs": [
    {
     "name": "stdout",
     "output_type": "stream",
     "text": [
      "Digite uma frase: MaARCELO\n",
      "maarcelo\n"
     ]
    }
   ],
   "source": [
    "frase = input('Digite uma frase: ')\n",
    "frase = frase.lower()\n",
    "print(frase)"
   ]
  },
  {
   "cell_type": "markdown",
   "metadata": {
    "id": "cRqngSE48Nog"
   },
   "source": [
    "#### Questão 5\n",
    "\n",
    "Crie uma variável chamada “`frase`” e atribua a ela uma string de sua escolha. Em seguida, imprima a frase sem espaços em branco no início e no fim."
   ]
  },
  {
   "cell_type": "code",
   "execution_count": 33,
   "metadata": {
    "id": "aSCpdF-o8kBs"
   },
   "outputs": [
    {
     "name": "stdout",
     "output_type": "stream",
     "text": [
      "   Olá amigos !!! \n",
      "Olá amigos !!!\n"
     ]
    }
   ],
   "source": [
    "frase = '   Olá amigos !!! '\n",
    "print(frase)\n",
    "frase = frase.strip()\n",
    "print(frase)"
   ]
  },
  {
   "cell_type": "markdown",
   "metadata": {
    "id": "murIazpQ8Nkv"
   },
   "source": [
    "#### Questão 6\n",
    "\n",
    "Crie um código que solicite uma frase à pessoa usuária e imprima a mesma frase sem espaços em branco no início e no fim."
   ]
  },
  {
   "cell_type": "code",
   "execution_count": 34,
   "metadata": {
    "id": "tHunjwuG8jNq"
   },
   "outputs": [
    {
     "name": "stdout",
     "output_type": "stream",
     "text": [
      "Digite uma frase:   Olá marcelo ! tudo bom ?   \n",
      "Olá marcelo ! tudo bom ?\n"
     ]
    }
   ],
   "source": [
    "frase = input('Digite uma frase: ')\n",
    "frase = frase.strip()\n",
    "print(frase)"
   ]
  },
  {
   "cell_type": "markdown",
   "metadata": {
    "id": "eRxc2OeX8Nh2"
   },
   "source": [
    "#### Questão 7\n",
    "\n",
    "\n",
    "Crie um código que solicite uma frase à pessoa usuária e imprima a mesma frase sem espaços em branco no início e no fim e em letras minúsculas."
   ]
  },
  {
   "cell_type": "code",
   "execution_count": 35,
   "metadata": {
    "id": "DYm0_UwS8ih6"
   },
   "outputs": [
    {
     "name": "stdout",
     "output_type": "stream",
     "text": [
      "Digite uma frase:    Olá, tudo bem ?   \n",
      "olá, tudo bem ?\n"
     ]
    }
   ],
   "source": [
    "frase = input('Digite uma frase: ')\n",
    "frase = frase.strip().lower()\n",
    "print(frase)"
   ]
  },
  {
   "cell_type": "markdown",
   "metadata": {
    "id": "UKATLavs8NfI"
   },
   "source": [
    "#### Questão 8\n",
    "\n",
    "Crie um código que solicite uma frase à pessoa usuária e imprima a mesma frase com todas as vogais “`e`” trocadas pela letra “`f`”."
   ]
  },
  {
   "cell_type": "code",
   "execution_count": 36,
   "metadata": {
    "id": "k64C5G5S8iLO"
   },
   "outputs": [
    {
     "name": "stdout",
     "output_type": "stream",
     "text": [
      "Digite uma frase: olha o caminhar do elemento é o passo relento\n",
      "olha o caminhar do flfmfnto é o passo rflfnto\n"
     ]
    }
   ],
   "source": [
    "frase = input('Digite uma frase: ')\n",
    "frase = frase.replace('e', 'f')\n",
    "print(frase)"
   ]
  },
  {
   "cell_type": "markdown",
   "metadata": {
    "id": "n_1SPchw8NdG"
   },
   "source": [
    "#### Questão 9\n",
    "\n",
    "\n",
    "Crie um código que solicite uma frase à pessoa usuária e imprima a mesma frase com todas as vogais “`a`” trocadas pela caractere  “`@`”."
   ]
  },
  {
   "cell_type": "code",
   "execution_count": 37,
   "metadata": {
    "id": "msaDNm_p8h0D"
   },
   "outputs": [
    {
     "name": "stdout",
     "output_type": "stream",
     "text": [
      "Digite uma frase: Olha o caminhar do elemento é o passo relento\n",
      "Olh@ o c@minh@r do elemento é o p@sso relento\n"
     ]
    }
   ],
   "source": [
    "frase = input('Digite uma frase: ')\n",
    "frase = frase.replace('a', '@')\n",
    "print(frase)"
   ]
  },
  {
   "cell_type": "markdown",
   "metadata": {
    "id": "H3sTTjqI8Naa"
   },
   "source": [
    "#### Questão 10\n",
    "\n",
    "\n",
    "Crie um código que solicite uma frase à pessoa usuária e imprima a mesma frase com todas as consoantes “`s`” trocadas pelo caractere  “`$`”."
   ]
  },
  {
   "cell_type": "code",
   "execution_count": 38,
   "metadata": {
    "id": "RPBIsWT68e-1"
   },
   "outputs": [
    {
     "name": "stdout",
     "output_type": "stream",
     "text": [
      "Digite uma frase: Sai da frente que la vem pedrada sssiii\n",
      "Sai da frente que la vem pedrada $$$iii\n"
     ]
    }
   ],
   "source": [
    "frase = input('Digite uma frase: ')\n",
    "frase = frase.replace('s', '$')\n",
    "print(frase)"
   ]
  },
  {
   "cell_type": "markdown",
   "metadata": {
    "id": "XGePe4GD2I59"
   },
   "source": [
    "## Aula 3 - Estruturas condicionais"
   ]
  },
  {
   "cell_type": "markdown",
   "metadata": {
    "id": "Pr9HTW0UHCdD"
   },
   "source": [
    "### Aquecendo na programação"
   ]
  },
  {
   "cell_type": "markdown",
   "metadata": {
    "id": "xBZHqhVg80Fy"
   },
   "source": [
    "#### Questão 1\n",
    "Escreva um programa que peça à pessoa usuária para fornecer dois números e exibir o número maior."
   ]
  },
  {
   "cell_type": "code",
   "execution_count": 75,
   "metadata": {
    "id": "GJlGnzjc-xyF"
   },
   "outputs": [
    {
     "name": "stdout",
     "output_type": "stream",
     "text": [
      "Digite um numero: 15\n",
      "Digite outro numero: 15\n",
      "Os dois números são iguais\n"
     ]
    }
   ],
   "source": [
    "n1 = int(input('Digite um numero: '))\n",
    "n2 = int(input('Digite outro numero: '))\n",
    "if n1 > n2:\n",
    "    print(f'O primeiro número é maior: ', n1)\n",
    "elif n1 < n2:\n",
    "    print(f'O segundo número é maior: ', n2)\n",
    "else:\n",
    "    print('Os dois números são iguais')"
   ]
  },
  {
   "cell_type": "markdown",
   "metadata": {
    "id": "H4sgN7dyHNJF"
   },
   "source": [
    "#### Questão 2\n",
    "Escreva um programa que solicite o percentual de crescimento de produção de uma empresa e informe se houve um crescimento (porcentagem positiva) ou decrescimento (porcentagem negativa)."
   ]
  },
  {
   "cell_type": "code",
   "execution_count": 80,
   "metadata": {
    "id": "-2_Ry5XJ-yZW"
   },
   "outputs": [
    {
     "name": "stdout",
     "output_type": "stream",
     "text": [
      "Digite o percentual de crescimento/descrescimento da produção da empresa: 0\n",
      "Não houve crescimento nem decrescimento\n"
     ]
    }
   ],
   "source": [
    "producao = float(input('Digite o percentual de crescimento/descrescimento da produção da empresa: '))\n",
    "if producao > 0:\n",
    "    print(f'Houve crescimento de {producao}%')\n",
    "elif producao < 0:\n",
    "    print(f'Houve decrescimento de {producao}%')\n",
    "else:\n",
    "    print('Não houve crescimento nem decrescimento')"
   ]
  },
  {
   "cell_type": "markdown",
   "metadata": {
    "id": "a_mzNOBDHNny"
   },
   "source": [
    "#### Questão 3\n",
    "Escreva um programa que determine se uma letra fornecida pela pessoa usuária é uma vogal ou consoante."
   ]
  },
  {
   "cell_type": "code",
   "execution_count": 85,
   "metadata": {
    "id": "NbgndVyg-zFJ"
   },
   "outputs": [
    {
     "name": "stdout",
     "output_type": "stream",
     "text": [
      "Digite uma letra: O\n",
      "É uma vogal\n"
     ]
    }
   ],
   "source": [
    "s = input('Digite uma letra: ')\n",
    "s = s.lower()\n",
    "vogais = 'aeiou'\n",
    "if s in vogais:\n",
    "    print('É uma vogal')\n",
    "else:\n",
    "    print('É uma consoante')"
   ]
  },
  {
   "cell_type": "markdown",
   "metadata": {
    "id": "mofMRjSZHP99"
   },
   "source": [
    "#### Questão 4\n",
    "Escreva um programa que leia valores médios de preços de um modelo de carro por 3 anos consecutivos e exiba o valor mais alto e mais baixo entre esses três anos."
   ]
  },
  {
   "cell_type": "code",
   "execution_count": 72,
   "metadata": {
    "id": "TX--d3k9-02c"
   },
   "outputs": [
    {
     "name": "stdout",
     "output_type": "stream",
     "text": [
      "Digite o valor do carro no primeiro ano: 10\n",
      "Digite o valor do carro no segundo ano: 30\n",
      "Digite o valor do carro no terceiro ano: 20\n",
      "O valor do segundo ano é o maior: 30.0\n",
      "O valor do primeiro ano é o menor: 10.0\n"
     ]
    }
   ],
   "source": [
    "ano_1 = float(input('Digite o valor do carro no primeiro ano: '))\n",
    "ano_2 = float(input('Digite o valor do carro no segundo ano: '))\n",
    "ano_3 = float(input('Digite o valor do carro no terceiro ano: '))\n",
    "if ano_1 > (ano_2 and ano_3):\n",
    "    print('O valor do primeiro ano é o maior:', ano_1)\n",
    "elif ano_2 > (ano_1 and ano_3):\n",
    "    print('O valor do segundo ano é o maior:', ano_2)\n",
    "elif ano_3 > (ano_1 and ano_2):\n",
    "    print('O valor do terceiro ano é o maior:', ano_3)\n",
    "if ano_1 < (ano_2 and ano_3):\n",
    "    print('O valor do primeiro ano é o menor:', ano_1)\n",
    "elif ano_2 < (ano_1 and ano_3):\n",
    "    print('O valor do segundo ano é o menor:', ano_2)\n",
    "elif ano_3 < (ano_1 and ano_2):\n",
    "    print('O valor do terceiro ano é o menor:', ano_3)"
   ]
  },
  {
   "cell_type": "markdown",
   "metadata": {
    "id": "jY5tIwd-HQzc"
   },
   "source": [
    "#### Questão 5\n",
    "Escreva um programa que pergunte sobre o preço de três produtos e indique qual é o produto mais barato para comprar."
   ]
  },
  {
   "cell_type": "code",
   "execution_count": 53,
   "metadata": {
    "id": "sYqNh9df-0gk"
   },
   "outputs": [
    {
     "name": "stdout",
     "output_type": "stream",
     "text": [
      "Digite o valor de um produto: 30\n",
      "Digite o valor de outro produto: 10\n",
      "Digite o valor de outro produto: 5\n",
      "O terceiro produto é o mais barato.\n"
     ]
    }
   ],
   "source": [
    "p_1 = float(input('Digite o valor de um produto: '))\n",
    "p_2 = float(input('Digite o valor de outro produto: '))\n",
    "p_3 = float(input('Digite o valor de outro produto: '))\n",
    "if (p_1 < p_2) and (p_1 < p_3):\n",
    "    print('O primeiro produto é o mais barato.')\n",
    "elif (p_2 < p_1) and (p_2 < p_3):\n",
    "    print('O segundo produto é o mais barato.')\n",
    "elif (p_3 < p_1) and (p_3 < p_2):\n",
    "    print('O terceiro produto é o mais barato.')"
   ]
  },
  {
   "cell_type": "markdown",
   "metadata": {
    "id": "1r6aVxtTHR4E"
   },
   "source": [
    "#### Questão 6\n",
    "Escreva um programa que leia três números e os exiba em ordem decrescente."
   ]
  },
  {
   "cell_type": "code",
   "execution_count": 56,
   "metadata": {
    "id": "ydOCYUMO-0Hk"
   },
   "outputs": [
    {
     "name": "stdout",
     "output_type": "stream",
     "text": [
      "Digite um numero: 20\n",
      "Digite outro numero: 30\n",
      "Digite outro numero: 50\n",
      "50, 30, 20\n"
     ]
    }
   ],
   "source": [
    "n1 = int(input('Digite um numero: '))\n",
    "n2 = int(input('Digite outro numero: '))\n",
    "n3 = int(input('Digite outro numero: '))\n",
    "if n1 < n2 < n3:\n",
    "    print(f'{n3}, {n2}, {n1}')\n",
    "elif n1 < n3 < n2:\n",
    "    print(f'{n2}, {n3}, {n1}')\n",
    "elif n3 < n1 < n2:\n",
    "    print(f'{n2}, {n1}, {n3}')\n",
    "elif n2 < n1 < n3:\n",
    "    print(f'{n3}, {n1}, {n2}')\n",
    "elif n2 < n3 < n1:\n",
    "    print(f'{n1}, {n3}, {n2}')\n",
    "elif n3 < n2 < n1:\n",
    "    print(f'{n1}, {n2}, {n3}')    "
   ]
  },
  {
   "cell_type": "markdown",
   "metadata": {
    "id": "inW3F-hAHS_X"
   },
   "source": [
    "#### Questão 7\n",
    "Escreva um programa que pergunte em qual turno a pessoa usuária estuda (\"manhã\", \"tarde\" ou \"noite\") e exiba a mensagem \"Bom Dia!\", \"Boa Tarde!\", \"Boa Noite!\", ou \"Valor Inválido!\", conforme o caso."
   ]
  },
  {
   "cell_type": "code",
   "execution_count": 61,
   "metadata": {
    "id": "-_q-Pcr_-zth"
   },
   "outputs": [
    {
     "name": "stdout",
     "output_type": "stream",
     "text": [
      "Qual turno você estuda? (\"manhã\", \"tarde\" ou \"noite\") manhã\n",
      "Bom Dia!\n"
     ]
    }
   ],
   "source": [
    "s = input('Qual turno você estuda? (\"manhã\", \"tarde\" ou \"noite\") ')\n",
    "s = s.lower()\n",
    "if s == 'manhã':\n",
    "    print('Bom Dia!')\n",
    "elif s == 'tarde':\n",
    "    print('Boa Tarde!')\n",
    "elif s == 'noite':\n",
    "    print('Boa Noite!')\n",
    "else:\n",
    "    print('Valor Inválido')"
   ]
  },
  {
   "cell_type": "markdown",
   "metadata": {
    "id": "NCCPF3QqHTw-"
   },
   "source": [
    "#### Questão 8\n",
    "Escreva um programa que peça um número inteiro à pessoa usuária e determine se ele é par ou ímpar. Dica: Você pode utilizar o operador módulo `%`."
   ]
  },
  {
   "cell_type": "code",
   "execution_count": 63,
   "metadata": {
    "id": "OmZJt1nQ-3e6"
   },
   "outputs": [
    {
     "name": "stdout",
     "output_type": "stream",
     "text": [
      "Digite um numero inteiro: 3\n",
      "É um número ímpar!\n"
     ]
    }
   ],
   "source": [
    "n = int(input('Digite um numero inteiro: '))\n",
    "if n%2 == 0:\n",
    "    print('É um número par!')\n",
    "else:\n",
    "    print('É um número ímpar!')"
   ]
  },
  {
   "cell_type": "markdown",
   "metadata": {
    "id": "h93Ck1tQHUwE"
   },
   "source": [
    "#### Questão 9\n",
    "Escreva um programa que peça um número à pessoa usuária e informe se ele é inteiro ou decimal."
   ]
  },
  {
   "cell_type": "code",
   "execution_count": 87,
   "metadata": {
    "id": "sLMlZcx8-20N"
   },
   "outputs": [
    {
     "name": "stdout",
     "output_type": "stream",
     "text": [
      "Digite um numero: 5.5\n",
      "O número é decimal\n"
     ]
    }
   ],
   "source": [
    "n = float(input('Digite um numero: '))\n",
    "if n%1 == 0:\n",
    "    print('O número é inteiro')\n",
    "else:\n",
    "    print('O número é decimal')"
   ]
  },
  {
   "cell_type": "markdown",
   "metadata": {
    "id": "bKdXSK1SH_pF"
   },
   "source": [
    "### Momento dos projetos"
   ]
  },
  {
   "cell_type": "markdown",
   "metadata": {
    "id": "WBlEyyzsHV86"
   },
   "source": [
    "#### Questão 10\n",
    "Um programa deve ser escrito para ler dois números e, em seguida, perguntar à pessoa usuária qual operação ele deseja realizar. O resultado da operação deve incluir informações sobre o número - se é par ou ímpar, positivo ou negativo e inteiro ou decimal."
   ]
  },
  {
   "cell_type": "code",
   "execution_count": 90,
   "metadata": {
    "id": "3jmahZ0f-2gq"
   },
   "outputs": [
    {
     "name": "stdout",
     "output_type": "stream",
     "text": [
      "Digite um numero: 1\n",
      "Digite outro numero: 1\n",
      "Qual operação deseja realizar? (+, -, *, /) +\n",
      "O resultado: 2.0 é inteiro\n",
      "O resultado: 2.0 é positivo\n",
      "O resultado: 2.0 é par\n"
     ]
    }
   ],
   "source": [
    "n1 = float(input('Digite um numero: '))\n",
    "n2 = float(input('Digite outro numero: '))\n",
    "opcao = input('Qual operação deseja realizar? (+, -, *, /) ')\n",
    "if opcao == '+':\n",
    "    resultado = n1 + n2\n",
    "elif opcao == '-':\n",
    "    resultado = n1 - n2\n",
    "elif opcao == '*':   \n",
    "    resultado = n1 * n2\n",
    "elif opcao == '/':\n",
    "    resultado = n1 / n2\n",
    "else:\n",
    "    print('Operação Inválida')\n",
    "if resultado%1 == 0:\n",
    "    print(f'O resultado: {resultado} é inteiro')\n",
    "else:\n",
    "    print(f'O resultado: {resultado} é decimal')\n",
    "if resultado >= 0:\n",
    "    print(f'O resultado: {resultado} é positivo')\n",
    "else:\n",
    "    print(f'O resultado: {resultado} é negativo')\n",
    "if resultado%2 == 0:\n",
    "    print(f'O resultado: {resultado} é par')\n",
    "else:\n",
    "    print(f'O resultado: {resultado} é ímpar')"
   ]
  },
  {
   "cell_type": "markdown",
   "metadata": {
    "id": "VdnlULxHHW19"
   },
   "source": [
    "# Questão 11\n",
    "Escreva um programa que peça à pessoa usuária três números que representam os lados de um triângulo. O programa deve informar se os valores podem ser utilizados para formar um triângulo e, caso afirmativo, se ele é equilátero, isósceles ou escaleno. Tenha em mente algumas dicas:\n",
    "- Três lados formam um triângulo quando a soma de quaisquer dois lados for maior que o terceiro;\n",
    "- Triângulo Equilátero: três lados iguais;\n",
    "- Triângulo Isósceles: quaisquer dois lados iguais;\n",
    "- Triângulo Escaleno: três lados diferentes;\n"
   ]
  },
  {
   "cell_type": "code",
   "execution_count": 99,
   "metadata": {
    "id": "0z73sqUO-2Pw"
   },
   "outputs": [
    {
     "name": "stdout",
     "output_type": "stream",
     "text": [
      "Informe o lado 1 do triângulo: 1\n",
      "Informe o lado 2 do triângulo: 2\n",
      "Informe o lado 3 do triângulo: 10\n",
      "Não é um triângulo!\n"
     ]
    }
   ],
   "source": [
    "n1 = float(input('Informe o lado 1 do triângulo: '))\n",
    "n2 = float(input('Informe o lado 2 do triângulo: '))\n",
    "n3 = float(input('Informe o lado 3 do triângulo: '))\n",
    "if n1+n2 > n3 and n1+n3 > n2 and n2+n3 > n1:\n",
    "    if n1 == n2 == n3:\n",
    "        print('É um triângulo equilátero')\n",
    "    elif n1 == n2 or n1 == n3 or n2 == n3:\n",
    "        print('É um triângulo isósceles')\n",
    "    elif n1 != n2 != n3:\n",
    "        print('É um triângulo escaleno')\n",
    "else:\n",
    "    print('Não é um triângulo!')"
   ]
  },
  {
   "cell_type": "markdown",
   "metadata": {
    "id": "_PpEpOugHXwZ"
   },
   "source": [
    "#### Questão 12\n",
    "Um estabelecimento está vendendo combustíveis com descontos variados. Para o etanol, se a quantidade comprada for até 15 litros, o desconto será de 2% por litro. Caso contrário, será de 4% por litro. Para o diesel, se a quantidade comprada for até 15 litros, o desconto será de 3% por litro. Caso contrário, será de 5% por litro. O preço do litro de diesel é 2,00 e o preço do litro de etanol é  1,70. Escreva um programa que leia a quantidade de litros vendidos e o tipo de combustível (E para etanol e D para diesel) e calcule o valor a ser pago pelo cliente. Tenha em mente algumas dicas:\n",
    "\n",
    "- O do valor do desconto será a multiplicação entre preço do litro, quantidade de litros e o valor do desconto.\n",
    "- O valor a ser pago por um cliente será o resultado da multiplicação do preço do litro pela quantidade de litros menos o valor de desconto resultante do cálculo.\n"
   ]
  },
  {
   "cell_type": "code",
   "execution_count": 109,
   "metadata": {
    "id": "9izoF-0O-1yD"
   },
   "outputs": [
    {
     "name": "stdout",
     "output_type": "stream",
     "text": [
      "Qual combustível deseja? (E - Etanol e D - Diesel)D\n",
      "Quantos litros você deseja colocar? 100\n",
      "Você deverá pagar 200.0 - 10.0 = 190.0 reais\n"
     ]
    }
   ],
   "source": [
    "opcao = input('Qual combustível deseja? (E - Etanol e D - Diesel)')\n",
    "opcao = opcao.upper()\n",
    "if opcao == 'E':\n",
    "    litros = float(input('Quantos litros você deseja colocar? '))\n",
    "    if litros <= 15 and litros >= 0:\n",
    "        desconto = 1.70*0.02*litros\n",
    "        valor = 1.70*litros\n",
    "        resultado = valor - desconto\n",
    "        print(f'Você deverá pagar {valor} - {desconto} = {resultado} reais')\n",
    "    elif litros > 15:\n",
    "        desconto = 1.70*0.04*litros\n",
    "        valor = 1.70*litros\n",
    "        resultado = valor - desconto\n",
    "        print(f'Você deverá pagar {valor} - {desconto} = {resultado} reais')\n",
    "    else:\n",
    "        print('Esse valor de litros é inválido')\n",
    "elif opcao == 'D':\n",
    "    litros = float(input('Quantos litros você deseja colocar? '))\n",
    "    if litros <= 15 and litros >= 0:\n",
    "        desconto = 2*0.03*litros\n",
    "        valor = 2*litros\n",
    "        resultado = valor - desconto\n",
    "        print(f'Você deverá pagar {valor} - {desconto} = {resultado} reais')\n",
    "    elif litros > 15:\n",
    "        desconto = 2*0.05*litros\n",
    "        valor = 2*litros\n",
    "        resultado = valor - desconto\n",
    "        print(f'Você deverá pagar {valor} - {desconto} = {resultado} reais')\n",
    "    else:\n",
    "        print('Esse valor de litros é inválido')\n",
    "else:\n",
    "    print('Não temos esse tipo de combustível!')"
   ]
  },
  {
   "cell_type": "markdown",
   "metadata": {
    "id": "s_XS_D1WHY2R"
   },
   "source": [
    "#### Questão 13\n",
    "Em uma empresa de venda de imóveis você precisa criar um código que analise os dados de vendas anuais para ajudar a diretoria na tomada de decisão. O código precisa coletar os dados de quantidade de venda durante os anos de 2022 e 2023 e fazer um cálculo de variação percentual. A partir do valor da variação, deve ser enviada às seguintes sugestões:\n",
    "- Para variação acima de 20%: bonificação para o time de vendas.\n",
    "- Para variação entre 2% e 20%: pequena bonificação para time de vendas.\n",
    "- Para variação entre 2% e -10%: planejamento de políticas de incentivo às vendas.\n",
    "- Para bonificações abaixo de -10%: corte de gastos.\n"
   ]
  },
  {
   "cell_type": "code",
   "execution_count": 113,
   "metadata": {
    "id": "avQrYlUg-w8f"
   },
   "outputs": [
    {
     "name": "stdout",
     "output_type": "stream",
     "text": [
      "Digite a quantidade de vendas em 2022: 200\n",
      "Digite a quantidade de vendas em 2023: 205\n",
      "Pequena bonificação para time de vendas\n"
     ]
    }
   ],
   "source": [
    "qtd_vendas_2022 = int(input('Digite a quantidade de vendas em 2022: '))\n",
    "qtd_vendas_2023 = int(input('Digite a quantidade de vendas em 2023: '))\n",
    "variacao = 100*(qtd_vendas_2023 - qtd_vendas_2022)/(qtd_vendas_2022)\n",
    "if variacao > 20:\n",
    "    print('Bonificação para o time de vendas')\n",
    "elif 2 <= variacao <= 20:\n",
    "    print('Pequena bonificação para time de vendas')\n",
    "elif -10 <= variacao < 2:\n",
    "    print('Planejamento de políticas de incentivo às vendas.')\n",
    "else:\n",
    "    print('Corte de gastos.')"
   ]
  },
  {
   "cell_type": "markdown",
   "metadata": {
    "id": "AuaWh4-d2Itt"
   },
   "source": [
    "## Aula 4 - Estruturas de repetição"
   ]
  },
  {
   "cell_type": "markdown",
   "metadata": {
    "id": "6MSqU0sIJRdD"
   },
   "source": [
    "### Aquecendo na programação"
   ]
  },
  {
   "cell_type": "markdown",
   "metadata": {
    "id": "9eGGyCnAJRdQ"
   },
   "source": [
    "#### Questão 1\n",
    "Escreva um programa que peça dois números inteiros e imprima todos os números inteiros entre eles."
   ]
  },
  {
   "cell_type": "code",
   "execution_count": 5,
   "metadata": {
    "id": "ID1oc1hxJRdQ"
   },
   "outputs": [
    {
     "name": "stdout",
     "output_type": "stream",
     "text": [
      "Digite um numero: 10\n",
      "Digite outro numero: 5\n",
      "6\n",
      "7\n",
      "8\n",
      "9\n"
     ]
    }
   ],
   "source": [
    "n1 = int(input('Digite um numero: '))\n",
    "n2 = int(input('Digite outro numero: '))\n",
    "if n1 < n2:\n",
    "    for i in range(n1+1,n2):\n",
    "        print(i)\n",
    "elif n2 < n1:\n",
    "    for i in range(n2+1, n1):\n",
    "        print(i)\n",
    "else:\n",
    "    print('Não existe números entre os valores inseridos')"
   ]
  },
  {
   "cell_type": "markdown",
   "metadata": {
    "id": "mGonEHYCJRdR"
   },
   "source": [
    "#### Questão 2\n",
    "Escreva um programa para calcular quantos dias levará para a colônia de uma bactéria A ultrapassar ou igualar a colônia de uma bactéria B, com base nas taxas de crescimento de 3% e 1,5% respectivamente. Considere que a colônia A inicia com 4 elementos e a colônia B com 10 elementos."
   ]
  },
  {
   "cell_type": "code",
   "execution_count": 18,
   "metadata": {
    "id": "wM6FJuoqJRdR"
   },
   "outputs": [
    {
     "name": "stdout",
     "output_type": "stream",
     "text": [
      "A quantidade de dias será: 63 dias\n"
     ]
    }
   ],
   "source": [
    "bac_a = 4\n",
    "bac_b = 10\n",
    "soma = 0\n",
    "while bac_a <= bac_b:\n",
    "    bac_a = bac_a * 1.03\n",
    "    bac_b = bac_b * 1.015\n",
    "    soma = soma + 1\n",
    "print(f'A quantidade de dias será: {soma} dias')"
   ]
  },
  {
   "cell_type": "markdown",
   "metadata": {
    "id": "UiOZRlqoJRdR"
   },
   "source": [
    "#### Questão 3\n",
    "Para tratar uma quantidade de 15 dados de avaliações de pessoas usuárias de um serviço da empresa, precisamos verificar se as notas são válidas. Então, escreva um programa que vai receber a nota de 0 a 5 de todos os dados e verificar se é um valor válido. Caso seja inserido uma nota acima de 5 ou abaixo de 0, repita até que a pessoa usuária insira um valor válido."
   ]
  },
  {
   "cell_type": "code",
   "execution_count": 27,
   "metadata": {
    "id": "3TUAhCxcJRdR"
   },
   "outputs": [
    {
     "name": "stdout",
     "output_type": "stream",
     "text": [
      "Digite uma nota de 0 a 5 do usuário 0:5\n",
      "Digite uma nota de 0 a 5 do usuário 1:3\n",
      "Digite uma nota de 0 a 5 do usuário 2:2\n",
      "Digite uma nota de 0 a 5 do usuário 3:3\n",
      "Digite uma nota de 0 a 5 do usuário 4:15\n",
      "Nota inválida, digite outra nota de 0 a 5 do usuário 4:3\n",
      "Digite uma nota de 0 a 5 do usuário 5:2\n",
      "Digite uma nota de 0 a 5 do usuário 6:1\n",
      "Digite uma nota de 0 a 5 do usuário 7:55\n",
      "Nota inválida, digite outra nota de 0 a 5 do usuário 7:-5\n",
      "Nota inválida, digite outra nota de 0 a 5 do usuário 7:3\n",
      "Digite uma nota de 0 a 5 do usuário 8:2\n",
      "Digite uma nota de 0 a 5 do usuário 9:1\n",
      "Digite uma nota de 0 a 5 do usuário 10:5\n",
      "Digite uma nota de 0 a 5 do usuário 11:3\n",
      "Digite uma nota de 0 a 5 do usuário 12:2\n",
      "Digite uma nota de 0 a 5 do usuário 13:1\n",
      "Digite uma nota de 0 a 5 do usuário 14:2\n",
      "Todas as notas são válidas\n"
     ]
    }
   ],
   "source": [
    "for i in range(15):\n",
    "    nota = float(input(f'Digite uma nota de 0 a 5 do usuário {i}:'))\n",
    "    while nota < 0 or nota > 5:\n",
    "        nota = float(input(f'Nota inválida, digite outra nota de 0 a 5 do usuário {i}:'))\n",
    "print('Todas as notas são válidas')"
   ]
  },
  {
   "cell_type": "markdown",
   "metadata": {
    "id": "ABv3KObGJRdR"
   },
   "source": [
    "# Questão 4\n",
    "Desenvolva um programa que leia um conjunto indeterminado de temperaturas em Celsius e faça uma análise. Portanto, escreva um programa que leia temperaturas e informe a média delas. A leitura deve ser encerrada ao ser enviado o valor -273°C."
   ]
  },
  {
   "cell_type": "code",
   "execution_count": 44,
   "metadata": {
    "id": "85tBBj5KJRdS"
   },
   "outputs": [
    {
     "name": "stdout",
     "output_type": "stream",
     "text": [
      "Insira uma temperatura (Insira -273 para encerrar):10\n",
      "Insira uma temperatura (Insira -273 para encerrar):20\n",
      "Insira uma temperatura (Insira -273 para encerrar):-273\n",
      "A média das temperaturas é: 15.0\n"
     ]
    }
   ],
   "source": [
    "soma = 0\n",
    "i = 0\n",
    "temp = float(input('Insira uma temperatura (Insira -273 para encerrar):'))\n",
    "while temp != -273:\n",
    "    soma = soma + temp\n",
    "    i = i+1\n",
    "    temp = float(input('Insira uma temperatura (Insira -273 para encerrar):'))\n",
    "media = soma/i\n",
    "print(f'A média das temperaturas é: {media}')"
   ]
  },
  {
   "cell_type": "markdown",
   "metadata": {
    "id": "IjkbAfGcJRdS"
   },
   "source": [
    "#### Questão 5\n",
    "Escreva um programa que calcule o fatorial de um número inteiro fornecido pela pessoa usuária. O fatorial de um número inteiro é a multiplicação desse número por todos os seus antecessores até o número 1. Por exemplo, o fatorial de 5 é 5 x 4 x 3 x 2 x 1 = 120."
   ]
  },
  {
   "cell_type": "code",
   "execution_count": 54,
   "metadata": {
    "id": "7RTH8o0HJRdS"
   },
   "outputs": [
    {
     "name": "stdout",
     "output_type": "stream",
     "text": [
      "Digite um numero inteiro: 0\n",
      "Fatorial de 0 é 1\n"
     ]
    }
   ],
   "source": [
    "fatorial = 1\n",
    "n = int(input('Digite um numero inteiro: '))\n",
    "for i in range(1, n+1):\n",
    "    fatorial = fatorial*i\n",
    "print(f'Fatorial de {n} é {fatorial}')"
   ]
  },
  {
   "cell_type": "markdown",
   "metadata": {
    "id": "oGNKuQjsJRdT"
   },
   "source": [
    "### Momento dos projetos"
   ]
  },
  {
   "cell_type": "markdown",
   "metadata": {
    "id": "ODxaTUYmJRdS"
   },
   "source": [
    "#### Questão 6\n",
    "Escreva um programa que gere a tabuada de um número inteiro de 1 a 10, de acordo com a escolha da pessoa usuária. Como exemplo, para o número 2, a tabuada deve ser mostrada no seguinte formato:\n",
    "```\n",
    "Tabuada do 2:\n",
    "2 x 1 = 2\n",
    "2 x 2 = 4\n",
    "[...]\n",
    "2 x 10 = 20\n",
    "```"
   ]
  },
  {
   "cell_type": "code",
   "execution_count": 3,
   "metadata": {
    "id": "lkTlbxPIJRdS"
   },
   "outputs": [
    {
     "name": "stdout",
     "output_type": "stream",
     "text": [
      "Digite um número inteiro: 16\n",
      "16 * 1 = 16\n",
      "16 * 2 = 32\n",
      "16 * 3 = 48\n",
      "16 * 4 = 64\n",
      "16 * 5 = 80\n",
      "16 * 6 = 96\n",
      "16 * 7 = 112\n",
      "16 * 8 = 128\n",
      "16 * 9 = 144\n",
      "16 * 10 = 160\n"
     ]
    }
   ],
   "source": [
    "n = int(input('Digite um número inteiro: '))\n",
    "for i in range(1,11):\n",
    "    print(f'{n} * {i} = {n*i}')"
   ]
  },
  {
   "cell_type": "markdown",
   "metadata": {
    "id": "LeIbnt8VJRdS"
   },
   "source": [
    "#### Questão 7\n",
    "Os números primos possuem várias aplicações dentro da Ciência de Dados, por exemplo, na criptografia e segurança. Um número primo é aquele que é divisível apenas por um e por ele mesmo. Faça um programa que peça um número inteiro e determine se ele é ou não um número primo."
   ]
  },
  {
   "cell_type": "code",
   "execution_count": 9,
   "metadata": {
    "id": "2rcNU7twJRdS"
   },
   "outputs": [
    {
     "name": "stdout",
     "output_type": "stream",
     "text": [
      "Digite um número inteiro: 6\n",
      "Não é um número primo\n"
     ]
    }
   ],
   "source": [
    "qtd_de_div = 0\n",
    "n = int(input('Digite um número inteiro: '))\n",
    "for i in range(1,n+1):\n",
    "    resto = n%i\n",
    "    if resto == 0:\n",
    "        qtd_de_div += 1\n",
    "if qtd_de_div <= 2:\n",
    "    print('É um número primo')\n",
    "else:\n",
    "    print('Não é um número primo')"
   ]
  },
  {
   "cell_type": "markdown",
   "metadata": {
    "id": "QTwb6QaCJRdT"
   },
   "source": [
    "#### Questão 8\n",
    "Vamos entender a distribuição de idades de pensionistas de uma empresa de previdência. Escreva um programa que leia as idades de uma quantidade não informada de clientes e mostre a distribuição em intervalos de [0-25], [26-50], [51-75] e [76-100]. Encerre a entrada de dados com um número negativo."
   ]
  },
  {
   "cell_type": "code",
   "execution_count": 12,
   "metadata": {
    "id": "4IAhaDmYJRdT"
   },
   "outputs": [
    {
     "name": "stdout",
     "output_type": "stream",
     "text": [
      "Digite a idade do cliente 1 (Digite um número negativo para encerrar): 10\n",
      "Digite a idade do cliente 2 (Digite um número negativo para encerrar): 20\n",
      "Digite a idade do cliente 3 (Digite um número negativo para encerrar): 20\n",
      "Digite a idade do cliente 4 (Digite um número negativo para encerrar): 35\n",
      "Digite a idade do cliente 5 (Digite um número negativo para encerrar): 52\n",
      "Digite a idade do cliente 6 (Digite um número negativo para encerrar): 100\n",
      "Digite a idade do cliente 7 (Digite um número negativo para encerrar): -10\n",
      "A quantidade de clientes entre [0-25] é:  3\n",
      "A quantidade de clientes entre [26-50] é:  1\n",
      "A quantidade de clientes entre [51-75] é:  1\n",
      "A quantidade de clientes entre [76-100] é:  1\n"
     ]
    }
   ],
   "source": [
    "i = 1\n",
    "faixa1 = faixa2 = faixa3 = faixa4 = 0\n",
    "n = int(input(f'Digite a idade do cliente {i} (Digite um número negativo para encerrar): '))\n",
    "while n >= 0:\n",
    "    if 0 <= n <= 25:\n",
    "        faixa1 += 1\n",
    "    elif 26 <= n <= 50:\n",
    "        faixa2 += 1\n",
    "    elif 51 <= n <= 75:\n",
    "        faixa3 += 1\n",
    "    elif 76 <= n <= 100:\n",
    "        faixa4 += 1\n",
    "    else:\n",
    "        print('Idade inválida')\n",
    "    i += 1\n",
    "    n = int(input(f'Digite a idade do cliente {i} (Digite um número negativo para encerrar): '))\n",
    "\n",
    "print('A quantidade de clientes entre [0-25] é: ', faixa1)\n",
    "print('A quantidade de clientes entre [26-50] é: ', faixa2)\n",
    "print('A quantidade de clientes entre [51-75] é: ', faixa3)\n",
    "print('A quantidade de clientes entre [76-100] é: ', faixa4)"
   ]
  },
  {
   "cell_type": "markdown",
   "metadata": {
    "id": "soJCQVwRJRdT"
   },
   "source": [
    "#### Questão 9\n",
    "Em uma eleição para gerência em uma empresa com 20 funcionários, existem quatro candidatos. Escreva um programa que calcule o vencedor da eleição. A votação ocorreu da seguinte maneira:\n",
    "- Cada funcionário votou em um dos quatro candidatos (representados pelos números 1, 2, 3 e 4).\n",
    "- Também foram contabilizados os votos nulos (representado pelo número 5) e os votos em branco (representado pelo número 6).\n",
    "\n",
    "Ao final da votação, o programa deve exibir o total de votos para cada candidato, o número de votos nulos e o número de votos em branco. Além disso, deve calcular e exibir a porcentagem de votos nulos em relação ao total de votos e a porcentagem de votos em branco em relação ao total de votos."
   ]
  },
  {
   "cell_type": "code",
   "execution_count": 21,
   "metadata": {
    "id": "041EFrgG-4gR"
   },
   "outputs": [
    {
     "name": "stdout",
     "output_type": "stream",
     "text": [
      "Digite em quem você quer votar (1,2,3,4,5:Nulo,6:Branco)1\n",
      "Digite em quem você quer votar (1,2,3,4,5:Nulo,6:Branco)1\n",
      "Digite em quem você quer votar (1,2,3,4,5:Nulo,6:Branco)1\n",
      "Digite em quem você quer votar (1,2,3,4,5:Nulo,6:Branco)1\n",
      "Digite em quem você quer votar (1,2,3,4,5:Nulo,6:Branco)1\n",
      "Digite em quem você quer votar (1,2,3,4,5:Nulo,6:Branco)2\n",
      "Digite em quem você quer votar (1,2,3,4,5:Nulo,6:Branco)2\n",
      "Digite em quem você quer votar (1,2,3,4,5:Nulo,6:Branco)2\n",
      "Digite em quem você quer votar (1,2,3,4,5:Nulo,6:Branco)3\n",
      "Digite em quem você quer votar (1,2,3,4,5:Nulo,6:Branco)3\n",
      "Digite em quem você quer votar (1,2,3,4,5:Nulo,6:Branco)3\n",
      "Digite em quem você quer votar (1,2,3,4,5:Nulo,6:Branco)3\n",
      "Digite em quem você quer votar (1,2,3,4,5:Nulo,6:Branco)3\n",
      "Digite em quem você quer votar (1,2,3,4,5:Nulo,6:Branco)4\n",
      "Digite em quem você quer votar (1,2,3,4,5:Nulo,6:Branco)4\n",
      "Digite em quem você quer votar (1,2,3,4,5:Nulo,6:Branco)4\n",
      "Digite em quem você quer votar (1,2,3,4,5:Nulo,6:Branco)4\n",
      "Digite em quem você quer votar (1,2,3,4,5:Nulo,6:Branco)5\n",
      "Digite em quem você quer votar (1,2,3,4,5:Nulo,6:Branco)5\n",
      "Digite em quem você quer votar (1,2,3,4,5:Nulo,6:Branco)6\n",
      "A quantidade de votos no candidato 1 foi:  5\n",
      "A quantidade de votos no candidato 2 foi:  3\n",
      "A quantidade de votos no candidato 3 foi:  5\n",
      "A quantidade de votos no candidato 4 foi:  4\n",
      "A quantidade de votos nulo foi:  2\n",
      "A quantidade de votos branco foi:  1\n",
      "O percentual de votos nulos foi de 10.0%\n",
      "O percentual de votos brancos foi de 5.0%\n"
     ]
    }
   ],
   "source": [
    "c1 = c2 = c3 = c4 = n = b = 0\n",
    "i = 1\n",
    "\n",
    "voto = int(input('Digite em quem você quer votar (1,2,3,4,5:Nulo,6:Branco)'))\n",
    "while i <= 20:\n",
    "    if voto == 1:\n",
    "        c1 += 1\n",
    "        i += 1\n",
    "    elif voto == 2:\n",
    "        c2 += 1\n",
    "        i += 1\n",
    "    elif voto == 3:\n",
    "        c3 += 1\n",
    "        i += 1\n",
    "    elif voto == 4:\n",
    "        c4 += 1\n",
    "        i += 1\n",
    "    elif voto == 5:\n",
    "        n += 1\n",
    "        i += 1\n",
    "    elif voto == 6:\n",
    "        b += 1\n",
    "        i += 1\n",
    "    else:\n",
    "        print('Voto inválido')\n",
    "    if i <= 20:\n",
    "        voto = int(input('Digite em quem você quer votar (1,2,3,4,5:Nulo,6:Branco)'))\n",
    "print('A quantidade de votos no candidato 1 foi: ', c1)\n",
    "print('A quantidade de votos no candidato 2 foi: ', c2)\n",
    "print('A quantidade de votos no candidato 3 foi: ', c3)\n",
    "print('A quantidade de votos no candidato 4 foi: ', c4)\n",
    "print('A quantidade de votos nulo foi: ', n)\n",
    "print('A quantidade de votos branco foi: ', b)\n",
    "perc_nulos = n/20 * 100\n",
    "perc_brancos = b/20 * 100\n",
    "print(f'O percentual de votos nulos foi de {perc_nulos}%')\n",
    "print(f'O percentual de votos brancos foi de {perc_brancos}%')"
   ]
  },
  {
   "cell_type": "markdown",
   "metadata": {
    "id": "eijHQiNU2IZ7"
   },
   "source": [
    "###### Aula 5 - Estruturas de dados"
   ]
  },
  {
   "cell_type": "markdown",
   "metadata": {
    "id": "92F0bKtBMgd7"
   },
   "source": [
    "### Aquecendo na programação"
   ]
  },
  {
   "cell_type": "markdown",
   "metadata": {
    "id": "IypX2ANuMgeC"
   },
   "source": [
    "#### Questão 1\n",
    "Faça um programa que tenha a seguinte lista contendo os valores de gastos de uma empresa de papel `[2172.54, 3701.35, 3518.09, 3456.61, 3249.38, 2840.82, 3891.45, 3075.26, 2317.64, 3219.08]`. Com esses valores, faça um programa que calcule a média de gastos. Dica, use as funções built-in [`sum()`](https://docs.python.org/3/library/functions.html#sum) e [`len()`](https://docs.python.org/3/library/functions.html#len)."
   ]
  },
  {
   "cell_type": "code",
   "execution_count": 22,
   "metadata": {
    "id": "ge3LuFhLMgeD"
   },
   "outputs": [
    {
     "name": "stdout",
     "output_type": "stream",
     "text": [
      "A média de gastos é: R$ 3144.222\n"
     ]
    }
   ],
   "source": [
    "lista = [2172.54, 3701.35, 3518.09, 3456.61, 3249.38, 2840.82, 3891.45, 3075.26, 2317.64, 3219.08]\n",
    "media = sum(lista)/len(lista)\n",
    "print(f'A média de gastos é: R$ {media}')"
   ]
  },
  {
   "cell_type": "markdown",
   "metadata": {
    "id": "xrOeLhQkMgeD"
   },
   "source": [
    "#### Questão 2\n",
    " Com os mesmos dados da questão anterior, defina quantas compras foram acima de 3000 reais e calcule a porcentagem quanto ao total de compras."
   ]
  },
  {
   "cell_type": "code",
   "execution_count": 25,
   "metadata": {
    "id": "Ygu5TMZyMgeD"
   },
   "outputs": [
    {
     "name": "stdout",
     "output_type": "stream",
     "text": [
      "A quantidade de compras acima de R$ 3000.00 é:  7\n",
      "A porcentagem dessas compras é de:  70.0 %\n"
     ]
    }
   ],
   "source": [
    "j = 0\n",
    "acima = 0\n",
    "for i in lista:\n",
    "    if i >= 3000:\n",
    "        j += 1\n",
    "print('A quantidade de compras acima de R$ 3000.00 é: ', j)\n",
    "print('A porcentagem dessas compras é de: ', j/len(lista) * 100, '%')"
   ]
  },
  {
   "cell_type": "markdown",
   "metadata": {
    "id": "JgCOrE_BMgeD"
   },
   "source": [
    "#### Questão 3\n",
    "Faça um código que colete em uma lista 5 números inteiros quaisquer e imprima a lista. Exemplo: `[1,4,7,2,4]`."
   ]
  },
  {
   "cell_type": "code",
   "execution_count": 29,
   "metadata": {
    "id": "vtM9O1hLMgeD"
   },
   "outputs": [
    {
     "name": "stdout",
     "output_type": "stream",
     "text": [
      "Digite um número inteiro: 1\n",
      "Digite um número inteiro: 2\n",
      "Digite um número inteiro: 3\n",
      "Digite um número inteiro: 4\n",
      "Digite um número inteiro: 5\n"
     ]
    },
    {
     "data": {
      "text/plain": [
       "[1, 2, 3, 4, 5]"
      ]
     },
     "execution_count": 29,
     "metadata": {},
     "output_type": "execute_result"
    }
   ],
   "source": [
    "lista = []\n",
    "for i in range(1,6):\n",
    "    n = int(input('Digite um número inteiro: '))\n",
    "    lista.append(n)\n",
    "lista"
   ]
  },
  {
   "cell_type": "markdown",
   "metadata": {
    "id": "p3bTp88HMgeD"
   },
   "source": [
    "#### Questão 4\n",
    "Colete novamente 5 inteiros e imprima a lista em ordem inversa à enviada."
   ]
  },
  {
   "cell_type": "code",
   "execution_count": 38,
   "metadata": {
    "id": "-CGwMIyHMgeD",
    "scrolled": true
   },
   "outputs": [
    {
     "name": "stdout",
     "output_type": "stream",
     "text": [
      "Digite um número inteiro: 1\n",
      "Digite um número inteiro: 2\n",
      "Digite um número inteiro: 3\n",
      "Digite um número inteiro: 4\n",
      "Digite um número inteiro: 5\n"
     ]
    },
    {
     "data": {
      "text/plain": [
       "[5, 4, 3, 2, 1]"
      ]
     },
     "execution_count": 38,
     "metadata": {},
     "output_type": "execute_result"
    }
   ],
   "source": [
    "lista = []\n",
    "for i in range(1,6):\n",
    "    n = int(input('Digite um número inteiro: '))\n",
    "    lista.append(n)\n",
    "lista = lista[::-1]\n",
    "lista"
   ]
  },
  {
   "cell_type": "markdown",
   "metadata": {
    "id": "eIXd_z1lMgeD"
   },
   "source": [
    "#### Questão 5\n",
    "Faça um programa que, ao inserir um número qualquer, criará uma lista contendo todos os números primos entre 1 e o número digitado."
   ]
  },
  {
   "cell_type": "code",
   "execution_count": 51,
   "metadata": {
    "id": "rj_6GHstMgeE"
   },
   "outputs": [
    {
     "name": "stdout",
     "output_type": "stream",
     "text": [
      "Digite um número inteiro: 15\n",
      "[2, 3, 5, 7, 11, 13]\n"
     ]
    }
   ],
   "source": [
    "lista_primos = []\n",
    "n = int(input('Digite um número inteiro: '))\n",
    "for i in range(2, n):\n",
    "    primo = True\n",
    "    for teste_div in range(2, i):\n",
    "        if i%teste_div == 0:\n",
    "            primo = False\n",
    "            break\n",
    "    if primo:\n",
    "        lista_primos.append(i)\n",
    "print(lista_primos)"
   ]
  },
  {
   "cell_type": "markdown",
   "metadata": {
    "id": "zrbz3ENlMgeE"
   },
   "source": [
    "#### Questão 6\n",
    "Escreva um programa que peça uma data informando o dia, mês e ano e determine se ela é uma data válida para uma análise."
   ]
  },
  {
   "cell_type": "code",
   "execution_count": 63,
   "metadata": {
    "id": "0eYA8UjTMgeE"
   },
   "outputs": [
    {
     "name": "stdout",
     "output_type": "stream",
     "text": [
      "Informe um dia 1 a 31: 29\n",
      "Informe um mês 1 a 12: 2\n",
      "Informe um ano 0 a 2023: 2016\n",
      "É uma data válida\n"
     ]
    }
   ],
   "source": [
    "lista = []\n",
    "dia = int(input('Informe um dia 1 a 31: '))\n",
    "mes = int(input('Informe um mês 1 a 12: '))\n",
    "ano = int(input('Informe um ano 0 a 2023: '))\n",
    "if mes == 2:\n",
    "    if ano % 4 == 0 and (ano % 400 == 0 or ano % 100 != 0):\n",
    "        dias_fervereiro = 29\n",
    "    else:\n",
    "        dias_fervereiro = 28\n",
    "    if 1 <= dia <= dias_fervereiro:\n",
    "        print('É uma data válida')\n",
    "    else:\n",
    "        print('É uma data inválida')\n",
    "elif mes in [1,3,5,7,8,10,12]:\n",
    "    if 1 <= dia <= 31:\n",
    "        print('É uma data válida')\n",
    "    else:\n",
    "        print('É uma data inválida')\n",
    "elif mes in [4,6,9,11]:\n",
    "    if 1 <= dia <= 30:\n",
    "        print('É uma data válida')\n",
    "    else:\n",
    "        print('É uma data inválida')\n",
    "else:\n",
    "    print('É uma data inválida')"
   ]
  },
  {
   "cell_type": "markdown",
   "metadata": {
    "id": "ut_4VHdGMgeE"
   },
   "source": [
    "# Momento dos projetos"
   ]
  },
  {
   "cell_type": "markdown",
   "metadata": {
    "id": "G86Z0vD_MgeE"
   },
   "source": [
    "#### Questão 7\n",
    "Para um estudo envolvendo o nível de multiplicação de bactérias em uma colônia, foi coletado o número de bactérias multiplicadas por dia, com base em um processo de duplicação diária e pode ser observado a seguir: `[1.2, 2.1, 3.3, 5.0, 7.8, 11.3, 16.6, 25.1, 37.8, 56.9]`. Tendo esses valores, faça um código que gere uma lista contendo o percentual de crescimento de bactérias por dia, comparando o número de bactérias em cada dia com o número de bactérias do dia anterior. Dica: para calcular o percentual de crescimento usamos a seguinte equação: `100 * (amostra_atual - amostra_passada) / (amostra_passada)`."
   ]
  },
  {
   "cell_type": "code",
   "execution_count": 68,
   "metadata": {
    "id": "PXNO_CFkMgeE"
   },
   "outputs": [
    {
     "name": "stdout",
     "output_type": "stream",
     "text": [
      "Porcentagens de crescimento:\n",
      "[75.00000000000001, 57.142857142857125, 51.51515151515153, 56.0, 44.87179487179489, 46.90265486725664, 51.20481927710843, 50.59760956175297, 50.52910052910054]\n"
     ]
    }
   ],
   "source": [
    "lista = [1.2, 2.1, 3.3, 5.0, 7.8, 11.3, 16.6, 25.1, 37.8, 56.9]\n",
    "lista_perc = []\n",
    "for i in range (1, len(lista)):\n",
    "    perc = 100 * (lista[i] - lista[i-1]) / lista[i-1]\n",
    "    lista_perc.append(perc)\n",
    "print(f'Porcentagens de crescimento:\\n{lista_perc}')"
   ]
  },
  {
   "cell_type": "markdown",
   "metadata": {
    "id": "p4nxogpnMgeE"
   },
   "source": [
    "#### Questão 8\n",
    "Para uma seleção de produtos alimentícios, precisamos separar o conjunto de IDs dados por números inteiros, sabendo que os produtos com ID par são doces e os com ID ímpar são amargos. Monte um código que colete 10 IDs. Depois, calcule e mostre a quantidade de produtos doces e amargos."
   ]
  },
  {
   "cell_type": "code",
   "execution_count": 74,
   "metadata": {
    "id": "WqjO2SZkMgeE"
   },
   "outputs": [
    {
     "name": "stdout",
     "output_type": "stream",
     "text": [
      "Digite um ID inteiro: 1\n",
      "Digite um ID inteiro: 1\n",
      "Digite um ID inteiro: 1\n",
      "Digite um ID inteiro: 1\n",
      "Digite um ID inteiro: 1\n",
      "Digite um ID inteiro: 1\n",
      "Digite um ID inteiro: 1\n",
      "Digite um ID inteiro: 2\n",
      "Digite um ID inteiro: 2\n",
      "Digite um ID inteiro: 2\n",
      "A quantidade de produtos doces é:  3\n",
      "A quantidade de produtos amargos é:  7\n"
     ]
    }
   ],
   "source": [
    "qtd_doces = 0\n",
    "qtd_amargos = 0 \n",
    "for i in range(0,10):\n",
    "    n = int(input('Digite um ID inteiro: '))\n",
    "    if n%2 == 0:\n",
    "        qtd_doces += 1\n",
    "    else:\n",
    "        qtd_amargos += 1\n",
    "print('A quantidade de produtos doces é: ', qtd_doces)\n",
    "print('A quantidade de produtos amargos é: ', qtd_amargos)"
   ]
  },
  {
   "cell_type": "markdown",
   "metadata": {
    "id": "t5OrLxV6MgeE"
   },
   "source": [
    "#### Questão 9\n",
    "Desenvolva um programa que informa a nota de um aluno de acordo com suas respostas. Ele deve pedir a resposta de um aluno para cada questão e é preciso verificar se a resposta foi igual ao gabarito. Cada questão vale um ponto e existem alternativas:  A, B, C ou D.\n",
    "```\n",
    "Gabarito da Prova:\n",
    "01 - D\n",
    "02 - A\n",
    "03 - C\n",
    "04 - B\n",
    "05 - A\n",
    "06 - D\n",
    "07 - C\n",
    "08 - C\n",
    "09 - A\n",
    "10 - B\n",
    "```"
   ]
  },
  {
   "cell_type": "code",
   "execution_count": 81,
   "metadata": {
    "id": "ytIQDJrQMgeE"
   },
   "outputs": [
    {
     "name": "stdout",
     "output_type": "stream",
     "text": [
      "Digite a resposta da questão 1 (A,B,C,D):a\n",
      "Digite a resposta da questão 2 (A,B,C,D):a\n",
      "Digite a resposta da questão 3 (A,B,C,D):a\n",
      "Digite a resposta da questão 4 (A,B,C,D):a\n",
      "Digite a resposta da questão 5 (A,B,C,D):a\n",
      "Digite a resposta da questão 6 (A,B,C,D):a\n",
      "Digite a resposta da questão 7 (A,B,C,D):a\n",
      "Digite a resposta da questão 8 (A,B,C,D):a\n",
      "Digite a resposta da questão 9 (A,B,C,D):a\n",
      "Digite a resposta da questão 10 (A,B,C,D):a\n",
      "Nota final: 3\n"
     ]
    }
   ],
   "source": [
    "pontos = 0\n",
    "i = 0\n",
    "gabarito = ['D', 'A', 'C', 'B', 'A', 'D', 'C', 'C', 'A', 'B']\n",
    "lista = []\n",
    "while i<10:\n",
    "    resposta = input(f'Digite a resposta da questão {i+1} (A,B,C,D):')\n",
    "    resposta = resposta.upper()\n",
    "    if resposta == 'A' or resposta == 'B' or resposta == 'C' or resposta == 'D':\n",
    "        lista.append(resposta)\n",
    "        i += 1\n",
    "    else:\n",
    "        print('Gabarito inválido')\n",
    "for i in range(0,10):\n",
    "    if lista[i] == gabarito[i]:\n",
    "        pontos += 1\n",
    "print(f'Nota final: {pontos}')"
   ]
  },
  {
   "cell_type": "markdown",
   "metadata": {
    "id": "aSBMzh-AMgeF"
   },
   "source": [
    "#### Questão 10\n",
    "Um instituto de meteorologia deseja fazer um estudo de temperatura média de cada mês do ano. Para isso, você precisa fazer um código que colete e armazene essas temperaturas médias em uma lista. Depois, calcule a média anual das temperaturas e mostre todas as temperaturas acima da média anual, e em que mês elas ocorreram, mostrando os meses por extenso: Janeiro, Fevereiro, etc."
   ]
  },
  {
   "cell_type": "code",
   "execution_count": 83,
   "metadata": {
    "id": "ftj04s2uMgeF"
   },
   "outputs": [
    {
     "name": "stdout",
     "output_type": "stream",
     "text": [
      "Insira a temperatura do mês 1: 10\n",
      "Insira a temperatura do mês 2: 10\n",
      "Insira a temperatura do mês 3: 10\n",
      "Insira a temperatura do mês 4: 10\n",
      "Insira a temperatura do mês 5: 10\n",
      "Insira a temperatura do mês 6: 20\n",
      "Insira a temperatura do mês 7: 15\n",
      "Insira a temperatura do mês 8: 18\n",
      "Insira a temperatura do mês 9: 19\n",
      "Insira a temperatura do mês 10: 21\n",
      "Insira a temperatura do mês 11: 15\n",
      "Insira a temperatura do mês 12: 13\n",
      "Junho: 20.0\n",
      "Julho: 15.0\n",
      "Agosto: 18.0\n",
      "Setembro: 19.0\n",
      "Outubro: 21.0\n",
      "Novembro: 15.0\n"
     ]
    }
   ],
   "source": [
    "lista_temp = []\n",
    "lista_meses = ['Janeiro', 'Fevereiro', 'Março', 'Abril', 'Maio', 'Junho',\n",
    "              'Julho', 'Agosto', 'Setembro', 'Outubro', 'Novembro', 'Dezembro']\n",
    "for i in range(0, 12):\n",
    "    temp = float(input(f'Insira a temperatura do mês {i+1}: '))\n",
    "    lista_temp.append(temp)\n",
    "media_anual = sum(lista_temp)/len(lista_temp)\n",
    "for i in range(0,12):\n",
    "    if lista_temp[i] >= media_anual:\n",
    "        print(f'{lista_meses[i]}: {lista_temp[i]}')"
   ]
  },
  {
   "cell_type": "markdown",
   "metadata": {
    "id": "0X8S6s4jMgeF"
   },
   "source": [
    "#### Questão 11\n",
    "Uma empresa de e-commerce está interessada em analisar as vendas dos seus produtos. Os dados das vendas foram armazenados em um dicionário:\n",
    "```\n",
    "{'Produto A': 300, 'Produto B': 80, 'Produto C': 60,\n",
    " 'Produto D': 200, 'Produto E': 250, 'Produto F': 30}\n",
    "```\n",
    "Escreva um código que calcule o total de vendas e o produto mais vendido."
   ]
  },
  {
   "cell_type": "code",
   "execution_count": 91,
   "metadata": {
    "id": "Xa3DJLtFMgeF"
   },
   "outputs": [
    {
     "name": "stdout",
     "output_type": "stream",
     "text": [
      "O total de vendas foi:  920\n",
      "O produto mais vendido foi:  Produto A\n"
     ]
    }
   ],
   "source": [
    "total_vendas = 0\n",
    "total_unidades_produto = 0\n",
    "produto_mais_vendido = ''\n",
    "dic = {'Produto A': 300, 'Produto B': 80, 'Produto C': 60,\n",
    " 'Produto D': 200, 'Produto E': 250, 'Produto F': 30}\n",
    "for produto in dic.keys():\n",
    "    total_vendas += dic[produto]\n",
    "    if dic[produto] > total_unidades_produto:\n",
    "        total_unidades_produto = dic[produto]\n",
    "        produto_mais_vendido = produto\n",
    "print('O total de vendas foi: ', total_vendas)\n",
    "print('O produto mais vendido foi: ', produto_mais_vendido)"
   ]
  },
  {
   "cell_type": "markdown",
   "metadata": {
    "id": "nrEwf_1ZMgeF"
   },
   "source": [
    "#### Questão 12\n",
    "Uma pesquisa de mercado foi feita para decidir qual design de uma marca infantil mais agrada crianças. A pesquisa foi feita e o votos computados podem ser observados abaixo:\n",
    "```\n",
    "'''\n",
    "Tabela de votos da marca\n",
    "Design 1 - 1334 votos\n",
    "Design 2 - 982 votos\n",
    "Design 3 - 1751 votos\n",
    "Design 4 - 210 votos\n",
    "Design 5 - 1811 votos\n",
    "'''\n",
    "```\n",
    "Adapte os dados fornecidos a você para uma estrutura de dicionário e a partir dele, informe o design vencedor e a porcentagem de votos recebidos.\n"
   ]
  },
  {
   "cell_type": "code",
   "execution_count": 98,
   "metadata": {
    "id": "MRPcGR-_MgeF",
    "scrolled": true
   },
   "outputs": [
    {
     "name": "stdout",
     "output_type": "stream",
     "text": [
      "O Design vencedor foi o:  Design 5\n",
      "O percentual de votos do Design vencedor foi de:  29.747043363994745 %\n"
     ]
    }
   ],
   "source": [
    "total_votos = 0\n",
    "vencedor = ''\n",
    "maior_num_votos = 0\n",
    "votos_marca = {'Design 1': 1334, 'Design 2': 982, 'Design 3': 1751,\n",
    "             'Design 4': 210, 'Design 5': 1811}\n",
    "for marca in votos_marca.keys():\n",
    "    total_votos += votos_marca[marca]\n",
    "    if votos_marca[marca] > maior_num_votos:\n",
    "        maior_num_votos = votos_marca[marca]\n",
    "        vencedor = marca\n",
    "perc = maior_num_votos/total_votos * 100\n",
    "print('O Design vencedor foi o: ', vencedor)\n",
    "print('O percentual de votos do Design vencedor foi de: ', perc, '%')"
   ]
  },
  {
   "cell_type": "markdown",
   "metadata": {
    "id": "HRTFFzKIMgeF"
   },
   "source": [
    "#### Questão 13\n",
    "Os funcionários de um setor da empresa que você trabalha vão receber um abono correspondente a 10% do seu salário devido ao ótimo desempenho do time. O setor financeiro solicitou sua ajuda para a verificação das consequências financeiras que esse abono irá gerar nos recursos. Assim, foi encaminhada para você uma lista com os salários que receberão o abono: `[1172, 1644, 2617, 5130, 5532, 6341, 6650, 7238, 7685, 7782, 7903]`. O abono de cada funcionário não pode ser inferior a 200. Em código, transforme cada um dos salários em chaves de um dicionário e o abono de cada salário no elemento. Depois, informe o total de gastos com o abono, quantos funcionários receberam o abono mínimo e qual o maior valor de abono fornecido.\n"
   ]
  },
  {
   "cell_type": "code",
   "execution_count": 134,
   "metadata": {
    "id": "QsDSCua42bLB"
   },
   "outputs": [
    {
     "name": "stdout",
     "output_type": "stream",
     "text": [
      "A quantidade total de abono foi de:  6087.8\n",
      "A quantidade de abonos mínimos foi de:  2\n",
      "O maior abono foi de:  790.3000000000001\n"
     ]
    }
   ],
   "source": [
    "dic_abonos = {}\n",
    "total_abonos = 0\n",
    "abonos_minimos = 0\n",
    "maior_abono = 0\n",
    "salarios = [1172, 1644, 2617, 5130, 5532, 6341, 6650, 7238, 7685, 7782, 7903]\n",
    "for salario in salarios:\n",
    "    abono = 0.1*salario\n",
    "    if abono < 200:\n",
    "        abono = 200\n",
    "    dic_abonos[salario] = abono\n",
    "for abono in dic_abonos.values():\n",
    "    if abono == 200:\n",
    "        abonos_minimos += 1\n",
    "    if abono > maior_abono:\n",
    "        maior_abono = abono\n",
    "    total_abonos += abono\n",
    "print('A quantidade total de abono foi de: ', total_abonos)\n",
    "print('A quantidade de abonos mínimos foi de: ', abonos_minimos)\n",
    "print('O maior abono foi de: ', maior_abono)"
   ]
  },
  {
   "cell_type": "markdown",
   "metadata": {
    "id": "6dEXZEwjMlWy"
   },
   "source": [
    "#### Questão 14\n",
    "Uma equipe de cientistas de dados está estudando a diversidade biológica em uma floresta. A equipe fez a coleta de informações sobre o número de espécies de plantas e animais em cada área da floresta e armazenaram essas informações em um dicionário. Nele, a chave descreve a área dos dados e os valores nas listas correspondem às espécies de plantas e animais nas áreas, respectivamente.\n",
    "```\n",
    "{'Área Norte': [2819, 7236],\n",
    " 'Área Leste': [1440, 9492],\n",
    " 'Área Sul': [5969, 7496],\n",
    " 'Área Oeste': [14446, 49688],\n",
    " 'Área Centro': [22558, 45148]}\n",
    "```\n",
    "Escreva um código para calcular a média de espécies por área e identificar a área com a maior diversidade biológica. Dica: use as funções built-in [`sum()`](https://docs.python.org/3/library/functions.html#sum) e [`len()`](https://docs.python.org/3/library/functions.html#len).\n"
   ]
  },
  {
   "cell_type": "code",
   "execution_count": 156,
   "metadata": {
    "id": "eQnOUDfYMlWy"
   },
   "outputs": [
    {
     "name": "stdout",
     "output_type": "stream",
     "text": [
      "A Área Norte tem a média de 5027.5 espécies\n",
      "A Área Leste tem a média de 5466.0 espécies\n",
      "A Área Sul tem a média de 6732.5 espécies\n",
      "A Área Oeste tem a média de 32067.0 espécies\n",
      "A Área Centro tem a média de 33853.0 espécies\n",
      "Média geral de espécies: 16629.2\n",
      "Área com a maior diversidade biológica: Área Centro\n"
     ]
    }
   ],
   "source": [
    "dic = {'Área Norte': [2819, 7236],\n",
    " 'Área Leste': [1440, 9492],\n",
    " 'Área Sul': [5969, 7496],\n",
    " 'Área Oeste': [14446, 49688],\n",
    " 'Área Centro': [22558, 45148]}\n",
    "soma_media = 0\n",
    "maior_diversidade = ''\n",
    "maior_soma = 0\n",
    "for area, especies in dic.items():\n",
    "    soma_especies = sum(especies)\n",
    "    media = soma_especies/len(especies)\n",
    "    print(f'A {area} tem a média de {media} espécies')\n",
    "    if soma_especies > maior_soma:\n",
    "        maior_soma = soma_especies\n",
    "        maior_diversidade = area\n",
    "    soma_media += media\n",
    "media_total = soma_media/len(dic)\n",
    "print(f'Média geral de espécies: {media_total}')\n",
    "print(f'Área com a maior diversidade biológica: {maior_diversidade}')"
   ]
  },
  {
   "cell_type": "markdown",
   "metadata": {
    "id": "r0RW2Sy_MlWy"
   },
   "source": [
    "#### Questão 15\n",
    "O setor de RH da sua empresa te pediu uma ajuda para analisar as idades dos funcionários de 4 setores da empresa. Para isso, ele te forneceu os seguintes dados:\n",
    "```\n",
    "{'Setor A': [22, 26, 30, 30, 35, 38, 40, 56, 57, 65],\n",
    " 'Setor B': [22, 24, 26, 33, 41, 49, 50, 54, 60, 64],\n",
    " 'Setor C': [23, 26, 26, 29, 34, 35, 36, 41, 52, 56],\n",
    " 'Setor D': [19, 20, 25, 27, 34, 39, 42, 44, 50, 65]}\n",
    "``` \n",
    "Sabendo que cada setor tem 10 funcionários, construa um código que calcule a média de idade de cada setor, a idade média geral entre todos os setores e quantas pessoas estão acima da idade média geral.\n"
   ]
  },
  {
   "cell_type": "code",
   "execution_count": 171,
   "metadata": {
    "id": "wCiwyKP3MmTz"
   },
   "outputs": [
    {
     "name": "stdout",
     "output_type": "stream",
     "text": [
      "A média de idade do Setor A é: 39.9\n",
      "A média de idade do Setor B é: 42.3\n",
      "A média de idade do Setor C é: 35.8\n",
      "A média de idade do Setor D é: 36.5\n",
      "A média geral de idade de todos os setores é:  38.625\n",
      "A quantidade de pessoas acima da idade média é de:  18\n"
     ]
    }
   ],
   "source": [
    "dic = {'Setor A': [22, 26, 30, 30, 35, 38, 40, 56, 57, 65],\n",
    " 'Setor B': [22, 24, 26, 33, 41, 49, 50, 54, 60, 64],\n",
    " 'Setor C': [23, 26, 26, 29, 34, 35, 36, 41, 52, 56],\n",
    " 'Setor D': [19, 20, 25, 27, 34, 39, 42, 44, 50, 65]}\n",
    "soma_idades = 0\n",
    "media_geral = 0\n",
    "acima_media = 0\n",
    "for setor, idade in dic.items():\n",
    "    media = sum(idade)/len(idade)\n",
    "    print(f'A média de idade do {setor} é: {media}')\n",
    "    soma_idades += sum(idade)\n",
    "media_total = soma_idades/(len(idade) * len(dic))\n",
    "print('A média geral de idade de todos os setores é: ', media_total)\n",
    "for setor, idade in dic.items():\n",
    "    for i in idade:\n",
    "        if i > media_total:\n",
    "            acima_media += 1\n",
    "print('A quantidade de pessoas acima da idade média é de: ', acima_media)"
   ]
  }
 ],
 "metadata": {
  "colab": {
   "authorship_tag": "ABX9TyNAcHMa4C+Q6J7M1CkYm1Tn",
   "provenance": [],
   "toc_visible": true
  },
  "kernelspec": {
   "display_name": "Python 3 (ipykernel)",
   "language": "python",
   "name": "python3"
  },
  "language_info": {
   "codemirror_mode": {
    "name": "ipython",
    "version": 3
   },
   "file_extension": ".py",
   "mimetype": "text/x-python",
   "name": "python",
   "nbconvert_exporter": "python",
   "pygments_lexer": "ipython3",
   "version": "3.9.12"
  }
 },
 "nbformat": 4,
 "nbformat_minor": 1
}
